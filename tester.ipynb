{
 "cells": [
  {
   "cell_type": "code",
   "execution_count": 4,
   "metadata": {},
   "outputs": [],
   "source": [
    "from dietary_reference_intakes import inuit_dietary_recommendations"
   ]
  },
  {
   "cell_type": "code",
   "execution_count": 5,
   "metadata": {},
   "outputs": [
    {
     "data": {
      "text/plain": [
       "Unnamed: 0             7.00\n",
       "index_x                8.00\n",
       "Sodium, g              2.30\n",
       "index_y                8.00\n",
       "AR\\ng/kg               0.66\n",
       "index                  8.00\n",
       "Vita­min A\\nRE2      700.00\n",
       "Vita­min D\\nµg3       10.00\n",
       "Thia­min\\nmg/MJ        0.10\n",
       "Riobo­flavin\\nmg       1.60\n",
       "Niacin\\nNE/MJ4         1.60\n",
       "Vita­min B6\\nmg        1.60\n",
       "Folate\\nµg          3306.00\n",
       "Vita­min C\\nmg        95.00\n",
       "Name: 7, dtype: float64"
      ]
     },
     "execution_count": 5,
     "metadata": {},
     "output_type": "execute_result"
    }
   ],
   "source": [
    "inuit_dietary_recommendations(\"Female\", 25)"
   ]
  }
 ],
 "metadata": {
  "kernelspec": {
   "display_name": "base",
   "language": "python",
   "name": "python3"
  },
  "language_info": {
   "codemirror_mode": {
    "name": "ipython",
    "version": 3
   },
   "file_extension": ".py",
   "mimetype": "text/x-python",
   "name": "python",
   "nbconvert_exporter": "python",
   "pygments_lexer": "ipython3",
   "version": "3.10.8"
  }
 },
 "nbformat": 4,
 "nbformat_minor": 2
}
