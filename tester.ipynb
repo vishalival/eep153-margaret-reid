{
 "cells": [
  {
   "cell_type": "code",
   "execution_count": 1,
   "metadata": {},
   "outputs": [],
   "source": [
    "from dietary_reference_intakes import inuit_dietary_recommendations"
   ]
  },
  {
   "cell_type": "code",
   "execution_count": 2,
   "metadata": {},
   "outputs": [
    {
     "data": {
      "text/plain": [
       "Sodium, g            0.373\n",
       "AR g/kg              1.040\n",
       "Vita-min A RE2     250.000\n",
       "Vita-min D µg3      10.000\n",
       "Thia-min mg/MJ       0.100\n",
       "Riobo-flavin mg      0.450\n",
       "Niacin NE/MJ4        1.600\n",
       "Vita-min B6 mg       0.450\n",
       "Folate µg           90.000\n",
       "Vita-min C mg       30.000\n",
       "Name: 0, dtype: float64"
      ]
     },
     "execution_count": 2,
     "metadata": {},
     "output_type": "execute_result"
    }
   ],
   "source": [
    "inuit_dietary_recommendations(\"Female\", 7, age_unit_type=\"month\")"
   ]
  }
 ],
 "metadata": {
  "kernelspec": {
   "display_name": "base",
   "language": "python",
   "name": "python3"
  },
  "language_info": {
   "codemirror_mode": {
    "name": "ipython",
    "version": 3
   },
   "file_extension": ".py",
   "mimetype": "text/x-python",
   "name": "python",
   "nbconvert_exporter": "python",
   "pygments_lexer": "ipython3",
   "version": "3.10.8"
  }
 },
 "nbformat": 4,
 "nbformat_minor": 2
}
