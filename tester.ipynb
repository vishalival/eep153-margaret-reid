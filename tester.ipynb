{
 "cells": [
  {
   "cell_type": "code",
   "execution_count": 1,
   "metadata": {},
   "outputs": [],
   "source": [
    "from dietary_reference_intakes import inuit_dietary_reference_intakes"
   ]
  },
  {
   "cell_type": "code",
   "execution_count": 2,
   "metadata": {},
   "outputs": [
    {
     "data": {
      "text/plain": [
       "Sodium, g                          1.70\n",
       "AR g/kg                            0.75\n",
       "Vita-min A RE2                   450.00\n",
       "Vita-min D µg3                    10.00\n",
       "Thia-min mg/MJ                     0.10\n",
       "Riobo-flavin mg                    1.00\n",
       "Niacin NE/MJ4                      1.60\n",
       "Vita-min B6 mg                     1.00\n",
       "Folate µg                        200.00\n",
       "Vita-min C mg                     55.00\n",
       "Energy                          1200.00\n",
       "Protein                           19.00\n",
       "Fiber, total dietary              16.80\n",
       "Folate, DFE                      200.00\n",
       "Calcium, Ca                     1000.00\n",
       "Carbohydrate, by difference      130.00\n",
       "Iron, Fe                          10.00\n",
       "Magnesium, Mg                    130.00\n",
       "Phosphorus, P                    500.00\n",
       "Potassium, K                    3800.00\n",
       "Vitamin B-12                       1.20\n",
       "Vitamin E (alpha-tocopherol)       7.00\n",
       "Vitamin K (phylloquinone)         55.00\n",
       "Zinc, Zn                           5.00\n",
       "dtype: float64"
      ]
     },
     "execution_count": 2,
     "metadata": {},
     "output_type": "execute_result"
    }
   ],
   "source": [
    "inuit_dietary_reference_intakes(\"Female\", 7)"
   ]
  }
 ],
 "metadata": {
  "kernelspec": {
   "display_name": "base",
   "language": "python",
   "name": "python3"
  },
  "language_info": {
   "codemirror_mode": {
    "name": "ipython",
    "version": 3
   },
   "file_extension": ".py",
   "mimetype": "text/x-python",
   "name": "python",
   "nbconvert_exporter": "python",
   "pygments_lexer": "ipython3",
   "version": "3.10.8"
  }
 },
 "nbformat": 4,
 "nbformat_minor": 2
}
