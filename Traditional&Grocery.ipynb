{
 "cells": [
  {
   "cell_type": "markdown",
   "metadata": {},
   "source": [
    "## Function to solve the subsistence problem\n",
    "\n"
   ]
  },
  {
   "cell_type": "markdown",
   "metadata": {},
   "source": [
    "Last time we worked through the problem of expressing the subsistence\n",
    "cost problem as a linear program, and then solving it.   That process\n",
    "involved several different steps, which would be easy to get wrong.\n",
    "\n",
    "Here we create a single function `solve_subsistence_problem`.  By\n",
    "isolating the logic of constructing and solving the subsistence\n",
    "problem into a stand-alone function we reduce the scope for bugs, and\n",
    "this modular approach at the same time makes testing easier.\n",
    "\n",
    "We take the different pieces of the puzzle we&rsquo;ve developed and\n",
    "put them together in the form of a linear program we can solve.\n",
    "Recall that the mathematical problem we&rsquo;re trying to solve is\n",
    "$$\n",
    "    \\min_x p'x\n",
    "$$\n",
    "such that\n",
    "$$\n",
    "    \\tilde{A}x \\geq \\tilde{b}\n",
    "$$\n",
    "If we buy a bag of groceries with quantities given by $x$, the total\n",
    "cost of the bag of groceries is the inner product of prices and\n",
    "quantities.  Since we&rsquo;ve converted our units above, this gives us a\n",
    "vector of prices where quantities are all in 100 g or ml units.\n",
    "\n",
    "The following code block defines a function\n",
    "`solve_subsistence_problem`, which takes as arguments a dataframe\n",
    "mapping different foods to nutrients; a series of prices for those\n",
    "same foods; a series giving dietary recommended intake (DRI) minimums;\n",
    "and a series giving dietary recommended maximums.\n",
    "\n"
   ]
  },
  {
   "cell_type": "code",
   "execution_count": 1,
   "metadata": {},
   "outputs": [],
   "source": [
    "from  scipy.optimize import linprog as lp\n",
    "import numpy as np\n",
    "import warnings\n",
    "\n",
    "def solve_subsistence_problem(FoodNutrients,Prices,dietmin,dietmax,max_weight=None,tol=1e-6):\n",
    "    \"\"\"Solve Stigler's Subsistence Cost Problem.\n",
    "\n",
    "    Inputs:\n",
    "       - FoodNutrients : A pd.DataFrame with rows corresponding to foods, columns to nutrients.\n",
    "       - Prices : A pd.Series of prices for different foods\n",
    "       - diet_min : A pd.Series of DRIs, with index corresponding to columns of FoodNutrients,\n",
    "                    describing minimum intakes.\n",
    "       - diet_max : A pd.Series of DRIs, with index corresponding to columns of FoodNutrients,\n",
    "                    describing maximum intakes.\n",
    "       - max_weight : Maximum weight (in hectograms) allowed for diet.\n",
    "       - tol : Solution values smaller than this in absolute value treated as zeros.\n",
    "       \n",
    "    \"\"\"\n",
    "    try: \n",
    "        p = Prices.apply(lambda x:x.magnitude)\n",
    "    except AttributeError:  # Maybe not passing in prices with units?\n",
    "        warnings.warn(\"Prices have no units.  BE CAREFUL!  We're assuming prices are per hectogram or deciliter!\")\n",
    "        p = Prices\n",
    "\n",
    "    p = p.dropna()\n",
    "\n",
    "    # Compile list that we have both prices and nutritional info for; drop if either missing\n",
    "    use = p.index.intersection(FoodNutrients.columns)\n",
    "    p = p[use]\n",
    "\n",
    "    # Drop nutritional information for foods we don't know the price of,\n",
    "    # and replace missing nutrients with zeros.\n",
    "    Aall = FoodNutrients[p.index].fillna(0)\n",
    "\n",
    "    # Drop rows of A that we don't have constraints for.\n",
    "    Amin = Aall.loc[Aall.index.intersection(dietmin.index)]\n",
    "    Amin = Amin.reindex(dietmin.index,axis=0)\n",
    "    idx = Amin.index.to_frame()\n",
    "    idx['type'] = 'min'\n",
    "    #Amin.index = pd.MultiIndex.from_frame(idx)\n",
    "    #dietmin.index = Amin.index\n",
    "    \n",
    "    Amax = Aall.loc[Aall.index.intersection(dietmax.index)]\n",
    "    Amax = Amax.reindex(dietmax.index,axis=0)\n",
    "    idx = Amax.index.to_frame()\n",
    "    idx['type'] = 'max'\n",
    "    #Amax.index = pd.MultiIndex.from_frame(idx)\n",
    "    #dietmax.index = Amax.index\n",
    "\n",
    "    # Minimum requirements involve multiplying constraint by -1 to make <=.\n",
    "    A = pd.concat([Amin,\n",
    "                   -Amax])\n",
    "\n",
    "    b = pd.concat([dietmin,\n",
    "                   -dietmax]) # Note sign change for max constraints\n",
    "\n",
    "    # Make sure order of p, A, b are consistent\n",
    "    A = A.reindex(p.index,axis=1)\n",
    "    A = A.reindex(b.index,axis=0)\n",
    "\n",
    "    if max_weight is not None:\n",
    "        # Add up weights of foods consumed\n",
    "        A.loc['Hectograms'] = -1\n",
    "        b.loc['Hectograms'] = -max_weight\n",
    "        \n",
    "    # Now solve problem!  (Note that the linear program solver we'll use assumes\n",
    "    # \"less-than-or-equal\" constraints.  We can switch back and forth by\n",
    "    # multiplying $A$ and $b$ by $-1$.)\n",
    "\n",
    "    result = lp(p, -A, -b, method='highs')\n",
    "\n",
    "    result.A = A\n",
    "    result.b = b\n",
    "    \n",
    "    if result.success:\n",
    "        result.diet = pd.Series(result.x,index=p.index)\n",
    "    else: # No feasible solution?\n",
    "        warnings.warn(result.message)\n",
    "        result.diet = pd.Series(result.x,index=p.index)*np.nan  \n",
    "\n",
    "    return result"
   ]
  },
  {
   "cell_type": "markdown",
   "metadata": {},
   "source": [
    "## Setup\n",
    "\n"
   ]
  },
  {
   "cell_type": "markdown",
   "metadata": {},
   "source": [
    "We take material from the earlier lecture on the subistence diet\n",
    "  problem, and use it to define the subsistence diet as a function of prices. \n",
    "\n",
    "We need some particular versions of the following modules;\n",
    "\n"
   ]
  },
  {
   "cell_type": "markdown",
   "metadata": {},
   "source": [
    "Define api key here:\n",
    "\n"
   ]
  },
  {
   "cell_type": "code",
   "execution_count": 3,
   "metadata": {},
   "outputs": [
    {
     "name": "stdout",
     "output_type": "stream",
     "text": [
      "Collecting fooddatacentral\n",
      "  Downloading fooddatacentral-1.0.10-py3-none-any.whl (6.8 kB)\n",
      "Installing collected packages: fooddatacentral\n",
      "Successfully installed fooddatacentral-1.0.10\n",
      "Collecting python-gnupg\n",
      "  Downloading python_gnupg-0.5.2-py2.py3-none-any.whl (20 kB)\n",
      "Installing collected packages: python-gnupg\n",
      "Successfully installed python-gnupg-0.5.2\n"
     ]
    }
   ],
   "source": [
    "!pip install fooddatacentral\n",
    "!pip install python-gnupg\n"
   ]
  },
  {
   "cell_type": "code",
   "execution_count": 4,
   "metadata": {},
   "outputs": [],
   "source": [
    "# API key for Gov; substitute your own!\n",
    "apikey = \"fy5zghnpRvzFtwfecjc3MRORcD2smFbXhA4LhSjY\""
   ]
  },
  {
   "cell_type": "markdown",
   "metadata": {},
   "source": [
    "## Input Data\n",
    "\n"
   ]
  },
  {
   "cell_type": "markdown",
   "metadata": {},
   "source": [
    "The critical user input is a `pandas.DataFrame` with (at least)\n",
    "these columns:\n",
    "\n",
    "-   **Food:** Label used to identify food\n",
    "-   **Quantity:** Amount of food\n",
    "-   **Units:** Units in which amounts of this food is measured\n",
    "-   **Price:** Price for quantity of food\n",
    "-   **FDC:** Key identifying food in the FoodDataCentral dataset.\n",
    "\n"
   ]
  },
  {
   "cell_type": "markdown",
   "metadata": {},
   "source": [
    "### Using data from Google Sheets\n",
    "\n"
   ]
  },
  {
   "cell_type": "markdown",
   "metadata": {},
   "source": [
    "### Compile data on food prices\n",
    "\n"
   ]
  },
  {
   "cell_type": "markdown",
   "metadata": {},
   "source": [
    "For each sheet in the list `SHEETs` grab data and concatenate into\n",
    "   a DataFrame.\n",
    "\n"
   ]
  },
  {
   "cell_type": "code",
   "execution_count": 5,
   "metadata": {},
   "outputs": [
    {
     "name": "stdout",
     "output_type": "stream",
     "text": [
      "Requirement already satisfied: python-gnupg in /Users/vishalivallioor/anaconda3/lib/python3.10/site-packages (0.5.2)\n",
      "Note: you may need to restart the kernel to use updated packages.\n"
     ]
    }
   ],
   "source": [
    "%pip install python-gnupg"
   ]
  },
  {
   "cell_type": "code",
   "execution_count": 7,
   "metadata": {},
   "outputs": [
    {
     "name": "stdout",
     "output_type": "stream",
     "text": [
      "Key available for students@eep153.iam.gserviceaccount.com.\n"
     ]
    },
    {
     "data": {
      "text/html": [
       "<div>\n",
       "<style scoped>\n",
       "    .dataframe tbody tr th:only-of-type {\n",
       "        vertical-align: middle;\n",
       "    }\n",
       "\n",
       "    .dataframe tbody tr th {\n",
       "        vertical-align: top;\n",
       "    }\n",
       "\n",
       "    .dataframe thead th {\n",
       "        text-align: right;\n",
       "    }\n",
       "</style>\n",
       "<table border=\"1\" class=\"dataframe\">\n",
       "  <thead>\n",
       "    <tr style=\"text-align: right;\">\n",
       "      <th></th>\n",
       "      <th>Food</th>\n",
       "      <th>Quantity</th>\n",
       "      <th>Units</th>\n",
       "      <th>Price</th>\n",
       "      <th>FDC</th>\n",
       "    </tr>\n",
       "  </thead>\n",
       "  <tbody>\n",
       "    <tr>\n",
       "      <th>0</th>\n",
       "      <td>caribou</td>\n",
       "      <td>100.00</td>\n",
       "      <td>grams</td>\n",
       "      <td>0.00</td>\n",
       "      <td>2341325</td>\n",
       "    </tr>\n",
       "    <tr>\n",
       "      <th>1</th>\n",
       "      <td>arctic char</td>\n",
       "      <td>100.00</td>\n",
       "      <td>grams</td>\n",
       "      <td>0.00</td>\n",
       "      <td>2470085</td>\n",
       "    </tr>\n",
       "    <tr>\n",
       "      <th>2</th>\n",
       "      <td>seal</td>\n",
       "      <td>100.00</td>\n",
       "      <td>grams</td>\n",
       "      <td>0.00</td>\n",
       "      <td>167610</td>\n",
       "    </tr>\n",
       "    <tr>\n",
       "      <th>3</th>\n",
       "      <td>muktuk</td>\n",
       "      <td>100.00</td>\n",
       "      <td>grams</td>\n",
       "      <td>0.00</td>\n",
       "      <td>167624</td>\n",
       "    </tr>\n",
       "    <tr>\n",
       "      <th>4</th>\n",
       "      <td>Butter</td>\n",
       "      <td>454.00</td>\n",
       "      <td>grams</td>\n",
       "      <td>7.26</td>\n",
       "      <td>1920273</td>\n",
       "    </tr>\n",
       "    <tr>\n",
       "      <th>5</th>\n",
       "      <td>Margarine</td>\n",
       "      <td>907.00</td>\n",
       "      <td>grams</td>\n",
       "      <td>10.08</td>\n",
       "      <td>2058595</td>\n",
       "    </tr>\n",
       "    <tr>\n",
       "      <th>6</th>\n",
       "      <td>Yogurt</td>\n",
       "      <td>650.00</td>\n",
       "      <td>grams</td>\n",
       "      <td>5.38</td>\n",
       "      <td>463067</td>\n",
       "    </tr>\n",
       "    <tr>\n",
       "      <th>7</th>\n",
       "      <td>Cheddar Cheese</td>\n",
       "      <td>270.00</td>\n",
       "      <td>grams</td>\n",
       "      <td>8.81</td>\n",
       "      <td>2341112</td>\n",
       "    </tr>\n",
       "    <tr>\n",
       "      <th>8</th>\n",
       "      <td>Processed Sliced Cheese</td>\n",
       "      <td>450.00</td>\n",
       "      <td>grams</td>\n",
       "      <td>8.83</td>\n",
       "      <td>2341173</td>\n",
       "    </tr>\n",
       "    <tr>\n",
       "      <th>9</th>\n",
       "      <td>Skim Milk Powder</td>\n",
       "      <td>500.00</td>\n",
       "      <td>grams</td>\n",
       "      <td>10.96</td>\n",
       "      <td>2673399</td>\n",
       "    </tr>\n",
       "    <tr>\n",
       "      <th>10</th>\n",
       "      <td>Soda Crackers</td>\n",
       "      <td>450.00</td>\n",
       "      <td>grams</td>\n",
       "      <td>7.39</td>\n",
       "      <td>1909027</td>\n",
       "    </tr>\n",
       "    <tr>\n",
       "      <th>11</th>\n",
       "      <td>Spaghetti Noodles</td>\n",
       "      <td>900.00</td>\n",
       "      <td>grams</td>\n",
       "      <td>7.40</td>\n",
       "      <td>1909027</td>\n",
       "    </tr>\n",
       "    <tr>\n",
       "      <th>12</th>\n",
       "      <td>Macaroni and Cheese Dinner</td>\n",
       "      <td>200.00</td>\n",
       "      <td>grams</td>\n",
       "      <td>3.08</td>\n",
       "      <td>2488350</td>\n",
       "    </tr>\n",
       "    <tr>\n",
       "      <th>13</th>\n",
       "      <td>Corn Flakes</td>\n",
       "      <td>700.00</td>\n",
       "      <td>grams</td>\n",
       "      <td>8.63</td>\n",
       "      <td>2008489</td>\n",
       "    </tr>\n",
       "    <tr>\n",
       "      <th>14</th>\n",
       "      <td>Quick Oatmeal</td>\n",
       "      <td>900.00</td>\n",
       "      <td>grams</td>\n",
       "      <td>13.22</td>\n",
       "      <td>2552985</td>\n",
       "    </tr>\n",
       "    <tr>\n",
       "      <th>15</th>\n",
       "      <td>Flour</td>\n",
       "      <td>1.00</td>\n",
       "      <td>grams</td>\n",
       "      <td>0.01</td>\n",
       "      <td>2671058</td>\n",
       "    </tr>\n",
       "    <tr>\n",
       "      <th>16</th>\n",
       "      <td>White Bread</td>\n",
       "      <td>570.00</td>\n",
       "      <td>grams</td>\n",
       "      <td>3.61</td>\n",
       "      <td>2071641</td>\n",
       "    </tr>\n",
       "    <tr>\n",
       "      <th>17</th>\n",
       "      <td>Whole Wheat Bread</td>\n",
       "      <td>570.00</td>\n",
       "      <td>grams</td>\n",
       "      <td>3.51</td>\n",
       "      <td>2286812</td>\n",
       "    </tr>\n",
       "    <tr>\n",
       "      <th>18</th>\n",
       "      <td>Frozen Corn</td>\n",
       "      <td>750.00</td>\n",
       "      <td>grams</td>\n",
       "      <td>5.57</td>\n",
       "      <td>2345442</td>\n",
       "    </tr>\n",
       "    <tr>\n",
       "      <th>19</th>\n",
       "      <td>Carrots</td>\n",
       "      <td>1000.00</td>\n",
       "      <td>grams</td>\n",
       "      <td>6.90</td>\n",
       "      <td>2345173</td>\n",
       "    </tr>\n",
       "    <tr>\n",
       "      <th>20</th>\n",
       "      <td>Frozen Mixed Vegetables</td>\n",
       "      <td>750.00</td>\n",
       "      <td>grams</td>\n",
       "      <td>5.60</td>\n",
       "      <td>1132755</td>\n",
       "    </tr>\n",
       "    <tr>\n",
       "      <th>21</th>\n",
       "      <td>Apples</td>\n",
       "      <td>1.00</td>\n",
       "      <td>grams</td>\n",
       "      <td>0.01</td>\n",
       "      <td>2453288</td>\n",
       "    </tr>\n",
       "    <tr>\n",
       "      <th>22</th>\n",
       "      <td>Bananas</td>\n",
       "      <td>1.00</td>\n",
       "      <td>grams</td>\n",
       "      <td>0.01</td>\n",
       "      <td>2344720</td>\n",
       "    </tr>\n",
       "    <tr>\n",
       "      <th>23</th>\n",
       "      <td>Grapes</td>\n",
       "      <td>1.00</td>\n",
       "      <td>grams</td>\n",
       "      <td>0.02</td>\n",
       "      <td>2388443</td>\n",
       "    </tr>\n",
       "    <tr>\n",
       "      <th>24</th>\n",
       "      <td>Tomatoes</td>\n",
       "      <td>1.00</td>\n",
       "      <td>grams</td>\n",
       "      <td>0.01</td>\n",
       "      <td>2543214</td>\n",
       "    </tr>\n",
       "    <tr>\n",
       "      <th>25</th>\n",
       "      <td>Onions</td>\n",
       "      <td>1.00</td>\n",
       "      <td>grams</td>\n",
       "      <td>0.01</td>\n",
       "      <td>2345315</td>\n",
       "    </tr>\n",
       "    <tr>\n",
       "      <th>26</th>\n",
       "      <td>Potatoes</td>\n",
       "      <td>2.27</td>\n",
       "      <td>grams</td>\n",
       "      <td>0.01</td>\n",
       "      <td>1864190</td>\n",
       "    </tr>\n",
       "    <tr>\n",
       "      <th>27</th>\n",
       "      <td>Peanut Butter</td>\n",
       "      <td>1000.00</td>\n",
       "      <td>grams</td>\n",
       "      <td>11.60</td>\n",
       "      <td>2025704</td>\n",
       "    </tr>\n",
       "    <tr>\n",
       "      <th>28</th>\n",
       "      <td>Canned Luncheon Meat</td>\n",
       "      <td>340.00</td>\n",
       "      <td>grams</td>\n",
       "      <td>6.42</td>\n",
       "      <td>2341620</td>\n",
       "    </tr>\n",
       "    <tr>\n",
       "      <th>29</th>\n",
       "      <td>Canned Pink Salmon</td>\n",
       "      <td>213.00</td>\n",
       "      <td>grams</td>\n",
       "      <td>5.04</td>\n",
       "      <td>173690</td>\n",
       "    </tr>\n",
       "    <tr>\n",
       "      <th>30</th>\n",
       "      <td>Ground Beef</td>\n",
       "      <td>1000.00</td>\n",
       "      <td>grams</td>\n",
       "      <td>16.48</td>\n",
       "      <td>1942314</td>\n",
       "    </tr>\n",
       "    <tr>\n",
       "      <th>31</th>\n",
       "      <td>Pork Chops</td>\n",
       "      <td>1000.00</td>\n",
       "      <td>grams</td>\n",
       "      <td>15.93</td>\n",
       "      <td>578039</td>\n",
       "    </tr>\n",
       "    <tr>\n",
       "      <th>32</th>\n",
       "      <td>Chicken Legs or Drumsticks</td>\n",
       "      <td>1000.00</td>\n",
       "      <td>grams</td>\n",
       "      <td>10.02</td>\n",
       "      <td>2634897</td>\n",
       "    </tr>\n",
       "    <tr>\n",
       "      <th>33</th>\n",
       "      <td>Bacon</td>\n",
       "      <td>375.00</td>\n",
       "      <td>grams</td>\n",
       "      <td>9.53</td>\n",
       "      <td>2128991</td>\n",
       "    </tr>\n",
       "    <tr>\n",
       "      <th>34</th>\n",
       "      <td>Wieners</td>\n",
       "      <td>450.00</td>\n",
       "      <td>grams</td>\n",
       "      <td>5.94</td>\n",
       "      <td>2402994</td>\n",
       "    </tr>\n",
       "    <tr>\n",
       "      <th>35</th>\n",
       "      <td>Bologna</td>\n",
       "      <td>375.00</td>\n",
       "      <td>grams</td>\n",
       "      <td>6.08</td>\n",
       "      <td>2195188</td>\n",
       "    </tr>\n",
       "    <tr>\n",
       "      <th>36</th>\n",
       "      <td>Frozen Pre-Cooked Dinners</td>\n",
       "      <td>250.00</td>\n",
       "      <td>grams</td>\n",
       "      <td>7.12</td>\n",
       "      <td>2342540</td>\n",
       "    </tr>\n",
       "    <tr>\n",
       "      <th>37</th>\n",
       "      <td>Frozen Pizza</td>\n",
       "      <td>800.00</td>\n",
       "      <td>grams</td>\n",
       "      <td>13.74</td>\n",
       "      <td>2102135</td>\n",
       "    </tr>\n",
       "    <tr>\n",
       "      <th>38</th>\n",
       "      <td>Frozen French Fries</td>\n",
       "      <td>600.00</td>\n",
       "      <td>grams</td>\n",
       "      <td>5.23</td>\n",
       "      <td>2344957</td>\n",
       "    </tr>\n",
       "    <tr>\n",
       "      <th>39</th>\n",
       "      <td>Pilot Biscuits</td>\n",
       "      <td>400.00</td>\n",
       "      <td>grams</td>\n",
       "      <td>7.07</td>\n",
       "      <td>2343285</td>\n",
       "    </tr>\n",
       "    <tr>\n",
       "      <th>40</th>\n",
       "      <td>Chocolate Bars</td>\n",
       "      <td>50.00</td>\n",
       "      <td>grams</td>\n",
       "      <td>2.62</td>\n",
       "      <td>2071325</td>\n",
       "    </tr>\n",
       "    <tr>\n",
       "      <th>41</th>\n",
       "      <td>Potato Chips</td>\n",
       "      <td>240.00</td>\n",
       "      <td>grams</td>\n",
       "      <td>7.09</td>\n",
       "      <td>2430813</td>\n",
       "    </tr>\n",
       "    <tr>\n",
       "      <th>42</th>\n",
       "      <td>Milk 2%</td>\n",
       "      <td>2.00</td>\n",
       "      <td>liters</td>\n",
       "      <td>3.02</td>\n",
       "      <td>1909132</td>\n",
       "    </tr>\n",
       "    <tr>\n",
       "      <th>43</th>\n",
       "      <td>UHT Milk</td>\n",
       "      <td>1.00</td>\n",
       "      <td>liters</td>\n",
       "      <td>4.96</td>\n",
       "      <td>2214706</td>\n",
       "    </tr>\n",
       "    <tr>\n",
       "      <th>44</th>\n",
       "      <td>Apple Juice</td>\n",
       "      <td>960.00</td>\n",
       "      <td>milliliters</td>\n",
       "      <td>6.58</td>\n",
       "      <td>2103028</td>\n",
       "    </tr>\n",
       "    <tr>\n",
       "      <th>45</th>\n",
       "      <td>Orange Juice</td>\n",
       "      <td>960.00</td>\n",
       "      <td>milliliters</td>\n",
       "      <td>6.44</td>\n",
       "      <td>2098640</td>\n",
       "    </tr>\n",
       "    <tr>\n",
       "      <th>46</th>\n",
       "      <td>Tomato Juice</td>\n",
       "      <td>540.00</td>\n",
       "      <td>milliliters</td>\n",
       "      <td>9.22</td>\n",
       "      <td>2073181</td>\n",
       "    </tr>\n",
       "    <tr>\n",
       "      <th>47</th>\n",
       "      <td>Vegetable Juice</td>\n",
       "      <td>945.00</td>\n",
       "      <td>milliliters</td>\n",
       "      <td>8.29</td>\n",
       "      <td>2089573</td>\n",
       "    </tr>\n",
       "    <tr>\n",
       "      <th>48</th>\n",
       "      <td>Soft Drinks</td>\n",
       "      <td>355.00</td>\n",
       "      <td>milliliters</td>\n",
       "      <td>7.09</td>\n",
       "      <td>2287712</td>\n",
       "    </tr>\n",
       "  </tbody>\n",
       "</table>\n",
       "</div>"
      ],
      "text/plain": [
       "                           Food  Quantity        Units  Price      FDC\n",
       "0                       caribou    100.00        grams   0.00  2341325\n",
       "1                   arctic char    100.00        grams   0.00  2470085\n",
       "2                          seal    100.00        grams   0.00   167610\n",
       "3                        muktuk    100.00        grams   0.00   167624\n",
       "4                        Butter    454.00        grams   7.26  1920273\n",
       "5                     Margarine    907.00        grams  10.08  2058595\n",
       "6                       Yogurt     650.00        grams   5.38   463067\n",
       "7               Cheddar Cheese     270.00        grams   8.81  2341112\n",
       "8      Processed Sliced Cheese     450.00        grams   8.83  2341173\n",
       "9             Skim Milk Powder     500.00        grams  10.96  2673399\n",
       "10                Soda Crackers    450.00        grams   7.39  1909027\n",
       "11            Spaghetti Noodles    900.00        grams   7.40  1909027\n",
       "12  Macaroni and Cheese Dinner     200.00        grams   3.08  2488350\n",
       "13                  Corn Flakes    700.00        grams   8.63  2008489\n",
       "14                Quick Oatmeal    900.00        grams  13.22  2552985\n",
       "15                        Flour      1.00        grams   0.01  2671058\n",
       "16                 White Bread     570.00        grams   3.61  2071641\n",
       "17            Whole Wheat Bread    570.00        grams   3.51  2286812\n",
       "18                  Frozen Corn    750.00        grams   5.57  2345442\n",
       "19                      Carrots   1000.00        grams   6.90  2345173\n",
       "20      Frozen Mixed Vegetables    750.00        grams   5.60  1132755\n",
       "21                      Apples       1.00        grams   0.01  2453288\n",
       "22                      Bananas      1.00        grams   0.01  2344720\n",
       "23                       Grapes      1.00        grams   0.02  2388443\n",
       "24                     Tomatoes      1.00        grams   0.01  2543214\n",
       "25                       Onions      1.00        grams   0.01  2345315\n",
       "26                     Potatoes      2.27        grams   0.01  1864190\n",
       "27               Peanut Butter    1000.00        grams  11.60  2025704\n",
       "28         Canned Luncheon Meat    340.00        grams   6.42  2341620\n",
       "29           Canned Pink Salmon    213.00        grams   5.04   173690\n",
       "30                  Ground Beef   1000.00        grams  16.48  1942314\n",
       "31                   Pork Chops   1000.00        grams  15.93   578039\n",
       "32   Chicken Legs or Drumsticks   1000.00        grams  10.02  2634897\n",
       "33                        Bacon    375.00        grams   9.53  2128991\n",
       "34                      Wieners    450.00        grams   5.94  2402994\n",
       "35                      Bologna    375.00        grams   6.08  2195188\n",
       "36    Frozen Pre-Cooked Dinners    250.00        grams   7.12  2342540\n",
       "37                 Frozen Pizza    800.00        grams  13.74  2102135\n",
       "38          Frozen French Fries    600.00        grams   5.23  2344957\n",
       "39              Pilot Biscuits     400.00        grams   7.07  2343285\n",
       "40              Chocolate Bars      50.00        grams   2.62  2071325\n",
       "41                Potato Chips     240.00        grams   7.09  2430813\n",
       "42                      Milk 2%      2.00       liters   3.02  1909132\n",
       "43                    UHT Milk       1.00       liters   4.96  2214706\n",
       "44                  Apple Juice    960.00  milliliters   6.58  2103028\n",
       "45                 Orange Juice    960.00  milliliters   6.44  2098640\n",
       "46                 Tomato Juice    540.00  milliliters   9.22  2073181\n",
       "47              Vegetable Juice    945.00  milliliters   8.29  2089573\n",
       "48                  Soft Drinks    355.00  milliliters   7.09  2287712"
      ]
     },
     "execution_count": 7,
     "metadata": {},
     "output_type": "execute_result"
    }
   ],
   "source": [
    "import pandas as pd\n",
    "\n",
    "df = read_sheets(SHEETs[0][0])[SHEETs[0][1]]\n",
    "df"
   ]
  },
  {
   "cell_type": "markdown",
   "metadata": {},
   "source": [
    "### Look up nutritional information for foods\n",
    "\n"
   ]
  },
  {
   "cell_type": "markdown",
   "metadata": {},
   "source": [
    "Now we have a list of foods with prices.  Do lookups on USDA database\n",
    "to get nutritional information.\n",
    "\n"
   ]
  },
  {
   "cell_type": "code",
   "execution_count": 7,
   "metadata": {},
   "outputs": [
    {
     "name": "stdout",
     "output_type": "stream",
     "text": [
      "Collecting pint\n",
      "  Downloading Pint-0.23-py3-none-any.whl (305 kB)\n",
      "\u001b[2K     \u001b[90m━━━━━━━━━━━━━━━━━━━━━━━━━━━━━━━━━━━━━━━\u001b[0m \u001b[32m305.0/305.0 kB\u001b[0m \u001b[31m4.5 MB/s\u001b[0m eta \u001b[36m0:00:00\u001b[0ma \u001b[36m0:00:01\u001b[0m\n",
      "\u001b[?25hRequirement already satisfied: typing-extensions in /Users/vishalivallioor/anaconda3/lib/python3.10/site-packages (from pint) (4.8.0)\n",
      "Installing collected packages: pint\n",
      "Successfully installed pint-0.23\n",
      "Note: you may need to restart the kernel to use updated packages.\n"
     ]
    }
   ],
   "source": [
    "%pip install pint"
   ]
  },
  {
   "cell_type": "code",
   "execution_count": 9,
   "metadata": {},
   "outputs": [],
   "source": [
    "import fooddatacentral as fdc\n",
    "import warnings\n",
    "import pandas as pd\n",
    "\n",
    "df = pd.read_csv(\"data/Final Food Price Data for Both Nontraditional and Traditional - Table A.csv\")\n",
    "\n",
    "D = {}\n",
    "count = 0\n",
    "for food in  df.Food.tolist():\n",
    "    try:\n",
    "        FDC = df.loc[df.Food==food,:].FDC[count]\n",
    "        count+=1\n",
    "        D[food] = fdc.nutrients(apikey,FDC).Quantity\n",
    "    except AttributeError: \n",
    "        warnings.warn(\"Couldn't find FDC Code %s for food %s.\" % (food,FDC))        \n",
    "\n",
    "FoodNutrients = pd.DataFrame(D,dtype=float)"
   ]
  },
  {
   "cell_type": "markdown",
   "metadata": {},
   "source": [
    "## Units & Prices\n",
    "\n"
   ]
  },
  {
   "cell_type": "markdown",
   "metadata": {},
   "source": [
    "Now, the prices we observe can be for lots of different quantities and\n",
    "units.  The FDC database basically wants everything in either hundreds\n",
    "of grams (hectograms) or hundreds of milliliters (deciliters).  \n",
    "We use the `units` function to convert all foods to either\n",
    "deciliters or hectograms, to match FDC database:\n",
    "\n"
   ]
  },
  {
   "cell_type": "code",
   "execution_count": 10,
   "metadata": {},
   "outputs": [
    {
     "name": "stderr",
     "output_type": "stream",
     "text": [
      "/Users/vishalivallioor/anaconda3/lib/python3.10/site-packages/pandas/core/dtypes/cast.py:1784: UnitStrippedWarning: The unit of the quantity is stripped when downcasting to ndarray.\n",
      "  result[:] = values\n"
     ]
    }
   ],
   "source": [
    "# Convert food quantities to FDC units\n",
    "df['FDC Quantity'] = df[['Quantity','Units']].T.apply(lambda x : fdc.units(x['Quantity'],x['Units']))\n",
    "\n",
    "# Now may want to filter df by time or place--need to get a unique set of food names.\n",
    "df['FDC Price'] = df['Price']/df['FDC Quantity']\n",
    "\n",
    "df.dropna(how='any') # Drop food with any missing data\n",
    "\n",
    "# To use minimum price observed\n",
    "Prices = df.groupby('Food',sort=False)['FDC Price'].min()"
   ]
  },
  {
   "cell_type": "code",
   "execution_count": 11,
   "metadata": {},
   "outputs": [
    {
     "data": {
      "text/html": [
       "<div>\n",
       "<style scoped>\n",
       "    .dataframe tbody tr th:only-of-type {\n",
       "        vertical-align: middle;\n",
       "    }\n",
       "\n",
       "    .dataframe tbody tr th {\n",
       "        vertical-align: top;\n",
       "    }\n",
       "\n",
       "    .dataframe thead th {\n",
       "        text-align: right;\n",
       "    }\n",
       "</style>\n",
       "<table border=\"1\" class=\"dataframe\">\n",
       "  <thead>\n",
       "    <tr style=\"text-align: right;\">\n",
       "      <th></th>\n",
       "      <th>Carrots</th>\n",
       "    </tr>\n",
       "  </thead>\n",
       "  <tbody>\n",
       "    <tr>\n",
       "      <th>Alanine</th>\n",
       "      <td>NaN</td>\n",
       "    </tr>\n",
       "    <tr>\n",
       "      <th>Alcohol, ethyl</th>\n",
       "      <td>0.00</td>\n",
       "    </tr>\n",
       "    <tr>\n",
       "      <th>Amino acids</th>\n",
       "      <td>NaN</td>\n",
       "    </tr>\n",
       "    <tr>\n",
       "      <th>Arginine</th>\n",
       "      <td>NaN</td>\n",
       "    </tr>\n",
       "    <tr>\n",
       "      <th>Ash</th>\n",
       "      <td>NaN</td>\n",
       "    </tr>\n",
       "    <tr>\n",
       "      <th>...</th>\n",
       "      <td>...</td>\n",
       "    </tr>\n",
       "    <tr>\n",
       "      <th>Vitamin E, added</th>\n",
       "      <td>0.00</td>\n",
       "    </tr>\n",
       "    <tr>\n",
       "      <th>Vitamin K (phylloquinone)</th>\n",
       "      <td>13.20</td>\n",
       "    </tr>\n",
       "    <tr>\n",
       "      <th>Vitamins and Other Components</th>\n",
       "      <td>NaN</td>\n",
       "    </tr>\n",
       "    <tr>\n",
       "      <th>Water</th>\n",
       "      <td>88.30</td>\n",
       "    </tr>\n",
       "    <tr>\n",
       "      <th>Zinc, Zn</th>\n",
       "      <td>0.24</td>\n",
       "    </tr>\n",
       "  </tbody>\n",
       "</table>\n",
       "<p>131 rows × 1 columns</p>\n",
       "</div>"
      ],
      "text/plain": [
       "                               Carrots\n",
       "Alanine                            NaN\n",
       "Alcohol, ethyl                    0.00\n",
       "Amino acids                        NaN\n",
       "Arginine                           NaN\n",
       "Ash                                NaN\n",
       "...                                ...\n",
       "Vitamin E, added                  0.00\n",
       "Vitamin K (phylloquinone)        13.20\n",
       "Vitamins and Other Components      NaN\n",
       "Water                            88.30\n",
       "Zinc, Zn                          0.24\n",
       "\n",
       "[131 rows x 1 columns]"
      ]
     },
     "execution_count": 11,
     "metadata": {},
     "output_type": "execute_result"
    }
   ],
   "source": [
    "FoodNutrients[['Carrots']]\n"
   ]
  },
  {
   "cell_type": "markdown",
   "metadata": {},
   "source": [
    "## Dietary Requirements\n",
    "\n"
   ]
  },
  {
   "cell_type": "markdown",
   "metadata": {},
   "source": [
    "We&rsquo;ve figured out some foods we can buy, the nutritional content of\n",
    "those foods, and  the price of the foods.  Now we need to say\n",
    "something about nutritional requirements.   Our data for this is based\n",
    "on  US government recommendations available at\n",
    "[https://www.dietaryguidelines.gov/sites/default/files/2021-03/Dietary_Guidelines_for_Americans-2020-2025.pdf](https://www.dietaryguidelines.gov/sites/default/files/2021-03/Dietary_Guidelines_for_Americans-2020-2025.pdf)\n",
    "\n",
    "I&rsquo;ve put some of these data into a google spreadsheet at\n",
    "[https://docs.google.com/spreadsheets/d/1y95IsQ4HKspPW3HHDtH7QMtlDA66IUsCHJLutVL-MMc/](https://docs.google.com/spreadsheets/d/1y95IsQ4HKspPW3HHDtH7QMtlDA66IUsCHJLutVL-MMc/).\n",
    "\n"
   ]
  },
  {
   "cell_type": "code",
   "execution_count": 12,
   "metadata": {},
   "outputs": [],
   "source": [
    "DRIS_min = pd.read_csv(\"data/Dietary Requirements - diet_minimums - Dietary Requirements - diet_minimums.csv\")\n",
    "DRIS_max = pd.read_csv(\"data/Dietary Requirements - diet_maximums.csv\")\n",
    "\n",
    "diet_min = DRIS_min.set_index('Nutrition')\n",
    "diet_max = DRIS_max.set_index('Nutrition')"
   ]
  },
  {
   "cell_type": "markdown",
   "metadata": {},
   "source": [
    "## Using `solve_subsistence_problem` to analyze diet\n",
    "\n"
   ]
  },
  {
   "cell_type": "markdown",
   "metadata": {},
   "source": [
    "Let&rsquo;s choose a particular group (type of person with particular\n",
    "dietary requirements) and solve the subsistence problem for them:\n",
    "\n"
   ]
  },
  {
   "cell_type": "code",
   "execution_count": 13,
   "metadata": {},
   "outputs": [
    {
     "name": "stdout",
     "output_type": "stream",
     "text": [
      "Cost of diet for F 31-50 is $18.31 per day.\n",
      "\n",
      "\n",
      "Diet (in 100s of grams or milliliters):\n",
      "Cheddar Cheese          0.463585\n",
      "Corn Flakes             0.272290\n",
      "Flour                   0.873253\n",
      "Frozen Corn             2.501381\n",
      "Carrots                18.886755\n",
      "Canned Pink Salmon      0.143536\n",
      "Frozen French Fries     0.409035\n",
      "Milk 2%                 0.048178\n",
      "dtype: float64\n",
      "\n",
      "\n",
      "With the following nutritional outcomes of interest:\n",
      "                                  Outcome  Recommendation\n",
      "Nutrition                                                \n",
      "Energy                        1800.000000          1800.0\n",
      "Protein                         46.081739            46.0\n",
      "Fiber, total dietary            60.216454            25.2\n",
      "Folate, DFE                    464.373366           400.0\n",
      "Calcium, Ca                   1000.000000          1000.0\n",
      "Carbohydrate, by difference    323.529554           130.0\n",
      "Iron, Fe                        18.000000            18.0\n",
      "Magnesium, Mg                  320.000000           320.0\n",
      "Phosphorus, P                 1144.148822           700.0\n",
      "Potassium, K                  6918.910387          4700.0\n",
      "Vitamin B-12                     2.400000             2.4\n",
      "Vitamin E (alpha-tocopherol)    15.000000            15.0\n",
      "Vitamin K (phylloquinone)      266.075261            90.0\n",
      "Zinc, Zn                         8.000000             8.0\n",
      "Sodium, Na                    2300.000000          2300.0\n",
      "Energy                        1800.000000          3100.0\n",
      "\n",
      "\n",
      "Constraining nutrients are:\n",
      "['Energy', 'Calcium, Ca', 'Iron, Fe', 'Magnesium, Mg', 'Vitamin B-12', 'Vitamin E (alpha-tocopherol)', 'Zinc, Zn', 'Sodium, Na']\n"
     ]
    }
   ],
   "source": [
    "group = 'F 31-50'\n",
    "tol = 1e-6\n",
    "\n",
    "result = solve_subsistence_problem(FoodNutrients,Prices,diet_min[group],diet_max[group],tol=tol)\n",
    "\n",
    "print(\"Cost of diet for %s is $%4.2f per day.\\n\" % (group,result.fun))\n",
    "\n",
    "# Put back into nice series\n",
    "diet = result.diet\n",
    "\n",
    "print(\"\\nDiet (in 100s of grams or milliliters):\")\n",
    "print(diet[diet >= tol])  # Drop items with quantities less than precision of calculation.\n",
    "print()\n",
    "\n",
    "tab = pd.DataFrame({\"Outcome\":np.abs(result.A).dot(diet),\"Recommendation\":np.abs(result.b)})\n",
    "print(\"\\nWith the following nutritional outcomes of interest:\")\n",
    "print(tab)\n",
    "print()\n",
    "\n",
    "print(\"\\nConstraining nutrients are:\")\n",
    "excess = tab.diff(axis=1).iloc[:,1]\n",
    "print(excess.loc[np.abs(excess) < tol*100].index.tolist())"
   ]
  },
  {
   "cell_type": "markdown",
   "metadata": {},
   "source": [
    "## Effects of Price Changes on Subsistence Diet Cost\n",
    "\n"
   ]
  },
  {
   "cell_type": "markdown",
   "metadata": {},
   "source": [
    "As prices change, we should expect the minimum cost diet to also\n",
    "  change.  The code below creates a graph which changes prices away\n",
    "  from the \\`base&rsquo; case one food at a time, and plots changes in total\n",
    "  diet cost.\n",
    "\n"
   ]
  },
  {
   "cell_type": "code",
   "execution_count": 14,
   "metadata": {},
   "outputs": [
    {
     "name": "stdout",
     "output_type": "stream",
     "text": [
      "Collecting cufflinks\n",
      "  Downloading cufflinks-0.17.3.tar.gz (81 kB)\n",
      "\u001b[2K     \u001b[90m━━━━━━━━━━━━━━━━━━━━━━━━━━━━━━━━━━━━━━━━\u001b[0m \u001b[32m81.7/81.7 kB\u001b[0m \u001b[31m2.6 MB/s\u001b[0m eta \u001b[36m0:00:00\u001b[0m\n",
      "\u001b[?25h  Preparing metadata (setup.py) ... \u001b[?25ldone\n",
      "\u001b[?25hRequirement already satisfied: numpy>=1.9.2 in /Users/vishalivallioor/anaconda3/lib/python3.10/site-packages (from cufflinks) (1.23.5)\n",
      "Requirement already satisfied: pandas>=0.19.2 in /Users/vishalivallioor/anaconda3/lib/python3.10/site-packages (from cufflinks) (1.5.3)\n",
      "Requirement already satisfied: plotly>=4.1.1 in /Users/vishalivallioor/anaconda3/lib/python3.10/site-packages (from cufflinks) (5.9.0)\n",
      "Requirement already satisfied: six>=1.9.0 in /Users/vishalivallioor/anaconda3/lib/python3.10/site-packages (from cufflinks) (1.16.0)\n",
      "Collecting colorlover>=0.2.1\n",
      "  Downloading colorlover-0.3.0-py3-none-any.whl (8.9 kB)\n",
      "Requirement already satisfied: setuptools>=34.4.1 in /Users/vishalivallioor/anaconda3/lib/python3.10/site-packages (from cufflinks) (65.6.3)\n",
      "Requirement already satisfied: ipython>=5.3.0 in /Users/vishalivallioor/anaconda3/lib/python3.10/site-packages (from cufflinks) (8.10.0)\n",
      "Requirement already satisfied: ipywidgets>=7.0.0 in /Users/vishalivallioor/anaconda3/lib/python3.10/site-packages (from cufflinks) (8.0.7)\n",
      "Requirement already satisfied: traitlets>=5 in /Users/vishalivallioor/anaconda3/lib/python3.10/site-packages (from ipython>=5.3.0->cufflinks) (5.7.1)\n",
      "Requirement already satisfied: decorator in /Users/vishalivallioor/anaconda3/lib/python3.10/site-packages (from ipython>=5.3.0->cufflinks) (5.1.1)\n",
      "Requirement already satisfied: pygments>=2.4.0 in /Users/vishalivallioor/anaconda3/lib/python3.10/site-packages (from ipython>=5.3.0->cufflinks) (2.17.2)\n",
      "Requirement already satisfied: pexpect>4.3 in /Users/vishalivallioor/anaconda3/lib/python3.10/site-packages (from ipython>=5.3.0->cufflinks) (4.8.0)\n",
      "Requirement already satisfied: stack-data in /Users/vishalivallioor/anaconda3/lib/python3.10/site-packages (from ipython>=5.3.0->cufflinks) (0.2.0)\n",
      "Requirement already satisfied: appnope in /Users/vishalivallioor/anaconda3/lib/python3.10/site-packages (from ipython>=5.3.0->cufflinks) (0.1.2)\n",
      "Requirement already satisfied: prompt-toolkit<3.1.0,>=3.0.30 in /Users/vishalivallioor/anaconda3/lib/python3.10/site-packages (from ipython>=5.3.0->cufflinks) (3.0.36)\n",
      "Requirement already satisfied: jedi>=0.16 in /Users/vishalivallioor/anaconda3/lib/python3.10/site-packages (from ipython>=5.3.0->cufflinks) (0.18.1)\n",
      "Requirement already satisfied: pickleshare in /Users/vishalivallioor/anaconda3/lib/python3.10/site-packages (from ipython>=5.3.0->cufflinks) (0.7.5)\n",
      "Requirement already satisfied: backcall in /Users/vishalivallioor/anaconda3/lib/python3.10/site-packages (from ipython>=5.3.0->cufflinks) (0.2.0)\n",
      "Requirement already satisfied: matplotlib-inline in /Users/vishalivallioor/anaconda3/lib/python3.10/site-packages (from ipython>=5.3.0->cufflinks) (0.1.6)\n",
      "Requirement already satisfied: ipykernel>=4.5.1 in /Users/vishalivallioor/anaconda3/lib/python3.10/site-packages (from ipywidgets>=7.0.0->cufflinks) (6.19.2)\n",
      "Requirement already satisfied: widgetsnbextension~=4.0.7 in /Users/vishalivallioor/anaconda3/lib/python3.10/site-packages (from ipywidgets>=7.0.0->cufflinks) (4.0.8)\n",
      "Requirement already satisfied: jupyterlab-widgets~=3.0.7 in /Users/vishalivallioor/anaconda3/lib/python3.10/site-packages (from ipywidgets>=7.0.0->cufflinks) (3.0.8)\n",
      "Requirement already satisfied: python-dateutil>=2.8.1 in /Users/vishalivallioor/anaconda3/lib/python3.10/site-packages (from pandas>=0.19.2->cufflinks) (2.8.2)\n",
      "Requirement already satisfied: pytz>=2020.1 in /Users/vishalivallioor/anaconda3/lib/python3.10/site-packages (from pandas>=0.19.2->cufflinks) (2022.7)\n",
      "Requirement already satisfied: tenacity>=6.2.0 in /Users/vishalivallioor/anaconda3/lib/python3.10/site-packages (from plotly>=4.1.1->cufflinks) (8.2.3)\n",
      "Requirement already satisfied: pyzmq>=17 in /Users/vishalivallioor/anaconda3/lib/python3.10/site-packages (from ipykernel>=4.5.1->ipywidgets>=7.0.0->cufflinks) (23.2.0)\n",
      "Requirement already satisfied: tornado>=6.1 in /Users/vishalivallioor/anaconda3/lib/python3.10/site-packages (from ipykernel>=4.5.1->ipywidgets>=7.0.0->cufflinks) (6.1)\n",
      "Requirement already satisfied: packaging in /Users/vishalivallioor/anaconda3/lib/python3.10/site-packages (from ipykernel>=4.5.1->ipywidgets>=7.0.0->cufflinks) (22.0)\n",
      "Requirement already satisfied: nest-asyncio in /Users/vishalivallioor/anaconda3/lib/python3.10/site-packages (from ipykernel>=4.5.1->ipywidgets>=7.0.0->cufflinks) (1.5.6)\n",
      "Requirement already satisfied: psutil in /Users/vishalivallioor/anaconda3/lib/python3.10/site-packages (from ipykernel>=4.5.1->ipywidgets>=7.0.0->cufflinks) (5.9.0)\n",
      "Requirement already satisfied: jupyter-client>=6.1.12 in /Users/vishalivallioor/anaconda3/lib/python3.10/site-packages (from ipykernel>=4.5.1->ipywidgets>=7.0.0->cufflinks) (7.3.4)\n",
      "Requirement already satisfied: comm>=0.1.1 in /Users/vishalivallioor/anaconda3/lib/python3.10/site-packages (from ipykernel>=4.5.1->ipywidgets>=7.0.0->cufflinks) (0.1.2)\n",
      "Requirement already satisfied: debugpy>=1.0 in /Users/vishalivallioor/anaconda3/lib/python3.10/site-packages (from ipykernel>=4.5.1->ipywidgets>=7.0.0->cufflinks) (1.5.1)\n",
      "Requirement already satisfied: parso<0.9.0,>=0.8.0 in /Users/vishalivallioor/anaconda3/lib/python3.10/site-packages (from jedi>=0.16->ipython>=5.3.0->cufflinks) (0.8.3)\n",
      "Requirement already satisfied: ptyprocess>=0.5 in /Users/vishalivallioor/anaconda3/lib/python3.10/site-packages (from pexpect>4.3->ipython>=5.3.0->cufflinks) (0.7.0)\n",
      "Requirement already satisfied: wcwidth in /Users/vishalivallioor/anaconda3/lib/python3.10/site-packages (from prompt-toolkit<3.1.0,>=3.0.30->ipython>=5.3.0->cufflinks) (0.2.5)\n",
      "Requirement already satisfied: executing in /Users/vishalivallioor/anaconda3/lib/python3.10/site-packages (from stack-data->ipython>=5.3.0->cufflinks) (0.8.3)\n",
      "Requirement already satisfied: pure-eval in /Users/vishalivallioor/anaconda3/lib/python3.10/site-packages (from stack-data->ipython>=5.3.0->cufflinks) (0.2.2)\n",
      "Requirement already satisfied: asttokens in /Users/vishalivallioor/anaconda3/lib/python3.10/site-packages (from stack-data->ipython>=5.3.0->cufflinks) (2.0.5)\n",
      "Requirement already satisfied: jupyter-core>=4.9.2 in /Users/vishalivallioor/anaconda3/lib/python3.10/site-packages (from jupyter-client>=6.1.12->ipykernel>=4.5.1->ipywidgets>=7.0.0->cufflinks) (5.2.0)\n",
      "Requirement already satisfied: entrypoints in /Users/vishalivallioor/anaconda3/lib/python3.10/site-packages (from jupyter-client>=6.1.12->ipykernel>=4.5.1->ipywidgets>=7.0.0->cufflinks) (0.4)\n",
      "Requirement already satisfied: platformdirs>=2.5 in /Users/vishalivallioor/anaconda3/lib/python3.10/site-packages (from jupyter-core>=4.9.2->jupyter-client>=6.1.12->ipykernel>=4.5.1->ipywidgets>=7.0.0->cufflinks) (2.5.2)\n",
      "Building wheels for collected packages: cufflinks\n",
      "  Building wheel for cufflinks (setup.py) ... \u001b[?25ldone\n",
      "\u001b[?25h  Created wheel for cufflinks: filename=cufflinks-0.17.3-py3-none-any.whl size=67902 sha256=d3045e0fdd2b6ea8f1e3cdf452a94824122435373059e2d4fc423a59bd050afa\n",
      "  Stored in directory: /Users/vishalivallioor/Library/Caches/pip/wheels/b1/8f/ec/b76ac80a14f3f5f59643cbc2eee7d78690b1bd158279f299dd\n",
      "Successfully built cufflinks\n",
      "Installing collected packages: colorlover, cufflinks\n",
      "Successfully installed colorlover-0.3.0 cufflinks-0.17.3\n",
      "Note: you may need to restart the kernel to use updated packages.\n"
     ]
    }
   ],
   "source": [
    "%pip install cufflinks"
   ]
  },
  {
   "cell_type": "code",
   "execution_count": 15,
   "metadata": {},
   "outputs": [
    {
     "data": {
      "text/html": [
       "        <script type=\"text/javascript\">\n",
       "        window.PlotlyConfig = {MathJaxConfig: 'local'};\n",
       "        if (window.MathJax && window.MathJax.Hub && window.MathJax.Hub.Config) {window.MathJax.Hub.Config({SVG: {font: \"STIX-Web\"}});}\n",
       "        if (typeof require !== 'undefined') {\n",
       "        require.undef(\"plotly\");\n",
       "        requirejs.config({\n",
       "            paths: {\n",
       "                'plotly': ['https://cdn.plot.ly/plotly-2.12.1.min']\n",
       "            }\n",
       "        });\n",
       "        require(['plotly'], function(Plotly) {\n",
       "            window._Plotly = Plotly;\n",
       "        });\n",
       "        }\n",
       "        </script>\n",
       "        "
      ]
     },
     "metadata": {},
     "output_type": "display_data"
    },
    {
     "data": {
      "application/vnd.plotly.v1+json": {
       "config": {
        "linkText": "Export to plot.ly",
        "plotlyServerURL": "https://plot.ly",
        "showLink": true
       },
       "data": [
        {
         "line": {
          "color": "rgba(255, 153, 51, 1.0)",
          "dash": "solid",
          "shape": "linear",
          "width": 1.3
         },
         "mode": "lines",
         "name": "Butter",
         "text": "",
         "type": "scatter",
         "x": [
          -0.6931471805599453,
          -0.5108256237659907,
          -0.35667494393873245,
          -0.2231435513142097,
          -0.10536051565782628,
          0,
          0.09531017980432493,
          0.1823215567939546,
          0.26236426446749106,
          0.3364722366212129,
          0.4054651081081644
         ],
         "y": [
          0,
          0,
          0,
          0,
          0,
          0,
          0,
          0,
          0,
          0,
          0
         ]
        },
        {
         "line": {
          "color": "rgba(55, 128, 191, 1.0)",
          "dash": "solid",
          "shape": "linear",
          "width": 1.3
         },
         "mode": "lines",
         "name": "Margarine",
         "text": "",
         "type": "scatter",
         "x": [
          -0.6931471805599453,
          -0.5108256237659907,
          -0.35667494393873245,
          -0.2231435513142097,
          -0.10536051565782628,
          0,
          0.09531017980432493,
          0.1823215567939546,
          0.26236426446749106,
          0.3364722366212129,
          0.4054651081081644
         ],
         "y": [
          0,
          0,
          0,
          0,
          0,
          0,
          0,
          0,
          0,
          0,
          0
         ]
        },
        {
         "line": {
          "color": "rgba(50, 171, 96, 1.0)",
          "dash": "solid",
          "shape": "linear",
          "width": 1.3
         },
         "mode": "lines",
         "name": "Yogurt ",
         "text": "",
         "type": "scatter",
         "x": [
          -0.6931471805599453,
          -0.5108256237659907,
          -0.35667494393873245,
          -0.2231435513142097,
          -0.10536051565782628,
          0,
          0.09531017980432493,
          0.1823215567939546,
          0.26236426446749106,
          0.3364722366212129,
          0.4054651081081644
         ],
         "y": [
          0,
          0,
          0,
          0,
          0,
          0,
          0,
          0,
          0,
          0,
          0
         ]
        },
        {
         "line": {
          "color": "rgba(128, 0, 128, 1.0)",
          "dash": "solid",
          "shape": "linear",
          "width": 1.3
         },
         "mode": "lines",
         "name": "Cheddar Cheese ",
         "text": "",
         "type": "scatter",
         "x": [
          -0.6931471805599453,
          -0.5108256237659907,
          -0.35667494393873245,
          -0.2231435513142097,
          -0.10536051565782628,
          0,
          0.09531017980432493,
          0.1823215567939546,
          0.26236426446749106,
          0.3364722366212129,
          0.4054651081081644
         ],
         "y": [
          -0.04222823692260683,
          -0.03360858257597181,
          -0.025090081386090715,
          -0.016656581365180695,
          -0.008293610870641737,
          0,
          0.008225392280001872,
          0.016383679075519044,
          0.020681483929722914,
          0.02346945605581279,
          0.02605258481728454
         ]
        },
        {
         "line": {
          "color": "rgba(219, 64, 82, 1.0)",
          "dash": "solid",
          "shape": "linear",
          "width": 1.3
         },
         "mode": "lines",
         "name": "Processed Sliced Cheese ",
         "text": "",
         "type": "scatter",
         "x": [
          -0.6931471805599453,
          -0.5108256237659907,
          -0.35667494393873245,
          -0.2231435513142097,
          -0.10536051565782628,
          0,
          0.09531017980432493,
          0.1823215567939546,
          0.26236426446749106,
          0.3364722366212129,
          0.4054651081081644
         ],
         "y": [
          0,
          0,
          0,
          0,
          0,
          0,
          0,
          0,
          0,
          0,
          0
         ]
        },
        {
         "line": {
          "color": "rgba(0, 128, 128, 1.0)",
          "dash": "solid",
          "shape": "linear",
          "width": 1.3
         },
         "mode": "lines",
         "name": "Skim Milk Powder ",
         "text": "",
         "type": "scatter",
         "x": [
          -0.6931471805599453,
          -0.5108256237659907,
          -0.35667494393873245,
          -0.2231435513142097,
          -0.10536051565782628,
          0,
          0.09531017980432493,
          0.1823215567939546,
          0.26236426446749106,
          0.3364722366212129,
          0.4054651081081644
         ],
         "y": [
          -0.00025980089661125304,
          -0.00020028354281013573,
          -0.00014076973111360624,
          -0.00008125946110030346,
          -0.000021752732348386332,
          0,
          0,
          0,
          0,
          0,
          0
         ]
        },
        {
         "line": {
          "color": "rgba(255, 255, 51, 1.0)",
          "dash": "solid",
          "shape": "linear",
          "width": 1.3
         },
         "mode": "lines",
         "name": "Soda Crackers",
         "text": "",
         "type": "scatter",
         "x": [
          -0.6931471805599453,
          -0.5108256237659907,
          -0.35667494393873245,
          -0.2231435513142097,
          -0.10536051565782628,
          0,
          0.09531017980432493,
          0.1823215567939546,
          0.26236426446749106,
          0.3364722366212129,
          0.4054651081081644
         ],
         "y": [
          0,
          0,
          0,
          0,
          0,
          0,
          0,
          0,
          0,
          0,
          0
         ]
        },
        {
         "line": {
          "color": "rgba(128, 128, 0, 1.0)",
          "dash": "solid",
          "shape": "linear",
          "width": 1.3
         },
         "mode": "lines",
         "name": "Spaghetti Noodles",
         "text": "",
         "type": "scatter",
         "x": [
          -0.6931471805599453,
          -0.5108256237659907,
          -0.35667494393873245,
          -0.2231435513142097,
          -0.10536051565782628,
          0,
          0.09531017980432493,
          0.1823215567939546,
          0.26236426446749106,
          0.3364722366212129,
          0.4054651081081644
         ],
         "y": [
          0,
          0,
          0,
          0,
          0,
          0,
          0,
          0,
          0,
          0,
          0
         ]
        },
        {
         "line": {
          "color": "rgba(251, 128, 114, 1.0)",
          "dash": "solid",
          "shape": "linear",
          "width": 1.3
         },
         "mode": "lines",
         "name": "Macaroni and Cheese Dinner ",
         "text": "",
         "type": "scatter",
         "x": [
          -0.6931471805599453,
          -0.5108256237659907,
          -0.35667494393873245,
          -0.2231435513142097,
          -0.10536051565782628,
          0,
          0.09531017980432493,
          0.1823215567939546,
          0.26236426446749106,
          0.3364722366212129,
          0.4054651081081644
         ],
         "y": [
          0,
          0,
          0,
          0,
          0,
          0,
          0,
          0,
          0,
          0,
          0
         ]
        },
        {
         "line": {
          "color": "rgba(128, 177, 211, 1.0)",
          "dash": "solid",
          "shape": "linear",
          "width": 1.3
         },
         "mode": "lines",
         "name": "Corn Flakes",
         "text": "",
         "type": "scatter",
         "x": [
          -0.6931471805599453,
          -0.5108256237659907,
          -0.35667494393873245,
          -0.2231435513142097,
          -0.10536051565782628,
          0,
          0.09531017980432493,
          0.1823215567939546,
          0.26236426446749106,
          0.3364722366212129,
          0.4054651081081644
         ],
         "y": [
          -0.009206929182978973,
          -0.007358749453736923,
          -0.005513979192465568,
          -0.0036726058429507684,
          -0.0018346169182130994,
          0,
          0.0018312572617186535,
          0.003659167149248037,
          0.0054837418776640945,
          0.007304993595301866,
          0.009122934384241697
         ]
        },
        {
         "line": {
          "color": "rgba(128, 177, 211, 0.8999999999999999)",
          "dash": "solid",
          "shape": "linear",
          "width": 1.3
         },
         "mode": "lines",
         "name": "Quick Oatmeal",
         "text": "",
         "type": "scatter",
         "x": [
          -0.6931471805599453,
          -0.5108256237659907,
          -0.35667494393873245,
          -0.2231435513142097,
          -0.10536051565782628,
          0,
          0.09531017980432493,
          0.1823215567939546,
          0.26236426446749106,
          0.3364722366212129,
          0.4054651081081644
         ],
         "y": [
          -0.015006699122304795,
          -0.008878512352090865,
          -0.002787651630075277,
          0,
          0,
          0,
          0,
          0,
          0,
          0,
          0
         ]
        },
        {
         "line": {
          "color": "rgba(255, 153, 51, 0.8999999999999999)",
          "dash": "solid",
          "shape": "linear",
          "width": 1.3
         },
         "mode": "lines",
         "name": "Flour",
         "text": "",
         "type": "scatter",
         "x": [
          -0.6931471805599453,
          -0.5108256237659907,
          -0.35667494393873245,
          -0.2231435513142097,
          -0.10536051565782628,
          0,
          0.09531017980432493,
          0.1823215567939546,
          0.26236426446749106,
          0.3364722366212129,
          0.4054651081081644
         ],
         "y": [
          -0.024129114278816078,
          -0.01925648943325084,
          -0.014407491979674968,
          -0.009581893884601443,
          -0.004779470399902493,
          0,
          0.004756735679450239,
          0.009490951901422818,
          0.014180756102838176,
          0.01459446662000073,
          0.01459446662000073
         ]
        },
        {
         "line": {
          "color": "rgba(55, 128, 191, 0.8999999999999999)",
          "dash": "solid",
          "shape": "linear",
          "width": 1.3
         },
         "mode": "lines",
         "name": "White Bread ",
         "text": "",
         "type": "scatter",
         "x": [
          -0.6931471805599453,
          -0.5108256237659907,
          -0.35667494393873245,
          -0.2231435513142097,
          -0.10536051565782628,
          0,
          0.09531017980432493,
          0.1823215567939546,
          0.26236426446749106,
          0.3364722366212129,
          0.4054651081081644
         ],
         "y": [
          0,
          0,
          0,
          0,
          0,
          0,
          0,
          0,
          0,
          0,
          0
         ]
        },
        {
         "line": {
          "color": "rgba(50, 171, 96, 0.8999999999999999)",
          "dash": "solid",
          "shape": "linear",
          "width": 1.3
         },
         "mode": "lines",
         "name": "Whole Wheat Bread",
         "text": "",
         "type": "scatter",
         "x": [
          -0.6931471805599453,
          -0.5108256237659907,
          -0.35667494393873245,
          -0.2231435513142097,
          -0.10536051565782628,
          0,
          0.09531017980432493,
          0.1823215567939546,
          0.26236426446749106,
          0.3364722366212129,
          0.4054651081081644
         ],
         "y": [
          0,
          0,
          0,
          0,
          0,
          0,
          0,
          0,
          0,
          0,
          0
         ]
        },
        {
         "line": {
          "color": "rgba(128, 0, 128, 0.8999999999999999)",
          "dash": "solid",
          "shape": "linear",
          "width": 1.3
         },
         "mode": "lines",
         "name": "Frozen Corn",
         "text": "",
         "type": "scatter",
         "x": [
          -0.6931471805599453,
          -0.5108256237659907,
          -0.35667494393873245,
          -0.2231435513142097,
          -0.10536051565782628,
          0,
          0.09531017980432493,
          0.1823215567939546,
          0.26236426446749106,
          0.3364722366212129,
          0.4054651081081644
         ],
         "y": [
          -0.09514459745758823,
          -0.06930073901752229,
          -0.044749327150709124,
          -0.025032736982493444,
          -0.010195016152405662,
          0,
          0.010092125883819499,
          0.02008341754714713,
          0.029975870018479973,
          0.03977141969767828,
          0.04936875082307018
         ]
        },
        {
         "line": {
          "color": "rgba(219, 64, 82, 0.8999999999999999)",
          "dash": "solid",
          "shape": "linear",
          "width": 1.3
         },
         "mode": "lines",
         "name": "Carrots",
         "text": "",
         "type": "scatter",
         "x": [
          -0.6931471805599453,
          -0.5108256237659907,
          -0.35667494393873245,
          -0.2231435513142097,
          -0.10536051565782628,
          0,
          0.09531017980432493,
          0.1823215567939546,
          0.26236426446749106,
          0.3364722366212129,
          0.4054651081081644
         ],
         "y": [
          -0.4408148385439773,
          -0.3349606395462737,
          -0.24012008159380474,
          -0.15351378818877448,
          -0.07381397176206006,
          0,
          0.06872797756944506,
          0.13300160972434094,
          0.19335473905469397,
          0.2502634696583689,
          0.3040886818215834
         ]
        },
        {
         "line": {
          "color": "rgba(0, 128, 128, 0.8999999999999999)",
          "dash": "solid",
          "shape": "linear",
          "width": 1.3
         },
         "mode": "lines",
         "name": "Frozen Mixed Vegetables",
         "text": "",
         "type": "scatter",
         "x": [
          -0.6931471805599453,
          -0.5108256237659907,
          -0.35667494393873245,
          -0.2231435513142097,
          -0.10536051565782628,
          0,
          0.09531017980432493,
          0.1823215567939546,
          0.26236426446749106,
          0.3364722366212129,
          0.4054651081081644
         ],
         "y": [
          0,
          0,
          0,
          0,
          0,
          0,
          0,
          0,
          0,
          0,
          0
         ]
        },
        {
         "line": {
          "color": "rgba(255, 255, 51, 0.8999999999999999)",
          "dash": "solid",
          "shape": "linear",
          "width": 1.3
         },
         "mode": "lines",
         "name": "Apples ",
         "text": "",
         "type": "scatter",
         "x": [
          -0.6931471805599453,
          -0.5108256237659907,
          -0.35667494393873245,
          -0.2231435513142097,
          -0.10536051565782628,
          0,
          0.09531017980432493,
          0.1823215567939546,
          0.26236426446749106,
          0.3364722366212129,
          0.4054651081081644
         ],
         "y": [
          -0.00013257903024030992,
          -0.00008412003003417151,
          -0.00003566337798905603,
          0,
          0,
          0,
          0,
          0,
          0,
          0,
          0
         ]
        },
        {
         "line": {
          "color": "rgba(128, 128, 0, 0.8999999999999999)",
          "dash": "solid",
          "shape": "linear",
          "width": 1.3
         },
         "mode": "lines",
         "name": "Bananas",
         "text": "",
         "type": "scatter",
         "x": [
          -0.6931471805599453,
          -0.5108256237659907,
          -0.35667494393873245,
          -0.2231435513142097,
          -0.10536051565782628,
          0,
          0.09531017980432493,
          0.1823215567939546,
          0.26236426446749106,
          0.3364722366212129,
          0.4054651081081644
         ],
         "y": [
          -0.00009603497588988386,
          0,
          0,
          0,
          0,
          0,
          0,
          0,
          0,
          0,
          0
         ]
        },
        {
         "line": {
          "color": "rgba(251, 128, 114, 0.8999999999999999)",
          "dash": "solid",
          "shape": "linear",
          "width": 1.3
         },
         "mode": "lines",
         "name": "Grapes",
         "text": "",
         "type": "scatter",
         "x": [
          -0.6931471805599453,
          -0.5108256237659907,
          -0.35667494393873245,
          -0.2231435513142097,
          -0.10536051565782628,
          0,
          0.09531017980432493,
          0.1823215567939546,
          0.26236426446749106,
          0.3364722366212129,
          0.4054651081081644
         ],
         "y": [
          0,
          0,
          0,
          0,
          0,
          0,
          0,
          0,
          0,
          0,
          0
         ]
        },
        {
         "line": {
          "color": "rgba(251, 128, 114, 0.7999999999999998)",
          "dash": "solid",
          "shape": "linear",
          "width": 1.3
         },
         "mode": "lines",
         "name": "Tomatoes",
         "text": "",
         "type": "scatter",
         "x": [
          -0.6931471805599453,
          -0.5108256237659907,
          -0.35667494393873245,
          -0.2231435513142097,
          -0.10536051565782628,
          0,
          0.09531017980432493,
          0.1823215567939546,
          0.26236426446749106,
          0.3364722366212129,
          0.4054651081081644
         ],
         "y": [
          0,
          0,
          0,
          0,
          0,
          0,
          0,
          0,
          0,
          0,
          0
         ]
        },
        {
         "line": {
          "color": "rgba(128, 177, 211, 0.7999999999999998)",
          "dash": "solid",
          "shape": "linear",
          "width": 1.3
         },
         "mode": "lines",
         "name": "Onions",
         "text": "",
         "type": "scatter",
         "x": [
          -0.6931471805599453,
          -0.5108256237659907,
          -0.35667494393873245,
          -0.2231435513142097,
          -0.10536051565782628,
          0,
          0.09531017980432493,
          0.1823215567939546,
          0.26236426446749106,
          0.3364722366212129,
          0.4054651081081644
         ],
         "y": [
          0,
          0,
          0,
          0,
          0,
          0,
          0,
          0,
          0,
          0,
          0
         ]
        },
        {
         "line": {
          "color": "rgba(255, 153, 51, 0.7999999999999998)",
          "dash": "solid",
          "shape": "linear",
          "width": 1.3
         },
         "mode": "lines",
         "name": "Potatoes",
         "text": "",
         "type": "scatter",
         "x": [
          -0.6931471805599453,
          -0.5108256237659907,
          -0.35667494393873245,
          -0.2231435513142097,
          -0.10536051565782628,
          0,
          0.09531017980432493,
          0.1823215567939546,
          0.26236426446749106,
          0.3364722366212129,
          0.4054651081081644
         ],
         "y": [
          0,
          0,
          0,
          0,
          0,
          0,
          0,
          0,
          0,
          0,
          0
         ]
        },
        {
         "line": {
          "color": "rgba(55, 128, 191, 0.7999999999999998)",
          "dash": "solid",
          "shape": "linear",
          "width": 1.3
         },
         "mode": "lines",
         "name": "Peanut Butter ",
         "text": "",
         "type": "scatter",
         "x": [
          -0.6931471805599453,
          -0.5108256237659907,
          -0.35667494393873245,
          -0.2231435513142097,
          -0.10536051565782628,
          0,
          0.09531017980432493,
          0.1823215567939546,
          0.26236426446749106,
          0.3364722366212129,
          0.4054651081081644
         ],
         "y": [
          0,
          0,
          0,
          0,
          0,
          0,
          0,
          0,
          0,
          0,
          0
         ]
        },
        {
         "line": {
          "color": "rgba(50, 171, 96, 0.7999999999999998)",
          "dash": "solid",
          "shape": "linear",
          "width": 1.3
         },
         "mode": "lines",
         "name": "Canned Luncheon Meat",
         "text": "",
         "type": "scatter",
         "x": [
          -0.6931471805599453,
          -0.5108256237659907,
          -0.35667494393873245,
          -0.2231435513142097,
          -0.10536051565782628,
          0,
          0.09531017980432493,
          0.1823215567939546,
          0.26236426446749106,
          0.3364722366212129,
          0.4054651081081644
         ],
         "y": [
          0,
          0,
          0,
          0,
          0,
          0,
          0,
          0,
          0,
          0,
          0
         ]
        },
        {
         "line": {
          "color": "rgba(128, 0, 128, 0.7999999999999998)",
          "dash": "solid",
          "shape": "linear",
          "width": 1.3
         },
         "mode": "lines",
         "name": "Canned Pink Salmon",
         "text": "",
         "type": "scatter",
         "x": [
          -0.6931471805599453,
          -0.5108256237659907,
          -0.35667494393873245,
          -0.2231435513142097,
          -0.10536051565782628,
          0,
          0.09531017980432493,
          0.1823215567939546,
          0.26236426446749106,
          0.3364722366212129,
          0.4054651081081644
         ],
         "y": [
          -0.00931547988391313,
          -0.007445428717852547,
          -0.005578868116636351,
          -0.003715785073832208,
          -0.0018561666555697398,
          0,
          0.0018527276832366103,
          0.0037020291135403806,
          0.005547916939875671,
          0.0073904037412901346,
          0.009229502027429046
         ]
        },
        {
         "line": {
          "color": "rgba(219, 64, 82, 0.7999999999999998)",
          "dash": "solid",
          "shape": "linear",
          "width": 1.3
         },
         "mode": "lines",
         "name": "Ground Beef",
         "text": "",
         "type": "scatter",
         "x": [
          -0.6931471805599453,
          -0.5108256237659907,
          -0.35667494393873245,
          -0.2231435513142097,
          -0.10536051565782628,
          0,
          0.09531017980432493,
          0.1823215567939546,
          0.26236426446749106,
          0.3364722366212129,
          0.4054651081081644
         ],
         "y": [
          0,
          0,
          0,
          0,
          0,
          0,
          0,
          0,
          0,
          0,
          0
         ]
        },
        {
         "line": {
          "color": "rgba(0, 128, 128, 0.7999999999999998)",
          "dash": "solid",
          "shape": "linear",
          "width": 1.3
         },
         "mode": "lines",
         "name": "Pork Chops",
         "text": "",
         "type": "scatter",
         "x": [
          -0.6931471805599453,
          -0.5108256237659907,
          -0.35667494393873245,
          -0.2231435513142097,
          -0.10536051565782628,
          0,
          0.09531017980432493,
          0.1823215567939546,
          0.26236426446749106,
          0.3364722366212129,
          0.4054651081081644
         ],
         "y": [
          0,
          0,
          0,
          0,
          0,
          0,
          0,
          0,
          0,
          0,
          0
         ]
        },
        {
         "line": {
          "color": "rgba(255, 255, 51, 0.7999999999999998)",
          "dash": "solid",
          "shape": "linear",
          "width": 1.3
         },
         "mode": "lines",
         "name": "Chicken Legs or Drumsticks",
         "text": "",
         "type": "scatter",
         "x": [
          -0.6931471805599453,
          -0.5108256237659907,
          -0.35667494393873245,
          -0.2231435513142097,
          -0.10536051565782628,
          0,
          0.09531017980432493,
          0.1823215567939546,
          0.26236426446749106,
          0.3364722366212129,
          0.4054651081081644
         ],
         "y": [
          0,
          0,
          0,
          0,
          0,
          0,
          0,
          0,
          0,
          0,
          0
         ]
        },
        {
         "line": {
          "color": "rgba(128, 128, 0, 0.7999999999999998)",
          "dash": "solid",
          "shape": "linear",
          "width": 1.3
         },
         "mode": "lines",
         "name": "Bacon",
         "text": "",
         "type": "scatter",
         "x": [
          -0.6931471805599453,
          -0.5108256237659907,
          -0.35667494393873245,
          -0.2231435513142097,
          -0.10536051565782628,
          0,
          0.09531017980432493,
          0.1823215567939546,
          0.26236426446749106,
          0.3364722366212129,
          0.4054651081081644
         ],
         "y": [
          0,
          0,
          0,
          0,
          0,
          0,
          0,
          0,
          0,
          0,
          0
         ]
        },
        {
         "line": {
          "color": "rgba(128, 128, 0, 0.7)",
          "dash": "solid",
          "shape": "linear",
          "width": 1.3
         },
         "mode": "lines",
         "name": "Wieners",
         "text": "",
         "type": "scatter",
         "x": [
          -0.6931471805599453,
          -0.5108256237659907,
          -0.35667494393873245,
          -0.2231435513142097,
          -0.10536051565782628,
          0,
          0.09531017980432493,
          0.1823215567939546,
          0.26236426446749106,
          0.3364722366212129,
          0.4054651081081644
         ],
         "y": [
          0,
          0,
          0,
          0,
          0,
          0,
          0,
          0,
          0,
          0,
          0
         ]
        },
        {
         "line": {
          "color": "rgba(251, 128, 114, 0.7)",
          "dash": "solid",
          "shape": "linear",
          "width": 1.3
         },
         "mode": "lines",
         "name": "Bologna",
         "text": "",
         "type": "scatter",
         "x": [
          -0.6931471805599453,
          -0.5108256237659907,
          -0.35667494393873245,
          -0.2231435513142097,
          -0.10536051565782628,
          0,
          0.09531017980432493,
          0.1823215567939546,
          0.26236426446749106,
          0.3364722366212129,
          0.4054651081081644
         ],
         "y": [
          0,
          0,
          0,
          0,
          0,
          0,
          0,
          0,
          0,
          0,
          0
         ]
        },
        {
         "line": {
          "color": "rgba(128, 177, 211, 0.7)",
          "dash": "solid",
          "shape": "linear",
          "width": 1.3
         },
         "mode": "lines",
         "name": "Frozen Pre-Cooked Dinners",
         "text": "",
         "type": "scatter",
         "x": [
          -0.6931471805599453,
          -0.5108256237659907,
          -0.35667494393873245,
          -0.2231435513142097,
          -0.10536051565782628,
          0,
          0.09531017980432493,
          0.1823215567939546,
          0.26236426446749106,
          0.3364722366212129,
          0.4054651081081644
         ],
         "y": [
          0,
          0,
          0,
          0,
          0,
          0,
          0,
          0,
          0,
          0,
          0
         ]
        },
        {
         "line": {
          "color": "rgba(255, 153, 51, 0.7)",
          "dash": "solid",
          "shape": "linear",
          "width": 1.3
         },
         "mode": "lines",
         "name": "Frozen Pizza",
         "text": "",
         "type": "scatter",
         "x": [
          -0.6931471805599453,
          -0.5108256237659907,
          -0.35667494393873245,
          -0.2231435513142097,
          -0.10536051565782628,
          0,
          0.09531017980432493,
          0.1823215567939546,
          0.26236426446749106,
          0.3364722366212129,
          0.4054651081081644
         ],
         "y": [
          0,
          0,
          0,
          0,
          0,
          0,
          0,
          0,
          0,
          0,
          0
         ]
        },
        {
         "line": {
          "color": "rgba(55, 128, 191, 0.7)",
          "dash": "solid",
          "shape": "linear",
          "width": 1.3
         },
         "mode": "lines",
         "name": "Frozen French Fries",
         "text": "",
         "type": "scatter",
         "x": [
          -0.6931471805599453,
          -0.5108256237659907,
          -0.35667494393873245,
          -0.2231435513142097,
          -0.10536051565782628,
          0,
          0.09531017980432493,
          0.1823215567939546,
          0.26236426446749106,
          0.3364722366212129,
          0.4054651081081644
         ],
         "y": [
          -0.009904255979798923,
          -0.007883042390216982,
          -0.005875484123189386,
          -0.003901127214294442,
          -0.0019486612591608225,
          0,
          0.001944871362485642,
          0.003885967541413611,
          0.005823303164387601,
          0.007756892774161201,
          0.00883208215783896
         ]
        },
        {
         "line": {
          "color": "rgba(50, 171, 96, 0.7)",
          "dash": "solid",
          "shape": "linear",
          "width": 1.3
         },
         "mode": "lines",
         "name": "Pilot Biscuits ",
         "text": "",
         "type": "scatter",
         "x": [
          -0.6931471805599453,
          -0.5108256237659907,
          -0.35667494393873245,
          -0.2231435513142097,
          -0.10536051565782628,
          0,
          0.09531017980432493,
          0.1823215567939546,
          0.26236426446749106,
          0.3364722366212129,
          0.4054651081081644
         ],
         "y": [
          0,
          0,
          0,
          0,
          0,
          0,
          0,
          0,
          0,
          0,
          0
         ]
        },
        {
         "line": {
          "color": "rgba(128, 0, 128, 0.7)",
          "dash": "solid",
          "shape": "linear",
          "width": 1.3
         },
         "mode": "lines",
         "name": "Chocolate Bars ",
         "text": "",
         "type": "scatter",
         "x": [
          -0.6931471805599453,
          -0.5108256237659907,
          -0.35667494393873245,
          -0.2231435513142097,
          -0.10536051565782628,
          0,
          0.09531017980432493,
          0.1823215567939546,
          0.26236426446749106,
          0.3364722366212129,
          0.4054651081081644
         ],
         "y": [
          0,
          0,
          0,
          0,
          0,
          0,
          0,
          0,
          0,
          0,
          0
         ]
        },
        {
         "line": {
          "color": "rgba(219, 64, 82, 0.7)",
          "dash": "solid",
          "shape": "linear",
          "width": 1.3
         },
         "mode": "lines",
         "name": "Potato Chips ",
         "text": "",
         "type": "scatter",
         "x": [
          -0.6931471805599453,
          -0.5108256237659907,
          -0.35667494393873245,
          -0.2231435513142097,
          -0.10536051565782628,
          0,
          0.09531017980432493,
          0.1823215567939546,
          0.26236426446749106,
          0.3364722366212129,
          0.4054651081081644
         ],
         "y": [
          0,
          0,
          0,
          0,
          0,
          0,
          0,
          0,
          0,
          0,
          0
         ]
        },
        {
         "line": {
          "color": "rgba(0, 128, 128, 0.7)",
          "dash": "solid",
          "shape": "linear",
          "width": 1.3
         },
         "mode": "lines",
         "name": "Milk 2%",
         "text": "",
         "type": "scatter",
         "x": [
          -0.6931471805599453,
          -0.5108256237659907,
          -0.35667494393873245,
          -0.2231435513142097,
          -0.10536051565782628,
          0,
          0.09531017980432493,
          0.1823215567939546,
          0.26236426446749106,
          0.3364722366212129,
          0.4054651081081644
         ],
         "y": [
          -0.0001986264035953334,
          -0.00015889796655509575,
          -0.00011917110780086513,
          -0.00007944582720713479,
          -0.000039722124648635025,
          0,
          0.00003775045556346681,
          0.00003775045556346681,
          0.00003775045556346681,
          0.00003775045556346681,
          0.00003775045556346681
         ]
        },
        {
         "line": {
          "color": "rgba(255, 255, 51, 0.7)",
          "dash": "solid",
          "shape": "linear",
          "width": 1.3
         },
         "mode": "lines",
         "name": "UHT Milk ",
         "text": "",
         "type": "scatter",
         "x": [
          -0.6931471805599453,
          -0.5108256237659907,
          -0.35667494393873245,
          -0.2231435513142097,
          -0.10536051565782628,
          0,
          0.09531017980432493,
          0.1823215567939546,
          0.26236426446749106,
          0.3364722366212129,
          0.4054651081081644
         ],
         "y": [
          0,
          0,
          0,
          0,
          0,
          0,
          0,
          0,
          0,
          0,
          0
         ]
        },
        {
         "line": {
          "color": "rgba(255, 255, 51, 0.5999999999999999)",
          "dash": "solid",
          "shape": "linear",
          "width": 1.3
         },
         "mode": "lines",
         "name": "Apple Juice",
         "text": "",
         "type": "scatter",
         "x": [
          -0.6931471805599453,
          -0.5108256237659907,
          -0.35667494393873245,
          -0.2231435513142097,
          -0.10536051565782628,
          0,
          0.09531017980432493,
          0.1823215567939546,
          0.26236426446749106,
          0.3364722366212129,
          0.4054651081081644
         ],
         "y": [
          0,
          0,
          0,
          0,
          0,
          0,
          0,
          0,
          0,
          0,
          0
         ]
        },
        {
         "line": {
          "color": "rgba(128, 128, 0, 0.5999999999999999)",
          "dash": "solid",
          "shape": "linear",
          "width": 1.3
         },
         "mode": "lines",
         "name": "Orange Juice",
         "text": "",
         "type": "scatter",
         "x": [
          -0.6931471805599453,
          -0.5108256237659907,
          -0.35667494393873245,
          -0.2231435513142097,
          -0.10536051565782628,
          0,
          0.09531017980432493,
          0.1823215567939546,
          0.26236426446749106,
          0.3364722366212129,
          0.4054651081081644
         ],
         "y": [
          -0.0003111111118415266,
          -0.0002185808551096113,
          -0.00012749238692476276,
          -0.000036412215093365106,
          0,
          0,
          0,
          0,
          0,
          0,
          0
         ]
        },
        {
         "line": {
          "color": "rgba(251, 128, 114, 0.5999999999999999)",
          "dash": "solid",
          "shape": "linear",
          "width": 1.3
         },
         "mode": "lines",
         "name": "Tomato Juice",
         "text": "",
         "type": "scatter",
         "x": [
          -0.6931471805599453,
          -0.5108256237659907,
          -0.35667494393873245,
          -0.2231435513142097,
          -0.10536051565782628,
          0,
          0.09531017980432493,
          0.1823215567939546,
          0.26236426446749106,
          0.3364722366212129,
          0.4054651081081644
         ],
         "y": [
          0,
          0,
          0,
          0,
          0,
          0,
          0,
          0,
          0,
          0,
          0
         ]
        },
        {
         "line": {
          "color": "rgba(128, 177, 211, 0.5999999999999999)",
          "dash": "solid",
          "shape": "linear",
          "width": 1.3
         },
         "mode": "lines",
         "name": "Vegetable Juice",
         "text": "",
         "type": "scatter",
         "x": [
          -0.6931471805599453,
          -0.5108256237659907,
          -0.35667494393873245,
          -0.2231435513142097,
          -0.10536051565782628,
          0,
          0.09531017980432493,
          0.1823215567939546,
          0.26236426446749106,
          0.3364722366212129,
          0.4054651081081644
         ],
         "y": [
          0,
          0,
          0,
          0,
          0,
          0,
          0,
          0,
          0,
          0,
          0
         ]
        },
        {
         "line": {
          "color": "rgba(255, 153, 51, 0.5999999999999999)",
          "dash": "solid",
          "shape": "linear",
          "width": 1.3
         },
         "mode": "lines",
         "name": "Soft Drinks",
         "text": "",
         "type": "scatter",
         "x": [
          -0.6931471805599453,
          -0.5108256237659907,
          -0.35667494393873245,
          -0.2231435513142097,
          -0.10536051565782628,
          0,
          0.09531017980432493,
          0.1823215567939546,
          0.26236426446749106,
          0.3364722366212129,
          0.4054651081081644
         ],
         "y": [
          0,
          0,
          0,
          0,
          0,
          0,
          0,
          0,
          0,
          0,
          0
         ]
        }
       ],
       "layout": {
        "legend": {
         "bgcolor": "#F5F6F9",
         "font": {
          "color": "#4D5663"
         }
        },
        "paper_bgcolor": "#F5F6F9",
        "plot_bgcolor": "#F5F6F9",
        "template": {
         "data": {
          "bar": [
           {
            "error_x": {
             "color": "#2a3f5f"
            },
            "error_y": {
             "color": "#2a3f5f"
            },
            "marker": {
             "line": {
              "color": "#E5ECF6",
              "width": 0.5
             },
             "pattern": {
              "fillmode": "overlay",
              "size": 10,
              "solidity": 0.2
             }
            },
            "type": "bar"
           }
          ],
          "barpolar": [
           {
            "marker": {
             "line": {
              "color": "#E5ECF6",
              "width": 0.5
             },
             "pattern": {
              "fillmode": "overlay",
              "size": 10,
              "solidity": 0.2
             }
            },
            "type": "barpolar"
           }
          ],
          "carpet": [
           {
            "aaxis": {
             "endlinecolor": "#2a3f5f",
             "gridcolor": "white",
             "linecolor": "white",
             "minorgridcolor": "white",
             "startlinecolor": "#2a3f5f"
            },
            "baxis": {
             "endlinecolor": "#2a3f5f",
             "gridcolor": "white",
             "linecolor": "white",
             "minorgridcolor": "white",
             "startlinecolor": "#2a3f5f"
            },
            "type": "carpet"
           }
          ],
          "choropleth": [
           {
            "colorbar": {
             "outlinewidth": 0,
             "ticks": ""
            },
            "type": "choropleth"
           }
          ],
          "contour": [
           {
            "colorbar": {
             "outlinewidth": 0,
             "ticks": ""
            },
            "colorscale": [
             [
              0,
              "#0d0887"
             ],
             [
              0.1111111111111111,
              "#46039f"
             ],
             [
              0.2222222222222222,
              "#7201a8"
             ],
             [
              0.3333333333333333,
              "#9c179e"
             ],
             [
              0.4444444444444444,
              "#bd3786"
             ],
             [
              0.5555555555555556,
              "#d8576b"
             ],
             [
              0.6666666666666666,
              "#ed7953"
             ],
             [
              0.7777777777777778,
              "#fb9f3a"
             ],
             [
              0.8888888888888888,
              "#fdca26"
             ],
             [
              1,
              "#f0f921"
             ]
            ],
            "type": "contour"
           }
          ],
          "contourcarpet": [
           {
            "colorbar": {
             "outlinewidth": 0,
             "ticks": ""
            },
            "type": "contourcarpet"
           }
          ],
          "heatmap": [
           {
            "colorbar": {
             "outlinewidth": 0,
             "ticks": ""
            },
            "colorscale": [
             [
              0,
              "#0d0887"
             ],
             [
              0.1111111111111111,
              "#46039f"
             ],
             [
              0.2222222222222222,
              "#7201a8"
             ],
             [
              0.3333333333333333,
              "#9c179e"
             ],
             [
              0.4444444444444444,
              "#bd3786"
             ],
             [
              0.5555555555555556,
              "#d8576b"
             ],
             [
              0.6666666666666666,
              "#ed7953"
             ],
             [
              0.7777777777777778,
              "#fb9f3a"
             ],
             [
              0.8888888888888888,
              "#fdca26"
             ],
             [
              1,
              "#f0f921"
             ]
            ],
            "type": "heatmap"
           }
          ],
          "heatmapgl": [
           {
            "colorbar": {
             "outlinewidth": 0,
             "ticks": ""
            },
            "colorscale": [
             [
              0,
              "#0d0887"
             ],
             [
              0.1111111111111111,
              "#46039f"
             ],
             [
              0.2222222222222222,
              "#7201a8"
             ],
             [
              0.3333333333333333,
              "#9c179e"
             ],
             [
              0.4444444444444444,
              "#bd3786"
             ],
             [
              0.5555555555555556,
              "#d8576b"
             ],
             [
              0.6666666666666666,
              "#ed7953"
             ],
             [
              0.7777777777777778,
              "#fb9f3a"
             ],
             [
              0.8888888888888888,
              "#fdca26"
             ],
             [
              1,
              "#f0f921"
             ]
            ],
            "type": "heatmapgl"
           }
          ],
          "histogram": [
           {
            "marker": {
             "pattern": {
              "fillmode": "overlay",
              "size": 10,
              "solidity": 0.2
             }
            },
            "type": "histogram"
           }
          ],
          "histogram2d": [
           {
            "colorbar": {
             "outlinewidth": 0,
             "ticks": ""
            },
            "colorscale": [
             [
              0,
              "#0d0887"
             ],
             [
              0.1111111111111111,
              "#46039f"
             ],
             [
              0.2222222222222222,
              "#7201a8"
             ],
             [
              0.3333333333333333,
              "#9c179e"
             ],
             [
              0.4444444444444444,
              "#bd3786"
             ],
             [
              0.5555555555555556,
              "#d8576b"
             ],
             [
              0.6666666666666666,
              "#ed7953"
             ],
             [
              0.7777777777777778,
              "#fb9f3a"
             ],
             [
              0.8888888888888888,
              "#fdca26"
             ],
             [
              1,
              "#f0f921"
             ]
            ],
            "type": "histogram2d"
           }
          ],
          "histogram2dcontour": [
           {
            "colorbar": {
             "outlinewidth": 0,
             "ticks": ""
            },
            "colorscale": [
             [
              0,
              "#0d0887"
             ],
             [
              0.1111111111111111,
              "#46039f"
             ],
             [
              0.2222222222222222,
              "#7201a8"
             ],
             [
              0.3333333333333333,
              "#9c179e"
             ],
             [
              0.4444444444444444,
              "#bd3786"
             ],
             [
              0.5555555555555556,
              "#d8576b"
             ],
             [
              0.6666666666666666,
              "#ed7953"
             ],
             [
              0.7777777777777778,
              "#fb9f3a"
             ],
             [
              0.8888888888888888,
              "#fdca26"
             ],
             [
              1,
              "#f0f921"
             ]
            ],
            "type": "histogram2dcontour"
           }
          ],
          "mesh3d": [
           {
            "colorbar": {
             "outlinewidth": 0,
             "ticks": ""
            },
            "type": "mesh3d"
           }
          ],
          "parcoords": [
           {
            "line": {
             "colorbar": {
              "outlinewidth": 0,
              "ticks": ""
             }
            },
            "type": "parcoords"
           }
          ],
          "pie": [
           {
            "automargin": true,
            "type": "pie"
           }
          ],
          "scatter": [
           {
            "fillpattern": {
             "fillmode": "overlay",
             "size": 10,
             "solidity": 0.2
            },
            "type": "scatter"
           }
          ],
          "scatter3d": [
           {
            "line": {
             "colorbar": {
              "outlinewidth": 0,
              "ticks": ""
             }
            },
            "marker": {
             "colorbar": {
              "outlinewidth": 0,
              "ticks": ""
             }
            },
            "type": "scatter3d"
           }
          ],
          "scattercarpet": [
           {
            "marker": {
             "colorbar": {
              "outlinewidth": 0,
              "ticks": ""
             }
            },
            "type": "scattercarpet"
           }
          ],
          "scattergeo": [
           {
            "marker": {
             "colorbar": {
              "outlinewidth": 0,
              "ticks": ""
             }
            },
            "type": "scattergeo"
           }
          ],
          "scattergl": [
           {
            "marker": {
             "colorbar": {
              "outlinewidth": 0,
              "ticks": ""
             }
            },
            "type": "scattergl"
           }
          ],
          "scattermapbox": [
           {
            "marker": {
             "colorbar": {
              "outlinewidth": 0,
              "ticks": ""
             }
            },
            "type": "scattermapbox"
           }
          ],
          "scatterpolar": [
           {
            "marker": {
             "colorbar": {
              "outlinewidth": 0,
              "ticks": ""
             }
            },
            "type": "scatterpolar"
           }
          ],
          "scatterpolargl": [
           {
            "marker": {
             "colorbar": {
              "outlinewidth": 0,
              "ticks": ""
             }
            },
            "type": "scatterpolargl"
           }
          ],
          "scatterternary": [
           {
            "marker": {
             "colorbar": {
              "outlinewidth": 0,
              "ticks": ""
             }
            },
            "type": "scatterternary"
           }
          ],
          "surface": [
           {
            "colorbar": {
             "outlinewidth": 0,
             "ticks": ""
            },
            "colorscale": [
             [
              0,
              "#0d0887"
             ],
             [
              0.1111111111111111,
              "#46039f"
             ],
             [
              0.2222222222222222,
              "#7201a8"
             ],
             [
              0.3333333333333333,
              "#9c179e"
             ],
             [
              0.4444444444444444,
              "#bd3786"
             ],
             [
              0.5555555555555556,
              "#d8576b"
             ],
             [
              0.6666666666666666,
              "#ed7953"
             ],
             [
              0.7777777777777778,
              "#fb9f3a"
             ],
             [
              0.8888888888888888,
              "#fdca26"
             ],
             [
              1,
              "#f0f921"
             ]
            ],
            "type": "surface"
           }
          ],
          "table": [
           {
            "cells": {
             "fill": {
              "color": "#EBF0F8"
             },
             "line": {
              "color": "white"
             }
            },
            "header": {
             "fill": {
              "color": "#C8D4E3"
             },
             "line": {
              "color": "white"
             }
            },
            "type": "table"
           }
          ]
         },
         "layout": {
          "annotationdefaults": {
           "arrowcolor": "#2a3f5f",
           "arrowhead": 0,
           "arrowwidth": 1
          },
          "autotypenumbers": "strict",
          "coloraxis": {
           "colorbar": {
            "outlinewidth": 0,
            "ticks": ""
           }
          },
          "colorscale": {
           "diverging": [
            [
             0,
             "#8e0152"
            ],
            [
             0.1,
             "#c51b7d"
            ],
            [
             0.2,
             "#de77ae"
            ],
            [
             0.3,
             "#f1b6da"
            ],
            [
             0.4,
             "#fde0ef"
            ],
            [
             0.5,
             "#f7f7f7"
            ],
            [
             0.6,
             "#e6f5d0"
            ],
            [
             0.7,
             "#b8e186"
            ],
            [
             0.8,
             "#7fbc41"
            ],
            [
             0.9,
             "#4d9221"
            ],
            [
             1,
             "#276419"
            ]
           ],
           "sequential": [
            [
             0,
             "#0d0887"
            ],
            [
             0.1111111111111111,
             "#46039f"
            ],
            [
             0.2222222222222222,
             "#7201a8"
            ],
            [
             0.3333333333333333,
             "#9c179e"
            ],
            [
             0.4444444444444444,
             "#bd3786"
            ],
            [
             0.5555555555555556,
             "#d8576b"
            ],
            [
             0.6666666666666666,
             "#ed7953"
            ],
            [
             0.7777777777777778,
             "#fb9f3a"
            ],
            [
             0.8888888888888888,
             "#fdca26"
            ],
            [
             1,
             "#f0f921"
            ]
           ],
           "sequentialminus": [
            [
             0,
             "#0d0887"
            ],
            [
             0.1111111111111111,
             "#46039f"
            ],
            [
             0.2222222222222222,
             "#7201a8"
            ],
            [
             0.3333333333333333,
             "#9c179e"
            ],
            [
             0.4444444444444444,
             "#bd3786"
            ],
            [
             0.5555555555555556,
             "#d8576b"
            ],
            [
             0.6666666666666666,
             "#ed7953"
            ],
            [
             0.7777777777777778,
             "#fb9f3a"
            ],
            [
             0.8888888888888888,
             "#fdca26"
            ],
            [
             1,
             "#f0f921"
            ]
           ]
          },
          "colorway": [
           "#636efa",
           "#EF553B",
           "#00cc96",
           "#ab63fa",
           "#FFA15A",
           "#19d3f3",
           "#FF6692",
           "#B6E880",
           "#FF97FF",
           "#FECB52"
          ],
          "font": {
           "color": "#2a3f5f"
          },
          "geo": {
           "bgcolor": "white",
           "lakecolor": "white",
           "landcolor": "#E5ECF6",
           "showlakes": true,
           "showland": true,
           "subunitcolor": "white"
          },
          "hoverlabel": {
           "align": "left"
          },
          "hovermode": "closest",
          "mapbox": {
           "style": "light"
          },
          "paper_bgcolor": "white",
          "plot_bgcolor": "#E5ECF6",
          "polar": {
           "angularaxis": {
            "gridcolor": "white",
            "linecolor": "white",
            "ticks": ""
           },
           "bgcolor": "#E5ECF6",
           "radialaxis": {
            "gridcolor": "white",
            "linecolor": "white",
            "ticks": ""
           }
          },
          "scene": {
           "xaxis": {
            "backgroundcolor": "#E5ECF6",
            "gridcolor": "white",
            "gridwidth": 2,
            "linecolor": "white",
            "showbackground": true,
            "ticks": "",
            "zerolinecolor": "white"
           },
           "yaxis": {
            "backgroundcolor": "#E5ECF6",
            "gridcolor": "white",
            "gridwidth": 2,
            "linecolor": "white",
            "showbackground": true,
            "ticks": "",
            "zerolinecolor": "white"
           },
           "zaxis": {
            "backgroundcolor": "#E5ECF6",
            "gridcolor": "white",
            "gridwidth": 2,
            "linecolor": "white",
            "showbackground": true,
            "ticks": "",
            "zerolinecolor": "white"
           }
          },
          "shapedefaults": {
           "line": {
            "color": "#2a3f5f"
           }
          },
          "ternary": {
           "aaxis": {
            "gridcolor": "white",
            "linecolor": "white",
            "ticks": ""
           },
           "baxis": {
            "gridcolor": "white",
            "linecolor": "white",
            "ticks": ""
           },
           "bgcolor": "#E5ECF6",
           "caxis": {
            "gridcolor": "white",
            "linecolor": "white",
            "ticks": ""
           }
          },
          "title": {
           "x": 0.05
          },
          "xaxis": {
           "automargin": true,
           "gridcolor": "white",
           "linecolor": "white",
           "ticks": "",
           "title": {
            "standoff": 15
           },
           "zerolinecolor": "white",
           "zerolinewidth": 2
          },
          "yaxis": {
           "automargin": true,
           "gridcolor": "white",
           "linecolor": "white",
           "ticks": "",
           "title": {
            "standoff": 15
           },
           "zerolinecolor": "white",
           "zerolinewidth": 2
          }
         }
        },
        "title": {
         "font": {
          "color": "#4D5663"
         }
        },
        "xaxis": {
         "gridcolor": "#E1E5ED",
         "showgrid": true,
         "tickfont": {
          "color": "#4D5663"
         },
         "title": {
          "font": {
           "color": "#4D5663"
          },
          "text": "change in log price"
         },
         "zerolinecolor": "#E1E5ED"
        },
        "yaxis": {
         "gridcolor": "#E1E5ED",
         "showgrid": true,
         "tickfont": {
          "color": "#4D5663"
         },
         "title": {
          "font": {
           "color": "#4D5663"
          },
          "text": "change in log cost"
         },
         "zerolinecolor": "#E1E5ED"
        }
       }
      },
      "text/html": [
       "<div>                            <div id=\"0da90b3f-fee0-4b1f-bee7-a9cf32f8fc44\" class=\"plotly-graph-div\" style=\"height:525px; width:100%;\"></div>            <script type=\"text/javascript\">                require([\"plotly\"], function(Plotly) {                    window.PLOTLYENV=window.PLOTLYENV || {};\n",
       "                    window.PLOTLYENV.BASE_URL='https://plot.ly';                                    if (document.getElementById(\"0da90b3f-fee0-4b1f-bee7-a9cf32f8fc44\")) {                    Plotly.newPlot(                        \"0da90b3f-fee0-4b1f-bee7-a9cf32f8fc44\",                        [{\"line\":{\"color\":\"rgba(255, 153, 51, 1.0)\",\"dash\":\"solid\",\"shape\":\"linear\",\"width\":1.3},\"mode\":\"lines\",\"name\":\"Butter\",\"text\":\"\",\"x\":[-0.6931471805599453,-0.5108256237659907,-0.35667494393873245,-0.2231435513142097,-0.10536051565782628,0.0,0.09531017980432493,0.1823215567939546,0.26236426446749106,0.3364722366212129,0.4054651081081644],\"y\":[0.0,0.0,0.0,0.0,0.0,0.0,0.0,0.0,0.0,0.0,0.0],\"type\":\"scatter\"},{\"line\":{\"color\":\"rgba(55, 128, 191, 1.0)\",\"dash\":\"solid\",\"shape\":\"linear\",\"width\":1.3},\"mode\":\"lines\",\"name\":\"Margarine\",\"text\":\"\",\"x\":[-0.6931471805599453,-0.5108256237659907,-0.35667494393873245,-0.2231435513142097,-0.10536051565782628,0.0,0.09531017980432493,0.1823215567939546,0.26236426446749106,0.3364722366212129,0.4054651081081644],\"y\":[0.0,0.0,0.0,0.0,0.0,0.0,0.0,0.0,0.0,0.0,0.0],\"type\":\"scatter\"},{\"line\":{\"color\":\"rgba(50, 171, 96, 1.0)\",\"dash\":\"solid\",\"shape\":\"linear\",\"width\":1.3},\"mode\":\"lines\",\"name\":\"Yogurt \",\"text\":\"\",\"x\":[-0.6931471805599453,-0.5108256237659907,-0.35667494393873245,-0.2231435513142097,-0.10536051565782628,0.0,0.09531017980432493,0.1823215567939546,0.26236426446749106,0.3364722366212129,0.4054651081081644],\"y\":[0.0,0.0,0.0,0.0,0.0,0.0,0.0,0.0,0.0,0.0,0.0],\"type\":\"scatter\"},{\"line\":{\"color\":\"rgba(128, 0, 128, 1.0)\",\"dash\":\"solid\",\"shape\":\"linear\",\"width\":1.3},\"mode\":\"lines\",\"name\":\"Cheddar Cheese \",\"text\":\"\",\"x\":[-0.6931471805599453,-0.5108256237659907,-0.35667494393873245,-0.2231435513142097,-0.10536051565782628,0.0,0.09531017980432493,0.1823215567939546,0.26236426446749106,0.3364722366212129,0.4054651081081644],\"y\":[-0.04222823692260683,-0.03360858257597181,-0.025090081386090715,-0.016656581365180695,-0.008293610870641737,0.0,0.008225392280001872,0.016383679075519044,0.020681483929722914,0.02346945605581279,0.02605258481728454],\"type\":\"scatter\"},{\"line\":{\"color\":\"rgba(219, 64, 82, 1.0)\",\"dash\":\"solid\",\"shape\":\"linear\",\"width\":1.3},\"mode\":\"lines\",\"name\":\"Processed Sliced Cheese \",\"text\":\"\",\"x\":[-0.6931471805599453,-0.5108256237659907,-0.35667494393873245,-0.2231435513142097,-0.10536051565782628,0.0,0.09531017980432493,0.1823215567939546,0.26236426446749106,0.3364722366212129,0.4054651081081644],\"y\":[0.0,0.0,0.0,0.0,0.0,0.0,0.0,0.0,0.0,0.0,0.0],\"type\":\"scatter\"},{\"line\":{\"color\":\"rgba(0, 128, 128, 1.0)\",\"dash\":\"solid\",\"shape\":\"linear\",\"width\":1.3},\"mode\":\"lines\",\"name\":\"Skim Milk Powder \",\"text\":\"\",\"x\":[-0.6931471805599453,-0.5108256237659907,-0.35667494393873245,-0.2231435513142097,-0.10536051565782628,0.0,0.09531017980432493,0.1823215567939546,0.26236426446749106,0.3364722366212129,0.4054651081081644],\"y\":[-0.00025980089661125304,-0.00020028354281013573,-0.00014076973111360624,-8.125946110030346e-05,-2.1752732348386332e-05,0.0,0.0,0.0,0.0,0.0,0.0],\"type\":\"scatter\"},{\"line\":{\"color\":\"rgba(255, 255, 51, 1.0)\",\"dash\":\"solid\",\"shape\":\"linear\",\"width\":1.3},\"mode\":\"lines\",\"name\":\"Soda Crackers\",\"text\":\"\",\"x\":[-0.6931471805599453,-0.5108256237659907,-0.35667494393873245,-0.2231435513142097,-0.10536051565782628,0.0,0.09531017980432493,0.1823215567939546,0.26236426446749106,0.3364722366212129,0.4054651081081644],\"y\":[0.0,0.0,0.0,0.0,0.0,0.0,0.0,0.0,0.0,0.0,0.0],\"type\":\"scatter\"},{\"line\":{\"color\":\"rgba(128, 128, 0, 1.0)\",\"dash\":\"solid\",\"shape\":\"linear\",\"width\":1.3},\"mode\":\"lines\",\"name\":\"Spaghetti Noodles\",\"text\":\"\",\"x\":[-0.6931471805599453,-0.5108256237659907,-0.35667494393873245,-0.2231435513142097,-0.10536051565782628,0.0,0.09531017980432493,0.1823215567939546,0.26236426446749106,0.3364722366212129,0.4054651081081644],\"y\":[0.0,0.0,0.0,0.0,0.0,0.0,0.0,0.0,0.0,0.0,0.0],\"type\":\"scatter\"},{\"line\":{\"color\":\"rgba(251, 128, 114, 1.0)\",\"dash\":\"solid\",\"shape\":\"linear\",\"width\":1.3},\"mode\":\"lines\",\"name\":\"Macaroni and Cheese Dinner \",\"text\":\"\",\"x\":[-0.6931471805599453,-0.5108256237659907,-0.35667494393873245,-0.2231435513142097,-0.10536051565782628,0.0,0.09531017980432493,0.1823215567939546,0.26236426446749106,0.3364722366212129,0.4054651081081644],\"y\":[0.0,0.0,0.0,0.0,0.0,0.0,0.0,0.0,0.0,0.0,0.0],\"type\":\"scatter\"},{\"line\":{\"color\":\"rgba(128, 177, 211, 1.0)\",\"dash\":\"solid\",\"shape\":\"linear\",\"width\":1.3},\"mode\":\"lines\",\"name\":\"Corn Flakes\",\"text\":\"\",\"x\":[-0.6931471805599453,-0.5108256237659907,-0.35667494393873245,-0.2231435513142097,-0.10536051565782628,0.0,0.09531017980432493,0.1823215567939546,0.26236426446749106,0.3364722366212129,0.4054651081081644],\"y\":[-0.009206929182978973,-0.007358749453736923,-0.005513979192465568,-0.0036726058429507684,-0.0018346169182130994,0.0,0.0018312572617186535,0.003659167149248037,0.0054837418776640945,0.007304993595301866,0.009122934384241697],\"type\":\"scatter\"},{\"line\":{\"color\":\"rgba(128, 177, 211, 0.8999999999999999)\",\"dash\":\"solid\",\"shape\":\"linear\",\"width\":1.3},\"mode\":\"lines\",\"name\":\"Quick Oatmeal\",\"text\":\"\",\"x\":[-0.6931471805599453,-0.5108256237659907,-0.35667494393873245,-0.2231435513142097,-0.10536051565782628,0.0,0.09531017980432493,0.1823215567939546,0.26236426446749106,0.3364722366212129,0.4054651081081644],\"y\":[-0.015006699122304795,-0.008878512352090865,-0.002787651630075277,0.0,0.0,0.0,0.0,0.0,0.0,0.0,0.0],\"type\":\"scatter\"},{\"line\":{\"color\":\"rgba(255, 153, 51, 0.8999999999999999)\",\"dash\":\"solid\",\"shape\":\"linear\",\"width\":1.3},\"mode\":\"lines\",\"name\":\"Flour\",\"text\":\"\",\"x\":[-0.6931471805599453,-0.5108256237659907,-0.35667494393873245,-0.2231435513142097,-0.10536051565782628,0.0,0.09531017980432493,0.1823215567939546,0.26236426446749106,0.3364722366212129,0.4054651081081644],\"y\":[-0.024129114278816078,-0.01925648943325084,-0.014407491979674968,-0.009581893884601443,-0.004779470399902493,0.0,0.004756735679450239,0.009490951901422818,0.014180756102838176,0.01459446662000073,0.01459446662000073],\"type\":\"scatter\"},{\"line\":{\"color\":\"rgba(55, 128, 191, 0.8999999999999999)\",\"dash\":\"solid\",\"shape\":\"linear\",\"width\":1.3},\"mode\":\"lines\",\"name\":\"White Bread \",\"text\":\"\",\"x\":[-0.6931471805599453,-0.5108256237659907,-0.35667494393873245,-0.2231435513142097,-0.10536051565782628,0.0,0.09531017980432493,0.1823215567939546,0.26236426446749106,0.3364722366212129,0.4054651081081644],\"y\":[0.0,0.0,0.0,0.0,0.0,0.0,0.0,0.0,0.0,0.0,0.0],\"type\":\"scatter\"},{\"line\":{\"color\":\"rgba(50, 171, 96, 0.8999999999999999)\",\"dash\":\"solid\",\"shape\":\"linear\",\"width\":1.3},\"mode\":\"lines\",\"name\":\"Whole Wheat Bread\",\"text\":\"\",\"x\":[-0.6931471805599453,-0.5108256237659907,-0.35667494393873245,-0.2231435513142097,-0.10536051565782628,0.0,0.09531017980432493,0.1823215567939546,0.26236426446749106,0.3364722366212129,0.4054651081081644],\"y\":[0.0,0.0,0.0,0.0,0.0,0.0,0.0,0.0,0.0,0.0,0.0],\"type\":\"scatter\"},{\"line\":{\"color\":\"rgba(128, 0, 128, 0.8999999999999999)\",\"dash\":\"solid\",\"shape\":\"linear\",\"width\":1.3},\"mode\":\"lines\",\"name\":\"Frozen Corn\",\"text\":\"\",\"x\":[-0.6931471805599453,-0.5108256237659907,-0.35667494393873245,-0.2231435513142097,-0.10536051565782628,0.0,0.09531017980432493,0.1823215567939546,0.26236426446749106,0.3364722366212129,0.4054651081081644],\"y\":[-0.09514459745758823,-0.06930073901752229,-0.044749327150709124,-0.025032736982493444,-0.010195016152405662,0.0,0.010092125883819499,0.02008341754714713,0.029975870018479973,0.03977141969767828,0.04936875082307018],\"type\":\"scatter\"},{\"line\":{\"color\":\"rgba(219, 64, 82, 0.8999999999999999)\",\"dash\":\"solid\",\"shape\":\"linear\",\"width\":1.3},\"mode\":\"lines\",\"name\":\"Carrots\",\"text\":\"\",\"x\":[-0.6931471805599453,-0.5108256237659907,-0.35667494393873245,-0.2231435513142097,-0.10536051565782628,0.0,0.09531017980432493,0.1823215567939546,0.26236426446749106,0.3364722366212129,0.4054651081081644],\"y\":[-0.4408148385439773,-0.3349606395462737,-0.24012008159380474,-0.15351378818877448,-0.07381397176206006,0.0,0.06872797756944506,0.13300160972434094,0.19335473905469397,0.2502634696583689,0.3040886818215834],\"type\":\"scatter\"},{\"line\":{\"color\":\"rgba(0, 128, 128, 0.8999999999999999)\",\"dash\":\"solid\",\"shape\":\"linear\",\"width\":1.3},\"mode\":\"lines\",\"name\":\"Frozen Mixed Vegetables\",\"text\":\"\",\"x\":[-0.6931471805599453,-0.5108256237659907,-0.35667494393873245,-0.2231435513142097,-0.10536051565782628,0.0,0.09531017980432493,0.1823215567939546,0.26236426446749106,0.3364722366212129,0.4054651081081644],\"y\":[0.0,0.0,0.0,0.0,0.0,0.0,0.0,0.0,0.0,0.0,0.0],\"type\":\"scatter\"},{\"line\":{\"color\":\"rgba(255, 255, 51, 0.8999999999999999)\",\"dash\":\"solid\",\"shape\":\"linear\",\"width\":1.3},\"mode\":\"lines\",\"name\":\"Apples \",\"text\":\"\",\"x\":[-0.6931471805599453,-0.5108256237659907,-0.35667494393873245,-0.2231435513142097,-0.10536051565782628,0.0,0.09531017980432493,0.1823215567939546,0.26236426446749106,0.3364722366212129,0.4054651081081644],\"y\":[-0.00013257903024030992,-8.412003003417151e-05,-3.566337798905603e-05,0.0,0.0,0.0,0.0,0.0,0.0,0.0,0.0],\"type\":\"scatter\"},{\"line\":{\"color\":\"rgba(128, 128, 0, 0.8999999999999999)\",\"dash\":\"solid\",\"shape\":\"linear\",\"width\":1.3},\"mode\":\"lines\",\"name\":\"Bananas\",\"text\":\"\",\"x\":[-0.6931471805599453,-0.5108256237659907,-0.35667494393873245,-0.2231435513142097,-0.10536051565782628,0.0,0.09531017980432493,0.1823215567939546,0.26236426446749106,0.3364722366212129,0.4054651081081644],\"y\":[-9.603497588988386e-05,0.0,0.0,0.0,0.0,0.0,0.0,0.0,0.0,0.0,0.0],\"type\":\"scatter\"},{\"line\":{\"color\":\"rgba(251, 128, 114, 0.8999999999999999)\",\"dash\":\"solid\",\"shape\":\"linear\",\"width\":1.3},\"mode\":\"lines\",\"name\":\"Grapes\",\"text\":\"\",\"x\":[-0.6931471805599453,-0.5108256237659907,-0.35667494393873245,-0.2231435513142097,-0.10536051565782628,0.0,0.09531017980432493,0.1823215567939546,0.26236426446749106,0.3364722366212129,0.4054651081081644],\"y\":[0.0,0.0,0.0,0.0,0.0,0.0,0.0,0.0,0.0,0.0,0.0],\"type\":\"scatter\"},{\"line\":{\"color\":\"rgba(251, 128, 114, 0.7999999999999998)\",\"dash\":\"solid\",\"shape\":\"linear\",\"width\":1.3},\"mode\":\"lines\",\"name\":\"Tomatoes\",\"text\":\"\",\"x\":[-0.6931471805599453,-0.5108256237659907,-0.35667494393873245,-0.2231435513142097,-0.10536051565782628,0.0,0.09531017980432493,0.1823215567939546,0.26236426446749106,0.3364722366212129,0.4054651081081644],\"y\":[0.0,0.0,0.0,0.0,0.0,0.0,0.0,0.0,0.0,0.0,0.0],\"type\":\"scatter\"},{\"line\":{\"color\":\"rgba(128, 177, 211, 0.7999999999999998)\",\"dash\":\"solid\",\"shape\":\"linear\",\"width\":1.3},\"mode\":\"lines\",\"name\":\"Onions\",\"text\":\"\",\"x\":[-0.6931471805599453,-0.5108256237659907,-0.35667494393873245,-0.2231435513142097,-0.10536051565782628,0.0,0.09531017980432493,0.1823215567939546,0.26236426446749106,0.3364722366212129,0.4054651081081644],\"y\":[0.0,0.0,0.0,0.0,0.0,0.0,0.0,0.0,0.0,0.0,0.0],\"type\":\"scatter\"},{\"line\":{\"color\":\"rgba(255, 153, 51, 0.7999999999999998)\",\"dash\":\"solid\",\"shape\":\"linear\",\"width\":1.3},\"mode\":\"lines\",\"name\":\"Potatoes\",\"text\":\"\",\"x\":[-0.6931471805599453,-0.5108256237659907,-0.35667494393873245,-0.2231435513142097,-0.10536051565782628,0.0,0.09531017980432493,0.1823215567939546,0.26236426446749106,0.3364722366212129,0.4054651081081644],\"y\":[0.0,0.0,0.0,0.0,0.0,0.0,0.0,0.0,0.0,0.0,0.0],\"type\":\"scatter\"},{\"line\":{\"color\":\"rgba(55, 128, 191, 0.7999999999999998)\",\"dash\":\"solid\",\"shape\":\"linear\",\"width\":1.3},\"mode\":\"lines\",\"name\":\"Peanut Butter \",\"text\":\"\",\"x\":[-0.6931471805599453,-0.5108256237659907,-0.35667494393873245,-0.2231435513142097,-0.10536051565782628,0.0,0.09531017980432493,0.1823215567939546,0.26236426446749106,0.3364722366212129,0.4054651081081644],\"y\":[0.0,0.0,0.0,0.0,0.0,0.0,0.0,0.0,0.0,0.0,0.0],\"type\":\"scatter\"},{\"line\":{\"color\":\"rgba(50, 171, 96, 0.7999999999999998)\",\"dash\":\"solid\",\"shape\":\"linear\",\"width\":1.3},\"mode\":\"lines\",\"name\":\"Canned Luncheon Meat\",\"text\":\"\",\"x\":[-0.6931471805599453,-0.5108256237659907,-0.35667494393873245,-0.2231435513142097,-0.10536051565782628,0.0,0.09531017980432493,0.1823215567939546,0.26236426446749106,0.3364722366212129,0.4054651081081644],\"y\":[0.0,0.0,0.0,0.0,0.0,0.0,0.0,0.0,0.0,0.0,0.0],\"type\":\"scatter\"},{\"line\":{\"color\":\"rgba(128, 0, 128, 0.7999999999999998)\",\"dash\":\"solid\",\"shape\":\"linear\",\"width\":1.3},\"mode\":\"lines\",\"name\":\"Canned Pink Salmon\",\"text\":\"\",\"x\":[-0.6931471805599453,-0.5108256237659907,-0.35667494393873245,-0.2231435513142097,-0.10536051565782628,0.0,0.09531017980432493,0.1823215567939546,0.26236426446749106,0.3364722366212129,0.4054651081081644],\"y\":[-0.00931547988391313,-0.007445428717852547,-0.005578868116636351,-0.003715785073832208,-0.0018561666555697398,0.0,0.0018527276832366103,0.0037020291135403806,0.005547916939875671,0.0073904037412901346,0.009229502027429046],\"type\":\"scatter\"},{\"line\":{\"color\":\"rgba(219, 64, 82, 0.7999999999999998)\",\"dash\":\"solid\",\"shape\":\"linear\",\"width\":1.3},\"mode\":\"lines\",\"name\":\"Ground Beef\",\"text\":\"\",\"x\":[-0.6931471805599453,-0.5108256237659907,-0.35667494393873245,-0.2231435513142097,-0.10536051565782628,0.0,0.09531017980432493,0.1823215567939546,0.26236426446749106,0.3364722366212129,0.4054651081081644],\"y\":[0.0,0.0,0.0,0.0,0.0,0.0,0.0,0.0,0.0,0.0,0.0],\"type\":\"scatter\"},{\"line\":{\"color\":\"rgba(0, 128, 128, 0.7999999999999998)\",\"dash\":\"solid\",\"shape\":\"linear\",\"width\":1.3},\"mode\":\"lines\",\"name\":\"Pork Chops\",\"text\":\"\",\"x\":[-0.6931471805599453,-0.5108256237659907,-0.35667494393873245,-0.2231435513142097,-0.10536051565782628,0.0,0.09531017980432493,0.1823215567939546,0.26236426446749106,0.3364722366212129,0.4054651081081644],\"y\":[0.0,0.0,0.0,0.0,0.0,0.0,0.0,0.0,0.0,0.0,0.0],\"type\":\"scatter\"},{\"line\":{\"color\":\"rgba(255, 255, 51, 0.7999999999999998)\",\"dash\":\"solid\",\"shape\":\"linear\",\"width\":1.3},\"mode\":\"lines\",\"name\":\"Chicken Legs or Drumsticks\",\"text\":\"\",\"x\":[-0.6931471805599453,-0.5108256237659907,-0.35667494393873245,-0.2231435513142097,-0.10536051565782628,0.0,0.09531017980432493,0.1823215567939546,0.26236426446749106,0.3364722366212129,0.4054651081081644],\"y\":[0.0,0.0,0.0,0.0,0.0,0.0,0.0,0.0,0.0,0.0,0.0],\"type\":\"scatter\"},{\"line\":{\"color\":\"rgba(128, 128, 0, 0.7999999999999998)\",\"dash\":\"solid\",\"shape\":\"linear\",\"width\":1.3},\"mode\":\"lines\",\"name\":\"Bacon\",\"text\":\"\",\"x\":[-0.6931471805599453,-0.5108256237659907,-0.35667494393873245,-0.2231435513142097,-0.10536051565782628,0.0,0.09531017980432493,0.1823215567939546,0.26236426446749106,0.3364722366212129,0.4054651081081644],\"y\":[0.0,0.0,0.0,0.0,0.0,0.0,0.0,0.0,0.0,0.0,0.0],\"type\":\"scatter\"},{\"line\":{\"color\":\"rgba(128, 128, 0, 0.7)\",\"dash\":\"solid\",\"shape\":\"linear\",\"width\":1.3},\"mode\":\"lines\",\"name\":\"Wieners\",\"text\":\"\",\"x\":[-0.6931471805599453,-0.5108256237659907,-0.35667494393873245,-0.2231435513142097,-0.10536051565782628,0.0,0.09531017980432493,0.1823215567939546,0.26236426446749106,0.3364722366212129,0.4054651081081644],\"y\":[0.0,0.0,0.0,0.0,0.0,0.0,0.0,0.0,0.0,0.0,0.0],\"type\":\"scatter\"},{\"line\":{\"color\":\"rgba(251, 128, 114, 0.7)\",\"dash\":\"solid\",\"shape\":\"linear\",\"width\":1.3},\"mode\":\"lines\",\"name\":\"Bologna\",\"text\":\"\",\"x\":[-0.6931471805599453,-0.5108256237659907,-0.35667494393873245,-0.2231435513142097,-0.10536051565782628,0.0,0.09531017980432493,0.1823215567939546,0.26236426446749106,0.3364722366212129,0.4054651081081644],\"y\":[0.0,0.0,0.0,0.0,0.0,0.0,0.0,0.0,0.0,0.0,0.0],\"type\":\"scatter\"},{\"line\":{\"color\":\"rgba(128, 177, 211, 0.7)\",\"dash\":\"solid\",\"shape\":\"linear\",\"width\":1.3},\"mode\":\"lines\",\"name\":\"Frozen Pre-Cooked Dinners\",\"text\":\"\",\"x\":[-0.6931471805599453,-0.5108256237659907,-0.35667494393873245,-0.2231435513142097,-0.10536051565782628,0.0,0.09531017980432493,0.1823215567939546,0.26236426446749106,0.3364722366212129,0.4054651081081644],\"y\":[0.0,0.0,0.0,0.0,0.0,0.0,0.0,0.0,0.0,0.0,0.0],\"type\":\"scatter\"},{\"line\":{\"color\":\"rgba(255, 153, 51, 0.7)\",\"dash\":\"solid\",\"shape\":\"linear\",\"width\":1.3},\"mode\":\"lines\",\"name\":\"Frozen Pizza\",\"text\":\"\",\"x\":[-0.6931471805599453,-0.5108256237659907,-0.35667494393873245,-0.2231435513142097,-0.10536051565782628,0.0,0.09531017980432493,0.1823215567939546,0.26236426446749106,0.3364722366212129,0.4054651081081644],\"y\":[0.0,0.0,0.0,0.0,0.0,0.0,0.0,0.0,0.0,0.0,0.0],\"type\":\"scatter\"},{\"line\":{\"color\":\"rgba(55, 128, 191, 0.7)\",\"dash\":\"solid\",\"shape\":\"linear\",\"width\":1.3},\"mode\":\"lines\",\"name\":\"Frozen French Fries\",\"text\":\"\",\"x\":[-0.6931471805599453,-0.5108256237659907,-0.35667494393873245,-0.2231435513142097,-0.10536051565782628,0.0,0.09531017980432493,0.1823215567939546,0.26236426446749106,0.3364722366212129,0.4054651081081644],\"y\":[-0.009904255979798923,-0.007883042390216982,-0.005875484123189386,-0.003901127214294442,-0.0019486612591608225,0.0,0.001944871362485642,0.003885967541413611,0.005823303164387601,0.007756892774161201,0.00883208215783896],\"type\":\"scatter\"},{\"line\":{\"color\":\"rgba(50, 171, 96, 0.7)\",\"dash\":\"solid\",\"shape\":\"linear\",\"width\":1.3},\"mode\":\"lines\",\"name\":\"Pilot Biscuits \",\"text\":\"\",\"x\":[-0.6931471805599453,-0.5108256237659907,-0.35667494393873245,-0.2231435513142097,-0.10536051565782628,0.0,0.09531017980432493,0.1823215567939546,0.26236426446749106,0.3364722366212129,0.4054651081081644],\"y\":[0.0,0.0,0.0,0.0,0.0,0.0,0.0,0.0,0.0,0.0,0.0],\"type\":\"scatter\"},{\"line\":{\"color\":\"rgba(128, 0, 128, 0.7)\",\"dash\":\"solid\",\"shape\":\"linear\",\"width\":1.3},\"mode\":\"lines\",\"name\":\"Chocolate Bars \",\"text\":\"\",\"x\":[-0.6931471805599453,-0.5108256237659907,-0.35667494393873245,-0.2231435513142097,-0.10536051565782628,0.0,0.09531017980432493,0.1823215567939546,0.26236426446749106,0.3364722366212129,0.4054651081081644],\"y\":[0.0,0.0,0.0,0.0,0.0,0.0,0.0,0.0,0.0,0.0,0.0],\"type\":\"scatter\"},{\"line\":{\"color\":\"rgba(219, 64, 82, 0.7)\",\"dash\":\"solid\",\"shape\":\"linear\",\"width\":1.3},\"mode\":\"lines\",\"name\":\"Potato Chips \",\"text\":\"\",\"x\":[-0.6931471805599453,-0.5108256237659907,-0.35667494393873245,-0.2231435513142097,-0.10536051565782628,0.0,0.09531017980432493,0.1823215567939546,0.26236426446749106,0.3364722366212129,0.4054651081081644],\"y\":[0.0,0.0,0.0,0.0,0.0,0.0,0.0,0.0,0.0,0.0,0.0],\"type\":\"scatter\"},{\"line\":{\"color\":\"rgba(0, 128, 128, 0.7)\",\"dash\":\"solid\",\"shape\":\"linear\",\"width\":1.3},\"mode\":\"lines\",\"name\":\"Milk 2%\",\"text\":\"\",\"x\":[-0.6931471805599453,-0.5108256237659907,-0.35667494393873245,-0.2231435513142097,-0.10536051565782628,0.0,0.09531017980432493,0.1823215567939546,0.26236426446749106,0.3364722366212129,0.4054651081081644],\"y\":[-0.0001986264035953334,-0.00015889796655509575,-0.00011917110780086513,-7.944582720713479e-05,-3.9722124648635025e-05,0.0,3.775045556346681e-05,3.775045556346681e-05,3.775045556346681e-05,3.775045556346681e-05,3.775045556346681e-05],\"type\":\"scatter\"},{\"line\":{\"color\":\"rgba(255, 255, 51, 0.7)\",\"dash\":\"solid\",\"shape\":\"linear\",\"width\":1.3},\"mode\":\"lines\",\"name\":\"UHT Milk \",\"text\":\"\",\"x\":[-0.6931471805599453,-0.5108256237659907,-0.35667494393873245,-0.2231435513142097,-0.10536051565782628,0.0,0.09531017980432493,0.1823215567939546,0.26236426446749106,0.3364722366212129,0.4054651081081644],\"y\":[0.0,0.0,0.0,0.0,0.0,0.0,0.0,0.0,0.0,0.0,0.0],\"type\":\"scatter\"},{\"line\":{\"color\":\"rgba(255, 255, 51, 0.5999999999999999)\",\"dash\":\"solid\",\"shape\":\"linear\",\"width\":1.3},\"mode\":\"lines\",\"name\":\"Apple Juice\",\"text\":\"\",\"x\":[-0.6931471805599453,-0.5108256237659907,-0.35667494393873245,-0.2231435513142097,-0.10536051565782628,0.0,0.09531017980432493,0.1823215567939546,0.26236426446749106,0.3364722366212129,0.4054651081081644],\"y\":[0.0,0.0,0.0,0.0,0.0,0.0,0.0,0.0,0.0,0.0,0.0],\"type\":\"scatter\"},{\"line\":{\"color\":\"rgba(128, 128, 0, 0.5999999999999999)\",\"dash\":\"solid\",\"shape\":\"linear\",\"width\":1.3},\"mode\":\"lines\",\"name\":\"Orange Juice\",\"text\":\"\",\"x\":[-0.6931471805599453,-0.5108256237659907,-0.35667494393873245,-0.2231435513142097,-0.10536051565782628,0.0,0.09531017980432493,0.1823215567939546,0.26236426446749106,0.3364722366212129,0.4054651081081644],\"y\":[-0.0003111111118415266,-0.0002185808551096113,-0.00012749238692476276,-3.6412215093365106e-05,0.0,0.0,0.0,0.0,0.0,0.0,0.0],\"type\":\"scatter\"},{\"line\":{\"color\":\"rgba(251, 128, 114, 0.5999999999999999)\",\"dash\":\"solid\",\"shape\":\"linear\",\"width\":1.3},\"mode\":\"lines\",\"name\":\"Tomato Juice\",\"text\":\"\",\"x\":[-0.6931471805599453,-0.5108256237659907,-0.35667494393873245,-0.2231435513142097,-0.10536051565782628,0.0,0.09531017980432493,0.1823215567939546,0.26236426446749106,0.3364722366212129,0.4054651081081644],\"y\":[0.0,0.0,0.0,0.0,0.0,0.0,0.0,0.0,0.0,0.0,0.0],\"type\":\"scatter\"},{\"line\":{\"color\":\"rgba(128, 177, 211, 0.5999999999999999)\",\"dash\":\"solid\",\"shape\":\"linear\",\"width\":1.3},\"mode\":\"lines\",\"name\":\"Vegetable Juice\",\"text\":\"\",\"x\":[-0.6931471805599453,-0.5108256237659907,-0.35667494393873245,-0.2231435513142097,-0.10536051565782628,0.0,0.09531017980432493,0.1823215567939546,0.26236426446749106,0.3364722366212129,0.4054651081081644],\"y\":[0.0,0.0,0.0,0.0,0.0,0.0,0.0,0.0,0.0,0.0,0.0],\"type\":\"scatter\"},{\"line\":{\"color\":\"rgba(255, 153, 51, 0.5999999999999999)\",\"dash\":\"solid\",\"shape\":\"linear\",\"width\":1.3},\"mode\":\"lines\",\"name\":\"Soft Drinks\",\"text\":\"\",\"x\":[-0.6931471805599453,-0.5108256237659907,-0.35667494393873245,-0.2231435513142097,-0.10536051565782628,0.0,0.09531017980432493,0.1823215567939546,0.26236426446749106,0.3364722366212129,0.4054651081081644],\"y\":[0.0,0.0,0.0,0.0,0.0,0.0,0.0,0.0,0.0,0.0,0.0],\"type\":\"scatter\"}],                        {\"legend\":{\"bgcolor\":\"#F5F6F9\",\"font\":{\"color\":\"#4D5663\"}},\"paper_bgcolor\":\"#F5F6F9\",\"plot_bgcolor\":\"#F5F6F9\",\"template\":{\"data\":{\"barpolar\":[{\"marker\":{\"line\":{\"color\":\"#E5ECF6\",\"width\":0.5},\"pattern\":{\"fillmode\":\"overlay\",\"size\":10,\"solidity\":0.2}},\"type\":\"barpolar\"}],\"bar\":[{\"error_x\":{\"color\":\"#2a3f5f\"},\"error_y\":{\"color\":\"#2a3f5f\"},\"marker\":{\"line\":{\"color\":\"#E5ECF6\",\"width\":0.5},\"pattern\":{\"fillmode\":\"overlay\",\"size\":10,\"solidity\":0.2}},\"type\":\"bar\"}],\"carpet\":[{\"aaxis\":{\"endlinecolor\":\"#2a3f5f\",\"gridcolor\":\"white\",\"linecolor\":\"white\",\"minorgridcolor\":\"white\",\"startlinecolor\":\"#2a3f5f\"},\"baxis\":{\"endlinecolor\":\"#2a3f5f\",\"gridcolor\":\"white\",\"linecolor\":\"white\",\"minorgridcolor\":\"white\",\"startlinecolor\":\"#2a3f5f\"},\"type\":\"carpet\"}],\"choropleth\":[{\"colorbar\":{\"outlinewidth\":0,\"ticks\":\"\"},\"type\":\"choropleth\"}],\"contourcarpet\":[{\"colorbar\":{\"outlinewidth\":0,\"ticks\":\"\"},\"type\":\"contourcarpet\"}],\"contour\":[{\"colorbar\":{\"outlinewidth\":0,\"ticks\":\"\"},\"colorscale\":[[0.0,\"#0d0887\"],[0.1111111111111111,\"#46039f\"],[0.2222222222222222,\"#7201a8\"],[0.3333333333333333,\"#9c179e\"],[0.4444444444444444,\"#bd3786\"],[0.5555555555555556,\"#d8576b\"],[0.6666666666666666,\"#ed7953\"],[0.7777777777777778,\"#fb9f3a\"],[0.8888888888888888,\"#fdca26\"],[1.0,\"#f0f921\"]],\"type\":\"contour\"}],\"heatmapgl\":[{\"colorbar\":{\"outlinewidth\":0,\"ticks\":\"\"},\"colorscale\":[[0.0,\"#0d0887\"],[0.1111111111111111,\"#46039f\"],[0.2222222222222222,\"#7201a8\"],[0.3333333333333333,\"#9c179e\"],[0.4444444444444444,\"#bd3786\"],[0.5555555555555556,\"#d8576b\"],[0.6666666666666666,\"#ed7953\"],[0.7777777777777778,\"#fb9f3a\"],[0.8888888888888888,\"#fdca26\"],[1.0,\"#f0f921\"]],\"type\":\"heatmapgl\"}],\"heatmap\":[{\"colorbar\":{\"outlinewidth\":0,\"ticks\":\"\"},\"colorscale\":[[0.0,\"#0d0887\"],[0.1111111111111111,\"#46039f\"],[0.2222222222222222,\"#7201a8\"],[0.3333333333333333,\"#9c179e\"],[0.4444444444444444,\"#bd3786\"],[0.5555555555555556,\"#d8576b\"],[0.6666666666666666,\"#ed7953\"],[0.7777777777777778,\"#fb9f3a\"],[0.8888888888888888,\"#fdca26\"],[1.0,\"#f0f921\"]],\"type\":\"heatmap\"}],\"histogram2dcontour\":[{\"colorbar\":{\"outlinewidth\":0,\"ticks\":\"\"},\"colorscale\":[[0.0,\"#0d0887\"],[0.1111111111111111,\"#46039f\"],[0.2222222222222222,\"#7201a8\"],[0.3333333333333333,\"#9c179e\"],[0.4444444444444444,\"#bd3786\"],[0.5555555555555556,\"#d8576b\"],[0.6666666666666666,\"#ed7953\"],[0.7777777777777778,\"#fb9f3a\"],[0.8888888888888888,\"#fdca26\"],[1.0,\"#f0f921\"]],\"type\":\"histogram2dcontour\"}],\"histogram2d\":[{\"colorbar\":{\"outlinewidth\":0,\"ticks\":\"\"},\"colorscale\":[[0.0,\"#0d0887\"],[0.1111111111111111,\"#46039f\"],[0.2222222222222222,\"#7201a8\"],[0.3333333333333333,\"#9c179e\"],[0.4444444444444444,\"#bd3786\"],[0.5555555555555556,\"#d8576b\"],[0.6666666666666666,\"#ed7953\"],[0.7777777777777778,\"#fb9f3a\"],[0.8888888888888888,\"#fdca26\"],[1.0,\"#f0f921\"]],\"type\":\"histogram2d\"}],\"histogram\":[{\"marker\":{\"pattern\":{\"fillmode\":\"overlay\",\"size\":10,\"solidity\":0.2}},\"type\":\"histogram\"}],\"mesh3d\":[{\"colorbar\":{\"outlinewidth\":0,\"ticks\":\"\"},\"type\":\"mesh3d\"}],\"parcoords\":[{\"line\":{\"colorbar\":{\"outlinewidth\":0,\"ticks\":\"\"}},\"type\":\"parcoords\"}],\"pie\":[{\"automargin\":true,\"type\":\"pie\"}],\"scatter3d\":[{\"line\":{\"colorbar\":{\"outlinewidth\":0,\"ticks\":\"\"}},\"marker\":{\"colorbar\":{\"outlinewidth\":0,\"ticks\":\"\"}},\"type\":\"scatter3d\"}],\"scattercarpet\":[{\"marker\":{\"colorbar\":{\"outlinewidth\":0,\"ticks\":\"\"}},\"type\":\"scattercarpet\"}],\"scattergeo\":[{\"marker\":{\"colorbar\":{\"outlinewidth\":0,\"ticks\":\"\"}},\"type\":\"scattergeo\"}],\"scattergl\":[{\"marker\":{\"colorbar\":{\"outlinewidth\":0,\"ticks\":\"\"}},\"type\":\"scattergl\"}],\"scattermapbox\":[{\"marker\":{\"colorbar\":{\"outlinewidth\":0,\"ticks\":\"\"}},\"type\":\"scattermapbox\"}],\"scatterpolargl\":[{\"marker\":{\"colorbar\":{\"outlinewidth\":0,\"ticks\":\"\"}},\"type\":\"scatterpolargl\"}],\"scatterpolar\":[{\"marker\":{\"colorbar\":{\"outlinewidth\":0,\"ticks\":\"\"}},\"type\":\"scatterpolar\"}],\"scatter\":[{\"fillpattern\":{\"fillmode\":\"overlay\",\"size\":10,\"solidity\":0.2},\"type\":\"scatter\"}],\"scatterternary\":[{\"marker\":{\"colorbar\":{\"outlinewidth\":0,\"ticks\":\"\"}},\"type\":\"scatterternary\"}],\"surface\":[{\"colorbar\":{\"outlinewidth\":0,\"ticks\":\"\"},\"colorscale\":[[0.0,\"#0d0887\"],[0.1111111111111111,\"#46039f\"],[0.2222222222222222,\"#7201a8\"],[0.3333333333333333,\"#9c179e\"],[0.4444444444444444,\"#bd3786\"],[0.5555555555555556,\"#d8576b\"],[0.6666666666666666,\"#ed7953\"],[0.7777777777777778,\"#fb9f3a\"],[0.8888888888888888,\"#fdca26\"],[1.0,\"#f0f921\"]],\"type\":\"surface\"}],\"table\":[{\"cells\":{\"fill\":{\"color\":\"#EBF0F8\"},\"line\":{\"color\":\"white\"}},\"header\":{\"fill\":{\"color\":\"#C8D4E3\"},\"line\":{\"color\":\"white\"}},\"type\":\"table\"}]},\"layout\":{\"annotationdefaults\":{\"arrowcolor\":\"#2a3f5f\",\"arrowhead\":0,\"arrowwidth\":1},\"autotypenumbers\":\"strict\",\"coloraxis\":{\"colorbar\":{\"outlinewidth\":0,\"ticks\":\"\"}},\"colorscale\":{\"diverging\":[[0,\"#8e0152\"],[0.1,\"#c51b7d\"],[0.2,\"#de77ae\"],[0.3,\"#f1b6da\"],[0.4,\"#fde0ef\"],[0.5,\"#f7f7f7\"],[0.6,\"#e6f5d0\"],[0.7,\"#b8e186\"],[0.8,\"#7fbc41\"],[0.9,\"#4d9221\"],[1,\"#276419\"]],\"sequential\":[[0.0,\"#0d0887\"],[0.1111111111111111,\"#46039f\"],[0.2222222222222222,\"#7201a8\"],[0.3333333333333333,\"#9c179e\"],[0.4444444444444444,\"#bd3786\"],[0.5555555555555556,\"#d8576b\"],[0.6666666666666666,\"#ed7953\"],[0.7777777777777778,\"#fb9f3a\"],[0.8888888888888888,\"#fdca26\"],[1.0,\"#f0f921\"]],\"sequentialminus\":[[0.0,\"#0d0887\"],[0.1111111111111111,\"#46039f\"],[0.2222222222222222,\"#7201a8\"],[0.3333333333333333,\"#9c179e\"],[0.4444444444444444,\"#bd3786\"],[0.5555555555555556,\"#d8576b\"],[0.6666666666666666,\"#ed7953\"],[0.7777777777777778,\"#fb9f3a\"],[0.8888888888888888,\"#fdca26\"],[1.0,\"#f0f921\"]]},\"colorway\":[\"#636efa\",\"#EF553B\",\"#00cc96\",\"#ab63fa\",\"#FFA15A\",\"#19d3f3\",\"#FF6692\",\"#B6E880\",\"#FF97FF\",\"#FECB52\"],\"font\":{\"color\":\"#2a3f5f\"},\"geo\":{\"bgcolor\":\"white\",\"lakecolor\":\"white\",\"landcolor\":\"#E5ECF6\",\"showlakes\":true,\"showland\":true,\"subunitcolor\":\"white\"},\"hoverlabel\":{\"align\":\"left\"},\"hovermode\":\"closest\",\"mapbox\":{\"style\":\"light\"},\"paper_bgcolor\":\"white\",\"plot_bgcolor\":\"#E5ECF6\",\"polar\":{\"angularaxis\":{\"gridcolor\":\"white\",\"linecolor\":\"white\",\"ticks\":\"\"},\"bgcolor\":\"#E5ECF6\",\"radialaxis\":{\"gridcolor\":\"white\",\"linecolor\":\"white\",\"ticks\":\"\"}},\"scene\":{\"xaxis\":{\"backgroundcolor\":\"#E5ECF6\",\"gridcolor\":\"white\",\"gridwidth\":2,\"linecolor\":\"white\",\"showbackground\":true,\"ticks\":\"\",\"zerolinecolor\":\"white\"},\"yaxis\":{\"backgroundcolor\":\"#E5ECF6\",\"gridcolor\":\"white\",\"gridwidth\":2,\"linecolor\":\"white\",\"showbackground\":true,\"ticks\":\"\",\"zerolinecolor\":\"white\"},\"zaxis\":{\"backgroundcolor\":\"#E5ECF6\",\"gridcolor\":\"white\",\"gridwidth\":2,\"linecolor\":\"white\",\"showbackground\":true,\"ticks\":\"\",\"zerolinecolor\":\"white\"}},\"shapedefaults\":{\"line\":{\"color\":\"#2a3f5f\"}},\"ternary\":{\"aaxis\":{\"gridcolor\":\"white\",\"linecolor\":\"white\",\"ticks\":\"\"},\"baxis\":{\"gridcolor\":\"white\",\"linecolor\":\"white\",\"ticks\":\"\"},\"bgcolor\":\"#E5ECF6\",\"caxis\":{\"gridcolor\":\"white\",\"linecolor\":\"white\",\"ticks\":\"\"}},\"title\":{\"x\":0.05},\"xaxis\":{\"automargin\":true,\"gridcolor\":\"white\",\"linecolor\":\"white\",\"ticks\":\"\",\"title\":{\"standoff\":15},\"zerolinecolor\":\"white\",\"zerolinewidth\":2},\"yaxis\":{\"automargin\":true,\"gridcolor\":\"white\",\"linecolor\":\"white\",\"ticks\":\"\",\"title\":{\"standoff\":15},\"zerolinecolor\":\"white\",\"zerolinewidth\":2}}},\"title\":{\"font\":{\"color\":\"#4D5663\"}},\"xaxis\":{\"gridcolor\":\"#E1E5ED\",\"showgrid\":true,\"tickfont\":{\"color\":\"#4D5663\"},\"title\":{\"font\":{\"color\":\"#4D5663\"},\"text\":\"change in log price\"},\"zerolinecolor\":\"#E1E5ED\"},\"yaxis\":{\"gridcolor\":\"#E1E5ED\",\"showgrid\":true,\"tickfont\":{\"color\":\"#4D5663\"},\"title\":{\"font\":{\"color\":\"#4D5663\"},\"text\":\"change in log cost\"},\"zerolinecolor\":\"#E1E5ED\"}},                        {\"showLink\": true, \"linkText\": \"Export to plot.ly\", \"plotlyServerURL\": \"https://plot.ly\", \"responsive\": true}                    ).then(function(){\n",
       "                            \n",
       "var gd = document.getElementById('0da90b3f-fee0-4b1f-bee7-a9cf32f8fc44');\n",
       "var x = new MutationObserver(function (mutations, observer) {{\n",
       "        var display = window.getComputedStyle(gd).display;\n",
       "        if (!display || display === 'none') {{\n",
       "            console.log([gd, 'removed!']);\n",
       "            Plotly.purge(gd);\n",
       "            observer.disconnect();\n",
       "        }}\n",
       "}});\n",
       "\n",
       "// Listen for the removal of the full notebook cells\n",
       "var notebookContainer = gd.closest('#notebook-container');\n",
       "if (notebookContainer) {{\n",
       "    x.observe(notebookContainer, {childList: true});\n",
       "}}\n",
       "\n",
       "// Listen for the clearing of the current output cell\n",
       "var outputEl = gd.closest('.output');\n",
       "if (outputEl) {{\n",
       "    x.observe(outputEl, {childList: true});\n",
       "}}\n",
       "\n",
       "                        })                };                });            </script>        </div>"
      ]
     },
     "metadata": {},
     "output_type": "display_data"
    }
   ],
   "source": [
    "import cufflinks as cf\n",
    "cf.go_offline()\n",
    "\n",
    "scale = [.5,.6,.7,.8,.9,1.,1.1,1.2,1.3,1.4,1.5]\n",
    "\n",
    "cost0 = solve_subsistence_problem(FoodNutrients,Prices,diet_min[group],diet_max[group],tol=tol).fun\n",
    "\n",
    "Price_response={}\n",
    "for s in scale:\n",
    "    cost = {}\n",
    "    for i,p in enumerate(Prices):\n",
    "        my_p = Prices.copy()\n",
    "        my_p.iloc[i] = p*s\n",
    "        result = solve_subsistence_problem(FoodNutrients,my_p,diet_min[group],diet_max[group],tol=tol)\n",
    "        cost[Prices.index[i]] = np.log(result.fun/cost0)\n",
    "    Price_response[np.log(s)] = cost\n",
    "\n",
    "Price_response = pd.DataFrame(Price_response).T\n",
    "Price_response.iplot(xTitle='change in log price',yTitle='change in log cost')"
   ]
  },
  {
   "cell_type": "markdown",
   "metadata": {},
   "source": [
    "Reduce cost of spinach by 1/2, total cost of diet is reduced by 43% "
   ]
  },
  {
   "cell_type": "markdown",
   "metadata": {},
   "source": [
    "## Effects of Price Changes on Subsistence Diet Composition\n",
    "\n"
   ]
  },
  {
   "cell_type": "markdown",
   "metadata": {},
   "source": [
    "The code below creates a graph which changes prices just for *one* food,\n",
    "  and traces out the effects of this change on all the foods consumed.\n",
    "\n"
   ]
  },
  {
   "cell_type": "code",
   "execution_count": 16,
   "metadata": {},
   "outputs": [
    {
     "data": {
      "text/html": [
       "        <script type=\"text/javascript\">\n",
       "        window.PlotlyConfig = {MathJaxConfig: 'local'};\n",
       "        if (window.MathJax && window.MathJax.Hub && window.MathJax.Hub.Config) {window.MathJax.Hub.Config({SVG: {font: \"STIX-Web\"}});}\n",
       "        if (typeof require !== 'undefined') {\n",
       "        require.undef(\"plotly\");\n",
       "        requirejs.config({\n",
       "            paths: {\n",
       "                'plotly': ['https://cdn.plot.ly/plotly-2.12.1.min']\n",
       "            }\n",
       "        });\n",
       "        require(['plotly'], function(Plotly) {\n",
       "            window._Plotly = Plotly;\n",
       "        });\n",
       "        }\n",
       "        </script>\n",
       "        "
      ]
     },
     "metadata": {},
     "output_type": "display_data"
    },
    {
     "name": "stderr",
     "output_type": "stream",
     "text": [
      "/Users/vishalivallioor/anaconda3/lib/python3.10/site-packages/pandas/core/dtypes/cast.py:1784: UnitStrippedWarning:\n",
      "\n",
      "The unit of the quantity is stripped when downcasting to ndarray.\n",
      "\n"
     ]
    },
    {
     "data": {
      "application/vnd.plotly.v1+json": {
       "config": {
        "linkText": "Export to plot.ly",
        "plotlyServerURL": "https://plot.ly",
        "showLink": true
       },
       "data": [
        {
         "line": {
          "color": "rgba(255, 153, 51, 1.0)",
          "dash": "solid",
          "shape": "linear",
          "width": 1.3
         },
         "mode": "lines",
         "name": "Cheddar Cheese ",
         "text": "",
         "type": "scatter",
         "x": [
          0.34500000000000003,
          0.5175000000000001,
          0.6210000000000001,
          0.6900000000000001,
          0.7590000000000001,
          0.8280000000000001,
          0.8970000000000001,
          0.966,
          1.0350000000000001,
          1.3800000000000001,
          2.7600000000000002
         ],
         "y": [
          0.45425803022834943,
          0.4635852383250739,
          0.4635852383250739,
          0.4635852383250739,
          0.4636798002956153,
          0.4636798002956153,
          0.4659181707450042,
          0.4659181707450042,
          0.4667780409011608,
          0,
          0
         ]
        },
        {
         "line": {
          "color": "rgba(55, 128, 191, 1.0)",
          "dash": "solid",
          "shape": "linear",
          "width": 1.3
         },
         "mode": "lines",
         "name": "Skim Milk Powder ",
         "text": "",
         "type": "scatter",
         "x": [
          0.34500000000000003,
          0.5175000000000001,
          0.6210000000000001,
          0.6900000000000001,
          0.7590000000000001,
          0.8280000000000001,
          0.8970000000000001,
          0.966,
          1.0350000000000001,
          1.3800000000000001,
          2.7600000000000002
         ],
         "y": [
          0,
          0,
          0,
          0,
          0.004971654452727307,
          0.004971654452727307,
          0.0013261676895455518,
          0.0013261676895455518,
          0,
          0,
          0
         ]
        },
        {
         "line": {
          "color": "rgba(50, 171, 96, 1.0)",
          "dash": "solid",
          "shape": "linear",
          "width": 1.3
         },
         "mode": "lines",
         "name": "Corn Flakes",
         "text": "",
         "type": "scatter",
         "x": [
          0.34500000000000003,
          0.5175000000000001,
          0.6210000000000001,
          0.6900000000000001,
          0.7590000000000001,
          0.8280000000000001,
          0.8970000000000001,
          0.966,
          1.0350000000000001,
          1.3800000000000001,
          2.7600000000000002
         ],
         "y": [
          0.29549466719353246,
          0.272290252933748,
          0.272290252933748,
          0.272290252933748,
          0.2722566142189322,
          0.2722566142189322,
          0.2726210570801422,
          0.2726210570801422,
          0.2722716120360927,
          0,
          0
         ]
        },
        {
         "line": {
          "color": "rgba(128, 0, 128, 1.0)",
          "dash": "solid",
          "shape": "linear",
          "width": 1.3
         },
         "mode": "lines",
         "name": "Flour",
         "text": "",
         "type": "scatter",
         "x": [
          0.34500000000000003,
          0.5175000000000001,
          0.6210000000000001,
          0.6900000000000001,
          0.7590000000000001,
          0.8280000000000001,
          0.8970000000000001,
          0.966,
          1.0350000000000001,
          1.3800000000000001,
          2.7600000000000002
         ],
         "y": [
          0.593774098076513,
          0.8732530655162973,
          0.8732530655162973,
          0.8732530655162973,
          0.8736966345595847,
          0.8736966345595847,
          0.8723434806298653,
          0.8723434806298653,
          0.8756896040871768,
          2.7806371704038293,
          2.8343471321651803
         ]
        },
        {
         "line": {
          "color": "rgba(219, 64, 82, 1.0)",
          "dash": "solid",
          "shape": "linear",
          "width": 1.3
         },
         "mode": "lines",
         "name": "Frozen Corn",
         "text": "",
         "type": "scatter",
         "x": [
          0.34500000000000003,
          0.5175000000000001,
          0.6210000000000001,
          0.6900000000000001,
          0.7590000000000001,
          0.8280000000000001,
          0.8970000000000001,
          0.966,
          1.0350000000000001,
          1.3800000000000001,
          2.7600000000000002
         ],
         "y": [
          2.268635610012755,
          2.5013808786754104,
          2.5013808786754104,
          2.5013808786754104,
          2.5038122539961485,
          2.5038122539961485,
          2.4932053897597815,
          2.4932053897597815,
          2.489799212469513,
          6.767165502247927,
          6.546722661748803
         ]
        },
        {
         "line": {
          "color": "rgba(0, 128, 128, 1.0)",
          "dash": "solid",
          "shape": "linear",
          "width": 1.3
         },
         "mode": "lines",
         "name": "Carrots",
         "text": "",
         "type": "scatter",
         "x": [
          0.34500000000000003,
          0.5175000000000001,
          0.6210000000000001,
          0.6900000000000001,
          0.7590000000000001,
          0.8280000000000001,
          0.8970000000000001,
          0.966,
          1.0350000000000001,
          1.3800000000000001,
          2.7600000000000002
         ],
         "y": [
          20.23753296543084,
          18.886755180288095,
          18.886755180288095,
          18.886755180288095,
          18.873885051176302,
          18.873885051176302,
          18.85891307199347,
          18.85891307199347,
          18.847659004699253,
          12.294749210235624,
          11.51816134864665
         ]
        },
        {
         "line": {
          "color": "rgba(255, 255, 51, 1.0)",
          "dash": "solid",
          "shape": "linear",
          "width": 1.3
         },
         "mode": "lines",
         "name": "Apples ",
         "text": "",
         "type": "scatter",
         "x": [
          0.34500000000000003,
          0.5175000000000001,
          0.6210000000000001,
          0.6900000000000001,
          0.7590000000000001,
          0.8280000000000001,
          0.8970000000000001,
          0.966,
          1.0350000000000001,
          1.3800000000000001,
          2.7600000000000002
         ],
         "y": [
          0.24361128188384357,
          0,
          0,
          0,
          0,
          0,
          0,
          0,
          0,
          0,
          0
         ]
        },
        {
         "line": {
          "color": "rgba(128, 128, 0, 1.0)",
          "dash": "solid",
          "shape": "linear",
          "width": 1.3
         },
         "mode": "lines",
         "name": "Bananas",
         "text": "",
         "type": "scatter",
         "x": [
          0.34500000000000003,
          0.5175000000000001,
          0.6210000000000001,
          0.6900000000000001,
          0.7590000000000001,
          0.8280000000000001,
          0.8970000000000001,
          0.966,
          1.0350000000000001,
          1.3800000000000001,
          2.7600000000000002
         ],
         "y": [
          0,
          0,
          0,
          0,
          0,
          0,
          0,
          0,
          0,
          0,
          1.473153318897977
         ]
        },
        {
         "line": {
          "color": "rgba(251, 128, 114, 1.0)",
          "dash": "solid",
          "shape": "linear",
          "width": 1.3
         },
         "mode": "lines",
         "name": "Peanut Butter ",
         "text": "",
         "type": "scatter",
         "x": [
          0.34500000000000003,
          0.5175000000000001,
          0.6210000000000001,
          0.6900000000000001,
          0.7590000000000001,
          0.8280000000000001,
          0.8970000000000001,
          0.966,
          1.0350000000000001,
          1.3800000000000001,
          2.7600000000000002
         ],
         "y": [
          0.12805251539256746,
          0,
          0,
          0,
          0,
          0,
          0,
          0,
          0,
          0,
          0
         ]
        },
        {
         "line": {
          "color": "rgba(128, 177, 211, 1.0)",
          "dash": "solid",
          "shape": "linear",
          "width": 1.3
         },
         "mode": "lines",
         "name": "Canned Pink Salmon",
         "text": "",
         "type": "scatter",
         "x": [
          0.34500000000000003,
          0.5175000000000001,
          0.6210000000000001,
          0.6900000000000001,
          0.7590000000000001,
          0.8280000000000001,
          0.8970000000000001,
          0.966,
          1.0350000000000001,
          1.3800000000000001,
          2.7600000000000002
         ],
         "y": [
          0.12104920427733595,
          0.14353599116275984,
          0.14353599116275984,
          0.14353599116275984,
          0.14354906613633078,
          0.14354906613633078,
          0.14262135938737003,
          0.14262135938737003,
          0.14278668549897605,
          0.5454545454545454,
          0.5454545454545454
         ]
        },
        {
         "line": {
          "color": "rgba(128, 177, 211, 0.8999999999999999)",
          "dash": "solid",
          "shape": "linear",
          "width": 1.3
         },
         "mode": "lines",
         "name": "Frozen French Fries",
         "text": "",
         "type": "scatter",
         "x": [
          0.34500000000000003,
          0.5175000000000001,
          0.6210000000000001,
          0.6900000000000001,
          0.7590000000000001,
          0.8280000000000001,
          0.8970000000000001,
          0.966,
          1.0350000000000001,
          1.3800000000000001,
          2.7600000000000002
         ],
         "y": [
          0,
          0.4090351337566819,
          0.4090351337566819,
          0.4090351337566819,
          0.412937360723493,
          0.412937360723493,
          0.42091767249854783,
          0.42091767249854783,
          0.42559696306029765,
          1.583574308208625,
          1.8496577096528282
         ]
        },
        {
         "line": {
          "color": "rgba(255, 153, 51, 0.8999999999999999)",
          "dash": "solid",
          "shape": "linear",
          "width": 1.3
         },
         "mode": "lines",
         "name": "Milk 2%",
         "text": "",
         "type": "scatter",
         "x": [
          0.34500000000000003,
          0.5175000000000001,
          0.6210000000000001,
          0.6900000000000001,
          0.7590000000000001,
          0.8280000000000001,
          0.8970000000000001,
          0.966,
          1.0350000000000001,
          1.3800000000000001,
          2.7600000000000002
         ],
         "y": [
          0,
          0.04817754604191061,
          0.04817754604191061,
          0.04817754604191061,
          0,
          0,
          0,
          0,
          0,
          0,
          0
         ]
        },
        {
         "line": {
          "color": "rgba(55, 128, 191, 0.8999999999999999)",
          "dash": "solid",
          "shape": "linear",
          "width": 1.3
         },
         "mode": "lines",
         "name": "Orange Juice",
         "text": "",
         "type": "scatter",
         "x": [
          0.34500000000000003,
          0.5175000000000001,
          0.6210000000000001,
          0.6900000000000001,
          0.7590000000000001,
          0.8280000000000001,
          0.8970000000000001,
          0.966,
          1.0350000000000001,
          1.3800000000000001,
          2.7600000000000002
         ],
         "y": [
          0,
          0,
          0,
          0,
          0,
          0,
          0.02578774258599594,
          0.02578774258599594,
          0.03537723503049498,
          3.0087653074825926,
          3.1183272523014787
         ]
        }
       ],
       "layout": {
        "legend": {
         "bgcolor": "#F5F6F9",
         "font": {
          "color": "#4D5663"
         }
        },
        "paper_bgcolor": "#F5F6F9",
        "plot_bgcolor": "#F5F6F9",
        "template": {
         "data": {
          "bar": [
           {
            "error_x": {
             "color": "#2a3f5f"
            },
            "error_y": {
             "color": "#2a3f5f"
            },
            "marker": {
             "line": {
              "color": "#E5ECF6",
              "width": 0.5
             },
             "pattern": {
              "fillmode": "overlay",
              "size": 10,
              "solidity": 0.2
             }
            },
            "type": "bar"
           }
          ],
          "barpolar": [
           {
            "marker": {
             "line": {
              "color": "#E5ECF6",
              "width": 0.5
             },
             "pattern": {
              "fillmode": "overlay",
              "size": 10,
              "solidity": 0.2
             }
            },
            "type": "barpolar"
           }
          ],
          "carpet": [
           {
            "aaxis": {
             "endlinecolor": "#2a3f5f",
             "gridcolor": "white",
             "linecolor": "white",
             "minorgridcolor": "white",
             "startlinecolor": "#2a3f5f"
            },
            "baxis": {
             "endlinecolor": "#2a3f5f",
             "gridcolor": "white",
             "linecolor": "white",
             "minorgridcolor": "white",
             "startlinecolor": "#2a3f5f"
            },
            "type": "carpet"
           }
          ],
          "choropleth": [
           {
            "colorbar": {
             "outlinewidth": 0,
             "ticks": ""
            },
            "type": "choropleth"
           }
          ],
          "contour": [
           {
            "colorbar": {
             "outlinewidth": 0,
             "ticks": ""
            },
            "colorscale": [
             [
              0,
              "#0d0887"
             ],
             [
              0.1111111111111111,
              "#46039f"
             ],
             [
              0.2222222222222222,
              "#7201a8"
             ],
             [
              0.3333333333333333,
              "#9c179e"
             ],
             [
              0.4444444444444444,
              "#bd3786"
             ],
             [
              0.5555555555555556,
              "#d8576b"
             ],
             [
              0.6666666666666666,
              "#ed7953"
             ],
             [
              0.7777777777777778,
              "#fb9f3a"
             ],
             [
              0.8888888888888888,
              "#fdca26"
             ],
             [
              1,
              "#f0f921"
             ]
            ],
            "type": "contour"
           }
          ],
          "contourcarpet": [
           {
            "colorbar": {
             "outlinewidth": 0,
             "ticks": ""
            },
            "type": "contourcarpet"
           }
          ],
          "heatmap": [
           {
            "colorbar": {
             "outlinewidth": 0,
             "ticks": ""
            },
            "colorscale": [
             [
              0,
              "#0d0887"
             ],
             [
              0.1111111111111111,
              "#46039f"
             ],
             [
              0.2222222222222222,
              "#7201a8"
             ],
             [
              0.3333333333333333,
              "#9c179e"
             ],
             [
              0.4444444444444444,
              "#bd3786"
             ],
             [
              0.5555555555555556,
              "#d8576b"
             ],
             [
              0.6666666666666666,
              "#ed7953"
             ],
             [
              0.7777777777777778,
              "#fb9f3a"
             ],
             [
              0.8888888888888888,
              "#fdca26"
             ],
             [
              1,
              "#f0f921"
             ]
            ],
            "type": "heatmap"
           }
          ],
          "heatmapgl": [
           {
            "colorbar": {
             "outlinewidth": 0,
             "ticks": ""
            },
            "colorscale": [
             [
              0,
              "#0d0887"
             ],
             [
              0.1111111111111111,
              "#46039f"
             ],
             [
              0.2222222222222222,
              "#7201a8"
             ],
             [
              0.3333333333333333,
              "#9c179e"
             ],
             [
              0.4444444444444444,
              "#bd3786"
             ],
             [
              0.5555555555555556,
              "#d8576b"
             ],
             [
              0.6666666666666666,
              "#ed7953"
             ],
             [
              0.7777777777777778,
              "#fb9f3a"
             ],
             [
              0.8888888888888888,
              "#fdca26"
             ],
             [
              1,
              "#f0f921"
             ]
            ],
            "type": "heatmapgl"
           }
          ],
          "histogram": [
           {
            "marker": {
             "pattern": {
              "fillmode": "overlay",
              "size": 10,
              "solidity": 0.2
             }
            },
            "type": "histogram"
           }
          ],
          "histogram2d": [
           {
            "colorbar": {
             "outlinewidth": 0,
             "ticks": ""
            },
            "colorscale": [
             [
              0,
              "#0d0887"
             ],
             [
              0.1111111111111111,
              "#46039f"
             ],
             [
              0.2222222222222222,
              "#7201a8"
             ],
             [
              0.3333333333333333,
              "#9c179e"
             ],
             [
              0.4444444444444444,
              "#bd3786"
             ],
             [
              0.5555555555555556,
              "#d8576b"
             ],
             [
              0.6666666666666666,
              "#ed7953"
             ],
             [
              0.7777777777777778,
              "#fb9f3a"
             ],
             [
              0.8888888888888888,
              "#fdca26"
             ],
             [
              1,
              "#f0f921"
             ]
            ],
            "type": "histogram2d"
           }
          ],
          "histogram2dcontour": [
           {
            "colorbar": {
             "outlinewidth": 0,
             "ticks": ""
            },
            "colorscale": [
             [
              0,
              "#0d0887"
             ],
             [
              0.1111111111111111,
              "#46039f"
             ],
             [
              0.2222222222222222,
              "#7201a8"
             ],
             [
              0.3333333333333333,
              "#9c179e"
             ],
             [
              0.4444444444444444,
              "#bd3786"
             ],
             [
              0.5555555555555556,
              "#d8576b"
             ],
             [
              0.6666666666666666,
              "#ed7953"
             ],
             [
              0.7777777777777778,
              "#fb9f3a"
             ],
             [
              0.8888888888888888,
              "#fdca26"
             ],
             [
              1,
              "#f0f921"
             ]
            ],
            "type": "histogram2dcontour"
           }
          ],
          "mesh3d": [
           {
            "colorbar": {
             "outlinewidth": 0,
             "ticks": ""
            },
            "type": "mesh3d"
           }
          ],
          "parcoords": [
           {
            "line": {
             "colorbar": {
              "outlinewidth": 0,
              "ticks": ""
             }
            },
            "type": "parcoords"
           }
          ],
          "pie": [
           {
            "automargin": true,
            "type": "pie"
           }
          ],
          "scatter": [
           {
            "fillpattern": {
             "fillmode": "overlay",
             "size": 10,
             "solidity": 0.2
            },
            "type": "scatter"
           }
          ],
          "scatter3d": [
           {
            "line": {
             "colorbar": {
              "outlinewidth": 0,
              "ticks": ""
             }
            },
            "marker": {
             "colorbar": {
              "outlinewidth": 0,
              "ticks": ""
             }
            },
            "type": "scatter3d"
           }
          ],
          "scattercarpet": [
           {
            "marker": {
             "colorbar": {
              "outlinewidth": 0,
              "ticks": ""
             }
            },
            "type": "scattercarpet"
           }
          ],
          "scattergeo": [
           {
            "marker": {
             "colorbar": {
              "outlinewidth": 0,
              "ticks": ""
             }
            },
            "type": "scattergeo"
           }
          ],
          "scattergl": [
           {
            "marker": {
             "colorbar": {
              "outlinewidth": 0,
              "ticks": ""
             }
            },
            "type": "scattergl"
           }
          ],
          "scattermapbox": [
           {
            "marker": {
             "colorbar": {
              "outlinewidth": 0,
              "ticks": ""
             }
            },
            "type": "scattermapbox"
           }
          ],
          "scatterpolar": [
           {
            "marker": {
             "colorbar": {
              "outlinewidth": 0,
              "ticks": ""
             }
            },
            "type": "scatterpolar"
           }
          ],
          "scatterpolargl": [
           {
            "marker": {
             "colorbar": {
              "outlinewidth": 0,
              "ticks": ""
             }
            },
            "type": "scatterpolargl"
           }
          ],
          "scatterternary": [
           {
            "marker": {
             "colorbar": {
              "outlinewidth": 0,
              "ticks": ""
             }
            },
            "type": "scatterternary"
           }
          ],
          "surface": [
           {
            "colorbar": {
             "outlinewidth": 0,
             "ticks": ""
            },
            "colorscale": [
             [
              0,
              "#0d0887"
             ],
             [
              0.1111111111111111,
              "#46039f"
             ],
             [
              0.2222222222222222,
              "#7201a8"
             ],
             [
              0.3333333333333333,
              "#9c179e"
             ],
             [
              0.4444444444444444,
              "#bd3786"
             ],
             [
              0.5555555555555556,
              "#d8576b"
             ],
             [
              0.6666666666666666,
              "#ed7953"
             ],
             [
              0.7777777777777778,
              "#fb9f3a"
             ],
             [
              0.8888888888888888,
              "#fdca26"
             ],
             [
              1,
              "#f0f921"
             ]
            ],
            "type": "surface"
           }
          ],
          "table": [
           {
            "cells": {
             "fill": {
              "color": "#EBF0F8"
             },
             "line": {
              "color": "white"
             }
            },
            "header": {
             "fill": {
              "color": "#C8D4E3"
             },
             "line": {
              "color": "white"
             }
            },
            "type": "table"
           }
          ]
         },
         "layout": {
          "annotationdefaults": {
           "arrowcolor": "#2a3f5f",
           "arrowhead": 0,
           "arrowwidth": 1
          },
          "autotypenumbers": "strict",
          "coloraxis": {
           "colorbar": {
            "outlinewidth": 0,
            "ticks": ""
           }
          },
          "colorscale": {
           "diverging": [
            [
             0,
             "#8e0152"
            ],
            [
             0.1,
             "#c51b7d"
            ],
            [
             0.2,
             "#de77ae"
            ],
            [
             0.3,
             "#f1b6da"
            ],
            [
             0.4,
             "#fde0ef"
            ],
            [
             0.5,
             "#f7f7f7"
            ],
            [
             0.6,
             "#e6f5d0"
            ],
            [
             0.7,
             "#b8e186"
            ],
            [
             0.8,
             "#7fbc41"
            ],
            [
             0.9,
             "#4d9221"
            ],
            [
             1,
             "#276419"
            ]
           ],
           "sequential": [
            [
             0,
             "#0d0887"
            ],
            [
             0.1111111111111111,
             "#46039f"
            ],
            [
             0.2222222222222222,
             "#7201a8"
            ],
            [
             0.3333333333333333,
             "#9c179e"
            ],
            [
             0.4444444444444444,
             "#bd3786"
            ],
            [
             0.5555555555555556,
             "#d8576b"
            ],
            [
             0.6666666666666666,
             "#ed7953"
            ],
            [
             0.7777777777777778,
             "#fb9f3a"
            ],
            [
             0.8888888888888888,
             "#fdca26"
            ],
            [
             1,
             "#f0f921"
            ]
           ],
           "sequentialminus": [
            [
             0,
             "#0d0887"
            ],
            [
             0.1111111111111111,
             "#46039f"
            ],
            [
             0.2222222222222222,
             "#7201a8"
            ],
            [
             0.3333333333333333,
             "#9c179e"
            ],
            [
             0.4444444444444444,
             "#bd3786"
            ],
            [
             0.5555555555555556,
             "#d8576b"
            ],
            [
             0.6666666666666666,
             "#ed7953"
            ],
            [
             0.7777777777777778,
             "#fb9f3a"
            ],
            [
             0.8888888888888888,
             "#fdca26"
            ],
            [
             1,
             "#f0f921"
            ]
           ]
          },
          "colorway": [
           "#636efa",
           "#EF553B",
           "#00cc96",
           "#ab63fa",
           "#FFA15A",
           "#19d3f3",
           "#FF6692",
           "#B6E880",
           "#FF97FF",
           "#FECB52"
          ],
          "font": {
           "color": "#2a3f5f"
          },
          "geo": {
           "bgcolor": "white",
           "lakecolor": "white",
           "landcolor": "#E5ECF6",
           "showlakes": true,
           "showland": true,
           "subunitcolor": "white"
          },
          "hoverlabel": {
           "align": "left"
          },
          "hovermode": "closest",
          "mapbox": {
           "style": "light"
          },
          "paper_bgcolor": "white",
          "plot_bgcolor": "#E5ECF6",
          "polar": {
           "angularaxis": {
            "gridcolor": "white",
            "linecolor": "white",
            "ticks": ""
           },
           "bgcolor": "#E5ECF6",
           "radialaxis": {
            "gridcolor": "white",
            "linecolor": "white",
            "ticks": ""
           }
          },
          "scene": {
           "xaxis": {
            "backgroundcolor": "#E5ECF6",
            "gridcolor": "white",
            "gridwidth": 2,
            "linecolor": "white",
            "showbackground": true,
            "ticks": "",
            "zerolinecolor": "white"
           },
           "yaxis": {
            "backgroundcolor": "#E5ECF6",
            "gridcolor": "white",
            "gridwidth": 2,
            "linecolor": "white",
            "showbackground": true,
            "ticks": "",
            "zerolinecolor": "white"
           },
           "zaxis": {
            "backgroundcolor": "#E5ECF6",
            "gridcolor": "white",
            "gridwidth": 2,
            "linecolor": "white",
            "showbackground": true,
            "ticks": "",
            "zerolinecolor": "white"
           }
          },
          "shapedefaults": {
           "line": {
            "color": "#2a3f5f"
           }
          },
          "ternary": {
           "aaxis": {
            "gridcolor": "white",
            "linecolor": "white",
            "ticks": ""
           },
           "baxis": {
            "gridcolor": "white",
            "linecolor": "white",
            "ticks": ""
           },
           "bgcolor": "#E5ECF6",
           "caxis": {
            "gridcolor": "white",
            "linecolor": "white",
            "ticks": ""
           }
          },
          "title": {
           "x": 0.05
          },
          "xaxis": {
           "automargin": true,
           "gridcolor": "white",
           "linecolor": "white",
           "ticks": "",
           "title": {
            "standoff": 15
           },
           "zerolinecolor": "white",
           "zerolinewidth": 2
          },
          "yaxis": {
           "automargin": true,
           "gridcolor": "white",
           "linecolor": "white",
           "ticks": "",
           "title": {
            "standoff": 15
           },
           "zerolinecolor": "white",
           "zerolinewidth": 2
          }
         }
        },
        "title": {
         "font": {
          "color": "#4D5663"
         }
        },
        "xaxis": {
         "gridcolor": "#E1E5ED",
         "showgrid": true,
         "tickfont": {
          "color": "#4D5663"
         },
         "title": {
          "font": {
           "color": "#4D5663"
          },
          "text": "Carrots Price"
         },
         "zerolinecolor": "#E1E5ED"
        },
        "yaxis": {
         "gridcolor": "#E1E5ED",
         "showgrid": true,
         "tickfont": {
          "color": "#4D5663"
         },
         "title": {
          "font": {
           "color": "#4D5663"
          },
          "text": "Hectograms"
         },
         "zerolinecolor": "#E1E5ED"
        }
       }
      },
      "text/html": [
       "<div>                            <div id=\"d07b22f8-b21b-44ea-a682-301835afcba8\" class=\"plotly-graph-div\" style=\"height:525px; width:100%;\"></div>            <script type=\"text/javascript\">                require([\"plotly\"], function(Plotly) {                    window.PLOTLYENV=window.PLOTLYENV || {};\n",
       "                    window.PLOTLYENV.BASE_URL='https://plot.ly';                                    if (document.getElementById(\"d07b22f8-b21b-44ea-a682-301835afcba8\")) {                    Plotly.newPlot(                        \"d07b22f8-b21b-44ea-a682-301835afcba8\",                        [{\"line\":{\"color\":\"rgba(255, 153, 51, 1.0)\",\"dash\":\"solid\",\"shape\":\"linear\",\"width\":1.3},\"mode\":\"lines\",\"name\":\"Cheddar Cheese \",\"text\":\"\",\"x\":[0.34500000000000003,0.5175000000000001,0.6210000000000001,0.6900000000000001,0.7590000000000001,0.8280000000000001,0.8970000000000001,0.966,1.0350000000000001,1.3800000000000001,2.7600000000000002],\"y\":[0.45425803022834943,0.4635852383250739,0.4635852383250739,0.4635852383250739,0.4636798002956153,0.4636798002956153,0.4659181707450042,0.4659181707450042,0.4667780409011608,0.0,0.0],\"type\":\"scatter\"},{\"line\":{\"color\":\"rgba(55, 128, 191, 1.0)\",\"dash\":\"solid\",\"shape\":\"linear\",\"width\":1.3},\"mode\":\"lines\",\"name\":\"Skim Milk Powder \",\"text\":\"\",\"x\":[0.34500000000000003,0.5175000000000001,0.6210000000000001,0.6900000000000001,0.7590000000000001,0.8280000000000001,0.8970000000000001,0.966,1.0350000000000001,1.3800000000000001,2.7600000000000002],\"y\":[0.0,0.0,0.0,0.0,0.004971654452727307,0.004971654452727307,0.0013261676895455518,0.0013261676895455518,0.0,0.0,0.0],\"type\":\"scatter\"},{\"line\":{\"color\":\"rgba(50, 171, 96, 1.0)\",\"dash\":\"solid\",\"shape\":\"linear\",\"width\":1.3},\"mode\":\"lines\",\"name\":\"Corn Flakes\",\"text\":\"\",\"x\":[0.34500000000000003,0.5175000000000001,0.6210000000000001,0.6900000000000001,0.7590000000000001,0.8280000000000001,0.8970000000000001,0.966,1.0350000000000001,1.3800000000000001,2.7600000000000002],\"y\":[0.29549466719353246,0.272290252933748,0.272290252933748,0.272290252933748,0.2722566142189322,0.2722566142189322,0.2726210570801422,0.2726210570801422,0.2722716120360927,0.0,0.0],\"type\":\"scatter\"},{\"line\":{\"color\":\"rgba(128, 0, 128, 1.0)\",\"dash\":\"solid\",\"shape\":\"linear\",\"width\":1.3},\"mode\":\"lines\",\"name\":\"Flour\",\"text\":\"\",\"x\":[0.34500000000000003,0.5175000000000001,0.6210000000000001,0.6900000000000001,0.7590000000000001,0.8280000000000001,0.8970000000000001,0.966,1.0350000000000001,1.3800000000000001,2.7600000000000002],\"y\":[0.593774098076513,0.8732530655162973,0.8732530655162973,0.8732530655162973,0.8736966345595847,0.8736966345595847,0.8723434806298653,0.8723434806298653,0.8756896040871768,2.7806371704038293,2.8343471321651803],\"type\":\"scatter\"},{\"line\":{\"color\":\"rgba(219, 64, 82, 1.0)\",\"dash\":\"solid\",\"shape\":\"linear\",\"width\":1.3},\"mode\":\"lines\",\"name\":\"Frozen Corn\",\"text\":\"\",\"x\":[0.34500000000000003,0.5175000000000001,0.6210000000000001,0.6900000000000001,0.7590000000000001,0.8280000000000001,0.8970000000000001,0.966,1.0350000000000001,1.3800000000000001,2.7600000000000002],\"y\":[2.268635610012755,2.5013808786754104,2.5013808786754104,2.5013808786754104,2.5038122539961485,2.5038122539961485,2.4932053897597815,2.4932053897597815,2.489799212469513,6.767165502247927,6.546722661748803],\"type\":\"scatter\"},{\"line\":{\"color\":\"rgba(0, 128, 128, 1.0)\",\"dash\":\"solid\",\"shape\":\"linear\",\"width\":1.3},\"mode\":\"lines\",\"name\":\"Carrots\",\"text\":\"\",\"x\":[0.34500000000000003,0.5175000000000001,0.6210000000000001,0.6900000000000001,0.7590000000000001,0.8280000000000001,0.8970000000000001,0.966,1.0350000000000001,1.3800000000000001,2.7600000000000002],\"y\":[20.23753296543084,18.886755180288095,18.886755180288095,18.886755180288095,18.873885051176302,18.873885051176302,18.85891307199347,18.85891307199347,18.847659004699253,12.294749210235624,11.51816134864665],\"type\":\"scatter\"},{\"line\":{\"color\":\"rgba(255, 255, 51, 1.0)\",\"dash\":\"solid\",\"shape\":\"linear\",\"width\":1.3},\"mode\":\"lines\",\"name\":\"Apples \",\"text\":\"\",\"x\":[0.34500000000000003,0.5175000000000001,0.6210000000000001,0.6900000000000001,0.7590000000000001,0.8280000000000001,0.8970000000000001,0.966,1.0350000000000001,1.3800000000000001,2.7600000000000002],\"y\":[0.24361128188384357,0.0,0.0,0.0,0.0,0.0,0.0,0.0,0.0,0.0,0.0],\"type\":\"scatter\"},{\"line\":{\"color\":\"rgba(128, 128, 0, 1.0)\",\"dash\":\"solid\",\"shape\":\"linear\",\"width\":1.3},\"mode\":\"lines\",\"name\":\"Bananas\",\"text\":\"\",\"x\":[0.34500000000000003,0.5175000000000001,0.6210000000000001,0.6900000000000001,0.7590000000000001,0.8280000000000001,0.8970000000000001,0.966,1.0350000000000001,1.3800000000000001,2.7600000000000002],\"y\":[0.0,0.0,0.0,0.0,0.0,0.0,0.0,0.0,0.0,0.0,1.473153318897977],\"type\":\"scatter\"},{\"line\":{\"color\":\"rgba(251, 128, 114, 1.0)\",\"dash\":\"solid\",\"shape\":\"linear\",\"width\":1.3},\"mode\":\"lines\",\"name\":\"Peanut Butter \",\"text\":\"\",\"x\":[0.34500000000000003,0.5175000000000001,0.6210000000000001,0.6900000000000001,0.7590000000000001,0.8280000000000001,0.8970000000000001,0.966,1.0350000000000001,1.3800000000000001,2.7600000000000002],\"y\":[0.12805251539256746,0.0,0.0,0.0,0.0,0.0,0.0,0.0,0.0,0.0,0.0],\"type\":\"scatter\"},{\"line\":{\"color\":\"rgba(128, 177, 211, 1.0)\",\"dash\":\"solid\",\"shape\":\"linear\",\"width\":1.3},\"mode\":\"lines\",\"name\":\"Canned Pink Salmon\",\"text\":\"\",\"x\":[0.34500000000000003,0.5175000000000001,0.6210000000000001,0.6900000000000001,0.7590000000000001,0.8280000000000001,0.8970000000000001,0.966,1.0350000000000001,1.3800000000000001,2.7600000000000002],\"y\":[0.12104920427733595,0.14353599116275984,0.14353599116275984,0.14353599116275984,0.14354906613633078,0.14354906613633078,0.14262135938737003,0.14262135938737003,0.14278668549897605,0.5454545454545454,0.5454545454545454],\"type\":\"scatter\"},{\"line\":{\"color\":\"rgba(128, 177, 211, 0.8999999999999999)\",\"dash\":\"solid\",\"shape\":\"linear\",\"width\":1.3},\"mode\":\"lines\",\"name\":\"Frozen French Fries\",\"text\":\"\",\"x\":[0.34500000000000003,0.5175000000000001,0.6210000000000001,0.6900000000000001,0.7590000000000001,0.8280000000000001,0.8970000000000001,0.966,1.0350000000000001,1.3800000000000001,2.7600000000000002],\"y\":[0.0,0.4090351337566819,0.4090351337566819,0.4090351337566819,0.412937360723493,0.412937360723493,0.42091767249854783,0.42091767249854783,0.42559696306029765,1.583574308208625,1.8496577096528282],\"type\":\"scatter\"},{\"line\":{\"color\":\"rgba(255, 153, 51, 0.8999999999999999)\",\"dash\":\"solid\",\"shape\":\"linear\",\"width\":1.3},\"mode\":\"lines\",\"name\":\"Milk 2%\",\"text\":\"\",\"x\":[0.34500000000000003,0.5175000000000001,0.6210000000000001,0.6900000000000001,0.7590000000000001,0.8280000000000001,0.8970000000000001,0.966,1.0350000000000001,1.3800000000000001,2.7600000000000002],\"y\":[0.0,0.04817754604191061,0.04817754604191061,0.04817754604191061,0.0,0.0,0.0,0.0,0.0,0.0,0.0],\"type\":\"scatter\"},{\"line\":{\"color\":\"rgba(55, 128, 191, 0.8999999999999999)\",\"dash\":\"solid\",\"shape\":\"linear\",\"width\":1.3},\"mode\":\"lines\",\"name\":\"Orange Juice\",\"text\":\"\",\"x\":[0.34500000000000003,0.5175000000000001,0.6210000000000001,0.6900000000000001,0.7590000000000001,0.8280000000000001,0.8970000000000001,0.966,1.0350000000000001,1.3800000000000001,2.7600000000000002],\"y\":[0.0,0.0,0.0,0.0,0.0,0.0,0.02578774258599594,0.02578774258599594,0.03537723503049498,3.0087653074825926,3.1183272523014787],\"type\":\"scatter\"}],                        {\"legend\":{\"bgcolor\":\"#F5F6F9\",\"font\":{\"color\":\"#4D5663\"}},\"paper_bgcolor\":\"#F5F6F9\",\"plot_bgcolor\":\"#F5F6F9\",\"template\":{\"data\":{\"barpolar\":[{\"marker\":{\"line\":{\"color\":\"#E5ECF6\",\"width\":0.5},\"pattern\":{\"fillmode\":\"overlay\",\"size\":10,\"solidity\":0.2}},\"type\":\"barpolar\"}],\"bar\":[{\"error_x\":{\"color\":\"#2a3f5f\"},\"error_y\":{\"color\":\"#2a3f5f\"},\"marker\":{\"line\":{\"color\":\"#E5ECF6\",\"width\":0.5},\"pattern\":{\"fillmode\":\"overlay\",\"size\":10,\"solidity\":0.2}},\"type\":\"bar\"}],\"carpet\":[{\"aaxis\":{\"endlinecolor\":\"#2a3f5f\",\"gridcolor\":\"white\",\"linecolor\":\"white\",\"minorgridcolor\":\"white\",\"startlinecolor\":\"#2a3f5f\"},\"baxis\":{\"endlinecolor\":\"#2a3f5f\",\"gridcolor\":\"white\",\"linecolor\":\"white\",\"minorgridcolor\":\"white\",\"startlinecolor\":\"#2a3f5f\"},\"type\":\"carpet\"}],\"choropleth\":[{\"colorbar\":{\"outlinewidth\":0,\"ticks\":\"\"},\"type\":\"choropleth\"}],\"contourcarpet\":[{\"colorbar\":{\"outlinewidth\":0,\"ticks\":\"\"},\"type\":\"contourcarpet\"}],\"contour\":[{\"colorbar\":{\"outlinewidth\":0,\"ticks\":\"\"},\"colorscale\":[[0.0,\"#0d0887\"],[0.1111111111111111,\"#46039f\"],[0.2222222222222222,\"#7201a8\"],[0.3333333333333333,\"#9c179e\"],[0.4444444444444444,\"#bd3786\"],[0.5555555555555556,\"#d8576b\"],[0.6666666666666666,\"#ed7953\"],[0.7777777777777778,\"#fb9f3a\"],[0.8888888888888888,\"#fdca26\"],[1.0,\"#f0f921\"]],\"type\":\"contour\"}],\"heatmapgl\":[{\"colorbar\":{\"outlinewidth\":0,\"ticks\":\"\"},\"colorscale\":[[0.0,\"#0d0887\"],[0.1111111111111111,\"#46039f\"],[0.2222222222222222,\"#7201a8\"],[0.3333333333333333,\"#9c179e\"],[0.4444444444444444,\"#bd3786\"],[0.5555555555555556,\"#d8576b\"],[0.6666666666666666,\"#ed7953\"],[0.7777777777777778,\"#fb9f3a\"],[0.8888888888888888,\"#fdca26\"],[1.0,\"#f0f921\"]],\"type\":\"heatmapgl\"}],\"heatmap\":[{\"colorbar\":{\"outlinewidth\":0,\"ticks\":\"\"},\"colorscale\":[[0.0,\"#0d0887\"],[0.1111111111111111,\"#46039f\"],[0.2222222222222222,\"#7201a8\"],[0.3333333333333333,\"#9c179e\"],[0.4444444444444444,\"#bd3786\"],[0.5555555555555556,\"#d8576b\"],[0.6666666666666666,\"#ed7953\"],[0.7777777777777778,\"#fb9f3a\"],[0.8888888888888888,\"#fdca26\"],[1.0,\"#f0f921\"]],\"type\":\"heatmap\"}],\"histogram2dcontour\":[{\"colorbar\":{\"outlinewidth\":0,\"ticks\":\"\"},\"colorscale\":[[0.0,\"#0d0887\"],[0.1111111111111111,\"#46039f\"],[0.2222222222222222,\"#7201a8\"],[0.3333333333333333,\"#9c179e\"],[0.4444444444444444,\"#bd3786\"],[0.5555555555555556,\"#d8576b\"],[0.6666666666666666,\"#ed7953\"],[0.7777777777777778,\"#fb9f3a\"],[0.8888888888888888,\"#fdca26\"],[1.0,\"#f0f921\"]],\"type\":\"histogram2dcontour\"}],\"histogram2d\":[{\"colorbar\":{\"outlinewidth\":0,\"ticks\":\"\"},\"colorscale\":[[0.0,\"#0d0887\"],[0.1111111111111111,\"#46039f\"],[0.2222222222222222,\"#7201a8\"],[0.3333333333333333,\"#9c179e\"],[0.4444444444444444,\"#bd3786\"],[0.5555555555555556,\"#d8576b\"],[0.6666666666666666,\"#ed7953\"],[0.7777777777777778,\"#fb9f3a\"],[0.8888888888888888,\"#fdca26\"],[1.0,\"#f0f921\"]],\"type\":\"histogram2d\"}],\"histogram\":[{\"marker\":{\"pattern\":{\"fillmode\":\"overlay\",\"size\":10,\"solidity\":0.2}},\"type\":\"histogram\"}],\"mesh3d\":[{\"colorbar\":{\"outlinewidth\":0,\"ticks\":\"\"},\"type\":\"mesh3d\"}],\"parcoords\":[{\"line\":{\"colorbar\":{\"outlinewidth\":0,\"ticks\":\"\"}},\"type\":\"parcoords\"}],\"pie\":[{\"automargin\":true,\"type\":\"pie\"}],\"scatter3d\":[{\"line\":{\"colorbar\":{\"outlinewidth\":0,\"ticks\":\"\"}},\"marker\":{\"colorbar\":{\"outlinewidth\":0,\"ticks\":\"\"}},\"type\":\"scatter3d\"}],\"scattercarpet\":[{\"marker\":{\"colorbar\":{\"outlinewidth\":0,\"ticks\":\"\"}},\"type\":\"scattercarpet\"}],\"scattergeo\":[{\"marker\":{\"colorbar\":{\"outlinewidth\":0,\"ticks\":\"\"}},\"type\":\"scattergeo\"}],\"scattergl\":[{\"marker\":{\"colorbar\":{\"outlinewidth\":0,\"ticks\":\"\"}},\"type\":\"scattergl\"}],\"scattermapbox\":[{\"marker\":{\"colorbar\":{\"outlinewidth\":0,\"ticks\":\"\"}},\"type\":\"scattermapbox\"}],\"scatterpolargl\":[{\"marker\":{\"colorbar\":{\"outlinewidth\":0,\"ticks\":\"\"}},\"type\":\"scatterpolargl\"}],\"scatterpolar\":[{\"marker\":{\"colorbar\":{\"outlinewidth\":0,\"ticks\":\"\"}},\"type\":\"scatterpolar\"}],\"scatter\":[{\"fillpattern\":{\"fillmode\":\"overlay\",\"size\":10,\"solidity\":0.2},\"type\":\"scatter\"}],\"scatterternary\":[{\"marker\":{\"colorbar\":{\"outlinewidth\":0,\"ticks\":\"\"}},\"type\":\"scatterternary\"}],\"surface\":[{\"colorbar\":{\"outlinewidth\":0,\"ticks\":\"\"},\"colorscale\":[[0.0,\"#0d0887\"],[0.1111111111111111,\"#46039f\"],[0.2222222222222222,\"#7201a8\"],[0.3333333333333333,\"#9c179e\"],[0.4444444444444444,\"#bd3786\"],[0.5555555555555556,\"#d8576b\"],[0.6666666666666666,\"#ed7953\"],[0.7777777777777778,\"#fb9f3a\"],[0.8888888888888888,\"#fdca26\"],[1.0,\"#f0f921\"]],\"type\":\"surface\"}],\"table\":[{\"cells\":{\"fill\":{\"color\":\"#EBF0F8\"},\"line\":{\"color\":\"white\"}},\"header\":{\"fill\":{\"color\":\"#C8D4E3\"},\"line\":{\"color\":\"white\"}},\"type\":\"table\"}]},\"layout\":{\"annotationdefaults\":{\"arrowcolor\":\"#2a3f5f\",\"arrowhead\":0,\"arrowwidth\":1},\"autotypenumbers\":\"strict\",\"coloraxis\":{\"colorbar\":{\"outlinewidth\":0,\"ticks\":\"\"}},\"colorscale\":{\"diverging\":[[0,\"#8e0152\"],[0.1,\"#c51b7d\"],[0.2,\"#de77ae\"],[0.3,\"#f1b6da\"],[0.4,\"#fde0ef\"],[0.5,\"#f7f7f7\"],[0.6,\"#e6f5d0\"],[0.7,\"#b8e186\"],[0.8,\"#7fbc41\"],[0.9,\"#4d9221\"],[1,\"#276419\"]],\"sequential\":[[0.0,\"#0d0887\"],[0.1111111111111111,\"#46039f\"],[0.2222222222222222,\"#7201a8\"],[0.3333333333333333,\"#9c179e\"],[0.4444444444444444,\"#bd3786\"],[0.5555555555555556,\"#d8576b\"],[0.6666666666666666,\"#ed7953\"],[0.7777777777777778,\"#fb9f3a\"],[0.8888888888888888,\"#fdca26\"],[1.0,\"#f0f921\"]],\"sequentialminus\":[[0.0,\"#0d0887\"],[0.1111111111111111,\"#46039f\"],[0.2222222222222222,\"#7201a8\"],[0.3333333333333333,\"#9c179e\"],[0.4444444444444444,\"#bd3786\"],[0.5555555555555556,\"#d8576b\"],[0.6666666666666666,\"#ed7953\"],[0.7777777777777778,\"#fb9f3a\"],[0.8888888888888888,\"#fdca26\"],[1.0,\"#f0f921\"]]},\"colorway\":[\"#636efa\",\"#EF553B\",\"#00cc96\",\"#ab63fa\",\"#FFA15A\",\"#19d3f3\",\"#FF6692\",\"#B6E880\",\"#FF97FF\",\"#FECB52\"],\"font\":{\"color\":\"#2a3f5f\"},\"geo\":{\"bgcolor\":\"white\",\"lakecolor\":\"white\",\"landcolor\":\"#E5ECF6\",\"showlakes\":true,\"showland\":true,\"subunitcolor\":\"white\"},\"hoverlabel\":{\"align\":\"left\"},\"hovermode\":\"closest\",\"mapbox\":{\"style\":\"light\"},\"paper_bgcolor\":\"white\",\"plot_bgcolor\":\"#E5ECF6\",\"polar\":{\"angularaxis\":{\"gridcolor\":\"white\",\"linecolor\":\"white\",\"ticks\":\"\"},\"bgcolor\":\"#E5ECF6\",\"radialaxis\":{\"gridcolor\":\"white\",\"linecolor\":\"white\",\"ticks\":\"\"}},\"scene\":{\"xaxis\":{\"backgroundcolor\":\"#E5ECF6\",\"gridcolor\":\"white\",\"gridwidth\":2,\"linecolor\":\"white\",\"showbackground\":true,\"ticks\":\"\",\"zerolinecolor\":\"white\"},\"yaxis\":{\"backgroundcolor\":\"#E5ECF6\",\"gridcolor\":\"white\",\"gridwidth\":2,\"linecolor\":\"white\",\"showbackground\":true,\"ticks\":\"\",\"zerolinecolor\":\"white\"},\"zaxis\":{\"backgroundcolor\":\"#E5ECF6\",\"gridcolor\":\"white\",\"gridwidth\":2,\"linecolor\":\"white\",\"showbackground\":true,\"ticks\":\"\",\"zerolinecolor\":\"white\"}},\"shapedefaults\":{\"line\":{\"color\":\"#2a3f5f\"}},\"ternary\":{\"aaxis\":{\"gridcolor\":\"white\",\"linecolor\":\"white\",\"ticks\":\"\"},\"baxis\":{\"gridcolor\":\"white\",\"linecolor\":\"white\",\"ticks\":\"\"},\"bgcolor\":\"#E5ECF6\",\"caxis\":{\"gridcolor\":\"white\",\"linecolor\":\"white\",\"ticks\":\"\"}},\"title\":{\"x\":0.05},\"xaxis\":{\"automargin\":true,\"gridcolor\":\"white\",\"linecolor\":\"white\",\"ticks\":\"\",\"title\":{\"standoff\":15},\"zerolinecolor\":\"white\",\"zerolinewidth\":2},\"yaxis\":{\"automargin\":true,\"gridcolor\":\"white\",\"linecolor\":\"white\",\"ticks\":\"\",\"title\":{\"standoff\":15},\"zerolinecolor\":\"white\",\"zerolinewidth\":2}}},\"title\":{\"font\":{\"color\":\"#4D5663\"}},\"xaxis\":{\"gridcolor\":\"#E1E5ED\",\"showgrid\":true,\"tickfont\":{\"color\":\"#4D5663\"},\"title\":{\"font\":{\"color\":\"#4D5663\"},\"text\":\"Carrots Price\"},\"zerolinecolor\":\"#E1E5ED\"},\"yaxis\":{\"gridcolor\":\"#E1E5ED\",\"showgrid\":true,\"tickfont\":{\"color\":\"#4D5663\"},\"title\":{\"font\":{\"color\":\"#4D5663\"},\"text\":\"Hectograms\"},\"zerolinecolor\":\"#E1E5ED\"}},                        {\"showLink\": true, \"linkText\": \"Export to plot.ly\", \"plotlyServerURL\": \"https://plot.ly\", \"responsive\": true}                    ).then(function(){\n",
       "                            \n",
       "var gd = document.getElementById('d07b22f8-b21b-44ea-a682-301835afcba8');\n",
       "var x = new MutationObserver(function (mutations, observer) {{\n",
       "        var display = window.getComputedStyle(gd).display;\n",
       "        if (!display || display === 'none') {{\n",
       "            console.log([gd, 'removed!']);\n",
       "            Plotly.purge(gd);\n",
       "            observer.disconnect();\n",
       "        }}\n",
       "}});\n",
       "\n",
       "// Listen for the removal of the full notebook cells\n",
       "var notebookContainer = gd.closest('#notebook-container');\n",
       "if (notebookContainer) {{\n",
       "    x.observe(notebookContainer, {childList: true});\n",
       "}}\n",
       "\n",
       "// Listen for the clearing of the current output cell\n",
       "var outputEl = gd.closest('.output');\n",
       "if (outputEl) {{\n",
       "    x.observe(outputEl, {childList: true});\n",
       "}}\n",
       "\n",
       "                        })                };                });            </script>        </div>"
      ]
     },
     "metadata": {},
     "output_type": "display_data"
    }
   ],
   "source": [
    "import cufflinks as cf\n",
    "cf.go_offline()\n",
    "\n",
    "ReferenceGood = 'Carrots'\n",
    "\n",
    "scale = [0.5,0.75,0.9,1.,1.1,1.2,1.3,1.4,1.5,2,4]\n",
    "\n",
    "cost0 = solve_subsistence_problem(FoodNutrients,Prices,diet_min[group],diet_max[group],tol=tol).fun\n",
    "\n",
    "my_p = Prices.copy()\n",
    "\n",
    "diet = {}\n",
    "for s in scale:\n",
    "\n",
    "    my_p[ReferenceGood] = Prices[ReferenceGood]*s\n",
    "    result = solve_subsistence_problem(FoodNutrients,my_p,diet_min[group],diet_max[group],tol=tol)\n",
    "    diet[my_p[ReferenceGood]] = result.diet\n",
    "\n",
    "Diet_response = pd.DataFrame(diet).T\n",
    "Diet_response.index.name = '%s Price' % ReferenceGood\n",
    "\n",
    "Diet_response.reset_index(inplace=True)\n",
    "\n",
    "# Get rid of units for index (cufflinks chokes)\n",
    "Diet_response['%s Price' % ReferenceGood] = Diet_response['%s Price' % ReferenceGood].apply(lambda x: x.magnitude)\n",
    "\n",
    "Diet_response = Diet_response.set_index('%s Price' % ReferenceGood)\n",
    "\n",
    "# Just look at goods consumed in quantities greater than error tolerance\n",
    "Diet_response.loc[:,(Diet_response>tol).sum()>0].iplot(xTitle='%s Price' % ReferenceGood,yTitle='Hectograms')"
   ]
  },
  {
   "cell_type": "markdown",
   "metadata": {},
   "source": [
    "When the price of carrots increase, the quantity of carrots consumed decreases. To ensure that the minimum nutiritional values are met, the consumption of orange juice and frozen french fries increases.  "
   ]
  },
  {
   "cell_type": "markdown",
   "metadata": {},
   "source": [
    "## Effects of Price Changes on Subsistence Diet Nutrition\n",
    "\n"
   ]
  },
  {
   "cell_type": "markdown",
   "metadata": {},
   "source": [
    "The code below creates a graph which uses the food price changes\n",
    "  described above, but maps into nutrients.\n",
    "\n"
   ]
  },
  {
   "cell_type": "code",
   "execution_count": 17,
   "metadata": {},
   "outputs": [
    {
     "data": {
      "application/vnd.plotly.v1+json": {
       "config": {
        "linkText": "Export to plot.ly",
        "plotlyServerURL": "https://plot.ly",
        "showLink": true
       },
       "data": [
        {
         "line": {
          "color": "rgba(255, 153, 51, 1.0)",
          "dash": "solid",
          "shape": "linear",
          "width": 1.3
         },
         "mode": "lines",
         "name": "Carbohydrate, by difference",
         "text": "",
         "type": "scatter",
         "x": [
          0.34500000000000003,
          0.5175000000000001,
          0.6210000000000001,
          0.6900000000000001,
          0.7590000000000001,
          0.8280000000000001,
          0.8970000000000001,
          0.966,
          1.0350000000000001,
          1.3800000000000001,
          2.7600000000000002
         ],
         "y": [
          330.86728211603764,
          323.529553794795,
          323.529553794795,
          323.529553794795,
          323.59516610653503,
          323.59516610653503,
          323.46296425134153,
          323.46296425134153,
          323.63778029563724,
          508.2981464848381,
          541.2961220916549
         ]
        },
        {
         "line": {
          "color": "rgba(55, 128, 191, 1.0)",
          "dash": "solid",
          "shape": "linear",
          "width": 1.3
         },
         "mode": "lines",
         "name": "Energy",
         "text": "",
         "type": "scatter",
         "x": [
          0.34500000000000003,
          0.5175000000000001,
          0.6210000000000001,
          0.6900000000000001,
          0.7590000000000001,
          0.8280000000000001,
          0.8970000000000001,
          0.966,
          1.0350000000000001,
          1.3800000000000001,
          2.7600000000000002
         ],
         "y": [
          1800,
          1800,
          1800,
          1800,
          1799.9999999999998,
          1799.9999999999998,
          1800,
          1800,
          1801.5907608621442,
          2929.296696591308,
          3100.0000000000005
         ]
        },
        {
         "line": {
          "color": "rgba(50, 171, 96, 1.0)",
          "dash": "solid",
          "shape": "linear",
          "width": 1.3
         },
         "mode": "lines",
         "name": "Protein",
         "text": "",
         "type": "scatter",
         "x": [
          0.34500000000000003,
          0.5175000000000001,
          0.6210000000000001,
          0.6900000000000001,
          0.7590000000000001,
          0.8280000000000001,
          0.8970000000000001,
          0.966,
          1.0350000000000001,
          1.3800000000000001,
          2.7600000000000002
         ],
         "y": [
          45.99999999999999,
          46.08173919035694,
          46.08173919035694,
          46.08173919035694,
          46.09312336951417,
          46.09312336951417,
          46.000000000000014,
          46.000000000000014,
          46.00000000000001,
          63.886621912942616,
          64.82442520437493
         ]
        },
        {
         "line": {
          "color": "rgba(128, 0, 128, 1.0)",
          "dash": "solid",
          "shape": "linear",
          "width": 1.3
         },
         "mode": "lines",
         "name": "Total lipid (fat)",
         "text": "",
         "type": "scatter",
         "x": [
          0.34500000000000003,
          0.5175000000000001,
          0.6210000000000001,
          0.6900000000000001,
          0.7590000000000001,
          0.8280000000000001,
          0.8970000000000001,
          0.966,
          1.0350000000000001,
          1.3800000000000001,
          2.7600000000000002
         ],
         "y": [
          34.960153821874485,
          35.75752712527635,
          35.75752712527635,
          35.75752712527635,
          35.71923476891837,
          35.71923476891837,
          35.86200341464055,
          35.86200341464055,
          35.943245762114174,
          52.013484180087396,
          55.20878989918885
         ]
        }
       ],
       "layout": {
        "legend": {
         "bgcolor": "#F5F6F9",
         "font": {
          "color": "#4D5663"
         }
        },
        "paper_bgcolor": "#F5F6F9",
        "plot_bgcolor": "#F5F6F9",
        "template": {
         "data": {
          "bar": [
           {
            "error_x": {
             "color": "#2a3f5f"
            },
            "error_y": {
             "color": "#2a3f5f"
            },
            "marker": {
             "line": {
              "color": "#E5ECF6",
              "width": 0.5
             },
             "pattern": {
              "fillmode": "overlay",
              "size": 10,
              "solidity": 0.2
             }
            },
            "type": "bar"
           }
          ],
          "barpolar": [
           {
            "marker": {
             "line": {
              "color": "#E5ECF6",
              "width": 0.5
             },
             "pattern": {
              "fillmode": "overlay",
              "size": 10,
              "solidity": 0.2
             }
            },
            "type": "barpolar"
           }
          ],
          "carpet": [
           {
            "aaxis": {
             "endlinecolor": "#2a3f5f",
             "gridcolor": "white",
             "linecolor": "white",
             "minorgridcolor": "white",
             "startlinecolor": "#2a3f5f"
            },
            "baxis": {
             "endlinecolor": "#2a3f5f",
             "gridcolor": "white",
             "linecolor": "white",
             "minorgridcolor": "white",
             "startlinecolor": "#2a3f5f"
            },
            "type": "carpet"
           }
          ],
          "choropleth": [
           {
            "colorbar": {
             "outlinewidth": 0,
             "ticks": ""
            },
            "type": "choropleth"
           }
          ],
          "contour": [
           {
            "colorbar": {
             "outlinewidth": 0,
             "ticks": ""
            },
            "colorscale": [
             [
              0,
              "#0d0887"
             ],
             [
              0.1111111111111111,
              "#46039f"
             ],
             [
              0.2222222222222222,
              "#7201a8"
             ],
             [
              0.3333333333333333,
              "#9c179e"
             ],
             [
              0.4444444444444444,
              "#bd3786"
             ],
             [
              0.5555555555555556,
              "#d8576b"
             ],
             [
              0.6666666666666666,
              "#ed7953"
             ],
             [
              0.7777777777777778,
              "#fb9f3a"
             ],
             [
              0.8888888888888888,
              "#fdca26"
             ],
             [
              1,
              "#f0f921"
             ]
            ],
            "type": "contour"
           }
          ],
          "contourcarpet": [
           {
            "colorbar": {
             "outlinewidth": 0,
             "ticks": ""
            },
            "type": "contourcarpet"
           }
          ],
          "heatmap": [
           {
            "colorbar": {
             "outlinewidth": 0,
             "ticks": ""
            },
            "colorscale": [
             [
              0,
              "#0d0887"
             ],
             [
              0.1111111111111111,
              "#46039f"
             ],
             [
              0.2222222222222222,
              "#7201a8"
             ],
             [
              0.3333333333333333,
              "#9c179e"
             ],
             [
              0.4444444444444444,
              "#bd3786"
             ],
             [
              0.5555555555555556,
              "#d8576b"
             ],
             [
              0.6666666666666666,
              "#ed7953"
             ],
             [
              0.7777777777777778,
              "#fb9f3a"
             ],
             [
              0.8888888888888888,
              "#fdca26"
             ],
             [
              1,
              "#f0f921"
             ]
            ],
            "type": "heatmap"
           }
          ],
          "heatmapgl": [
           {
            "colorbar": {
             "outlinewidth": 0,
             "ticks": ""
            },
            "colorscale": [
             [
              0,
              "#0d0887"
             ],
             [
              0.1111111111111111,
              "#46039f"
             ],
             [
              0.2222222222222222,
              "#7201a8"
             ],
             [
              0.3333333333333333,
              "#9c179e"
             ],
             [
              0.4444444444444444,
              "#bd3786"
             ],
             [
              0.5555555555555556,
              "#d8576b"
             ],
             [
              0.6666666666666666,
              "#ed7953"
             ],
             [
              0.7777777777777778,
              "#fb9f3a"
             ],
             [
              0.8888888888888888,
              "#fdca26"
             ],
             [
              1,
              "#f0f921"
             ]
            ],
            "type": "heatmapgl"
           }
          ],
          "histogram": [
           {
            "marker": {
             "pattern": {
              "fillmode": "overlay",
              "size": 10,
              "solidity": 0.2
             }
            },
            "type": "histogram"
           }
          ],
          "histogram2d": [
           {
            "colorbar": {
             "outlinewidth": 0,
             "ticks": ""
            },
            "colorscale": [
             [
              0,
              "#0d0887"
             ],
             [
              0.1111111111111111,
              "#46039f"
             ],
             [
              0.2222222222222222,
              "#7201a8"
             ],
             [
              0.3333333333333333,
              "#9c179e"
             ],
             [
              0.4444444444444444,
              "#bd3786"
             ],
             [
              0.5555555555555556,
              "#d8576b"
             ],
             [
              0.6666666666666666,
              "#ed7953"
             ],
             [
              0.7777777777777778,
              "#fb9f3a"
             ],
             [
              0.8888888888888888,
              "#fdca26"
             ],
             [
              1,
              "#f0f921"
             ]
            ],
            "type": "histogram2d"
           }
          ],
          "histogram2dcontour": [
           {
            "colorbar": {
             "outlinewidth": 0,
             "ticks": ""
            },
            "colorscale": [
             [
              0,
              "#0d0887"
             ],
             [
              0.1111111111111111,
              "#46039f"
             ],
             [
              0.2222222222222222,
              "#7201a8"
             ],
             [
              0.3333333333333333,
              "#9c179e"
             ],
             [
              0.4444444444444444,
              "#bd3786"
             ],
             [
              0.5555555555555556,
              "#d8576b"
             ],
             [
              0.6666666666666666,
              "#ed7953"
             ],
             [
              0.7777777777777778,
              "#fb9f3a"
             ],
             [
              0.8888888888888888,
              "#fdca26"
             ],
             [
              1,
              "#f0f921"
             ]
            ],
            "type": "histogram2dcontour"
           }
          ],
          "mesh3d": [
           {
            "colorbar": {
             "outlinewidth": 0,
             "ticks": ""
            },
            "type": "mesh3d"
           }
          ],
          "parcoords": [
           {
            "line": {
             "colorbar": {
              "outlinewidth": 0,
              "ticks": ""
             }
            },
            "type": "parcoords"
           }
          ],
          "pie": [
           {
            "automargin": true,
            "type": "pie"
           }
          ],
          "scatter": [
           {
            "fillpattern": {
             "fillmode": "overlay",
             "size": 10,
             "solidity": 0.2
            },
            "type": "scatter"
           }
          ],
          "scatter3d": [
           {
            "line": {
             "colorbar": {
              "outlinewidth": 0,
              "ticks": ""
             }
            },
            "marker": {
             "colorbar": {
              "outlinewidth": 0,
              "ticks": ""
             }
            },
            "type": "scatter3d"
           }
          ],
          "scattercarpet": [
           {
            "marker": {
             "colorbar": {
              "outlinewidth": 0,
              "ticks": ""
             }
            },
            "type": "scattercarpet"
           }
          ],
          "scattergeo": [
           {
            "marker": {
             "colorbar": {
              "outlinewidth": 0,
              "ticks": ""
             }
            },
            "type": "scattergeo"
           }
          ],
          "scattergl": [
           {
            "marker": {
             "colorbar": {
              "outlinewidth": 0,
              "ticks": ""
             }
            },
            "type": "scattergl"
           }
          ],
          "scattermapbox": [
           {
            "marker": {
             "colorbar": {
              "outlinewidth": 0,
              "ticks": ""
             }
            },
            "type": "scattermapbox"
           }
          ],
          "scatterpolar": [
           {
            "marker": {
             "colorbar": {
              "outlinewidth": 0,
              "ticks": ""
             }
            },
            "type": "scatterpolar"
           }
          ],
          "scatterpolargl": [
           {
            "marker": {
             "colorbar": {
              "outlinewidth": 0,
              "ticks": ""
             }
            },
            "type": "scatterpolargl"
           }
          ],
          "scatterternary": [
           {
            "marker": {
             "colorbar": {
              "outlinewidth": 0,
              "ticks": ""
             }
            },
            "type": "scatterternary"
           }
          ],
          "surface": [
           {
            "colorbar": {
             "outlinewidth": 0,
             "ticks": ""
            },
            "colorscale": [
             [
              0,
              "#0d0887"
             ],
             [
              0.1111111111111111,
              "#46039f"
             ],
             [
              0.2222222222222222,
              "#7201a8"
             ],
             [
              0.3333333333333333,
              "#9c179e"
             ],
             [
              0.4444444444444444,
              "#bd3786"
             ],
             [
              0.5555555555555556,
              "#d8576b"
             ],
             [
              0.6666666666666666,
              "#ed7953"
             ],
             [
              0.7777777777777778,
              "#fb9f3a"
             ],
             [
              0.8888888888888888,
              "#fdca26"
             ],
             [
              1,
              "#f0f921"
             ]
            ],
            "type": "surface"
           }
          ],
          "table": [
           {
            "cells": {
             "fill": {
              "color": "#EBF0F8"
             },
             "line": {
              "color": "white"
             }
            },
            "header": {
             "fill": {
              "color": "#C8D4E3"
             },
             "line": {
              "color": "white"
             }
            },
            "type": "table"
           }
          ]
         },
         "layout": {
          "annotationdefaults": {
           "arrowcolor": "#2a3f5f",
           "arrowhead": 0,
           "arrowwidth": 1
          },
          "autotypenumbers": "strict",
          "coloraxis": {
           "colorbar": {
            "outlinewidth": 0,
            "ticks": ""
           }
          },
          "colorscale": {
           "diverging": [
            [
             0,
             "#8e0152"
            ],
            [
             0.1,
             "#c51b7d"
            ],
            [
             0.2,
             "#de77ae"
            ],
            [
             0.3,
             "#f1b6da"
            ],
            [
             0.4,
             "#fde0ef"
            ],
            [
             0.5,
             "#f7f7f7"
            ],
            [
             0.6,
             "#e6f5d0"
            ],
            [
             0.7,
             "#b8e186"
            ],
            [
             0.8,
             "#7fbc41"
            ],
            [
             0.9,
             "#4d9221"
            ],
            [
             1,
             "#276419"
            ]
           ],
           "sequential": [
            [
             0,
             "#0d0887"
            ],
            [
             0.1111111111111111,
             "#46039f"
            ],
            [
             0.2222222222222222,
             "#7201a8"
            ],
            [
             0.3333333333333333,
             "#9c179e"
            ],
            [
             0.4444444444444444,
             "#bd3786"
            ],
            [
             0.5555555555555556,
             "#d8576b"
            ],
            [
             0.6666666666666666,
             "#ed7953"
            ],
            [
             0.7777777777777778,
             "#fb9f3a"
            ],
            [
             0.8888888888888888,
             "#fdca26"
            ],
            [
             1,
             "#f0f921"
            ]
           ],
           "sequentialminus": [
            [
             0,
             "#0d0887"
            ],
            [
             0.1111111111111111,
             "#46039f"
            ],
            [
             0.2222222222222222,
             "#7201a8"
            ],
            [
             0.3333333333333333,
             "#9c179e"
            ],
            [
             0.4444444444444444,
             "#bd3786"
            ],
            [
             0.5555555555555556,
             "#d8576b"
            ],
            [
             0.6666666666666666,
             "#ed7953"
            ],
            [
             0.7777777777777778,
             "#fb9f3a"
            ],
            [
             0.8888888888888888,
             "#fdca26"
            ],
            [
             1,
             "#f0f921"
            ]
           ]
          },
          "colorway": [
           "#636efa",
           "#EF553B",
           "#00cc96",
           "#ab63fa",
           "#FFA15A",
           "#19d3f3",
           "#FF6692",
           "#B6E880",
           "#FF97FF",
           "#FECB52"
          ],
          "font": {
           "color": "#2a3f5f"
          },
          "geo": {
           "bgcolor": "white",
           "lakecolor": "white",
           "landcolor": "#E5ECF6",
           "showlakes": true,
           "showland": true,
           "subunitcolor": "white"
          },
          "hoverlabel": {
           "align": "left"
          },
          "hovermode": "closest",
          "mapbox": {
           "style": "light"
          },
          "paper_bgcolor": "white",
          "plot_bgcolor": "#E5ECF6",
          "polar": {
           "angularaxis": {
            "gridcolor": "white",
            "linecolor": "white",
            "ticks": ""
           },
           "bgcolor": "#E5ECF6",
           "radialaxis": {
            "gridcolor": "white",
            "linecolor": "white",
            "ticks": ""
           }
          },
          "scene": {
           "xaxis": {
            "backgroundcolor": "#E5ECF6",
            "gridcolor": "white",
            "gridwidth": 2,
            "linecolor": "white",
            "showbackground": true,
            "ticks": "",
            "zerolinecolor": "white"
           },
           "yaxis": {
            "backgroundcolor": "#E5ECF6",
            "gridcolor": "white",
            "gridwidth": 2,
            "linecolor": "white",
            "showbackground": true,
            "ticks": "",
            "zerolinecolor": "white"
           },
           "zaxis": {
            "backgroundcolor": "#E5ECF6",
            "gridcolor": "white",
            "gridwidth": 2,
            "linecolor": "white",
            "showbackground": true,
            "ticks": "",
            "zerolinecolor": "white"
           }
          },
          "shapedefaults": {
           "line": {
            "color": "#2a3f5f"
           }
          },
          "ternary": {
           "aaxis": {
            "gridcolor": "white",
            "linecolor": "white",
            "ticks": ""
           },
           "baxis": {
            "gridcolor": "white",
            "linecolor": "white",
            "ticks": ""
           },
           "bgcolor": "#E5ECF6",
           "caxis": {
            "gridcolor": "white",
            "linecolor": "white",
            "ticks": ""
           }
          },
          "title": {
           "x": 0.05
          },
          "xaxis": {
           "automargin": true,
           "gridcolor": "white",
           "linecolor": "white",
           "ticks": "",
           "title": {
            "standoff": 15
           },
           "zerolinecolor": "white",
           "zerolinewidth": 2
          },
          "yaxis": {
           "automargin": true,
           "gridcolor": "white",
           "linecolor": "white",
           "ticks": "",
           "title": {
            "standoff": 15
           },
           "zerolinecolor": "white",
           "zerolinewidth": 2
          }
         }
        },
        "title": {
         "font": {
          "color": "#4D5663"
         }
        },
        "xaxis": {
         "gridcolor": "#E1E5ED",
         "showgrid": true,
         "tickfont": {
          "color": "#4D5663"
         },
         "title": {
          "font": {
           "color": "#4D5663"
          },
          "text": "Carrots Price"
         },
         "zerolinecolor": "#E1E5ED"
        },
        "yaxis": {
         "gridcolor": "#E1E5ED",
         "showgrid": true,
         "tickfont": {
          "color": "#4D5663"
         },
         "title": {
          "font": {
           "color": "#4D5663"
          },
          "text": "Nutrients"
         },
         "zerolinecolor": "#E1E5ED"
        }
       }
      },
      "text/html": [
       "<div>                            <div id=\"697daa73-bab9-46e6-9e36-150d21aa6fec\" class=\"plotly-graph-div\" style=\"height:525px; width:100%;\"></div>            <script type=\"text/javascript\">                require([\"plotly\"], function(Plotly) {                    window.PLOTLYENV=window.PLOTLYENV || {};\n",
       "                    window.PLOTLYENV.BASE_URL='https://plot.ly';                                    if (document.getElementById(\"697daa73-bab9-46e6-9e36-150d21aa6fec\")) {                    Plotly.newPlot(                        \"697daa73-bab9-46e6-9e36-150d21aa6fec\",                        [{\"line\":{\"color\":\"rgba(255, 153, 51, 1.0)\",\"dash\":\"solid\",\"shape\":\"linear\",\"width\":1.3},\"mode\":\"lines\",\"name\":\"Carbohydrate, by difference\",\"text\":\"\",\"x\":[0.34500000000000003,0.5175000000000001,0.6210000000000001,0.6900000000000001,0.7590000000000001,0.8280000000000001,0.8970000000000001,0.966,1.0350000000000001,1.3800000000000001,2.7600000000000002],\"y\":[330.86728211603764,323.529553794795,323.529553794795,323.529553794795,323.59516610653503,323.59516610653503,323.46296425134153,323.46296425134153,323.63778029563724,508.2981464848381,541.2961220916549],\"type\":\"scatter\"},{\"line\":{\"color\":\"rgba(55, 128, 191, 1.0)\",\"dash\":\"solid\",\"shape\":\"linear\",\"width\":1.3},\"mode\":\"lines\",\"name\":\"Energy\",\"text\":\"\",\"x\":[0.34500000000000003,0.5175000000000001,0.6210000000000001,0.6900000000000001,0.7590000000000001,0.8280000000000001,0.8970000000000001,0.966,1.0350000000000001,1.3800000000000001,2.7600000000000002],\"y\":[1800.0,1800.0,1800.0,1800.0,1799.9999999999998,1799.9999999999998,1800.0,1800.0,1801.5907608621442,2929.296696591308,3100.0000000000005],\"type\":\"scatter\"},{\"line\":{\"color\":\"rgba(50, 171, 96, 1.0)\",\"dash\":\"solid\",\"shape\":\"linear\",\"width\":1.3},\"mode\":\"lines\",\"name\":\"Protein\",\"text\":\"\",\"x\":[0.34500000000000003,0.5175000000000001,0.6210000000000001,0.6900000000000001,0.7590000000000001,0.8280000000000001,0.8970000000000001,0.966,1.0350000000000001,1.3800000000000001,2.7600000000000002],\"y\":[45.99999999999999,46.08173919035694,46.08173919035694,46.08173919035694,46.09312336951417,46.09312336951417,46.000000000000014,46.000000000000014,46.00000000000001,63.886621912942616,64.82442520437493],\"type\":\"scatter\"},{\"line\":{\"color\":\"rgba(128, 0, 128, 1.0)\",\"dash\":\"solid\",\"shape\":\"linear\",\"width\":1.3},\"mode\":\"lines\",\"name\":\"Total lipid (fat)\",\"text\":\"\",\"x\":[0.34500000000000003,0.5175000000000001,0.6210000000000001,0.6900000000000001,0.7590000000000001,0.8280000000000001,0.8970000000000001,0.966,1.0350000000000001,1.3800000000000001,2.7600000000000002],\"y\":[34.960153821874485,35.75752712527635,35.75752712527635,35.75752712527635,35.71923476891837,35.71923476891837,35.86200341464055,35.86200341464055,35.943245762114174,52.013484180087396,55.20878989918885],\"type\":\"scatter\"}],                        {\"legend\":{\"bgcolor\":\"#F5F6F9\",\"font\":{\"color\":\"#4D5663\"}},\"paper_bgcolor\":\"#F5F6F9\",\"plot_bgcolor\":\"#F5F6F9\",\"template\":{\"data\":{\"barpolar\":[{\"marker\":{\"line\":{\"color\":\"#E5ECF6\",\"width\":0.5},\"pattern\":{\"fillmode\":\"overlay\",\"size\":10,\"solidity\":0.2}},\"type\":\"barpolar\"}],\"bar\":[{\"error_x\":{\"color\":\"#2a3f5f\"},\"error_y\":{\"color\":\"#2a3f5f\"},\"marker\":{\"line\":{\"color\":\"#E5ECF6\",\"width\":0.5},\"pattern\":{\"fillmode\":\"overlay\",\"size\":10,\"solidity\":0.2}},\"type\":\"bar\"}],\"carpet\":[{\"aaxis\":{\"endlinecolor\":\"#2a3f5f\",\"gridcolor\":\"white\",\"linecolor\":\"white\",\"minorgridcolor\":\"white\",\"startlinecolor\":\"#2a3f5f\"},\"baxis\":{\"endlinecolor\":\"#2a3f5f\",\"gridcolor\":\"white\",\"linecolor\":\"white\",\"minorgridcolor\":\"white\",\"startlinecolor\":\"#2a3f5f\"},\"type\":\"carpet\"}],\"choropleth\":[{\"colorbar\":{\"outlinewidth\":0,\"ticks\":\"\"},\"type\":\"choropleth\"}],\"contourcarpet\":[{\"colorbar\":{\"outlinewidth\":0,\"ticks\":\"\"},\"type\":\"contourcarpet\"}],\"contour\":[{\"colorbar\":{\"outlinewidth\":0,\"ticks\":\"\"},\"colorscale\":[[0.0,\"#0d0887\"],[0.1111111111111111,\"#46039f\"],[0.2222222222222222,\"#7201a8\"],[0.3333333333333333,\"#9c179e\"],[0.4444444444444444,\"#bd3786\"],[0.5555555555555556,\"#d8576b\"],[0.6666666666666666,\"#ed7953\"],[0.7777777777777778,\"#fb9f3a\"],[0.8888888888888888,\"#fdca26\"],[1.0,\"#f0f921\"]],\"type\":\"contour\"}],\"heatmapgl\":[{\"colorbar\":{\"outlinewidth\":0,\"ticks\":\"\"},\"colorscale\":[[0.0,\"#0d0887\"],[0.1111111111111111,\"#46039f\"],[0.2222222222222222,\"#7201a8\"],[0.3333333333333333,\"#9c179e\"],[0.4444444444444444,\"#bd3786\"],[0.5555555555555556,\"#d8576b\"],[0.6666666666666666,\"#ed7953\"],[0.7777777777777778,\"#fb9f3a\"],[0.8888888888888888,\"#fdca26\"],[1.0,\"#f0f921\"]],\"type\":\"heatmapgl\"}],\"heatmap\":[{\"colorbar\":{\"outlinewidth\":0,\"ticks\":\"\"},\"colorscale\":[[0.0,\"#0d0887\"],[0.1111111111111111,\"#46039f\"],[0.2222222222222222,\"#7201a8\"],[0.3333333333333333,\"#9c179e\"],[0.4444444444444444,\"#bd3786\"],[0.5555555555555556,\"#d8576b\"],[0.6666666666666666,\"#ed7953\"],[0.7777777777777778,\"#fb9f3a\"],[0.8888888888888888,\"#fdca26\"],[1.0,\"#f0f921\"]],\"type\":\"heatmap\"}],\"histogram2dcontour\":[{\"colorbar\":{\"outlinewidth\":0,\"ticks\":\"\"},\"colorscale\":[[0.0,\"#0d0887\"],[0.1111111111111111,\"#46039f\"],[0.2222222222222222,\"#7201a8\"],[0.3333333333333333,\"#9c179e\"],[0.4444444444444444,\"#bd3786\"],[0.5555555555555556,\"#d8576b\"],[0.6666666666666666,\"#ed7953\"],[0.7777777777777778,\"#fb9f3a\"],[0.8888888888888888,\"#fdca26\"],[1.0,\"#f0f921\"]],\"type\":\"histogram2dcontour\"}],\"histogram2d\":[{\"colorbar\":{\"outlinewidth\":0,\"ticks\":\"\"},\"colorscale\":[[0.0,\"#0d0887\"],[0.1111111111111111,\"#46039f\"],[0.2222222222222222,\"#7201a8\"],[0.3333333333333333,\"#9c179e\"],[0.4444444444444444,\"#bd3786\"],[0.5555555555555556,\"#d8576b\"],[0.6666666666666666,\"#ed7953\"],[0.7777777777777778,\"#fb9f3a\"],[0.8888888888888888,\"#fdca26\"],[1.0,\"#f0f921\"]],\"type\":\"histogram2d\"}],\"histogram\":[{\"marker\":{\"pattern\":{\"fillmode\":\"overlay\",\"size\":10,\"solidity\":0.2}},\"type\":\"histogram\"}],\"mesh3d\":[{\"colorbar\":{\"outlinewidth\":0,\"ticks\":\"\"},\"type\":\"mesh3d\"}],\"parcoords\":[{\"line\":{\"colorbar\":{\"outlinewidth\":0,\"ticks\":\"\"}},\"type\":\"parcoords\"}],\"pie\":[{\"automargin\":true,\"type\":\"pie\"}],\"scatter3d\":[{\"line\":{\"colorbar\":{\"outlinewidth\":0,\"ticks\":\"\"}},\"marker\":{\"colorbar\":{\"outlinewidth\":0,\"ticks\":\"\"}},\"type\":\"scatter3d\"}],\"scattercarpet\":[{\"marker\":{\"colorbar\":{\"outlinewidth\":0,\"ticks\":\"\"}},\"type\":\"scattercarpet\"}],\"scattergeo\":[{\"marker\":{\"colorbar\":{\"outlinewidth\":0,\"ticks\":\"\"}},\"type\":\"scattergeo\"}],\"scattergl\":[{\"marker\":{\"colorbar\":{\"outlinewidth\":0,\"ticks\":\"\"}},\"type\":\"scattergl\"}],\"scattermapbox\":[{\"marker\":{\"colorbar\":{\"outlinewidth\":0,\"ticks\":\"\"}},\"type\":\"scattermapbox\"}],\"scatterpolargl\":[{\"marker\":{\"colorbar\":{\"outlinewidth\":0,\"ticks\":\"\"}},\"type\":\"scatterpolargl\"}],\"scatterpolar\":[{\"marker\":{\"colorbar\":{\"outlinewidth\":0,\"ticks\":\"\"}},\"type\":\"scatterpolar\"}],\"scatter\":[{\"fillpattern\":{\"fillmode\":\"overlay\",\"size\":10,\"solidity\":0.2},\"type\":\"scatter\"}],\"scatterternary\":[{\"marker\":{\"colorbar\":{\"outlinewidth\":0,\"ticks\":\"\"}},\"type\":\"scatterternary\"}],\"surface\":[{\"colorbar\":{\"outlinewidth\":0,\"ticks\":\"\"},\"colorscale\":[[0.0,\"#0d0887\"],[0.1111111111111111,\"#46039f\"],[0.2222222222222222,\"#7201a8\"],[0.3333333333333333,\"#9c179e\"],[0.4444444444444444,\"#bd3786\"],[0.5555555555555556,\"#d8576b\"],[0.6666666666666666,\"#ed7953\"],[0.7777777777777778,\"#fb9f3a\"],[0.8888888888888888,\"#fdca26\"],[1.0,\"#f0f921\"]],\"type\":\"surface\"}],\"table\":[{\"cells\":{\"fill\":{\"color\":\"#EBF0F8\"},\"line\":{\"color\":\"white\"}},\"header\":{\"fill\":{\"color\":\"#C8D4E3\"},\"line\":{\"color\":\"white\"}},\"type\":\"table\"}]},\"layout\":{\"annotationdefaults\":{\"arrowcolor\":\"#2a3f5f\",\"arrowhead\":0,\"arrowwidth\":1},\"autotypenumbers\":\"strict\",\"coloraxis\":{\"colorbar\":{\"outlinewidth\":0,\"ticks\":\"\"}},\"colorscale\":{\"diverging\":[[0,\"#8e0152\"],[0.1,\"#c51b7d\"],[0.2,\"#de77ae\"],[0.3,\"#f1b6da\"],[0.4,\"#fde0ef\"],[0.5,\"#f7f7f7\"],[0.6,\"#e6f5d0\"],[0.7,\"#b8e186\"],[0.8,\"#7fbc41\"],[0.9,\"#4d9221\"],[1,\"#276419\"]],\"sequential\":[[0.0,\"#0d0887\"],[0.1111111111111111,\"#46039f\"],[0.2222222222222222,\"#7201a8\"],[0.3333333333333333,\"#9c179e\"],[0.4444444444444444,\"#bd3786\"],[0.5555555555555556,\"#d8576b\"],[0.6666666666666666,\"#ed7953\"],[0.7777777777777778,\"#fb9f3a\"],[0.8888888888888888,\"#fdca26\"],[1.0,\"#f0f921\"]],\"sequentialminus\":[[0.0,\"#0d0887\"],[0.1111111111111111,\"#46039f\"],[0.2222222222222222,\"#7201a8\"],[0.3333333333333333,\"#9c179e\"],[0.4444444444444444,\"#bd3786\"],[0.5555555555555556,\"#d8576b\"],[0.6666666666666666,\"#ed7953\"],[0.7777777777777778,\"#fb9f3a\"],[0.8888888888888888,\"#fdca26\"],[1.0,\"#f0f921\"]]},\"colorway\":[\"#636efa\",\"#EF553B\",\"#00cc96\",\"#ab63fa\",\"#FFA15A\",\"#19d3f3\",\"#FF6692\",\"#B6E880\",\"#FF97FF\",\"#FECB52\"],\"font\":{\"color\":\"#2a3f5f\"},\"geo\":{\"bgcolor\":\"white\",\"lakecolor\":\"white\",\"landcolor\":\"#E5ECF6\",\"showlakes\":true,\"showland\":true,\"subunitcolor\":\"white\"},\"hoverlabel\":{\"align\":\"left\"},\"hovermode\":\"closest\",\"mapbox\":{\"style\":\"light\"},\"paper_bgcolor\":\"white\",\"plot_bgcolor\":\"#E5ECF6\",\"polar\":{\"angularaxis\":{\"gridcolor\":\"white\",\"linecolor\":\"white\",\"ticks\":\"\"},\"bgcolor\":\"#E5ECF6\",\"radialaxis\":{\"gridcolor\":\"white\",\"linecolor\":\"white\",\"ticks\":\"\"}},\"scene\":{\"xaxis\":{\"backgroundcolor\":\"#E5ECF6\",\"gridcolor\":\"white\",\"gridwidth\":2,\"linecolor\":\"white\",\"showbackground\":true,\"ticks\":\"\",\"zerolinecolor\":\"white\"},\"yaxis\":{\"backgroundcolor\":\"#E5ECF6\",\"gridcolor\":\"white\",\"gridwidth\":2,\"linecolor\":\"white\",\"showbackground\":true,\"ticks\":\"\",\"zerolinecolor\":\"white\"},\"zaxis\":{\"backgroundcolor\":\"#E5ECF6\",\"gridcolor\":\"white\",\"gridwidth\":2,\"linecolor\":\"white\",\"showbackground\":true,\"ticks\":\"\",\"zerolinecolor\":\"white\"}},\"shapedefaults\":{\"line\":{\"color\":\"#2a3f5f\"}},\"ternary\":{\"aaxis\":{\"gridcolor\":\"white\",\"linecolor\":\"white\",\"ticks\":\"\"},\"baxis\":{\"gridcolor\":\"white\",\"linecolor\":\"white\",\"ticks\":\"\"},\"bgcolor\":\"#E5ECF6\",\"caxis\":{\"gridcolor\":\"white\",\"linecolor\":\"white\",\"ticks\":\"\"}},\"title\":{\"x\":0.05},\"xaxis\":{\"automargin\":true,\"gridcolor\":\"white\",\"linecolor\":\"white\",\"ticks\":\"\",\"title\":{\"standoff\":15},\"zerolinecolor\":\"white\",\"zerolinewidth\":2},\"yaxis\":{\"automargin\":true,\"gridcolor\":\"white\",\"linecolor\":\"white\",\"ticks\":\"\",\"title\":{\"standoff\":15},\"zerolinecolor\":\"white\",\"zerolinewidth\":2}}},\"title\":{\"font\":{\"color\":\"#4D5663\"}},\"xaxis\":{\"gridcolor\":\"#E1E5ED\",\"showgrid\":true,\"tickfont\":{\"color\":\"#4D5663\"},\"title\":{\"font\":{\"color\":\"#4D5663\"},\"text\":\"Carrots Price\"},\"zerolinecolor\":\"#E1E5ED\"},\"yaxis\":{\"gridcolor\":\"#E1E5ED\",\"showgrid\":true,\"tickfont\":{\"color\":\"#4D5663\"},\"title\":{\"font\":{\"color\":\"#4D5663\"},\"text\":\"Nutrients\"},\"zerolinecolor\":\"#E1E5ED\"}},                        {\"showLink\": true, \"linkText\": \"Export to plot.ly\", \"plotlyServerURL\": \"https://plot.ly\", \"responsive\": true}                    ).then(function(){\n",
       "                            \n",
       "var gd = document.getElementById('697daa73-bab9-46e6-9e36-150d21aa6fec');\n",
       "var x = new MutationObserver(function (mutations, observer) {{\n",
       "        var display = window.getComputedStyle(gd).display;\n",
       "        if (!display || display === 'none') {{\n",
       "            console.log([gd, 'removed!']);\n",
       "            Plotly.purge(gd);\n",
       "            observer.disconnect();\n",
       "        }}\n",
       "}});\n",
       "\n",
       "// Listen for the removal of the full notebook cells\n",
       "var notebookContainer = gd.closest('#notebook-container');\n",
       "if (notebookContainer) {{\n",
       "    x.observe(notebookContainer, {childList: true});\n",
       "}}\n",
       "\n",
       "// Listen for the clearing of the current output cell\n",
       "var outputEl = gd.closest('.output');\n",
       "if (outputEl) {{\n",
       "    x.observe(outputEl, {childList: true});\n",
       "}}\n",
       "\n",
       "                        })                };                });            </script>        </div>"
      ]
     },
     "metadata": {},
     "output_type": "display_data"
    }
   ],
   "source": [
    "# Matrix product maps quantities of food into quantities of nutrients\n",
    "NutrientResponse = Diet_response@FoodNutrients.T\n",
    "\n",
    "# Drop columns of missing nutrients\n",
    "NutrientResponse = NutrientResponse.loc[:,NutrientResponse.count()>0]\n",
    "NutrientResponse.iplot(xTitle='%s Price' % ReferenceGood,yTitle='Nutrients')"
   ]
  },
  {
   "cell_type": "markdown",
   "metadata": {},
   "source": [
    "When the price of carrots increase and the consumption of carrots decrease (while french fries and orange juice consumption increases), the different nutritutional values remain relatively similar. "
   ]
  },
  {
   "cell_type": "markdown",
   "metadata": {},
   "source": [
    "## Adding Constraint on Total Weight\n",
    "\n"
   ]
  },
  {
   "cell_type": "markdown",
   "metadata": {},
   "source": [
    "At least at some prices the minimum cost subistence diet involves\n",
    "eating unreasonable amounts of food (e.g., 10 kilograms of cabbage per\n",
    "day).  We can easily add an additional constraint of the form\n",
    "$$\n",
    "     \\sum x_i \\leq \\text{max weight}\n",
    "$$\n",
    "to our linear programming problem since it&rsquo;s just another linear\n",
    "inequality, and this may give us more realistic results.\n",
    "\n"
   ]
  },
  {
   "cell_type": "markdown",
   "metadata": {},
   "source": [
    "### Price Changes and Subsistence Diet Composition with Weight Constraint\n",
    "\n"
   ]
  },
  {
   "cell_type": "markdown",
   "metadata": {},
   "source": [
    "Re-do our analysis of changing prices, but with a constraint that\n",
    "  total weight of diet must be less that 120 hectograms (12 kg).\n",
    "\n"
   ]
  },
  {
   "cell_type": "code",
   "execution_count": 18,
   "metadata": {},
   "outputs": [
    {
     "data": {
      "text/html": [
       "        <script type=\"text/javascript\">\n",
       "        window.PlotlyConfig = {MathJaxConfig: 'local'};\n",
       "        if (window.MathJax && window.MathJax.Hub && window.MathJax.Hub.Config) {window.MathJax.Hub.Config({SVG: {font: \"STIX-Web\"}});}\n",
       "        if (typeof require !== 'undefined') {\n",
       "        require.undef(\"plotly\");\n",
       "        requirejs.config({\n",
       "            paths: {\n",
       "                'plotly': ['https://cdn.plot.ly/plotly-2.12.1.min']\n",
       "            }\n",
       "        });\n",
       "        require(['plotly'], function(Plotly) {\n",
       "            window._Plotly = Plotly;\n",
       "        });\n",
       "        }\n",
       "        </script>\n",
       "        "
      ]
     },
     "metadata": {},
     "output_type": "display_data"
    },
    {
     "name": "stderr",
     "output_type": "stream",
     "text": [
      "/var/folders/97/l1_w165s1z38tw82rlydjzp00000gn/T/ipykernel_11487/1933629946.py:78: UserWarning:\n",
      "\n",
      "The problem is infeasible. (HiGHS Status 8: model_status is Infeasible; primal_status is At lower/fixed bound)\n",
      "\n",
      "/var/folders/97/l1_w165s1z38tw82rlydjzp00000gn/T/ipykernel_11487/1933629946.py:79: FutureWarning:\n",
      "\n",
      "The default dtype for empty Series will be 'object' instead of 'float64' in a future version. Specify a dtype explicitly to silence this warning.\n",
      "\n",
      "/Users/vishalivallioor/anaconda3/lib/python3.10/site-packages/pandas/core/dtypes/cast.py:1784: UnitStrippedWarning:\n",
      "\n",
      "The unit of the quantity is stripped when downcasting to ndarray.\n",
      "\n"
     ]
    },
    {
     "data": {
      "application/vnd.plotly.v1+json": {
       "config": {
        "linkText": "Export to plot.ly",
        "plotlyServerURL": "https://plot.ly",
        "showLink": true
       },
       "data": [
        {
         "line": {
          "color": "rgba(255, 153, 51, 1.0)",
          "dash": "solid",
          "shape": "linear",
          "width": 1.3
         },
         "mode": "lines",
         "name": "Cheddar Cheese ",
         "text": "",
         "type": "scatter",
         "x": [
          0.34500000000000003,
          0.5175000000000001,
          0.6210000000000001,
          0.6900000000000001,
          0.7590000000000001,
          0.8280000000000001,
          0.8970000000000001,
          0.966,
          1.0350000000000001,
          1.3800000000000001,
          2.7600000000000002
         ],
         "y": [
          0.45425803022834943,
          0.4635852383250739,
          0.4635852383250739,
          0.4635852383250739,
          0.4636798002956153,
          0.4636798002956153,
          0.46591817074500447,
          0.46591817074500447,
          0.4667780409011608,
          0,
          0
         ]
        },
        {
         "line": {
          "color": "rgba(55, 128, 191, 1.0)",
          "dash": "solid",
          "shape": "linear",
          "width": 1.3
         },
         "mode": "lines",
         "name": "Skim Milk Powder ",
         "text": "",
         "type": "scatter",
         "x": [
          0.34500000000000003,
          0.5175000000000001,
          0.6210000000000001,
          0.6900000000000001,
          0.7590000000000001,
          0.8280000000000001,
          0.8970000000000001,
          0.966,
          1.0350000000000001,
          1.3800000000000001,
          2.7600000000000002
         ],
         "y": [
          0,
          0,
          0,
          0,
          0.004971654452727307,
          0.004971654452727307,
          0.0013261676895465371,
          0.0013261676895465371,
          0,
          0,
          0
         ]
        },
        {
         "line": {
          "color": "rgba(50, 171, 96, 1.0)",
          "dash": "solid",
          "shape": "linear",
          "width": 1.3
         },
         "mode": "lines",
         "name": "Corn Flakes",
         "text": "",
         "type": "scatter",
         "x": [
          0.34500000000000003,
          0.5175000000000001,
          0.6210000000000001,
          0.6900000000000001,
          0.7590000000000001,
          0.8280000000000001,
          0.8970000000000001,
          0.966,
          1.0350000000000001,
          1.3800000000000001,
          2.7600000000000002
         ],
         "y": [
          0.29549466719353246,
          0.272290252933748,
          0.272290252933748,
          0.272290252933748,
          0.2722566142189322,
          0.2722566142189322,
          0.27262105708014306,
          0.27262105708014306,
          0.2722716120360927,
          0,
          0
         ]
        },
        {
         "line": {
          "color": "rgba(128, 0, 128, 1.0)",
          "dash": "solid",
          "shape": "linear",
          "width": 1.3
         },
         "mode": "lines",
         "name": "Flour",
         "text": "",
         "type": "scatter",
         "x": [
          0.34500000000000003,
          0.5175000000000001,
          0.6210000000000001,
          0.6900000000000001,
          0.7590000000000001,
          0.8280000000000001,
          0.8970000000000001,
          0.966,
          1.0350000000000001,
          1.3800000000000001,
          2.7600000000000002
         ],
         "y": [
          0.593774098076513,
          0.8732530655162973,
          0.8732530655162973,
          0.8732530655162973,
          0.8736966345595847,
          0.8736966345595847,
          0.8723434806298587,
          0.8723434806298587,
          0.8756896040871768,
          2.7806371704038293,
          2.8343471321651803
         ]
        },
        {
         "line": {
          "color": "rgba(219, 64, 82, 1.0)",
          "dash": "solid",
          "shape": "linear",
          "width": 1.3
         },
         "mode": "lines",
         "name": "Frozen Corn",
         "text": "",
         "type": "scatter",
         "x": [
          0.34500000000000003,
          0.5175000000000001,
          0.6210000000000001,
          0.6900000000000001,
          0.7590000000000001,
          0.8280000000000001,
          0.8970000000000001,
          0.966,
          1.0350000000000001,
          1.3800000000000001,
          2.7600000000000002
         ],
         "y": [
          2.268635610012755,
          2.5013808786754104,
          2.5013808786754104,
          2.5013808786754104,
          2.5038122539961485,
          2.5038122539961485,
          2.4932053897597877,
          2.4932053897597877,
          2.489799212469513,
          6.767165502247927,
          6.546722661748803
         ]
        },
        {
         "line": {
          "color": "rgba(0, 128, 128, 1.0)",
          "dash": "solid",
          "shape": "linear",
          "width": 1.3
         },
         "mode": "lines",
         "name": "Carrots",
         "text": "",
         "type": "scatter",
         "x": [
          0.34500000000000003,
          0.5175000000000001,
          0.6210000000000001,
          0.6900000000000001,
          0.7590000000000001,
          0.8280000000000001,
          0.8970000000000001,
          0.966,
          1.0350000000000001,
          1.3800000000000001,
          2.7600000000000002
         ],
         "y": [
          20.23753296543084,
          18.886755180288095,
          18.886755180288095,
          18.886755180288095,
          18.873885051176302,
          18.873885051176302,
          18.85891307199344,
          18.85891307199344,
          18.847659004699253,
          12.294749210235624,
          11.51816134864665
         ]
        },
        {
         "line": {
          "color": "rgba(255, 255, 51, 1.0)",
          "dash": "solid",
          "shape": "linear",
          "width": 1.3
         },
         "mode": "lines",
         "name": "Apples ",
         "text": "",
         "type": "scatter",
         "x": [
          0.34500000000000003,
          0.5175000000000001,
          0.6210000000000001,
          0.6900000000000001,
          0.7590000000000001,
          0.8280000000000001,
          0.8970000000000001,
          0.966,
          1.0350000000000001,
          1.3800000000000001,
          2.7600000000000002
         ],
         "y": [
          0.24361128188384357,
          0,
          0,
          0,
          0,
          0,
          0,
          0,
          0,
          0,
          0
         ]
        },
        {
         "line": {
          "color": "rgba(128, 128, 0, 1.0)",
          "dash": "solid",
          "shape": "linear",
          "width": 1.3
         },
         "mode": "lines",
         "name": "Bananas",
         "text": "",
         "type": "scatter",
         "x": [
          0.34500000000000003,
          0.5175000000000001,
          0.6210000000000001,
          0.6900000000000001,
          0.7590000000000001,
          0.8280000000000001,
          0.8970000000000001,
          0.966,
          1.0350000000000001,
          1.3800000000000001,
          2.7600000000000002
         ],
         "y": [
          0,
          0,
          0,
          0,
          0,
          0,
          0,
          0,
          0,
          0,
          1.473153318897977
         ]
        },
        {
         "line": {
          "color": "rgba(251, 128, 114, 1.0)",
          "dash": "solid",
          "shape": "linear",
          "width": 1.3
         },
         "mode": "lines",
         "name": "Peanut Butter ",
         "text": "",
         "type": "scatter",
         "x": [
          0.34500000000000003,
          0.5175000000000001,
          0.6210000000000001,
          0.6900000000000001,
          0.7590000000000001,
          0.8280000000000001,
          0.8970000000000001,
          0.966,
          1.0350000000000001,
          1.3800000000000001,
          2.7600000000000002
         ],
         "y": [
          0.12805251539256746,
          0,
          0,
          0,
          0,
          0,
          0,
          0,
          0,
          0,
          0
         ]
        },
        {
         "line": {
          "color": "rgba(128, 177, 211, 1.0)",
          "dash": "solid",
          "shape": "linear",
          "width": 1.3
         },
         "mode": "lines",
         "name": "Canned Pink Salmon",
         "text": "",
         "type": "scatter",
         "x": [
          0.34500000000000003,
          0.5175000000000001,
          0.6210000000000001,
          0.6900000000000001,
          0.7590000000000001,
          0.8280000000000001,
          0.8970000000000001,
          0.966,
          1.0350000000000001,
          1.3800000000000001,
          2.7600000000000002
         ],
         "y": [
          0.12104920427733595,
          0.14353599116275984,
          0.14353599116275984,
          0.14353599116275984,
          0.14354906613633078,
          0.14354906613633078,
          0.1426213593873691,
          0.1426213593873691,
          0.14278668549897605,
          0.5454545454545454,
          0.5454545454545454
         ]
        },
        {
         "line": {
          "color": "rgba(128, 177, 211, 0.8999999999999999)",
          "dash": "solid",
          "shape": "linear",
          "width": 1.3
         },
         "mode": "lines",
         "name": "Frozen French Fries",
         "text": "",
         "type": "scatter",
         "x": [
          0.34500000000000003,
          0.5175000000000001,
          0.6210000000000001,
          0.6900000000000001,
          0.7590000000000001,
          0.8280000000000001,
          0.8970000000000001,
          0.966,
          1.0350000000000001,
          1.3800000000000001,
          2.7600000000000002
         ],
         "y": [
          0,
          0.4090351337566819,
          0.4090351337566819,
          0.4090351337566819,
          0.412937360723493,
          0.412937360723493,
          0.42091767249855694,
          0.42091767249855694,
          0.42559696306029765,
          1.583574308208625,
          1.8496577096528282
         ]
        },
        {
         "line": {
          "color": "rgba(255, 153, 51, 0.8999999999999999)",
          "dash": "solid",
          "shape": "linear",
          "width": 1.3
         },
         "mode": "lines",
         "name": "Milk 2%",
         "text": "",
         "type": "scatter",
         "x": [
          0.34500000000000003,
          0.5175000000000001,
          0.6210000000000001,
          0.6900000000000001,
          0.7590000000000001,
          0.8280000000000001,
          0.8970000000000001,
          0.966,
          1.0350000000000001,
          1.3800000000000001,
          2.7600000000000002
         ],
         "y": [
          0,
          0.04817754604191061,
          0.04817754604191061,
          0.04817754604191061,
          0,
          0,
          0,
          0,
          0,
          0,
          0
         ]
        },
        {
         "line": {
          "color": "rgba(55, 128, 191, 0.8999999999999999)",
          "dash": "solid",
          "shape": "linear",
          "width": 1.3
         },
         "mode": "lines",
         "name": "Orange Juice",
         "text": "",
         "type": "scatter",
         "x": [
          0.34500000000000003,
          0.5175000000000001,
          0.6210000000000001,
          0.6900000000000001,
          0.7590000000000001,
          0.8280000000000001,
          0.8970000000000001,
          0.966,
          1.0350000000000001,
          1.3800000000000001,
          2.7600000000000002
         ],
         "y": [
          0,
          0,
          0,
          0,
          0,
          0,
          0.02578774258599594,
          0.02578774258599594,
          0.03537723503049498,
          3.0087653074825926,
          3.1183272523014787
         ]
        }
       ],
       "layout": {
        "legend": {
         "bgcolor": "#F5F6F9",
         "font": {
          "color": "#4D5663"
         }
        },
        "paper_bgcolor": "#F5F6F9",
        "plot_bgcolor": "#F5F6F9",
        "template": {
         "data": {
          "bar": [
           {
            "error_x": {
             "color": "#2a3f5f"
            },
            "error_y": {
             "color": "#2a3f5f"
            },
            "marker": {
             "line": {
              "color": "#E5ECF6",
              "width": 0.5
             },
             "pattern": {
              "fillmode": "overlay",
              "size": 10,
              "solidity": 0.2
             }
            },
            "type": "bar"
           }
          ],
          "barpolar": [
           {
            "marker": {
             "line": {
              "color": "#E5ECF6",
              "width": 0.5
             },
             "pattern": {
              "fillmode": "overlay",
              "size": 10,
              "solidity": 0.2
             }
            },
            "type": "barpolar"
           }
          ],
          "carpet": [
           {
            "aaxis": {
             "endlinecolor": "#2a3f5f",
             "gridcolor": "white",
             "linecolor": "white",
             "minorgridcolor": "white",
             "startlinecolor": "#2a3f5f"
            },
            "baxis": {
             "endlinecolor": "#2a3f5f",
             "gridcolor": "white",
             "linecolor": "white",
             "minorgridcolor": "white",
             "startlinecolor": "#2a3f5f"
            },
            "type": "carpet"
           }
          ],
          "choropleth": [
           {
            "colorbar": {
             "outlinewidth": 0,
             "ticks": ""
            },
            "type": "choropleth"
           }
          ],
          "contour": [
           {
            "colorbar": {
             "outlinewidth": 0,
             "ticks": ""
            },
            "colorscale": [
             [
              0,
              "#0d0887"
             ],
             [
              0.1111111111111111,
              "#46039f"
             ],
             [
              0.2222222222222222,
              "#7201a8"
             ],
             [
              0.3333333333333333,
              "#9c179e"
             ],
             [
              0.4444444444444444,
              "#bd3786"
             ],
             [
              0.5555555555555556,
              "#d8576b"
             ],
             [
              0.6666666666666666,
              "#ed7953"
             ],
             [
              0.7777777777777778,
              "#fb9f3a"
             ],
             [
              0.8888888888888888,
              "#fdca26"
             ],
             [
              1,
              "#f0f921"
             ]
            ],
            "type": "contour"
           }
          ],
          "contourcarpet": [
           {
            "colorbar": {
             "outlinewidth": 0,
             "ticks": ""
            },
            "type": "contourcarpet"
           }
          ],
          "heatmap": [
           {
            "colorbar": {
             "outlinewidth": 0,
             "ticks": ""
            },
            "colorscale": [
             [
              0,
              "#0d0887"
             ],
             [
              0.1111111111111111,
              "#46039f"
             ],
             [
              0.2222222222222222,
              "#7201a8"
             ],
             [
              0.3333333333333333,
              "#9c179e"
             ],
             [
              0.4444444444444444,
              "#bd3786"
             ],
             [
              0.5555555555555556,
              "#d8576b"
             ],
             [
              0.6666666666666666,
              "#ed7953"
             ],
             [
              0.7777777777777778,
              "#fb9f3a"
             ],
             [
              0.8888888888888888,
              "#fdca26"
             ],
             [
              1,
              "#f0f921"
             ]
            ],
            "type": "heatmap"
           }
          ],
          "heatmapgl": [
           {
            "colorbar": {
             "outlinewidth": 0,
             "ticks": ""
            },
            "colorscale": [
             [
              0,
              "#0d0887"
             ],
             [
              0.1111111111111111,
              "#46039f"
             ],
             [
              0.2222222222222222,
              "#7201a8"
             ],
             [
              0.3333333333333333,
              "#9c179e"
             ],
             [
              0.4444444444444444,
              "#bd3786"
             ],
             [
              0.5555555555555556,
              "#d8576b"
             ],
             [
              0.6666666666666666,
              "#ed7953"
             ],
             [
              0.7777777777777778,
              "#fb9f3a"
             ],
             [
              0.8888888888888888,
              "#fdca26"
             ],
             [
              1,
              "#f0f921"
             ]
            ],
            "type": "heatmapgl"
           }
          ],
          "histogram": [
           {
            "marker": {
             "pattern": {
              "fillmode": "overlay",
              "size": 10,
              "solidity": 0.2
             }
            },
            "type": "histogram"
           }
          ],
          "histogram2d": [
           {
            "colorbar": {
             "outlinewidth": 0,
             "ticks": ""
            },
            "colorscale": [
             [
              0,
              "#0d0887"
             ],
             [
              0.1111111111111111,
              "#46039f"
             ],
             [
              0.2222222222222222,
              "#7201a8"
             ],
             [
              0.3333333333333333,
              "#9c179e"
             ],
             [
              0.4444444444444444,
              "#bd3786"
             ],
             [
              0.5555555555555556,
              "#d8576b"
             ],
             [
              0.6666666666666666,
              "#ed7953"
             ],
             [
              0.7777777777777778,
              "#fb9f3a"
             ],
             [
              0.8888888888888888,
              "#fdca26"
             ],
             [
              1,
              "#f0f921"
             ]
            ],
            "type": "histogram2d"
           }
          ],
          "histogram2dcontour": [
           {
            "colorbar": {
             "outlinewidth": 0,
             "ticks": ""
            },
            "colorscale": [
             [
              0,
              "#0d0887"
             ],
             [
              0.1111111111111111,
              "#46039f"
             ],
             [
              0.2222222222222222,
              "#7201a8"
             ],
             [
              0.3333333333333333,
              "#9c179e"
             ],
             [
              0.4444444444444444,
              "#bd3786"
             ],
             [
              0.5555555555555556,
              "#d8576b"
             ],
             [
              0.6666666666666666,
              "#ed7953"
             ],
             [
              0.7777777777777778,
              "#fb9f3a"
             ],
             [
              0.8888888888888888,
              "#fdca26"
             ],
             [
              1,
              "#f0f921"
             ]
            ],
            "type": "histogram2dcontour"
           }
          ],
          "mesh3d": [
           {
            "colorbar": {
             "outlinewidth": 0,
             "ticks": ""
            },
            "type": "mesh3d"
           }
          ],
          "parcoords": [
           {
            "line": {
             "colorbar": {
              "outlinewidth": 0,
              "ticks": ""
             }
            },
            "type": "parcoords"
           }
          ],
          "pie": [
           {
            "automargin": true,
            "type": "pie"
           }
          ],
          "scatter": [
           {
            "fillpattern": {
             "fillmode": "overlay",
             "size": 10,
             "solidity": 0.2
            },
            "type": "scatter"
           }
          ],
          "scatter3d": [
           {
            "line": {
             "colorbar": {
              "outlinewidth": 0,
              "ticks": ""
             }
            },
            "marker": {
             "colorbar": {
              "outlinewidth": 0,
              "ticks": ""
             }
            },
            "type": "scatter3d"
           }
          ],
          "scattercarpet": [
           {
            "marker": {
             "colorbar": {
              "outlinewidth": 0,
              "ticks": ""
             }
            },
            "type": "scattercarpet"
           }
          ],
          "scattergeo": [
           {
            "marker": {
             "colorbar": {
              "outlinewidth": 0,
              "ticks": ""
             }
            },
            "type": "scattergeo"
           }
          ],
          "scattergl": [
           {
            "marker": {
             "colorbar": {
              "outlinewidth": 0,
              "ticks": ""
             }
            },
            "type": "scattergl"
           }
          ],
          "scattermapbox": [
           {
            "marker": {
             "colorbar": {
              "outlinewidth": 0,
              "ticks": ""
             }
            },
            "type": "scattermapbox"
           }
          ],
          "scatterpolar": [
           {
            "marker": {
             "colorbar": {
              "outlinewidth": 0,
              "ticks": ""
             }
            },
            "type": "scatterpolar"
           }
          ],
          "scatterpolargl": [
           {
            "marker": {
             "colorbar": {
              "outlinewidth": 0,
              "ticks": ""
             }
            },
            "type": "scatterpolargl"
           }
          ],
          "scatterternary": [
           {
            "marker": {
             "colorbar": {
              "outlinewidth": 0,
              "ticks": ""
             }
            },
            "type": "scatterternary"
           }
          ],
          "surface": [
           {
            "colorbar": {
             "outlinewidth": 0,
             "ticks": ""
            },
            "colorscale": [
             [
              0,
              "#0d0887"
             ],
             [
              0.1111111111111111,
              "#46039f"
             ],
             [
              0.2222222222222222,
              "#7201a8"
             ],
             [
              0.3333333333333333,
              "#9c179e"
             ],
             [
              0.4444444444444444,
              "#bd3786"
             ],
             [
              0.5555555555555556,
              "#d8576b"
             ],
             [
              0.6666666666666666,
              "#ed7953"
             ],
             [
              0.7777777777777778,
              "#fb9f3a"
             ],
             [
              0.8888888888888888,
              "#fdca26"
             ],
             [
              1,
              "#f0f921"
             ]
            ],
            "type": "surface"
           }
          ],
          "table": [
           {
            "cells": {
             "fill": {
              "color": "#EBF0F8"
             },
             "line": {
              "color": "white"
             }
            },
            "header": {
             "fill": {
              "color": "#C8D4E3"
             },
             "line": {
              "color": "white"
             }
            },
            "type": "table"
           }
          ]
         },
         "layout": {
          "annotationdefaults": {
           "arrowcolor": "#2a3f5f",
           "arrowhead": 0,
           "arrowwidth": 1
          },
          "autotypenumbers": "strict",
          "coloraxis": {
           "colorbar": {
            "outlinewidth": 0,
            "ticks": ""
           }
          },
          "colorscale": {
           "diverging": [
            [
             0,
             "#8e0152"
            ],
            [
             0.1,
             "#c51b7d"
            ],
            [
             0.2,
             "#de77ae"
            ],
            [
             0.3,
             "#f1b6da"
            ],
            [
             0.4,
             "#fde0ef"
            ],
            [
             0.5,
             "#f7f7f7"
            ],
            [
             0.6,
             "#e6f5d0"
            ],
            [
             0.7,
             "#b8e186"
            ],
            [
             0.8,
             "#7fbc41"
            ],
            [
             0.9,
             "#4d9221"
            ],
            [
             1,
             "#276419"
            ]
           ],
           "sequential": [
            [
             0,
             "#0d0887"
            ],
            [
             0.1111111111111111,
             "#46039f"
            ],
            [
             0.2222222222222222,
             "#7201a8"
            ],
            [
             0.3333333333333333,
             "#9c179e"
            ],
            [
             0.4444444444444444,
             "#bd3786"
            ],
            [
             0.5555555555555556,
             "#d8576b"
            ],
            [
             0.6666666666666666,
             "#ed7953"
            ],
            [
             0.7777777777777778,
             "#fb9f3a"
            ],
            [
             0.8888888888888888,
             "#fdca26"
            ],
            [
             1,
             "#f0f921"
            ]
           ],
           "sequentialminus": [
            [
             0,
             "#0d0887"
            ],
            [
             0.1111111111111111,
             "#46039f"
            ],
            [
             0.2222222222222222,
             "#7201a8"
            ],
            [
             0.3333333333333333,
             "#9c179e"
            ],
            [
             0.4444444444444444,
             "#bd3786"
            ],
            [
             0.5555555555555556,
             "#d8576b"
            ],
            [
             0.6666666666666666,
             "#ed7953"
            ],
            [
             0.7777777777777778,
             "#fb9f3a"
            ],
            [
             0.8888888888888888,
             "#fdca26"
            ],
            [
             1,
             "#f0f921"
            ]
           ]
          },
          "colorway": [
           "#636efa",
           "#EF553B",
           "#00cc96",
           "#ab63fa",
           "#FFA15A",
           "#19d3f3",
           "#FF6692",
           "#B6E880",
           "#FF97FF",
           "#FECB52"
          ],
          "font": {
           "color": "#2a3f5f"
          },
          "geo": {
           "bgcolor": "white",
           "lakecolor": "white",
           "landcolor": "#E5ECF6",
           "showlakes": true,
           "showland": true,
           "subunitcolor": "white"
          },
          "hoverlabel": {
           "align": "left"
          },
          "hovermode": "closest",
          "mapbox": {
           "style": "light"
          },
          "paper_bgcolor": "white",
          "plot_bgcolor": "#E5ECF6",
          "polar": {
           "angularaxis": {
            "gridcolor": "white",
            "linecolor": "white",
            "ticks": ""
           },
           "bgcolor": "#E5ECF6",
           "radialaxis": {
            "gridcolor": "white",
            "linecolor": "white",
            "ticks": ""
           }
          },
          "scene": {
           "xaxis": {
            "backgroundcolor": "#E5ECF6",
            "gridcolor": "white",
            "gridwidth": 2,
            "linecolor": "white",
            "showbackground": true,
            "ticks": "",
            "zerolinecolor": "white"
           },
           "yaxis": {
            "backgroundcolor": "#E5ECF6",
            "gridcolor": "white",
            "gridwidth": 2,
            "linecolor": "white",
            "showbackground": true,
            "ticks": "",
            "zerolinecolor": "white"
           },
           "zaxis": {
            "backgroundcolor": "#E5ECF6",
            "gridcolor": "white",
            "gridwidth": 2,
            "linecolor": "white",
            "showbackground": true,
            "ticks": "",
            "zerolinecolor": "white"
           }
          },
          "shapedefaults": {
           "line": {
            "color": "#2a3f5f"
           }
          },
          "ternary": {
           "aaxis": {
            "gridcolor": "white",
            "linecolor": "white",
            "ticks": ""
           },
           "baxis": {
            "gridcolor": "white",
            "linecolor": "white",
            "ticks": ""
           },
           "bgcolor": "#E5ECF6",
           "caxis": {
            "gridcolor": "white",
            "linecolor": "white",
            "ticks": ""
           }
          },
          "title": {
           "x": 0.05
          },
          "xaxis": {
           "automargin": true,
           "gridcolor": "white",
           "linecolor": "white",
           "ticks": "",
           "title": {
            "standoff": 15
           },
           "zerolinecolor": "white",
           "zerolinewidth": 2
          },
          "yaxis": {
           "automargin": true,
           "gridcolor": "white",
           "linecolor": "white",
           "ticks": "",
           "title": {
            "standoff": 15
           },
           "zerolinecolor": "white",
           "zerolinewidth": 2
          }
         }
        },
        "title": {
         "font": {
          "color": "#4D5663"
         }
        },
        "xaxis": {
         "gridcolor": "#E1E5ED",
         "showgrid": true,
         "tickfont": {
          "color": "#4D5663"
         },
         "title": {
          "font": {
           "color": "#4D5663"
          },
          "text": "Carrots Price"
         },
         "zerolinecolor": "#E1E5ED"
        },
        "yaxis": {
         "gridcolor": "#E1E5ED",
         "showgrid": true,
         "tickfont": {
          "color": "#4D5663"
         },
         "title": {
          "font": {
           "color": "#4D5663"
          },
          "text": "Hectograms"
         },
         "zerolinecolor": "#E1E5ED"
        }
       }
      },
      "text/html": [
       "<div>                            <div id=\"624c7052-a016-4ad8-9a80-bff7b18a6514\" class=\"plotly-graph-div\" style=\"height:525px; width:100%;\"></div>            <script type=\"text/javascript\">                require([\"plotly\"], function(Plotly) {                    window.PLOTLYENV=window.PLOTLYENV || {};\n",
       "                    window.PLOTLYENV.BASE_URL='https://plot.ly';                                    if (document.getElementById(\"624c7052-a016-4ad8-9a80-bff7b18a6514\")) {                    Plotly.newPlot(                        \"624c7052-a016-4ad8-9a80-bff7b18a6514\",                        [{\"line\":{\"color\":\"rgba(255, 153, 51, 1.0)\",\"dash\":\"solid\",\"shape\":\"linear\",\"width\":1.3},\"mode\":\"lines\",\"name\":\"Cheddar Cheese \",\"text\":\"\",\"x\":[0.34500000000000003,0.5175000000000001,0.6210000000000001,0.6900000000000001,0.7590000000000001,0.8280000000000001,0.8970000000000001,0.966,1.0350000000000001,1.3800000000000001,2.7600000000000002],\"y\":[0.45425803022834943,0.4635852383250739,0.4635852383250739,0.4635852383250739,0.4636798002956153,0.4636798002956153,0.46591817074500447,0.46591817074500447,0.4667780409011608,0.0,0.0],\"type\":\"scatter\"},{\"line\":{\"color\":\"rgba(55, 128, 191, 1.0)\",\"dash\":\"solid\",\"shape\":\"linear\",\"width\":1.3},\"mode\":\"lines\",\"name\":\"Skim Milk Powder \",\"text\":\"\",\"x\":[0.34500000000000003,0.5175000000000001,0.6210000000000001,0.6900000000000001,0.7590000000000001,0.8280000000000001,0.8970000000000001,0.966,1.0350000000000001,1.3800000000000001,2.7600000000000002],\"y\":[0.0,0.0,0.0,0.0,0.004971654452727307,0.004971654452727307,0.0013261676895465371,0.0013261676895465371,0.0,0.0,0.0],\"type\":\"scatter\"},{\"line\":{\"color\":\"rgba(50, 171, 96, 1.0)\",\"dash\":\"solid\",\"shape\":\"linear\",\"width\":1.3},\"mode\":\"lines\",\"name\":\"Corn Flakes\",\"text\":\"\",\"x\":[0.34500000000000003,0.5175000000000001,0.6210000000000001,0.6900000000000001,0.7590000000000001,0.8280000000000001,0.8970000000000001,0.966,1.0350000000000001,1.3800000000000001,2.7600000000000002],\"y\":[0.29549466719353246,0.272290252933748,0.272290252933748,0.272290252933748,0.2722566142189322,0.2722566142189322,0.27262105708014306,0.27262105708014306,0.2722716120360927,0.0,0.0],\"type\":\"scatter\"},{\"line\":{\"color\":\"rgba(128, 0, 128, 1.0)\",\"dash\":\"solid\",\"shape\":\"linear\",\"width\":1.3},\"mode\":\"lines\",\"name\":\"Flour\",\"text\":\"\",\"x\":[0.34500000000000003,0.5175000000000001,0.6210000000000001,0.6900000000000001,0.7590000000000001,0.8280000000000001,0.8970000000000001,0.966,1.0350000000000001,1.3800000000000001,2.7600000000000002],\"y\":[0.593774098076513,0.8732530655162973,0.8732530655162973,0.8732530655162973,0.8736966345595847,0.8736966345595847,0.8723434806298587,0.8723434806298587,0.8756896040871768,2.7806371704038293,2.8343471321651803],\"type\":\"scatter\"},{\"line\":{\"color\":\"rgba(219, 64, 82, 1.0)\",\"dash\":\"solid\",\"shape\":\"linear\",\"width\":1.3},\"mode\":\"lines\",\"name\":\"Frozen Corn\",\"text\":\"\",\"x\":[0.34500000000000003,0.5175000000000001,0.6210000000000001,0.6900000000000001,0.7590000000000001,0.8280000000000001,0.8970000000000001,0.966,1.0350000000000001,1.3800000000000001,2.7600000000000002],\"y\":[2.268635610012755,2.5013808786754104,2.5013808786754104,2.5013808786754104,2.5038122539961485,2.5038122539961485,2.4932053897597877,2.4932053897597877,2.489799212469513,6.767165502247927,6.546722661748803],\"type\":\"scatter\"},{\"line\":{\"color\":\"rgba(0, 128, 128, 1.0)\",\"dash\":\"solid\",\"shape\":\"linear\",\"width\":1.3},\"mode\":\"lines\",\"name\":\"Carrots\",\"text\":\"\",\"x\":[0.34500000000000003,0.5175000000000001,0.6210000000000001,0.6900000000000001,0.7590000000000001,0.8280000000000001,0.8970000000000001,0.966,1.0350000000000001,1.3800000000000001,2.7600000000000002],\"y\":[20.23753296543084,18.886755180288095,18.886755180288095,18.886755180288095,18.873885051176302,18.873885051176302,18.85891307199344,18.85891307199344,18.847659004699253,12.294749210235624,11.51816134864665],\"type\":\"scatter\"},{\"line\":{\"color\":\"rgba(255, 255, 51, 1.0)\",\"dash\":\"solid\",\"shape\":\"linear\",\"width\":1.3},\"mode\":\"lines\",\"name\":\"Apples \",\"text\":\"\",\"x\":[0.34500000000000003,0.5175000000000001,0.6210000000000001,0.6900000000000001,0.7590000000000001,0.8280000000000001,0.8970000000000001,0.966,1.0350000000000001,1.3800000000000001,2.7600000000000002],\"y\":[0.24361128188384357,0.0,0.0,0.0,0.0,0.0,0.0,0.0,0.0,0.0,0.0],\"type\":\"scatter\"},{\"line\":{\"color\":\"rgba(128, 128, 0, 1.0)\",\"dash\":\"solid\",\"shape\":\"linear\",\"width\":1.3},\"mode\":\"lines\",\"name\":\"Bananas\",\"text\":\"\",\"x\":[0.34500000000000003,0.5175000000000001,0.6210000000000001,0.6900000000000001,0.7590000000000001,0.8280000000000001,0.8970000000000001,0.966,1.0350000000000001,1.3800000000000001,2.7600000000000002],\"y\":[0.0,0.0,0.0,0.0,0.0,0.0,0.0,0.0,0.0,0.0,1.473153318897977],\"type\":\"scatter\"},{\"line\":{\"color\":\"rgba(251, 128, 114, 1.0)\",\"dash\":\"solid\",\"shape\":\"linear\",\"width\":1.3},\"mode\":\"lines\",\"name\":\"Peanut Butter \",\"text\":\"\",\"x\":[0.34500000000000003,0.5175000000000001,0.6210000000000001,0.6900000000000001,0.7590000000000001,0.8280000000000001,0.8970000000000001,0.966,1.0350000000000001,1.3800000000000001,2.7600000000000002],\"y\":[0.12805251539256746,0.0,0.0,0.0,0.0,0.0,0.0,0.0,0.0,0.0,0.0],\"type\":\"scatter\"},{\"line\":{\"color\":\"rgba(128, 177, 211, 1.0)\",\"dash\":\"solid\",\"shape\":\"linear\",\"width\":1.3},\"mode\":\"lines\",\"name\":\"Canned Pink Salmon\",\"text\":\"\",\"x\":[0.34500000000000003,0.5175000000000001,0.6210000000000001,0.6900000000000001,0.7590000000000001,0.8280000000000001,0.8970000000000001,0.966,1.0350000000000001,1.3800000000000001,2.7600000000000002],\"y\":[0.12104920427733595,0.14353599116275984,0.14353599116275984,0.14353599116275984,0.14354906613633078,0.14354906613633078,0.1426213593873691,0.1426213593873691,0.14278668549897605,0.5454545454545454,0.5454545454545454],\"type\":\"scatter\"},{\"line\":{\"color\":\"rgba(128, 177, 211, 0.8999999999999999)\",\"dash\":\"solid\",\"shape\":\"linear\",\"width\":1.3},\"mode\":\"lines\",\"name\":\"Frozen French Fries\",\"text\":\"\",\"x\":[0.34500000000000003,0.5175000000000001,0.6210000000000001,0.6900000000000001,0.7590000000000001,0.8280000000000001,0.8970000000000001,0.966,1.0350000000000001,1.3800000000000001,2.7600000000000002],\"y\":[0.0,0.4090351337566819,0.4090351337566819,0.4090351337566819,0.412937360723493,0.412937360723493,0.42091767249855694,0.42091767249855694,0.42559696306029765,1.583574308208625,1.8496577096528282],\"type\":\"scatter\"},{\"line\":{\"color\":\"rgba(255, 153, 51, 0.8999999999999999)\",\"dash\":\"solid\",\"shape\":\"linear\",\"width\":1.3},\"mode\":\"lines\",\"name\":\"Milk 2%\",\"text\":\"\",\"x\":[0.34500000000000003,0.5175000000000001,0.6210000000000001,0.6900000000000001,0.7590000000000001,0.8280000000000001,0.8970000000000001,0.966,1.0350000000000001,1.3800000000000001,2.7600000000000002],\"y\":[0.0,0.04817754604191061,0.04817754604191061,0.04817754604191061,0.0,0.0,0.0,0.0,0.0,0.0,0.0],\"type\":\"scatter\"},{\"line\":{\"color\":\"rgba(55, 128, 191, 0.8999999999999999)\",\"dash\":\"solid\",\"shape\":\"linear\",\"width\":1.3},\"mode\":\"lines\",\"name\":\"Orange Juice\",\"text\":\"\",\"x\":[0.34500000000000003,0.5175000000000001,0.6210000000000001,0.6900000000000001,0.7590000000000001,0.8280000000000001,0.8970000000000001,0.966,1.0350000000000001,1.3800000000000001,2.7600000000000002],\"y\":[0.0,0.0,0.0,0.0,0.0,0.0,0.02578774258599594,0.02578774258599594,0.03537723503049498,3.0087653074825926,3.1183272523014787],\"type\":\"scatter\"}],                        {\"legend\":{\"bgcolor\":\"#F5F6F9\",\"font\":{\"color\":\"#4D5663\"}},\"paper_bgcolor\":\"#F5F6F9\",\"plot_bgcolor\":\"#F5F6F9\",\"template\":{\"data\":{\"barpolar\":[{\"marker\":{\"line\":{\"color\":\"#E5ECF6\",\"width\":0.5},\"pattern\":{\"fillmode\":\"overlay\",\"size\":10,\"solidity\":0.2}},\"type\":\"barpolar\"}],\"bar\":[{\"error_x\":{\"color\":\"#2a3f5f\"},\"error_y\":{\"color\":\"#2a3f5f\"},\"marker\":{\"line\":{\"color\":\"#E5ECF6\",\"width\":0.5},\"pattern\":{\"fillmode\":\"overlay\",\"size\":10,\"solidity\":0.2}},\"type\":\"bar\"}],\"carpet\":[{\"aaxis\":{\"endlinecolor\":\"#2a3f5f\",\"gridcolor\":\"white\",\"linecolor\":\"white\",\"minorgridcolor\":\"white\",\"startlinecolor\":\"#2a3f5f\"},\"baxis\":{\"endlinecolor\":\"#2a3f5f\",\"gridcolor\":\"white\",\"linecolor\":\"white\",\"minorgridcolor\":\"white\",\"startlinecolor\":\"#2a3f5f\"},\"type\":\"carpet\"}],\"choropleth\":[{\"colorbar\":{\"outlinewidth\":0,\"ticks\":\"\"},\"type\":\"choropleth\"}],\"contourcarpet\":[{\"colorbar\":{\"outlinewidth\":0,\"ticks\":\"\"},\"type\":\"contourcarpet\"}],\"contour\":[{\"colorbar\":{\"outlinewidth\":0,\"ticks\":\"\"},\"colorscale\":[[0.0,\"#0d0887\"],[0.1111111111111111,\"#46039f\"],[0.2222222222222222,\"#7201a8\"],[0.3333333333333333,\"#9c179e\"],[0.4444444444444444,\"#bd3786\"],[0.5555555555555556,\"#d8576b\"],[0.6666666666666666,\"#ed7953\"],[0.7777777777777778,\"#fb9f3a\"],[0.8888888888888888,\"#fdca26\"],[1.0,\"#f0f921\"]],\"type\":\"contour\"}],\"heatmapgl\":[{\"colorbar\":{\"outlinewidth\":0,\"ticks\":\"\"},\"colorscale\":[[0.0,\"#0d0887\"],[0.1111111111111111,\"#46039f\"],[0.2222222222222222,\"#7201a8\"],[0.3333333333333333,\"#9c179e\"],[0.4444444444444444,\"#bd3786\"],[0.5555555555555556,\"#d8576b\"],[0.6666666666666666,\"#ed7953\"],[0.7777777777777778,\"#fb9f3a\"],[0.8888888888888888,\"#fdca26\"],[1.0,\"#f0f921\"]],\"type\":\"heatmapgl\"}],\"heatmap\":[{\"colorbar\":{\"outlinewidth\":0,\"ticks\":\"\"},\"colorscale\":[[0.0,\"#0d0887\"],[0.1111111111111111,\"#46039f\"],[0.2222222222222222,\"#7201a8\"],[0.3333333333333333,\"#9c179e\"],[0.4444444444444444,\"#bd3786\"],[0.5555555555555556,\"#d8576b\"],[0.6666666666666666,\"#ed7953\"],[0.7777777777777778,\"#fb9f3a\"],[0.8888888888888888,\"#fdca26\"],[1.0,\"#f0f921\"]],\"type\":\"heatmap\"}],\"histogram2dcontour\":[{\"colorbar\":{\"outlinewidth\":0,\"ticks\":\"\"},\"colorscale\":[[0.0,\"#0d0887\"],[0.1111111111111111,\"#46039f\"],[0.2222222222222222,\"#7201a8\"],[0.3333333333333333,\"#9c179e\"],[0.4444444444444444,\"#bd3786\"],[0.5555555555555556,\"#d8576b\"],[0.6666666666666666,\"#ed7953\"],[0.7777777777777778,\"#fb9f3a\"],[0.8888888888888888,\"#fdca26\"],[1.0,\"#f0f921\"]],\"type\":\"histogram2dcontour\"}],\"histogram2d\":[{\"colorbar\":{\"outlinewidth\":0,\"ticks\":\"\"},\"colorscale\":[[0.0,\"#0d0887\"],[0.1111111111111111,\"#46039f\"],[0.2222222222222222,\"#7201a8\"],[0.3333333333333333,\"#9c179e\"],[0.4444444444444444,\"#bd3786\"],[0.5555555555555556,\"#d8576b\"],[0.6666666666666666,\"#ed7953\"],[0.7777777777777778,\"#fb9f3a\"],[0.8888888888888888,\"#fdca26\"],[1.0,\"#f0f921\"]],\"type\":\"histogram2d\"}],\"histogram\":[{\"marker\":{\"pattern\":{\"fillmode\":\"overlay\",\"size\":10,\"solidity\":0.2}},\"type\":\"histogram\"}],\"mesh3d\":[{\"colorbar\":{\"outlinewidth\":0,\"ticks\":\"\"},\"type\":\"mesh3d\"}],\"parcoords\":[{\"line\":{\"colorbar\":{\"outlinewidth\":0,\"ticks\":\"\"}},\"type\":\"parcoords\"}],\"pie\":[{\"automargin\":true,\"type\":\"pie\"}],\"scatter3d\":[{\"line\":{\"colorbar\":{\"outlinewidth\":0,\"ticks\":\"\"}},\"marker\":{\"colorbar\":{\"outlinewidth\":0,\"ticks\":\"\"}},\"type\":\"scatter3d\"}],\"scattercarpet\":[{\"marker\":{\"colorbar\":{\"outlinewidth\":0,\"ticks\":\"\"}},\"type\":\"scattercarpet\"}],\"scattergeo\":[{\"marker\":{\"colorbar\":{\"outlinewidth\":0,\"ticks\":\"\"}},\"type\":\"scattergeo\"}],\"scattergl\":[{\"marker\":{\"colorbar\":{\"outlinewidth\":0,\"ticks\":\"\"}},\"type\":\"scattergl\"}],\"scattermapbox\":[{\"marker\":{\"colorbar\":{\"outlinewidth\":0,\"ticks\":\"\"}},\"type\":\"scattermapbox\"}],\"scatterpolargl\":[{\"marker\":{\"colorbar\":{\"outlinewidth\":0,\"ticks\":\"\"}},\"type\":\"scatterpolargl\"}],\"scatterpolar\":[{\"marker\":{\"colorbar\":{\"outlinewidth\":0,\"ticks\":\"\"}},\"type\":\"scatterpolar\"}],\"scatter\":[{\"fillpattern\":{\"fillmode\":\"overlay\",\"size\":10,\"solidity\":0.2},\"type\":\"scatter\"}],\"scatterternary\":[{\"marker\":{\"colorbar\":{\"outlinewidth\":0,\"ticks\":\"\"}},\"type\":\"scatterternary\"}],\"surface\":[{\"colorbar\":{\"outlinewidth\":0,\"ticks\":\"\"},\"colorscale\":[[0.0,\"#0d0887\"],[0.1111111111111111,\"#46039f\"],[0.2222222222222222,\"#7201a8\"],[0.3333333333333333,\"#9c179e\"],[0.4444444444444444,\"#bd3786\"],[0.5555555555555556,\"#d8576b\"],[0.6666666666666666,\"#ed7953\"],[0.7777777777777778,\"#fb9f3a\"],[0.8888888888888888,\"#fdca26\"],[1.0,\"#f0f921\"]],\"type\":\"surface\"}],\"table\":[{\"cells\":{\"fill\":{\"color\":\"#EBF0F8\"},\"line\":{\"color\":\"white\"}},\"header\":{\"fill\":{\"color\":\"#C8D4E3\"},\"line\":{\"color\":\"white\"}},\"type\":\"table\"}]},\"layout\":{\"annotationdefaults\":{\"arrowcolor\":\"#2a3f5f\",\"arrowhead\":0,\"arrowwidth\":1},\"autotypenumbers\":\"strict\",\"coloraxis\":{\"colorbar\":{\"outlinewidth\":0,\"ticks\":\"\"}},\"colorscale\":{\"diverging\":[[0,\"#8e0152\"],[0.1,\"#c51b7d\"],[0.2,\"#de77ae\"],[0.3,\"#f1b6da\"],[0.4,\"#fde0ef\"],[0.5,\"#f7f7f7\"],[0.6,\"#e6f5d0\"],[0.7,\"#b8e186\"],[0.8,\"#7fbc41\"],[0.9,\"#4d9221\"],[1,\"#276419\"]],\"sequential\":[[0.0,\"#0d0887\"],[0.1111111111111111,\"#46039f\"],[0.2222222222222222,\"#7201a8\"],[0.3333333333333333,\"#9c179e\"],[0.4444444444444444,\"#bd3786\"],[0.5555555555555556,\"#d8576b\"],[0.6666666666666666,\"#ed7953\"],[0.7777777777777778,\"#fb9f3a\"],[0.8888888888888888,\"#fdca26\"],[1.0,\"#f0f921\"]],\"sequentialminus\":[[0.0,\"#0d0887\"],[0.1111111111111111,\"#46039f\"],[0.2222222222222222,\"#7201a8\"],[0.3333333333333333,\"#9c179e\"],[0.4444444444444444,\"#bd3786\"],[0.5555555555555556,\"#d8576b\"],[0.6666666666666666,\"#ed7953\"],[0.7777777777777778,\"#fb9f3a\"],[0.8888888888888888,\"#fdca26\"],[1.0,\"#f0f921\"]]},\"colorway\":[\"#636efa\",\"#EF553B\",\"#00cc96\",\"#ab63fa\",\"#FFA15A\",\"#19d3f3\",\"#FF6692\",\"#B6E880\",\"#FF97FF\",\"#FECB52\"],\"font\":{\"color\":\"#2a3f5f\"},\"geo\":{\"bgcolor\":\"white\",\"lakecolor\":\"white\",\"landcolor\":\"#E5ECF6\",\"showlakes\":true,\"showland\":true,\"subunitcolor\":\"white\"},\"hoverlabel\":{\"align\":\"left\"},\"hovermode\":\"closest\",\"mapbox\":{\"style\":\"light\"},\"paper_bgcolor\":\"white\",\"plot_bgcolor\":\"#E5ECF6\",\"polar\":{\"angularaxis\":{\"gridcolor\":\"white\",\"linecolor\":\"white\",\"ticks\":\"\"},\"bgcolor\":\"#E5ECF6\",\"radialaxis\":{\"gridcolor\":\"white\",\"linecolor\":\"white\",\"ticks\":\"\"}},\"scene\":{\"xaxis\":{\"backgroundcolor\":\"#E5ECF6\",\"gridcolor\":\"white\",\"gridwidth\":2,\"linecolor\":\"white\",\"showbackground\":true,\"ticks\":\"\",\"zerolinecolor\":\"white\"},\"yaxis\":{\"backgroundcolor\":\"#E5ECF6\",\"gridcolor\":\"white\",\"gridwidth\":2,\"linecolor\":\"white\",\"showbackground\":true,\"ticks\":\"\",\"zerolinecolor\":\"white\"},\"zaxis\":{\"backgroundcolor\":\"#E5ECF6\",\"gridcolor\":\"white\",\"gridwidth\":2,\"linecolor\":\"white\",\"showbackground\":true,\"ticks\":\"\",\"zerolinecolor\":\"white\"}},\"shapedefaults\":{\"line\":{\"color\":\"#2a3f5f\"}},\"ternary\":{\"aaxis\":{\"gridcolor\":\"white\",\"linecolor\":\"white\",\"ticks\":\"\"},\"baxis\":{\"gridcolor\":\"white\",\"linecolor\":\"white\",\"ticks\":\"\"},\"bgcolor\":\"#E5ECF6\",\"caxis\":{\"gridcolor\":\"white\",\"linecolor\":\"white\",\"ticks\":\"\"}},\"title\":{\"x\":0.05},\"xaxis\":{\"automargin\":true,\"gridcolor\":\"white\",\"linecolor\":\"white\",\"ticks\":\"\",\"title\":{\"standoff\":15},\"zerolinecolor\":\"white\",\"zerolinewidth\":2},\"yaxis\":{\"automargin\":true,\"gridcolor\":\"white\",\"linecolor\":\"white\",\"ticks\":\"\",\"title\":{\"standoff\":15},\"zerolinecolor\":\"white\",\"zerolinewidth\":2}}},\"title\":{\"font\":{\"color\":\"#4D5663\"}},\"xaxis\":{\"gridcolor\":\"#E1E5ED\",\"showgrid\":true,\"tickfont\":{\"color\":\"#4D5663\"},\"title\":{\"font\":{\"color\":\"#4D5663\"},\"text\":\"Carrots Price\"},\"zerolinecolor\":\"#E1E5ED\"},\"yaxis\":{\"gridcolor\":\"#E1E5ED\",\"showgrid\":true,\"tickfont\":{\"color\":\"#4D5663\"},\"title\":{\"font\":{\"color\":\"#4D5663\"},\"text\":\"Hectograms\"},\"zerolinecolor\":\"#E1E5ED\"}},                        {\"showLink\": true, \"linkText\": \"Export to plot.ly\", \"plotlyServerURL\": \"https://plot.ly\", \"responsive\": true}                    ).then(function(){\n",
       "                            \n",
       "var gd = document.getElementById('624c7052-a016-4ad8-9a80-bff7b18a6514');\n",
       "var x = new MutationObserver(function (mutations, observer) {{\n",
       "        var display = window.getComputedStyle(gd).display;\n",
       "        if (!display || display === 'none') {{\n",
       "            console.log([gd, 'removed!']);\n",
       "            Plotly.purge(gd);\n",
       "            observer.disconnect();\n",
       "        }}\n",
       "}});\n",
       "\n",
       "// Listen for the removal of the full notebook cells\n",
       "var notebookContainer = gd.closest('#notebook-container');\n",
       "if (notebookContainer) {{\n",
       "    x.observe(notebookContainer, {childList: true});\n",
       "}}\n",
       "\n",
       "// Listen for the clearing of the current output cell\n",
       "var outputEl = gd.closest('.output');\n",
       "if (outputEl) {{\n",
       "    x.observe(outputEl, {childList: true});\n",
       "}}\n",
       "\n",
       "                        })                };                });            </script>        </div>"
      ]
     },
     "metadata": {},
     "output_type": "display_data"
    }
   ],
   "source": [
    "import cufflinks as cf\n",
    "cf.go_offline()\n",
    "\n",
    "ReferenceGood = 'Carrots'\n",
    "\n",
    "scale = [0.5,0.75,0.9,1.,1.1,1.2,1.3,1.4,1.5,2,4]\n",
    "\n",
    "cost0 = solve_subsistence_problem(FoodNutrients,Prices,\n",
    "                                  diet_min[group],diet_max[group],max_weight=15,tol=tol).fun\n",
    "\n",
    "my_p = Prices.copy()\n",
    "\n",
    "diet = {}\n",
    "for s in scale:\n",
    "\n",
    "    my_p[ReferenceGood] = Prices[ReferenceGood]*s\n",
    "    result = solve_subsistence_problem(FoodNutrients,my_p,\n",
    "                                       diet_min[group],diet_max[group],max_weight=120,tol=tol)\n",
    "    diet[my_p[ReferenceGood]] = result.diet\n",
    "\n",
    "Diet_response = pd.DataFrame(diet).T\n",
    "Diet_response.index.name = '%s Price' % ReferenceGood\n",
    "\n",
    "Diet_response.reset_index(inplace=True)\n",
    "\n",
    "# Get rid of units for index (cufflinks chokes)\n",
    "Diet_response['%s Price' % ReferenceGood] = Diet_response['%s Price' % ReferenceGood].apply(lambda x: x.magnitude)\n",
    "\n",
    "Diet_response = Diet_response.set_index('%s Price' % ReferenceGood)\n",
    "\n",
    "# Just look at goods consumed in quantities greater than error tolerance\n",
    "Diet_response.loc[:,(Diet_response>tol).sum()>0].iplot(xTitle='%s Price' % ReferenceGood,yTitle='Hectograms')"
   ]
  }
 ],
 "metadata": {
  "kernelspec": {
   "display_name": "Python 3 (ipykernel)",
   "language": "python",
   "name": "python3"
  },
  "language_info": {
   "codemirror_mode": {
    "name": "ipython",
    "version": 3
   },
   "file_extension": ".py",
   "mimetype": "text/x-python",
   "name": "python",
   "nbconvert_exporter": "python",
   "pygments_lexer": "ipython3",
   "version": "3.10.8"
  },
  "org": null
 },
 "nbformat": 4,
 "nbformat_minor": 4
}
