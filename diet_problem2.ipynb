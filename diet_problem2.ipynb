{
 "cells": [
  {
   "cell_type": "markdown",
   "metadata": {},
   "source": [
    "## Function to solve the subsistence problem\n",
    "\n"
   ]
  },
  {
   "cell_type": "markdown",
   "metadata": {},
   "source": [
    "Last time we worked through the problem of expressing the subsistence\n",
    "cost problem as a linear program, and then solving it.   That process\n",
    "involved several different steps, which would be easy to get wrong.\n",
    "\n",
    "Here we create a single function `solve_subsistence_problem`.  By\n",
    "isolating the logic of constructing and solving the subsistence\n",
    "problem into a stand-alone function we reduce the scope for bugs, and\n",
    "this modular approach at the same time makes testing easier.\n",
    "\n",
    "We take the different pieces of the puzzle we&rsquo;ve developed and\n",
    "put them together in the form of a linear program we can solve.\n",
    "Recall that the mathematical problem we&rsquo;re trying to solve is\n",
    "$$\n",
    "    \\min_x p'x\n",
    "$$\n",
    "such that\n",
    "$$\n",
    "    \\tilde{A}x \\geq \\tilde{b}\n",
    "$$\n",
    "If we buy a bag of groceries with quantities given by $x$, the total\n",
    "cost of the bag of groceries is the inner product of prices and\n",
    "quantities.  Since we&rsquo;ve converted our units above, this gives us a\n",
    "vector of prices where quantities are all in 100 g or ml units.\n",
    "\n",
    "The following code block defines a function\n",
    "`solve_subsistence_problem`, which takes as arguments a dataframe\n",
    "mapping different foods to nutrients; a series of prices for those\n",
    "same foods; a series giving dietary recommended intake (DRI) minimums;\n",
    "and a series giving dietary recommended maximums.\n",
    "\n"
   ]
  },
  {
   "cell_type": "code",
   "execution_count": 1,
   "metadata": {},
   "outputs": [],
   "source": [
    "from  scipy.optimize import linprog as lp\n",
    "import numpy as np\n",
    "import warnings\n",
    "\n",
    "def solve_subsistence_problem(FoodNutrients,Prices,dietmin,dietmax,max_weight=None,tol=1e-6):\n",
    "    \"\"\"Solve Stigler's Subsistence Cost Problem.\n",
    "\n",
    "    Inputs:\n",
    "       - FoodNutrients : A pd.DataFrame with rows corresponding to foods, columns to nutrients.\n",
    "       - Prices : A pd.Series of prices for different foods\n",
    "       - diet_min : A pd.Series of DRIs, with index corresponding to columns of FoodNutrients,\n",
    "                    describing minimum intakes.\n",
    "       - diet_max : A pd.Series of DRIs, with index corresponding to columns of FoodNutrients,\n",
    "                    describing maximum intakes.\n",
    "       - max_weight : Maximum weight (in hectograms) allowed for diet.\n",
    "       - tol : Solution values smaller than this in absolute value treated as zeros.\n",
    "       \n",
    "    \"\"\"\n",
    "    try: \n",
    "        p = Prices.apply(lambda x:x.magnitude)\n",
    "    except AttributeError:  # Maybe not passing in prices with units?\n",
    "        warnings.warn(\"Prices have no units.  BE CAREFUL!  We're assuming prices are per hectogram or deciliter!\")\n",
    "        p = Prices\n",
    "\n",
    "    p = p.dropna()\n",
    "\n",
    "    # Compile list that we have both prices and nutritional info for; drop if either missing\n",
    "    use = p.index.intersection(FoodNutrients.columns)\n",
    "    p = p[use]\n",
    "\n",
    "    # Drop nutritional information for foods we don't know the price of,\n",
    "    # and replace missing nutrients with zeros.\n",
    "    Aall = FoodNutrients[p.index].fillna(0)\n",
    "\n",
    "    # Drop rows of A that we don't have constraints for.\n",
    "    Amin = Aall.loc[Aall.index.intersection(dietmin.index)]\n",
    "    Amin = Amin.reindex(dietmin.index,axis=0)\n",
    "    idx = Amin.index.to_frame()\n",
    "    idx['type'] = 'min'\n",
    "    #Amin.index = pd.MultiIndex.from_frame(idx)\n",
    "    #dietmin.index = Amin.index\n",
    "    \n",
    "    Amax = Aall.loc[Aall.index.intersection(dietmax.index)]\n",
    "    Amax = Amax.reindex(dietmax.index,axis=0)\n",
    "    idx = Amax.index.to_frame()\n",
    "    idx['type'] = 'max'\n",
    "    #Amax.index = pd.MultiIndex.from_frame(idx)\n",
    "    #dietmax.index = Amax.index\n",
    "\n",
    "    # Minimum requirements involve multiplying constraint by -1 to make <=.\n",
    "    A = pd.concat([Amin,\n",
    "                   -Amax])\n",
    "\n",
    "    b = pd.concat([dietmin,\n",
    "                   -dietmax]) # Note sign change for max constraints\n",
    "\n",
    "    # Make sure order of p, A, b are consistent\n",
    "    A = A.reindex(p.index,axis=1)\n",
    "    A = A.reindex(b.index,axis=0)\n",
    "\n",
    "    if max_weight is not None:\n",
    "        # Add up weights of foods consumed\n",
    "        A.loc['Hectograms'] = -1\n",
    "        b.loc['Hectograms'] = -max_weight\n",
    "        \n",
    "    # Now solve problem!  (Note that the linear program solver we'll use assumes\n",
    "    # \"less-than-or-equal\" constraints.  We can switch back and forth by\n",
    "    # multiplying $A$ and $b$ by $-1$.)\n",
    "\n",
    "    result = lp(p, -A, -b, method='highs')\n",
    "\n",
    "    result.A = A\n",
    "    result.b = b\n",
    "    \n",
    "    if result.success:\n",
    "        result.diet = pd.Series(result.x,index=p.index)\n",
    "    else: # No feasible solution?\n",
    "        warnings.warn(result.message)\n",
    "        result.diet = pd.Series(result.x,index=p.index)*np.nan  \n",
    "\n",
    "    return result"
   ]
  },
  {
   "cell_type": "markdown",
   "metadata": {},
   "source": [
    "## Setup\n",
    "\n"
   ]
  },
  {
   "cell_type": "markdown",
   "metadata": {},
   "source": [
    "We take material from the earlier lecture on the subistence diet\n",
    "  problem, and use it to define the subsistence diet as a function of prices. \n",
    "\n",
    "We need some particular versions of the following modules;\n",
    "\n"
   ]
  },
  {
   "cell_type": "code",
   "execution_count": 2,
   "metadata": {},
   "outputs": [
    {
     "name": "stdout",
     "output_type": "stream",
     "text": [
      "Requirement already satisfied: fooddatacentral in /srv/conda/lib/python3.9/site-packages (1.0.10)\n",
      "Note: you may need to restart the kernel to use updated packages.\n"
     ]
    }
   ],
   "source": [
    "%pip install fooddatacentral"
   ]
  },
  {
   "cell_type": "code",
   "execution_count": 3,
   "metadata": {},
   "outputs": [
    {
     "name": "stdout",
     "output_type": "stream",
     "text": [
      "Requirement already satisfied: python-gnupg in /srv/conda/lib/python3.9/site-packages (0.5.2)\n",
      "Note: you may need to restart the kernel to use updated packages.\n"
     ]
    }
   ],
   "source": [
    "%pip install python-gnupg"
   ]
  },
  {
   "cell_type": "markdown",
   "metadata": {},
   "source": [
    "Define api key here:\n",
    "\n"
   ]
  },
  {
   "cell_type": "code",
   "execution_count": 4,
   "metadata": {},
   "outputs": [],
   "source": [
    "# API key for Gov; substitute your own!\n",
    "apikey = \"qjmmUOQUmEiVgDOWqb5cMNWjSfLF3EzJJFtfaN1s\""
   ]
  },
  {
   "cell_type": "markdown",
   "metadata": {},
   "source": [
    "## Input Data\n",
    "\n"
   ]
  },
  {
   "cell_type": "markdown",
   "metadata": {},
   "source": [
    "The critical user input is a `pandas.DataFrame` with (at least)\n",
    "these columns:\n",
    "\n",
    "-   **Food:** Label used to identify food\n",
    "-   **Quantity:** Amount of food\n",
    "-   **Units:** Units in which amounts of this food is measured\n",
    "-   **Price:** Price for quantity of food\n",
    "-   **FDC:** Key identifying food in the FoodDataCentral dataset.\n",
    "\n"
   ]
  },
  {
   "cell_type": "markdown",
   "metadata": {},
   "source": [
    "### Using data from Google Sheets\n",
    "\n"
   ]
  },
  {
   "cell_type": "code",
   "execution_count": 5,
   "metadata": {},
   "outputs": [],
   "source": [
    "# ID of sheet and name of worksheet for google sheets.   \n",
    "# Easiest if these are public (or use service accounts; share with students@eep153.iam.gserviceaccount.com)\n",
    "\n",
    "SHEETs = [# Stigler's foods, modern prices\n",
    "          (\"https://docs.google.com/spreadsheets/d/11MqhRmM_NcrqkT9OVsZxmeHbHcCcle3IJSjEBT8LA_M/edit?usp=sharing\",\"Table A\"),\n",
    "         ]"
   ]
  },
  {
   "cell_type": "markdown",
   "metadata": {},
   "source": [
    "### Compile data on food prices\n",
    "\n"
   ]
  },
  {
   "cell_type": "markdown",
   "metadata": {},
   "source": [
    "For each sheet in the list `SHEETs` grab data and concatenate into\n",
    "   a DataFrame.\n",
    "\n"
   ]
  },
  {
   "cell_type": "markdown",
   "metadata": {},
   "source": [
    "### Look up nutritional information for foods\n",
    "\n"
   ]
  },
  {
   "cell_type": "markdown",
   "metadata": {},
   "source": [
    "Now we have a list of foods with prices.  Do lookups on USDA database\n",
    "to get nutritional information.\n",
    "\n"
   ]
  },
  {
   "cell_type": "code",
   "execution_count": 7,
   "metadata": {},
   "outputs": [],
   "source": [
    "import fooddatacentral as fdc\n",
    "import warnings\n",
    "\n",
    "df = pd.read_csv(\"data/Final Food Price Data for Both Nontraditional and Traditional - Table A.csv\")\n",
    "\n",
    "D = {}\n",
    "count = 0\n",
    "for food in  df.Food.tolist():\n",
    "    try:\n",
    "        FDC = df.loc[df.Food==food,:].FDC[count]\n",
    "        count+=1\n",
    "        D[food] = fdc.nutrients(apikey,FDC).Quantity\n",
    "    except AttributeError: \n",
    "        warnings.warn(\"Couldn't find FDC Code %s for food %s.\" % (food,FDC))        \n",
    "\n",
    "FoodNutrients = pd.DataFrame(D,dtype=float)"
   ]
  },
  {
   "cell_type": "code",
   "execution_count": 8,
   "metadata": {},
   "outputs": [
    {
     "data": {
      "text/html": [
       "<div>\n",
       "<style scoped>\n",
       "    .dataframe tbody tr th:only-of-type {\n",
       "        vertical-align: middle;\n",
       "    }\n",
       "\n",
       "    .dataframe tbody tr th {\n",
       "        vertical-align: top;\n",
       "    }\n",
       "\n",
       "    .dataframe thead th {\n",
       "        text-align: right;\n",
       "    }\n",
       "</style>\n",
       "<table border=\"1\" class=\"dataframe\">\n",
       "  <thead>\n",
       "    <tr style=\"text-align: right;\">\n",
       "      <th></th>\n",
       "      <th>Butter</th>\n",
       "      <th>Margarine</th>\n",
       "      <th>Yogurt</th>\n",
       "      <th>Cheddar Cheese</th>\n",
       "      <th>Processed Sliced Cheese</th>\n",
       "      <th>Skim Milk Powder</th>\n",
       "      <th>Soda Crackers</th>\n",
       "      <th>Spaghetti Noodles</th>\n",
       "      <th>Macaroni and Cheese Dinner</th>\n",
       "      <th>Corn Flakes</th>\n",
       "      <th>...</th>\n",
       "      <th>Pilot Biscuits</th>\n",
       "      <th>Chocolate Bars</th>\n",
       "      <th>Potato Chips</th>\n",
       "      <th>Milk 2%</th>\n",
       "      <th>UHT Milk</th>\n",
       "      <th>Apple Juice</th>\n",
       "      <th>Orange Juice</th>\n",
       "      <th>Tomato Juice</th>\n",
       "      <th>Vegetable Juice</th>\n",
       "      <th>Soft Drinks</th>\n",
       "    </tr>\n",
       "  </thead>\n",
       "  <tbody>\n",
       "    <tr>\n",
       "      <th>Alanine</th>\n",
       "      <td>NaN</td>\n",
       "      <td>NaN</td>\n",
       "      <td>NaN</td>\n",
       "      <td>NaN</td>\n",
       "      <td>NaN</td>\n",
       "      <td>NaN</td>\n",
       "      <td>NaN</td>\n",
       "      <td>NaN</td>\n",
       "      <td>NaN</td>\n",
       "      <td>NaN</td>\n",
       "      <td>...</td>\n",
       "      <td>NaN</td>\n",
       "      <td>0.51</td>\n",
       "      <td>NaN</td>\n",
       "      <td>NaN</td>\n",
       "      <td>NaN</td>\n",
       "      <td>NaN</td>\n",
       "      <td>NaN</td>\n",
       "      <td>NaN</td>\n",
       "      <td>NaN</td>\n",
       "      <td>NaN</td>\n",
       "    </tr>\n",
       "    <tr>\n",
       "      <th>Alcohol, ethyl</th>\n",
       "      <td>NaN</td>\n",
       "      <td>NaN</td>\n",
       "      <td>NaN</td>\n",
       "      <td>0.00</td>\n",
       "      <td>0.00</td>\n",
       "      <td>NaN</td>\n",
       "      <td>NaN</td>\n",
       "      <td>NaN</td>\n",
       "      <td>NaN</td>\n",
       "      <td>NaN</td>\n",
       "      <td>...</td>\n",
       "      <td>0.00</td>\n",
       "      <td>0.00</td>\n",
       "      <td>NaN</td>\n",
       "      <td>NaN</td>\n",
       "      <td>NaN</td>\n",
       "      <td>NaN</td>\n",
       "      <td>NaN</td>\n",
       "      <td>NaN</td>\n",
       "      <td>NaN</td>\n",
       "      <td>NaN</td>\n",
       "    </tr>\n",
       "    <tr>\n",
       "      <th>Amino acids</th>\n",
       "      <td>NaN</td>\n",
       "      <td>NaN</td>\n",
       "      <td>NaN</td>\n",
       "      <td>NaN</td>\n",
       "      <td>NaN</td>\n",
       "      <td>NaN</td>\n",
       "      <td>NaN</td>\n",
       "      <td>NaN</td>\n",
       "      <td>NaN</td>\n",
       "      <td>NaN</td>\n",
       "      <td>...</td>\n",
       "      <td>NaN</td>\n",
       "      <td>0.00</td>\n",
       "      <td>NaN</td>\n",
       "      <td>NaN</td>\n",
       "      <td>NaN</td>\n",
       "      <td>NaN</td>\n",
       "      <td>NaN</td>\n",
       "      <td>NaN</td>\n",
       "      <td>NaN</td>\n",
       "      <td>NaN</td>\n",
       "    </tr>\n",
       "    <tr>\n",
       "      <th>Arginine</th>\n",
       "      <td>NaN</td>\n",
       "      <td>NaN</td>\n",
       "      <td>NaN</td>\n",
       "      <td>NaN</td>\n",
       "      <td>NaN</td>\n",
       "      <td>NaN</td>\n",
       "      <td>NaN</td>\n",
       "      <td>NaN</td>\n",
       "      <td>NaN</td>\n",
       "      <td>NaN</td>\n",
       "      <td>...</td>\n",
       "      <td>NaN</td>\n",
       "      <td>0.61</td>\n",
       "      <td>NaN</td>\n",
       "      <td>NaN</td>\n",
       "      <td>NaN</td>\n",
       "      <td>NaN</td>\n",
       "      <td>NaN</td>\n",
       "      <td>NaN</td>\n",
       "      <td>NaN</td>\n",
       "      <td>NaN</td>\n",
       "    </tr>\n",
       "    <tr>\n",
       "      <th>Ash</th>\n",
       "      <td>NaN</td>\n",
       "      <td>NaN</td>\n",
       "      <td>NaN</td>\n",
       "      <td>NaN</td>\n",
       "      <td>NaN</td>\n",
       "      <td>NaN</td>\n",
       "      <td>NaN</td>\n",
       "      <td>NaN</td>\n",
       "      <td>NaN</td>\n",
       "      <td>NaN</td>\n",
       "      <td>...</td>\n",
       "      <td>NaN</td>\n",
       "      <td>3.28</td>\n",
       "      <td>NaN</td>\n",
       "      <td>NaN</td>\n",
       "      <td>NaN</td>\n",
       "      <td>NaN</td>\n",
       "      <td>NaN</td>\n",
       "      <td>NaN</td>\n",
       "      <td>NaN</td>\n",
       "      <td>NaN</td>\n",
       "    </tr>\n",
       "    <tr>\n",
       "      <th>...</th>\n",
       "      <td>...</td>\n",
       "      <td>...</td>\n",
       "      <td>...</td>\n",
       "      <td>...</td>\n",
       "      <td>...</td>\n",
       "      <td>...</td>\n",
       "      <td>...</td>\n",
       "      <td>...</td>\n",
       "      <td>...</td>\n",
       "      <td>...</td>\n",
       "      <td>...</td>\n",
       "      <td>...</td>\n",
       "      <td>...</td>\n",
       "      <td>...</td>\n",
       "      <td>...</td>\n",
       "      <td>...</td>\n",
       "      <td>...</td>\n",
       "      <td>...</td>\n",
       "      <td>...</td>\n",
       "      <td>...</td>\n",
       "      <td>...</td>\n",
       "    </tr>\n",
       "    <tr>\n",
       "      <th>Vitamin K (Dihydrophylloquinone)</th>\n",
       "      <td>NaN</td>\n",
       "      <td>NaN</td>\n",
       "      <td>NaN</td>\n",
       "      <td>NaN</td>\n",
       "      <td>NaN</td>\n",
       "      <td>NaN</td>\n",
       "      <td>NaN</td>\n",
       "      <td>NaN</td>\n",
       "      <td>NaN</td>\n",
       "      <td>NaN</td>\n",
       "      <td>...</td>\n",
       "      <td>NaN</td>\n",
       "      <td>0.00</td>\n",
       "      <td>NaN</td>\n",
       "      <td>NaN</td>\n",
       "      <td>NaN</td>\n",
       "      <td>NaN</td>\n",
       "      <td>NaN</td>\n",
       "      <td>NaN</td>\n",
       "      <td>NaN</td>\n",
       "      <td>NaN</td>\n",
       "    </tr>\n",
       "    <tr>\n",
       "      <th>Vitamin K (phylloquinone)</th>\n",
       "      <td>NaN</td>\n",
       "      <td>NaN</td>\n",
       "      <td>NaN</td>\n",
       "      <td>2.40</td>\n",
       "      <td>3.10</td>\n",
       "      <td>NaN</td>\n",
       "      <td>NaN</td>\n",
       "      <td>NaN</td>\n",
       "      <td>NaN</td>\n",
       "      <td>NaN</td>\n",
       "      <td>...</td>\n",
       "      <td>4.40</td>\n",
       "      <td>1.10</td>\n",
       "      <td>NaN</td>\n",
       "      <td>NaN</td>\n",
       "      <td>NaN</td>\n",
       "      <td>NaN</td>\n",
       "      <td>NaN</td>\n",
       "      <td>NaN</td>\n",
       "      <td>NaN</td>\n",
       "      <td>NaN</td>\n",
       "    </tr>\n",
       "    <tr>\n",
       "      <th>Vitamins and Other Components</th>\n",
       "      <td>NaN</td>\n",
       "      <td>NaN</td>\n",
       "      <td>NaN</td>\n",
       "      <td>NaN</td>\n",
       "      <td>NaN</td>\n",
       "      <td>NaN</td>\n",
       "      <td>NaN</td>\n",
       "      <td>NaN</td>\n",
       "      <td>NaN</td>\n",
       "      <td>NaN</td>\n",
       "      <td>...</td>\n",
       "      <td>NaN</td>\n",
       "      <td>0.00</td>\n",
       "      <td>NaN</td>\n",
       "      <td>NaN</td>\n",
       "      <td>NaN</td>\n",
       "      <td>NaN</td>\n",
       "      <td>NaN</td>\n",
       "      <td>NaN</td>\n",
       "      <td>NaN</td>\n",
       "      <td>NaN</td>\n",
       "    </tr>\n",
       "    <tr>\n",
       "      <th>Water</th>\n",
       "      <td>NaN</td>\n",
       "      <td>NaN</td>\n",
       "      <td>NaN</td>\n",
       "      <td>36.60</td>\n",
       "      <td>45.10</td>\n",
       "      <td>NaN</td>\n",
       "      <td>NaN</td>\n",
       "      <td>NaN</td>\n",
       "      <td>NaN</td>\n",
       "      <td>NaN</td>\n",
       "      <td>...</td>\n",
       "      <td>27.00</td>\n",
       "      <td>9.83</td>\n",
       "      <td>NaN</td>\n",
       "      <td>NaN</td>\n",
       "      <td>NaN</td>\n",
       "      <td>NaN</td>\n",
       "      <td>NaN</td>\n",
       "      <td>NaN</td>\n",
       "      <td>NaN</td>\n",
       "      <td>NaN</td>\n",
       "    </tr>\n",
       "    <tr>\n",
       "      <th>Zinc, Zn</th>\n",
       "      <td>NaN</td>\n",
       "      <td>NaN</td>\n",
       "      <td>NaN</td>\n",
       "      <td>3.67</td>\n",
       "      <td>2.21</td>\n",
       "      <td>NaN</td>\n",
       "      <td>NaN</td>\n",
       "      <td>NaN</td>\n",
       "      <td>NaN</td>\n",
       "      <td>NaN</td>\n",
       "      <td>...</td>\n",
       "      <td>0.84</td>\n",
       "      <td>9.96</td>\n",
       "      <td>NaN</td>\n",
       "      <td>NaN</td>\n",
       "      <td>NaN</td>\n",
       "      <td>NaN</td>\n",
       "      <td>NaN</td>\n",
       "      <td>NaN</td>\n",
       "      <td>NaN</td>\n",
       "      <td>NaN</td>\n",
       "    </tr>\n",
       "  </tbody>\n",
       "</table>\n",
       "<p>145 rows × 45 columns</p>\n",
       "</div>"
      ],
      "text/plain": [
       "                                  Butter  Margarine  Yogurt   Cheddar Cheese   \\\n",
       "Alanine                              NaN        NaN      NaN              NaN   \n",
       "Alcohol, ethyl                       NaN        NaN      NaN             0.00   \n",
       "Amino acids                          NaN        NaN      NaN              NaN   \n",
       "Arginine                             NaN        NaN      NaN              NaN   \n",
       "Ash                                  NaN        NaN      NaN              NaN   \n",
       "...                                  ...        ...      ...              ...   \n",
       "Vitamin K (Dihydrophylloquinone)     NaN        NaN      NaN              NaN   \n",
       "Vitamin K (phylloquinone)            NaN        NaN      NaN             2.40   \n",
       "Vitamins and Other Components        NaN        NaN      NaN              NaN   \n",
       "Water                                NaN        NaN      NaN            36.60   \n",
       "Zinc, Zn                             NaN        NaN      NaN             3.67   \n",
       "\n",
       "                                  Processed Sliced Cheese   Skim Milk Powder   \\\n",
       "Alanine                                                NaN                NaN   \n",
       "Alcohol, ethyl                                        0.00                NaN   \n",
       "Amino acids                                            NaN                NaN   \n",
       "Arginine                                               NaN                NaN   \n",
       "Ash                                                    NaN                NaN   \n",
       "...                                                    ...                ...   \n",
       "Vitamin K (Dihydrophylloquinone)                       NaN                NaN   \n",
       "Vitamin K (phylloquinone)                             3.10                NaN   \n",
       "Vitamins and Other Components                          NaN                NaN   \n",
       "Water                                                45.10                NaN   \n",
       "Zinc, Zn                                              2.21                NaN   \n",
       "\n",
       "                                  Soda Crackers  Spaghetti Noodles  \\\n",
       "Alanine                                     NaN                NaN   \n",
       "Alcohol, ethyl                              NaN                NaN   \n",
       "Amino acids                                 NaN                NaN   \n",
       "Arginine                                    NaN                NaN   \n",
       "Ash                                         NaN                NaN   \n",
       "...                                         ...                ...   \n",
       "Vitamin K (Dihydrophylloquinone)            NaN                NaN   \n",
       "Vitamin K (phylloquinone)                   NaN                NaN   \n",
       "Vitamins and Other Components               NaN                NaN   \n",
       "Water                                       NaN                NaN   \n",
       "Zinc, Zn                                    NaN                NaN   \n",
       "\n",
       "                                  Macaroni and Cheese Dinner   Corn Flakes  \\\n",
       "Alanine                                                   NaN          NaN   \n",
       "Alcohol, ethyl                                            NaN          NaN   \n",
       "Amino acids                                               NaN          NaN   \n",
       "Arginine                                                  NaN          NaN   \n",
       "Ash                                                       NaN          NaN   \n",
       "...                                                       ...          ...   \n",
       "Vitamin K (Dihydrophylloquinone)                          NaN          NaN   \n",
       "Vitamin K (phylloquinone)                                 NaN          NaN   \n",
       "Vitamins and Other Components                             NaN          NaN   \n",
       "Water                                                     NaN          NaN   \n",
       "Zinc, Zn                                                  NaN          NaN   \n",
       "\n",
       "                                  ...  Pilot Biscuits   Chocolate Bars   \\\n",
       "Alanine                           ...              NaN             0.51   \n",
       "Alcohol, ethyl                    ...             0.00             0.00   \n",
       "Amino acids                       ...              NaN             0.00   \n",
       "Arginine                          ...              NaN             0.61   \n",
       "Ash                               ...              NaN             3.28   \n",
       "...                               ...              ...              ...   \n",
       "Vitamin K (Dihydrophylloquinone)  ...              NaN             0.00   \n",
       "Vitamin K (phylloquinone)         ...             4.40             1.10   \n",
       "Vitamins and Other Components     ...              NaN             0.00   \n",
       "Water                             ...            27.00             9.83   \n",
       "Zinc, Zn                          ...             0.84             9.96   \n",
       "\n",
       "                                  Potato Chips   Milk 2%  UHT Milk   \\\n",
       "Alanine                                     NaN      NaN        NaN   \n",
       "Alcohol, ethyl                              NaN      NaN        NaN   \n",
       "Amino acids                                 NaN      NaN        NaN   \n",
       "Arginine                                    NaN      NaN        NaN   \n",
       "Ash                                         NaN      NaN        NaN   \n",
       "...                                         ...      ...        ...   \n",
       "Vitamin K (Dihydrophylloquinone)            NaN      NaN        NaN   \n",
       "Vitamin K (phylloquinone)                   NaN      NaN        NaN   \n",
       "Vitamins and Other Components               NaN      NaN        NaN   \n",
       "Water                                       NaN      NaN        NaN   \n",
       "Zinc, Zn                                    NaN      NaN        NaN   \n",
       "\n",
       "                                  Apple Juice  Orange Juice  Tomato Juice  \\\n",
       "Alanine                                   NaN           NaN           NaN   \n",
       "Alcohol, ethyl                            NaN           NaN           NaN   \n",
       "Amino acids                               NaN           NaN           NaN   \n",
       "Arginine                                  NaN           NaN           NaN   \n",
       "Ash                                       NaN           NaN           NaN   \n",
       "...                                       ...           ...           ...   \n",
       "Vitamin K (Dihydrophylloquinone)          NaN           NaN           NaN   \n",
       "Vitamin K (phylloquinone)                 NaN           NaN           NaN   \n",
       "Vitamins and Other Components             NaN           NaN           NaN   \n",
       "Water                                     NaN           NaN           NaN   \n",
       "Zinc, Zn                                  NaN           NaN           NaN   \n",
       "\n",
       "                                  Vegetable Juice  Soft Drinks  \n",
       "Alanine                                       NaN          NaN  \n",
       "Alcohol, ethyl                                NaN          NaN  \n",
       "Amino acids                                   NaN          NaN  \n",
       "Arginine                                      NaN          NaN  \n",
       "Ash                                           NaN          NaN  \n",
       "...                                           ...          ...  \n",
       "Vitamin K (Dihydrophylloquinone)              NaN          NaN  \n",
       "Vitamin K (phylloquinone)                     NaN          NaN  \n",
       "Vitamins and Other Components                 NaN          NaN  \n",
       "Water                                         NaN          NaN  \n",
       "Zinc, Zn                                      NaN          NaN  \n",
       "\n",
       "[145 rows x 45 columns]"
      ]
     },
     "execution_count": 8,
     "metadata": {},
     "output_type": "execute_result"
    }
   ],
   "source": [
    "FoodNutrients"
   ]
  },
  {
   "cell_type": "markdown",
   "metadata": {},
   "source": [
    "## Units & Prices\n",
    "\n"
   ]
  },
  {
   "cell_type": "markdown",
   "metadata": {},
   "source": [
    "Now, the prices we observe can be for lots of different quantities and\n",
    "units.  The FDC database basically wants everything in either hundreds\n",
    "of grams (hectograms) or hundreds of milliliters (deciliters).  \n",
    "We use the `units` function to convert all foods to either\n",
    "deciliters or hectograms, to match FDC database:\n",
    "\n"
   ]
  },
  {
   "cell_type": "code",
   "execution_count": 9,
   "metadata": {},
   "outputs": [
    {
     "name": "stderr",
     "output_type": "stream",
     "text": [
      "/srv/conda/lib/python3.9/site-packages/pandas/core/dtypes/cast.py:1990: UnitStrippedWarning: The unit of the quantity is stripped when downcasting to ndarray.\n",
      "  result[:] = values\n"
     ]
    }
   ],
   "source": [
    "# Convert food quantities to FDC units\n",
    "df['FDC Quantity'] = df[['Quantity','Units']].T.apply(lambda x : fdc.units(x['Quantity'],x['Units']))\n",
    "\n",
    "# Now may want to filter df by time or place--need to get a unique set of food names.\n",
    "df['FDC Price'] = df['Price']/df['FDC Quantity']\n",
    "\n",
    "df.dropna(how='any') # Drop food with any missing data\n",
    "\n",
    "# To use minimum price observed\n",
    "Prices = df.groupby('Food',sort=False)['FDC Price'].min()"
   ]
  },
  {
   "cell_type": "code",
   "execution_count": 10,
   "metadata": {},
   "outputs": [],
   "source": [
    "pd.options.display.max_rows=1000"
   ]
  },
  {
   "cell_type": "code",
   "execution_count": 11,
   "metadata": {},
   "outputs": [
    {
     "data": {
      "text/html": [
       "<div>\n",
       "<style scoped>\n",
       "    .dataframe tbody tr th:only-of-type {\n",
       "        vertical-align: middle;\n",
       "    }\n",
       "\n",
       "    .dataframe tbody tr th {\n",
       "        vertical-align: top;\n",
       "    }\n",
       "\n",
       "    .dataframe thead th {\n",
       "        text-align: right;\n",
       "    }\n",
       "</style>\n",
       "<table border=\"1\" class=\"dataframe\">\n",
       "  <thead>\n",
       "    <tr style=\"text-align: right;\">\n",
       "      <th></th>\n",
       "      <th>Carrots</th>\n",
       "    </tr>\n",
       "  </thead>\n",
       "  <tbody>\n",
       "    <tr>\n",
       "      <th>Alanine</th>\n",
       "      <td>NaN</td>\n",
       "    </tr>\n",
       "    <tr>\n",
       "      <th>Alcohol, ethyl</th>\n",
       "      <td>0.000</td>\n",
       "    </tr>\n",
       "    <tr>\n",
       "      <th>Amino acids</th>\n",
       "      <td>NaN</td>\n",
       "    </tr>\n",
       "    <tr>\n",
       "      <th>Arginine</th>\n",
       "      <td>NaN</td>\n",
       "    </tr>\n",
       "    <tr>\n",
       "      <th>Ash</th>\n",
       "      <td>NaN</td>\n",
       "    </tr>\n",
       "    <tr>\n",
       "      <th>Aspartic acid</th>\n",
       "      <td>NaN</td>\n",
       "    </tr>\n",
       "    <tr>\n",
       "      <th>Betaine</th>\n",
       "      <td>NaN</td>\n",
       "    </tr>\n",
       "    <tr>\n",
       "      <th>Caffeine</th>\n",
       "      <td>0.000</td>\n",
       "    </tr>\n",
       "    <tr>\n",
       "      <th>Calcium, Ca</th>\n",
       "      <td>33.000</td>\n",
       "    </tr>\n",
       "    <tr>\n",
       "      <th>Carbohydrate, by difference</th>\n",
       "      <td>9.580</td>\n",
       "    </tr>\n",
       "    <tr>\n",
       "      <th>Carbohydrates</th>\n",
       "      <td>NaN</td>\n",
       "    </tr>\n",
       "    <tr>\n",
       "      <th>Carotene, alpha</th>\n",
       "      <td>3480.000</td>\n",
       "    </tr>\n",
       "    <tr>\n",
       "      <th>Carotene, beta</th>\n",
       "      <td>8280.000</td>\n",
       "    </tr>\n",
       "    <tr>\n",
       "      <th>Cholesterol</th>\n",
       "      <td>0.000</td>\n",
       "    </tr>\n",
       "    <tr>\n",
       "      <th>Choline, total</th>\n",
       "      <td>8.800</td>\n",
       "    </tr>\n",
       "    <tr>\n",
       "      <th>Copper, Cu</th>\n",
       "      <td>0.045</td>\n",
       "    </tr>\n",
       "    <tr>\n",
       "      <th>Cryptoxanthin, beta</th>\n",
       "      <td>0.000</td>\n",
       "    </tr>\n",
       "    <tr>\n",
       "      <th>Cystine</th>\n",
       "      <td>NaN</td>\n",
       "    </tr>\n",
       "    <tr>\n",
       "      <th>Energy</th>\n",
       "      <td>41.000</td>\n",
       "    </tr>\n",
       "    <tr>\n",
       "      <th>Fatty acids, total monounsaturated</th>\n",
       "      <td>0.012</td>\n",
       "    </tr>\n",
       "    <tr>\n",
       "      <th>Fatty acids, total polyunsaturated</th>\n",
       "      <td>0.102</td>\n",
       "    </tr>\n",
       "    <tr>\n",
       "      <th>Fatty acids, total saturated</th>\n",
       "      <td>0.032</td>\n",
       "    </tr>\n",
       "    <tr>\n",
       "      <th>Fatty acids, total trans</th>\n",
       "      <td>NaN</td>\n",
       "    </tr>\n",
       "    <tr>\n",
       "      <th>Fatty acids, total trans-monoenoic</th>\n",
       "      <td>NaN</td>\n",
       "    </tr>\n",
       "    <tr>\n",
       "      <th>Fatty acids, total trans-polyenoic</th>\n",
       "      <td>NaN</td>\n",
       "    </tr>\n",
       "    <tr>\n",
       "      <th>Fiber, insoluble</th>\n",
       "      <td>NaN</td>\n",
       "    </tr>\n",
       "    <tr>\n",
       "      <th>Fiber, soluble</th>\n",
       "      <td>NaN</td>\n",
       "    </tr>\n",
       "    <tr>\n",
       "      <th>Fiber, total dietary</th>\n",
       "      <td>2.800</td>\n",
       "    </tr>\n",
       "    <tr>\n",
       "      <th>Folate, DFE</th>\n",
       "      <td>19.000</td>\n",
       "    </tr>\n",
       "    <tr>\n",
       "      <th>Folate, food</th>\n",
       "      <td>19.000</td>\n",
       "    </tr>\n",
       "    <tr>\n",
       "      <th>Folate, total</th>\n",
       "      <td>19.000</td>\n",
       "    </tr>\n",
       "    <tr>\n",
       "      <th>Folic acid</th>\n",
       "      <td>0.000</td>\n",
       "    </tr>\n",
       "    <tr>\n",
       "      <th>Fructose</th>\n",
       "      <td>NaN</td>\n",
       "    </tr>\n",
       "    <tr>\n",
       "      <th>Galactose</th>\n",
       "      <td>NaN</td>\n",
       "    </tr>\n",
       "    <tr>\n",
       "      <th>Glucose</th>\n",
       "      <td>NaN</td>\n",
       "    </tr>\n",
       "    <tr>\n",
       "      <th>Glutamic acid</th>\n",
       "      <td>NaN</td>\n",
       "    </tr>\n",
       "    <tr>\n",
       "      <th>Glycine</th>\n",
       "      <td>NaN</td>\n",
       "    </tr>\n",
       "    <tr>\n",
       "      <th>Histidine</th>\n",
       "      <td>NaN</td>\n",
       "    </tr>\n",
       "    <tr>\n",
       "      <th>Hydroxyproline</th>\n",
       "      <td>NaN</td>\n",
       "    </tr>\n",
       "    <tr>\n",
       "      <th>Iron, Fe</th>\n",
       "      <td>0.300</td>\n",
       "    </tr>\n",
       "    <tr>\n",
       "      <th>Isoleucine</th>\n",
       "      <td>NaN</td>\n",
       "    </tr>\n",
       "    <tr>\n",
       "      <th>Lactose</th>\n",
       "      <td>NaN</td>\n",
       "    </tr>\n",
       "    <tr>\n",
       "      <th>Leucine</th>\n",
       "      <td>NaN</td>\n",
       "    </tr>\n",
       "    <tr>\n",
       "      <th>Lipids</th>\n",
       "      <td>NaN</td>\n",
       "    </tr>\n",
       "    <tr>\n",
       "      <th>Lutein + zeaxanthin</th>\n",
       "      <td>256.000</td>\n",
       "    </tr>\n",
       "    <tr>\n",
       "      <th>Lycopene</th>\n",
       "      <td>1.000</td>\n",
       "    </tr>\n",
       "    <tr>\n",
       "      <th>Lysine</th>\n",
       "      <td>NaN</td>\n",
       "    </tr>\n",
       "    <tr>\n",
       "      <th>MUFA 14:1</th>\n",
       "      <td>NaN</td>\n",
       "    </tr>\n",
       "    <tr>\n",
       "      <th>MUFA 15:1</th>\n",
       "      <td>NaN</td>\n",
       "    </tr>\n",
       "    <tr>\n",
       "      <th>MUFA 16:1</th>\n",
       "      <td>0.002</td>\n",
       "    </tr>\n",
       "    <tr>\n",
       "      <th>MUFA 16:1 c</th>\n",
       "      <td>NaN</td>\n",
       "    </tr>\n",
       "    <tr>\n",
       "      <th>MUFA 17:1</th>\n",
       "      <td>NaN</td>\n",
       "    </tr>\n",
       "    <tr>\n",
       "      <th>MUFA 18:1</th>\n",
       "      <td>0.011</td>\n",
       "    </tr>\n",
       "    <tr>\n",
       "      <th>MUFA 18:1 c</th>\n",
       "      <td>NaN</td>\n",
       "    </tr>\n",
       "    <tr>\n",
       "      <th>MUFA 20:1</th>\n",
       "      <td>0.000</td>\n",
       "    </tr>\n",
       "    <tr>\n",
       "      <th>MUFA 22:1</th>\n",
       "      <td>0.000</td>\n",
       "    </tr>\n",
       "    <tr>\n",
       "      <th>MUFA 22:1 c</th>\n",
       "      <td>NaN</td>\n",
       "    </tr>\n",
       "    <tr>\n",
       "      <th>MUFA 24:1 c</th>\n",
       "      <td>NaN</td>\n",
       "    </tr>\n",
       "    <tr>\n",
       "      <th>Magnesium, Mg</th>\n",
       "      <td>12.000</td>\n",
       "    </tr>\n",
       "    <tr>\n",
       "      <th>Maltose</th>\n",
       "      <td>NaN</td>\n",
       "    </tr>\n",
       "    <tr>\n",
       "      <th>Manganese, Mn</th>\n",
       "      <td>NaN</td>\n",
       "    </tr>\n",
       "    <tr>\n",
       "      <th>Methionine</th>\n",
       "      <td>NaN</td>\n",
       "    </tr>\n",
       "    <tr>\n",
       "      <th>Minerals</th>\n",
       "      <td>NaN</td>\n",
       "    </tr>\n",
       "    <tr>\n",
       "      <th>Niacin</th>\n",
       "      <td>0.983</td>\n",
       "    </tr>\n",
       "    <tr>\n",
       "      <th>PUFA 18:2</th>\n",
       "      <td>0.100</td>\n",
       "    </tr>\n",
       "    <tr>\n",
       "      <th>PUFA 18:2 CLAs</th>\n",
       "      <td>NaN</td>\n",
       "    </tr>\n",
       "    <tr>\n",
       "      <th>PUFA 18:2 n-6 c,c</th>\n",
       "      <td>NaN</td>\n",
       "    </tr>\n",
       "    <tr>\n",
       "      <th>PUFA 18:3</th>\n",
       "      <td>0.002</td>\n",
       "    </tr>\n",
       "    <tr>\n",
       "      <th>PUFA 18:3 n-3 c,c,c (ALA)</th>\n",
       "      <td>NaN</td>\n",
       "    </tr>\n",
       "    <tr>\n",
       "      <th>PUFA 18:3 n-6 c,c,c</th>\n",
       "      <td>NaN</td>\n",
       "    </tr>\n",
       "    <tr>\n",
       "      <th>PUFA 18:4</th>\n",
       "      <td>0.000</td>\n",
       "    </tr>\n",
       "    <tr>\n",
       "      <th>PUFA 20:2 n-6 c,c</th>\n",
       "      <td>NaN</td>\n",
       "    </tr>\n",
       "    <tr>\n",
       "      <th>PUFA 20:3</th>\n",
       "      <td>NaN</td>\n",
       "    </tr>\n",
       "    <tr>\n",
       "      <th>PUFA 20:3 n-3</th>\n",
       "      <td>NaN</td>\n",
       "    </tr>\n",
       "    <tr>\n",
       "      <th>PUFA 20:3 n-6</th>\n",
       "      <td>NaN</td>\n",
       "    </tr>\n",
       "    <tr>\n",
       "      <th>PUFA 20:4</th>\n",
       "      <td>0.000</td>\n",
       "    </tr>\n",
       "    <tr>\n",
       "      <th>PUFA 20:5 n-3 (EPA)</th>\n",
       "      <td>0.000</td>\n",
       "    </tr>\n",
       "    <tr>\n",
       "      <th>PUFA 22:4</th>\n",
       "      <td>NaN</td>\n",
       "    </tr>\n",
       "    <tr>\n",
       "      <th>PUFA 22:5 n-3 (DPA)</th>\n",
       "      <td>0.000</td>\n",
       "    </tr>\n",
       "    <tr>\n",
       "      <th>PUFA 22:6 n-3 (DHA)</th>\n",
       "      <td>0.000</td>\n",
       "    </tr>\n",
       "    <tr>\n",
       "      <th>Pantothenic acid</th>\n",
       "      <td>NaN</td>\n",
       "    </tr>\n",
       "    <tr>\n",
       "      <th>Phenylalanine</th>\n",
       "      <td>NaN</td>\n",
       "    </tr>\n",
       "    <tr>\n",
       "      <th>Phosphorus, P</th>\n",
       "      <td>35.000</td>\n",
       "    </tr>\n",
       "    <tr>\n",
       "      <th>Potassium, K</th>\n",
       "      <td>320.000</td>\n",
       "    </tr>\n",
       "    <tr>\n",
       "      <th>Proline</th>\n",
       "      <td>NaN</td>\n",
       "    </tr>\n",
       "    <tr>\n",
       "      <th>Protein</th>\n",
       "      <td>0.930</td>\n",
       "    </tr>\n",
       "    <tr>\n",
       "      <th>Proximates</th>\n",
       "      <td>NaN</td>\n",
       "    </tr>\n",
       "    <tr>\n",
       "      <th>Retinol</th>\n",
       "      <td>0.000</td>\n",
       "    </tr>\n",
       "    <tr>\n",
       "      <th>Riboflavin</th>\n",
       "      <td>0.058</td>\n",
       "    </tr>\n",
       "    <tr>\n",
       "      <th>SFA 10:0</th>\n",
       "      <td>0.000</td>\n",
       "    </tr>\n",
       "    <tr>\n",
       "      <th>SFA 12:0</th>\n",
       "      <td>0.000</td>\n",
       "    </tr>\n",
       "    <tr>\n",
       "      <th>SFA 14:0</th>\n",
       "      <td>0.000</td>\n",
       "    </tr>\n",
       "    <tr>\n",
       "      <th>SFA 15:0</th>\n",
       "      <td>NaN</td>\n",
       "    </tr>\n",
       "    <tr>\n",
       "      <th>SFA 16:0</th>\n",
       "      <td>0.030</td>\n",
       "    </tr>\n",
       "    <tr>\n",
       "      <th>SFA 17:0</th>\n",
       "      <td>NaN</td>\n",
       "    </tr>\n",
       "    <tr>\n",
       "      <th>SFA 18:0</th>\n",
       "      <td>0.002</td>\n",
       "    </tr>\n",
       "    <tr>\n",
       "      <th>SFA 20:0</th>\n",
       "      <td>NaN</td>\n",
       "    </tr>\n",
       "    <tr>\n",
       "      <th>SFA 22:0</th>\n",
       "      <td>NaN</td>\n",
       "    </tr>\n",
       "    <tr>\n",
       "      <th>SFA 24:0</th>\n",
       "      <td>NaN</td>\n",
       "    </tr>\n",
       "    <tr>\n",
       "      <th>SFA 4:0</th>\n",
       "      <td>0.000</td>\n",
       "    </tr>\n",
       "    <tr>\n",
       "      <th>SFA 6:0</th>\n",
       "      <td>0.000</td>\n",
       "    </tr>\n",
       "    <tr>\n",
       "      <th>SFA 8:0</th>\n",
       "      <td>0.000</td>\n",
       "    </tr>\n",
       "    <tr>\n",
       "      <th>Selenium, Se</th>\n",
       "      <td>0.100</td>\n",
       "    </tr>\n",
       "    <tr>\n",
       "      <th>Serine</th>\n",
       "      <td>NaN</td>\n",
       "    </tr>\n",
       "    <tr>\n",
       "      <th>Sodium, Na</th>\n",
       "      <td>69.000</td>\n",
       "    </tr>\n",
       "    <tr>\n",
       "      <th>Starch</th>\n",
       "      <td>NaN</td>\n",
       "    </tr>\n",
       "    <tr>\n",
       "      <th>Sucrose</th>\n",
       "      <td>NaN</td>\n",
       "    </tr>\n",
       "    <tr>\n",
       "      <th>Sugars, added</th>\n",
       "      <td>NaN</td>\n",
       "    </tr>\n",
       "    <tr>\n",
       "      <th>Sugars, total including NLEA</th>\n",
       "      <td>4.740</td>\n",
       "    </tr>\n",
       "    <tr>\n",
       "      <th>TFA 16:1 t</th>\n",
       "      <td>NaN</td>\n",
       "    </tr>\n",
       "    <tr>\n",
       "      <th>TFA 18:1 t</th>\n",
       "      <td>NaN</td>\n",
       "    </tr>\n",
       "    <tr>\n",
       "      <th>TFA 18:2 t not further defined</th>\n",
       "      <td>NaN</td>\n",
       "    </tr>\n",
       "    <tr>\n",
       "      <th>TFA 22:1 t</th>\n",
       "      <td>NaN</td>\n",
       "    </tr>\n",
       "    <tr>\n",
       "      <th>Theobromine</th>\n",
       "      <td>0.000</td>\n",
       "    </tr>\n",
       "    <tr>\n",
       "      <th>Thiamin</th>\n",
       "      <td>0.066</td>\n",
       "    </tr>\n",
       "    <tr>\n",
       "      <th>Threonine</th>\n",
       "      <td>NaN</td>\n",
       "    </tr>\n",
       "    <tr>\n",
       "      <th>Tocopherol, beta</th>\n",
       "      <td>NaN</td>\n",
       "    </tr>\n",
       "    <tr>\n",
       "      <th>Tocopherol, delta</th>\n",
       "      <td>NaN</td>\n",
       "    </tr>\n",
       "    <tr>\n",
       "      <th>Tocopherol, gamma</th>\n",
       "      <td>NaN</td>\n",
       "    </tr>\n",
       "    <tr>\n",
       "      <th>Tocotrienol, alpha</th>\n",
       "      <td>NaN</td>\n",
       "    </tr>\n",
       "    <tr>\n",
       "      <th>Tocotrienol, beta</th>\n",
       "      <td>NaN</td>\n",
       "    </tr>\n",
       "    <tr>\n",
       "      <th>Tocotrienol, delta</th>\n",
       "      <td>NaN</td>\n",
       "    </tr>\n",
       "    <tr>\n",
       "      <th>Tocotrienol, gamma</th>\n",
       "      <td>NaN</td>\n",
       "    </tr>\n",
       "    <tr>\n",
       "      <th>Total Sugars</th>\n",
       "      <td>NaN</td>\n",
       "    </tr>\n",
       "    <tr>\n",
       "      <th>Total lipid (fat)</th>\n",
       "      <td>0.240</td>\n",
       "    </tr>\n",
       "    <tr>\n",
       "      <th>Tryptophan</th>\n",
       "      <td>NaN</td>\n",
       "    </tr>\n",
       "    <tr>\n",
       "      <th>Tyrosine</th>\n",
       "      <td>NaN</td>\n",
       "    </tr>\n",
       "    <tr>\n",
       "      <th>Valine</th>\n",
       "      <td>NaN</td>\n",
       "    </tr>\n",
       "    <tr>\n",
       "      <th>Vitamin A</th>\n",
       "      <td>NaN</td>\n",
       "    </tr>\n",
       "    <tr>\n",
       "      <th>Vitamin A, IU</th>\n",
       "      <td>NaN</td>\n",
       "    </tr>\n",
       "    <tr>\n",
       "      <th>Vitamin A, RAE</th>\n",
       "      <td>835.000</td>\n",
       "    </tr>\n",
       "    <tr>\n",
       "      <th>Vitamin B-12</th>\n",
       "      <td>0.000</td>\n",
       "    </tr>\n",
       "    <tr>\n",
       "      <th>Vitamin B-12, added</th>\n",
       "      <td>0.000</td>\n",
       "    </tr>\n",
       "    <tr>\n",
       "      <th>Vitamin B-6</th>\n",
       "      <td>0.138</td>\n",
       "    </tr>\n",
       "    <tr>\n",
       "      <th>Vitamin C, total ascorbic acid</th>\n",
       "      <td>5.900</td>\n",
       "    </tr>\n",
       "    <tr>\n",
       "      <th>Vitamin D (D2 + D3)</th>\n",
       "      <td>0.000</td>\n",
       "    </tr>\n",
       "    <tr>\n",
       "      <th>Vitamin D (D2 + D3), International Units</th>\n",
       "      <td>NaN</td>\n",
       "    </tr>\n",
       "    <tr>\n",
       "      <th>Vitamin D3 (cholecalciferol)</th>\n",
       "      <td>NaN</td>\n",
       "    </tr>\n",
       "    <tr>\n",
       "      <th>Vitamin E (alpha-tocopherol)</th>\n",
       "      <td>0.660</td>\n",
       "    </tr>\n",
       "    <tr>\n",
       "      <th>Vitamin E, added</th>\n",
       "      <td>0.000</td>\n",
       "    </tr>\n",
       "    <tr>\n",
       "      <th>Vitamin K (Dihydrophylloquinone)</th>\n",
       "      <td>NaN</td>\n",
       "    </tr>\n",
       "    <tr>\n",
       "      <th>Vitamin K (phylloquinone)</th>\n",
       "      <td>13.200</td>\n",
       "    </tr>\n",
       "    <tr>\n",
       "      <th>Vitamins and Other Components</th>\n",
       "      <td>NaN</td>\n",
       "    </tr>\n",
       "    <tr>\n",
       "      <th>Water</th>\n",
       "      <td>88.300</td>\n",
       "    </tr>\n",
       "    <tr>\n",
       "      <th>Zinc, Zn</th>\n",
       "      <td>0.240</td>\n",
       "    </tr>\n",
       "  </tbody>\n",
       "</table>\n",
       "</div>"
      ],
      "text/plain": [
       "                                           Carrots\n",
       "Alanine                                        NaN\n",
       "Alcohol, ethyl                               0.000\n",
       "Amino acids                                    NaN\n",
       "Arginine                                       NaN\n",
       "Ash                                            NaN\n",
       "Aspartic acid                                  NaN\n",
       "Betaine                                        NaN\n",
       "Caffeine                                     0.000\n",
       "Calcium, Ca                                 33.000\n",
       "Carbohydrate, by difference                  9.580\n",
       "Carbohydrates                                  NaN\n",
       "Carotene, alpha                           3480.000\n",
       "Carotene, beta                            8280.000\n",
       "Cholesterol                                  0.000\n",
       "Choline, total                               8.800\n",
       "Copper, Cu                                   0.045\n",
       "Cryptoxanthin, beta                          0.000\n",
       "Cystine                                        NaN\n",
       "Energy                                      41.000\n",
       "Fatty acids, total monounsaturated           0.012\n",
       "Fatty acids, total polyunsaturated           0.102\n",
       "Fatty acids, total saturated                 0.032\n",
       "Fatty acids, total trans                       NaN\n",
       "Fatty acids, total trans-monoenoic             NaN\n",
       "Fatty acids, total trans-polyenoic             NaN\n",
       "Fiber, insoluble                               NaN\n",
       "Fiber, soluble                                 NaN\n",
       "Fiber, total dietary                         2.800\n",
       "Folate, DFE                                 19.000\n",
       "Folate, food                                19.000\n",
       "Folate, total                               19.000\n",
       "Folic acid                                   0.000\n",
       "Fructose                                       NaN\n",
       "Galactose                                      NaN\n",
       "Glucose                                        NaN\n",
       "Glutamic acid                                  NaN\n",
       "Glycine                                        NaN\n",
       "Histidine                                      NaN\n",
       "Hydroxyproline                                 NaN\n",
       "Iron, Fe                                     0.300\n",
       "Isoleucine                                     NaN\n",
       "Lactose                                        NaN\n",
       "Leucine                                        NaN\n",
       "Lipids                                         NaN\n",
       "Lutein + zeaxanthin                        256.000\n",
       "Lycopene                                     1.000\n",
       "Lysine                                         NaN\n",
       "MUFA 14:1                                      NaN\n",
       "MUFA 15:1                                      NaN\n",
       "MUFA 16:1                                    0.002\n",
       "MUFA 16:1 c                                    NaN\n",
       "MUFA 17:1                                      NaN\n",
       "MUFA 18:1                                    0.011\n",
       "MUFA 18:1 c                                    NaN\n",
       "MUFA 20:1                                    0.000\n",
       "MUFA 22:1                                    0.000\n",
       "MUFA 22:1 c                                    NaN\n",
       "MUFA 24:1 c                                    NaN\n",
       "Magnesium, Mg                               12.000\n",
       "Maltose                                        NaN\n",
       "Manganese, Mn                                  NaN\n",
       "Methionine                                     NaN\n",
       "Minerals                                       NaN\n",
       "Niacin                                       0.983\n",
       "PUFA 18:2                                    0.100\n",
       "PUFA 18:2 CLAs                                 NaN\n",
       "PUFA 18:2 n-6 c,c                              NaN\n",
       "PUFA 18:3                                    0.002\n",
       "PUFA 18:3 n-3 c,c,c (ALA)                      NaN\n",
       "PUFA 18:3 n-6 c,c,c                            NaN\n",
       "PUFA 18:4                                    0.000\n",
       "PUFA 20:2 n-6 c,c                              NaN\n",
       "PUFA 20:3                                      NaN\n",
       "PUFA 20:3 n-3                                  NaN\n",
       "PUFA 20:3 n-6                                  NaN\n",
       "PUFA 20:4                                    0.000\n",
       "PUFA 20:5 n-3 (EPA)                          0.000\n",
       "PUFA 22:4                                      NaN\n",
       "PUFA 22:5 n-3 (DPA)                          0.000\n",
       "PUFA 22:6 n-3 (DHA)                          0.000\n",
       "Pantothenic acid                               NaN\n",
       "Phenylalanine                                  NaN\n",
       "Phosphorus, P                               35.000\n",
       "Potassium, K                               320.000\n",
       "Proline                                        NaN\n",
       "Protein                                      0.930\n",
       "Proximates                                     NaN\n",
       "Retinol                                      0.000\n",
       "Riboflavin                                   0.058\n",
       "SFA 10:0                                     0.000\n",
       "SFA 12:0                                     0.000\n",
       "SFA 14:0                                     0.000\n",
       "SFA 15:0                                       NaN\n",
       "SFA 16:0                                     0.030\n",
       "SFA 17:0                                       NaN\n",
       "SFA 18:0                                     0.002\n",
       "SFA 20:0                                       NaN\n",
       "SFA 22:0                                       NaN\n",
       "SFA 24:0                                       NaN\n",
       "SFA 4:0                                      0.000\n",
       "SFA 6:0                                      0.000\n",
       "SFA 8:0                                      0.000\n",
       "Selenium, Se                                 0.100\n",
       "Serine                                         NaN\n",
       "Sodium, Na                                  69.000\n",
       "Starch                                         NaN\n",
       "Sucrose                                        NaN\n",
       "Sugars, added                                  NaN\n",
       "Sugars, total including NLEA                 4.740\n",
       "TFA 16:1 t                                     NaN\n",
       "TFA 18:1 t                                     NaN\n",
       "TFA 18:2 t not further defined                 NaN\n",
       "TFA 22:1 t                                     NaN\n",
       "Theobromine                                  0.000\n",
       "Thiamin                                      0.066\n",
       "Threonine                                      NaN\n",
       "Tocopherol, beta                               NaN\n",
       "Tocopherol, delta                              NaN\n",
       "Tocopherol, gamma                              NaN\n",
       "Tocotrienol, alpha                             NaN\n",
       "Tocotrienol, beta                              NaN\n",
       "Tocotrienol, delta                             NaN\n",
       "Tocotrienol, gamma                             NaN\n",
       "Total Sugars                                   NaN\n",
       "Total lipid (fat)                            0.240\n",
       "Tryptophan                                     NaN\n",
       "Tyrosine                                       NaN\n",
       "Valine                                         NaN\n",
       "Vitamin A                                      NaN\n",
       "Vitamin A, IU                                  NaN\n",
       "Vitamin A, RAE                             835.000\n",
       "Vitamin B-12                                 0.000\n",
       "Vitamin B-12, added                          0.000\n",
       "Vitamin B-6                                  0.138\n",
       "Vitamin C, total ascorbic acid               5.900\n",
       "Vitamin D (D2 + D3)                          0.000\n",
       "Vitamin D (D2 + D3), International Units       NaN\n",
       "Vitamin D3 (cholecalciferol)                   NaN\n",
       "Vitamin E (alpha-tocopherol)                 0.660\n",
       "Vitamin E, added                             0.000\n",
       "Vitamin K (Dihydrophylloquinone)               NaN\n",
       "Vitamin K (phylloquinone)                   13.200\n",
       "Vitamins and Other Components                  NaN\n",
       "Water                                       88.300\n",
       "Zinc, Zn                                     0.240"
      ]
     },
     "execution_count": 11,
     "metadata": {},
     "output_type": "execute_result"
    }
   ],
   "source": [
    "FoodNutrients[['Carrots']]"
   ]
  },
  {
   "cell_type": "markdown",
   "metadata": {},
   "source": [
    "## Dietary Requirements\n",
    "\n"
   ]
  },
  {
   "cell_type": "markdown",
   "metadata": {},
   "source": [
    "We&rsquo;ve figured out some foods we can buy, the nutritional content of\n",
    "those foods, and  the price of the foods.  Now we need to say\n",
    "something about nutritional requirements.   Our data for this is based\n",
    "on  US government recommendations available at\n",
    "[https://www.dietaryguidelines.gov/sites/default/files/2021-03/Dietary_Guidelines_for_Americans-2020-2025.pdf](https://www.dietaryguidelines.gov/sites/default/files/2021-03/Dietary_Guidelines_for_Americans-2020-2025.pdf)\n",
    "\n",
    "I&rsquo;ve put some of these data into a google spreadsheet at\n",
    "[https://docs.google.com/spreadsheets/d/1y95IsQ4HKspPW3HHDtH7QMtlDA66IUsCHJLutVL-MMc/](https://docs.google.com/spreadsheets/d/1y95IsQ4HKspPW3HHDtH7QMtlDA66IUsCHJLutVL-MMc/).\n",
    "\n"
   ]
  },
  {
   "cell_type": "code",
   "execution_count": 12,
   "metadata": {},
   "outputs": [],
   "source": [
    "DRIS_min = pd.read_csv(\"data/Dietary Requirements - diet_minimums - Dietary Requirements - diet_minimums.csv\")\n",
    "\n",
    "DRIS_max = pd.read_csv(\"data/Dietary Requirements - diet_maximums.csv\")\n",
    "\n",
    "# Define *minimums*\n",
    "\n",
    "diet_min = DRIS_min.set_index('Nutrition')\n",
    "\n",
    "# Define *maximums*\n",
    "diet_max = DRIS_max.set_index('Nutrition')"
   ]
  },
  {
   "cell_type": "markdown",
   "metadata": {},
   "source": [
    "## Using `solve_subsistence_problem` to analyze diet\n",
    "\n"
   ]
  },
  {
   "cell_type": "markdown",
   "metadata": {},
   "source": [
    "Let&rsquo;s choose a particular group (type of person with particular\n",
    "dietary requirements) and solve the subsistence problem for them:\n",
    "\n"
   ]
  },
  {
   "cell_type": "code",
   "execution_count": 13,
   "metadata": {},
   "outputs": [
    {
     "name": "stdout",
     "output_type": "stream",
     "text": [
      "Cost of diet for F 31-50 is $11.64 per day.\n",
      "\n",
      "\n",
      "Diet (in 100s of grams or milliliters):\n",
      "Skim Milk Powder       0.572159\n",
      "Corn Flakes            0.219819\n",
      "Frozen Corn            0.824896\n",
      "Apples                 1.106477\n",
      "Potatoes               0.013366\n",
      "Frozen French Fries    5.167458\n",
      "Chocolate Bars         0.742112\n",
      "dtype: float64\n",
      "\n",
      "\n",
      "With the following nutritional outcomes of interest:\n",
      "                                  Outcome  Recommendation\n",
      "Nutrition                                                \n",
      "Energy                        3100.000000          1800.0\n",
      "Protein                         46.000000            46.0\n",
      "Fiber, total dietary            39.364457            25.2\n",
      "Folate, DFE                    912.812109           400.0\n",
      "Calcium, Ca                   1237.500947          1000.0\n",
      "Carbohydrate, by difference    341.934103           130.0\n",
      "Iron, Fe                        18.000000            18.0\n",
      "Magnesium, Mg                  320.000000           320.0\n",
      "Phosphorus, P                  926.577924           700.0\n",
      "Potassium, K                  4700.000000          4700.0\n",
      "Vitamin B-12                     5.186778             2.4\n",
      "Vitamin E (alpha-tocopherol)    15.994903            15.0\n",
      "Vitamin K (phylloquinone)       90.000000            90.0\n",
      "Zinc, Zn                         9.548207             8.0\n",
      "Sodium, Na                    2300.000000          2300.0\n",
      "Energy                        3100.000000          3100.0\n",
      "\n",
      "\n",
      "Constraining nutrients are:\n",
      "['Protein', 'Iron, Fe', 'Magnesium, Mg', 'Potassium, K', 'Vitamin K (phylloquinone)', 'Sodium, Na', 'Energy']\n"
     ]
    }
   ],
   "source": [
    "group = 'F 31-50'\n",
    "tol = 1e-6\n",
    "\n",
    "result = solve_subsistence_problem(FoodNutrients,Prices,diet_min[group],diet_max[group],tol=tol)\n",
    "\n",
    "print(\"Cost of diet for %s is $%4.2f per day.\\n\" % (group,result.fun))\n",
    "\n",
    "# Put back into nice series\n",
    "diet = result.diet\n",
    "\n",
    "print(\"\\nDiet (in 100s of grams or milliliters):\")\n",
    "print(diet[diet >= tol])  # Drop items with quantities less than precision of calculation.\n",
    "print()\n",
    "\n",
    "tab = pd.DataFrame({\"Outcome\":np.abs(result.A).dot(diet),\"Recommendation\":np.abs(result.b)})\n",
    "print(\"\\nWith the following nutritional outcomes of interest:\")\n",
    "print(tab)\n",
    "print()\n",
    "\n",
    "print(\"\\nConstraining nutrients are:\")\n",
    "excess = tab.diff(axis=1).iloc[:,1]\n",
    "print(excess.loc[np.abs(excess) < tol*100].index.tolist())"
   ]
  },
  {
   "cell_type": "markdown",
   "metadata": {},
   "source": [
    "## Effects of Price Changes on Subsistence Diet Cost\n",
    "\n"
   ]
  },
  {
   "cell_type": "markdown",
   "metadata": {},
   "source": [
    "As prices change, we should expect the minimum cost diet to also\n",
    "  change.  The code below creates a graph which changes prices away\n",
    "  from the \\`base&rsquo; case one food at a time, and plots changes in total\n",
    "  diet cost.\n",
    "\n"
   ]
  },
  {
   "cell_type": "code",
   "execution_count": 14,
   "metadata": {},
   "outputs": [
    {
     "name": "stdout",
     "output_type": "stream",
     "text": [
      "Requirement already satisfied: cufflinks in /srv/conda/lib/python3.9/site-packages (0.17.3)\n",
      "Requirement already satisfied: plotly>=4.1.1 in /srv/conda/lib/python3.9/site-packages (from cufflinks) (5.19.0)\n",
      "Requirement already satisfied: ipython>=5.3.0 in /srv/conda/lib/python3.9/site-packages (from cufflinks) (8.18.1)\n",
      "Requirement already satisfied: numpy>=1.9.2 in /srv/conda/lib/python3.9/site-packages (from cufflinks) (1.22.4)\n",
      "Requirement already satisfied: pandas>=0.19.2 in /srv/conda/lib/python3.9/site-packages (from cufflinks) (1.3.5)\n",
      "Requirement already satisfied: colorlover>=0.2.1 in /srv/conda/lib/python3.9/site-packages (from cufflinks) (0.3.0)\n",
      "Requirement already satisfied: setuptools>=34.4.1 in /srv/conda/lib/python3.9/site-packages (from cufflinks) (59.8.0)\n",
      "Requirement already satisfied: six>=1.9.0 in /srv/conda/lib/python3.9/site-packages (from cufflinks) (1.16.0)\n",
      "Requirement already satisfied: ipywidgets>=7.0.0 in /srv/conda/lib/python3.9/site-packages (from cufflinks) (8.0.7)\n",
      "Requirement already satisfied: matplotlib-inline in /srv/conda/lib/python3.9/site-packages (from ipython>=5.3.0->cufflinks) (0.1.6)\n",
      "Requirement already satisfied: prompt-toolkit<3.1.0,>=3.0.41 in /srv/conda/lib/python3.9/site-packages (from ipython>=5.3.0->cufflinks) (3.0.42)\n",
      "Requirement already satisfied: typing-extensions in /srv/conda/lib/python3.9/site-packages (from ipython>=5.3.0->cufflinks) (4.9.0)\n",
      "Requirement already satisfied: pygments>=2.4.0 in /srv/conda/lib/python3.9/site-packages (from ipython>=5.3.0->cufflinks) (2.17.2)\n",
      "Requirement already satisfied: jedi>=0.16 in /srv/conda/lib/python3.9/site-packages (from ipython>=5.3.0->cufflinks) (0.19.1)\n",
      "Requirement already satisfied: stack-data in /srv/conda/lib/python3.9/site-packages (from ipython>=5.3.0->cufflinks) (0.6.2)\n",
      "Requirement already satisfied: pexpect>4.3 in /srv/conda/lib/python3.9/site-packages (from ipython>=5.3.0->cufflinks) (4.9.0)\n",
      "Requirement already satisfied: decorator in /srv/conda/lib/python3.9/site-packages (from ipython>=5.3.0->cufflinks) (5.0.9)\n",
      "Requirement already satisfied: exceptiongroup in /srv/conda/lib/python3.9/site-packages (from ipython>=5.3.0->cufflinks) (1.2.0)\n",
      "Requirement already satisfied: traitlets>=5 in /srv/conda/lib/python3.9/site-packages (from ipython>=5.3.0->cufflinks) (5.9.0)\n",
      "Requirement already satisfied: ipykernel>=4.5.1 in /srv/conda/lib/python3.9/site-packages (from ipywidgets>=7.0.0->cufflinks) (6.19.4)\n",
      "Requirement already satisfied: jupyterlab-widgets~=3.0.7 in /srv/conda/lib/python3.9/site-packages (from ipywidgets>=7.0.0->cufflinks) (3.0.10)\n",
      "Requirement already satisfied: widgetsnbextension~=4.0.7 in /srv/conda/lib/python3.9/site-packages (from ipywidgets>=7.0.0->cufflinks) (4.0.10)\n",
      "Requirement already satisfied: python-dateutil>=2.7.3 in /srv/conda/lib/python3.9/site-packages (from pandas>=0.19.2->cufflinks) (2.8.2)\n",
      "Requirement already satisfied: pytz>=2017.3 in /srv/conda/lib/python3.9/site-packages (from pandas>=0.19.2->cufflinks) (2024.1)\n",
      "Requirement already satisfied: packaging in /srv/conda/lib/python3.9/site-packages (from plotly>=4.1.1->cufflinks) (23.2)\n",
      "Requirement already satisfied: tenacity>=6.2.0 in /srv/conda/lib/python3.9/site-packages (from plotly>=4.1.1->cufflinks) (8.2.3)\n",
      "Requirement already satisfied: comm>=0.1.1 in /srv/conda/lib/python3.9/site-packages (from ipykernel>=4.5.1->ipywidgets>=7.0.0->cufflinks) (0.2.1)\n",
      "Requirement already satisfied: jupyter-client>=6.1.12 in /srv/conda/lib/python3.9/site-packages (from ipykernel>=4.5.1->ipywidgets>=7.0.0->cufflinks) (8.6.0)\n",
      "Requirement already satisfied: debugpy>=1.0 in /srv/conda/lib/python3.9/site-packages (from ipykernel>=4.5.1->ipywidgets>=7.0.0->cufflinks) (1.8.1)\n",
      "Requirement already satisfied: psutil in /srv/conda/lib/python3.9/site-packages (from ipykernel>=4.5.1->ipywidgets>=7.0.0->cufflinks) (5.9.8)\n",
      "Requirement already satisfied: pyzmq>=17 in /srv/conda/lib/python3.9/site-packages (from ipykernel>=4.5.1->ipywidgets>=7.0.0->cufflinks) (25.1.2)\n",
      "Requirement already satisfied: tornado>=6.1 in /srv/conda/lib/python3.9/site-packages (from ipykernel>=4.5.1->ipywidgets>=7.0.0->cufflinks) (6.4)\n",
      "Requirement already satisfied: nest-asyncio in /srv/conda/lib/python3.9/site-packages (from ipykernel>=4.5.1->ipywidgets>=7.0.0->cufflinks) (1.6.0)\n",
      "Requirement already satisfied: parso<0.9.0,>=0.8.3 in /srv/conda/lib/python3.9/site-packages (from jedi>=0.16->ipython>=5.3.0->cufflinks) (0.8.3)\n",
      "Requirement already satisfied: ptyprocess>=0.5 in /srv/conda/lib/python3.9/site-packages (from pexpect>4.3->ipython>=5.3.0->cufflinks) (0.7.0)\n",
      "Requirement already satisfied: wcwidth in /srv/conda/lib/python3.9/site-packages (from prompt-toolkit<3.1.0,>=3.0.41->ipython>=5.3.0->cufflinks) (0.2.13)\n",
      "Requirement already satisfied: asttokens>=2.1.0 in /srv/conda/lib/python3.9/site-packages (from stack-data->ipython>=5.3.0->cufflinks) (2.4.1)\n",
      "Requirement already satisfied: executing>=1.2.0 in /srv/conda/lib/python3.9/site-packages (from stack-data->ipython>=5.3.0->cufflinks) (2.0.1)\n",
      "Requirement already satisfied: pure-eval in /srv/conda/lib/python3.9/site-packages (from stack-data->ipython>=5.3.0->cufflinks) (0.2.2)\n",
      "Requirement already satisfied: jupyter-core!=5.0.*,>=4.12 in /srv/conda/lib/python3.9/site-packages (from jupyter-client>=6.1.12->ipykernel>=4.5.1->ipywidgets>=7.0.0->cufflinks) (5.7.1)\n",
      "Requirement already satisfied: importlib-metadata>=4.8.3 in /srv/conda/lib/python3.9/site-packages (from jupyter-client>=6.1.12->ipykernel>=4.5.1->ipywidgets>=7.0.0->cufflinks) (7.0.1)\n",
      "Requirement already satisfied: zipp>=0.5 in /srv/conda/lib/python3.9/site-packages (from importlib-metadata>=4.8.3->jupyter-client>=6.1.12->ipykernel>=4.5.1->ipywidgets>=7.0.0->cufflinks) (3.17.0)\n",
      "Requirement already satisfied: platformdirs>=2.5 in /srv/conda/lib/python3.9/site-packages (from jupyter-core!=5.0.*,>=4.12->jupyter-client>=6.1.12->ipykernel>=4.5.1->ipywidgets>=7.0.0->cufflinks) (4.2.0)\n",
      "Note: you may need to restart the kernel to use updated packages.\n"
     ]
    }
   ],
   "source": [
    "%pip install cufflinks"
   ]
  },
  {
   "cell_type": "code",
   "execution_count": 15,
   "metadata": {},
   "outputs": [
    {
     "data": {
      "text/html": [
       "        <script type=\"text/javascript\">\n",
       "        window.PlotlyConfig = {MathJaxConfig: 'local'};\n",
       "        if (window.MathJax && window.MathJax.Hub && window.MathJax.Hub.Config) {window.MathJax.Hub.Config({SVG: {font: \"STIX-Web\"}});}\n",
       "        if (typeof require !== 'undefined') {\n",
       "        require.undef(\"plotly\");\n",
       "        requirejs.config({\n",
       "            paths: {\n",
       "                'plotly': ['https://cdn.plot.ly/plotly-2.29.1.min']\n",
       "            }\n",
       "        });\n",
       "        require(['plotly'], function(Plotly) {\n",
       "            window._Plotly = Plotly;\n",
       "        });\n",
       "        }\n",
       "        </script>\n",
       "        "
      ]
     },
     "metadata": {},
     "output_type": "display_data"
    },
    {
     "name": "stderr",
     "output_type": "stream",
     "text": [
      "/srv/conda/lib/python3.9/site-packages/pandas/core/internals/blocks.py:937: UnitStrippedWarning:\n",
      "\n",
      "The unit of the quantity is stripped when downcasting to ndarray.\n",
      "\n"
     ]
    },
    {
     "data": {
      "application/vnd.plotly.v1+json": {
       "config": {
        "linkText": "Export to plot.ly",
        "plotlyServerURL": "https://plot.ly",
        "showLink": true
       },
       "data": [
        {
         "line": {
          "color": "rgba(255, 153, 51, 1.0)",
          "dash": "solid",
          "shape": "linear",
          "width": 1.3
         },
         "mode": "lines",
         "name": "Butter",
         "text": "",
         "type": "scatter",
         "x": [
          -0.6931471805599453,
          -0.5108256237659907,
          -0.35667494393873245,
          -0.22314355131420968,
          -0.10536051565782628,
          0,
          0.09531017980432495,
          0.1823215567939546,
          0.26236426446749106,
          0.33647223662121284,
          0.4054651081081644
         ],
         "y": [
          0,
          0,
          0,
          0,
          0,
          0,
          0,
          0,
          0,
          0,
          0
         ]
        },
        {
         "line": {
          "color": "rgba(55, 128, 191, 1.0)",
          "dash": "solid",
          "shape": "linear",
          "width": 1.3
         },
         "mode": "lines",
         "name": "Margarine",
         "text": "",
         "type": "scatter",
         "x": [
          -0.6931471805599453,
          -0.5108256237659907,
          -0.35667494393873245,
          -0.22314355131420968,
          -0.10536051565782628,
          0,
          0.09531017980432495,
          0.1823215567939546,
          0.26236426446749106,
          0.33647223662121284,
          0.4054651081081644
         ],
         "y": [
          0,
          0,
          0,
          0,
          0,
          0,
          0,
          0,
          0,
          0,
          0
         ]
        },
        {
         "line": {
          "color": "rgba(50, 171, 96, 1.0)",
          "dash": "solid",
          "shape": "linear",
          "width": 1.3
         },
         "mode": "lines",
         "name": "Yogurt ",
         "text": "",
         "type": "scatter",
         "x": [
          -0.6931471805599453,
          -0.5108256237659907,
          -0.35667494393873245,
          -0.22314355131420968,
          -0.10536051565782628,
          0,
          0.09531017980432495,
          0.1823215567939546,
          0.26236426446749106,
          0.33647223662121284,
          0.4054651081081644
         ],
         "y": [
          0,
          0,
          0,
          0,
          0,
          0,
          0,
          0,
          0,
          0,
          0
         ]
        },
        {
         "line": {
          "color": "rgba(128, 0, 128, 1.0)",
          "dash": "solid",
          "shape": "linear",
          "width": 1.3
         },
         "mode": "lines",
         "name": "Cheddar Cheese ",
         "text": "",
         "type": "scatter",
         "x": [
          -0.6931471805599453,
          -0.5108256237659907,
          -0.35667494393873245,
          -0.22314355131420968,
          -0.10536051565782628,
          0,
          0.09531017980432495,
          0.1823215567939546,
          0.26236426446749106,
          0.33647223662121284,
          0.4054651081081644
         ],
         "y": [
          0,
          0,
          0,
          0,
          0,
          0,
          0,
          0,
          0,
          0,
          0
         ]
        },
        {
         "line": {
          "color": "rgba(219, 64, 82, 1.0)",
          "dash": "solid",
          "shape": "linear",
          "width": 1.3
         },
         "mode": "lines",
         "name": "Processed Sliced Cheese ",
         "text": "",
         "type": "scatter",
         "x": [
          -0.6931471805599453,
          -0.5108256237659907,
          -0.35667494393873245,
          -0.22314355131420968,
          -0.10536051565782628,
          0,
          0.09531017980432495,
          0.1823215567939546,
          0.26236426446749106,
          0.33647223662121284,
          0.4054651081081644
         ],
         "y": [
          0,
          0,
          0,
          0,
          0,
          0,
          0,
          0,
          0,
          0,
          0
         ]
        },
        {
         "line": {
          "color": "rgba(0, 128, 128, 1.0)",
          "dash": "solid",
          "shape": "linear",
          "width": 1.3
         },
         "mode": "lines",
         "name": "Skim Milk Powder ",
         "text": "",
         "type": "scatter",
         "x": [
          -0.6931471805599453,
          -0.5108256237659907,
          -0.35667494393873245,
          -0.22314355131420968,
          -0.10536051565782628,
          0,
          0.09531017980432495,
          0.1823215567939546,
          0.26236426446749106,
          0.33647223662121284,
          0.4054651081081644
         ],
         "y": [
          -0.08404826407718417,
          -0.061983697776625074,
          -0.04039548493774399,
          -0.02263950323303667,
          -0.010830220950262827,
          0,
          0.010702189885137972,
          0.020995686601363816,
          0.029230282238476447,
          0.036624920598536524,
          0.04396527941420105
         ]
        },
        {
         "line": {
          "color": "rgba(255, 255, 51, 1.0)",
          "dash": "solid",
          "shape": "linear",
          "width": 1.3
         },
         "mode": "lines",
         "name": "Soda Crackers",
         "text": "",
         "type": "scatter",
         "x": [
          -0.6931471805599453,
          -0.5108256237659907,
          -0.35667494393873245,
          -0.22314355131420968,
          -0.10536051565782628,
          0,
          0.09531017980432495,
          0.1823215567939546,
          0.26236426446749106,
          0.33647223662121284,
          0.4054651081081644
         ],
         "y": [
          0,
          0,
          0,
          0,
          0,
          0,
          0,
          0,
          0,
          0,
          0
         ]
        },
        {
         "line": {
          "color": "rgba(128, 128, 0, 1.0)",
          "dash": "solid",
          "shape": "linear",
          "width": 1.3
         },
         "mode": "lines",
         "name": "Spaghetti Noodles",
         "text": "",
         "type": "scatter",
         "x": [
          -0.6931471805599453,
          -0.5108256237659907,
          -0.35667494393873245,
          -0.22314355131420968,
          -0.10536051565782628,
          0,
          0.09531017980432495,
          0.1823215567939546,
          0.26236426446749106,
          0.33647223662121284,
          0.4054651081081644
         ],
         "y": [
          0,
          0,
          0,
          0,
          0,
          0,
          0,
          0,
          0,
          0,
          0
         ]
        },
        {
         "line": {
          "color": "rgba(251, 128, 114, 1.0)",
          "dash": "solid",
          "shape": "linear",
          "width": 1.3
         },
         "mode": "lines",
         "name": "Macaroni and Cheese Dinner ",
         "text": "",
         "type": "scatter",
         "x": [
          -0.6931471805599453,
          -0.5108256237659907,
          -0.35667494393873245,
          -0.22314355131420968,
          -0.10536051565782628,
          0,
          0.09531017980432495,
          0.1823215567939546,
          0.26236426446749106,
          0.33647223662121284,
          0.4054651081081644
         ],
         "y": [
          0,
          0,
          0,
          0,
          0,
          0,
          0,
          0,
          0,
          0,
          0
         ]
        },
        {
         "line": {
          "color": "rgba(128, 177, 211, 1.0)",
          "dash": "solid",
          "shape": "linear",
          "width": 1.3
         },
         "mode": "lines",
         "name": "Corn Flakes",
         "text": "",
         "type": "scatter",
         "x": [
          -0.6931471805599453,
          -0.5108256237659907,
          -0.35667494393873245,
          -0.22314355131420968,
          -0.10536051565782628,
          0,
          0.09531017980432495,
          0.1823215567939546,
          0.26236426446749106,
          0.33647223662121284,
          0.4054651081081644
         ],
         "y": [
          -0.012490975805001938,
          -0.009919328245805019,
          -0.007354277097758128,
          -0.0047957886071403975,
          -0.0023303116036407015,
          0,
          0.0023248938740228517,
          0.004644395151312005,
          0.006958528790268822,
          0.009267319576423245,
          0.011570792124026634
         ]
        },
        {
         "line": {
          "color": "rgba(128, 177, 211, 0.8999999999999999)",
          "dash": "solid",
          "shape": "linear",
          "width": 1.3
         },
         "mode": "lines",
         "name": "Quick Oatmeal",
         "text": "",
         "type": "scatter",
         "x": [
          -0.6931471805599453,
          -0.5108256237659907,
          -0.35667494393873245,
          -0.22314355131420968,
          -0.10536051565782628,
          0,
          0.09531017980432495,
          0.1823215567939546,
          0.26236426446749106,
          0.33647223662121284,
          0.4054651081081644
         ],
         "y": [
          0,
          0,
          0,
          0,
          0,
          0,
          0,
          0,
          0,
          0,
          0
         ]
        },
        {
         "line": {
          "color": "rgba(255, 153, 51, 0.8999999999999999)",
          "dash": "solid",
          "shape": "linear",
          "width": 1.3
         },
         "mode": "lines",
         "name": "Flour",
         "text": "",
         "type": "scatter",
         "x": [
          -0.6931471805599453,
          -0.5108256237659907,
          -0.35667494393873245,
          -0.22314355131420968,
          -0.10536051565782628,
          0,
          0.09531017980432495,
          0.1823215567939546,
          0.26236426446749106,
          0.33647223662121284,
          0.4054651081081644
         ],
         "y": [
          0,
          0,
          0,
          0,
          0,
          0,
          0,
          0,
          0,
          0,
          0
         ]
        },
        {
         "line": {
          "color": "rgba(55, 128, 191, 0.8999999999999999)",
          "dash": "solid",
          "shape": "linear",
          "width": 1.3
         },
         "mode": "lines",
         "name": "White Bread ",
         "text": "",
         "type": "scatter",
         "x": [
          -0.6931471805599453,
          -0.5108256237659907,
          -0.35667494393873245,
          -0.22314355131420968,
          -0.10536051565782628,
          0,
          0.09531017980432495,
          0.1823215567939546,
          0.26236426446749106,
          0.33647223662121284,
          0.4054651081081644
         ],
         "y": [
          0,
          0,
          0,
          0,
          0,
          0,
          0,
          0,
          0,
          0,
          0
         ]
        },
        {
         "line": {
          "color": "rgba(50, 171, 96, 0.8999999999999999)",
          "dash": "solid",
          "shape": "linear",
          "width": 1.3
         },
         "mode": "lines",
         "name": "Whole Wheat Bread",
         "text": "",
         "type": "scatter",
         "x": [
          -0.6931471805599453,
          -0.5108256237659907,
          -0.35667494393873245,
          -0.22314355131420968,
          -0.10536051565782628,
          0,
          0.09531017980432495,
          0.1823215567939546,
          0.26236426446749106,
          0.33647223662121284,
          0.4054651081081644
         ],
         "y": [
          0,
          0,
          0,
          0,
          0,
          0,
          0,
          0,
          0,
          0,
          0
         ]
        },
        {
         "line": {
          "color": "rgba(128, 0, 128, 0.8999999999999999)",
          "dash": "solid",
          "shape": "linear",
          "width": 1.3
         },
         "mode": "lines",
         "name": "Frozen Corn",
         "text": "",
         "type": "scatter",
         "x": [
          -0.6931471805599453,
          -0.5108256237659907,
          -0.35667494393873245,
          -0.22314355131420968,
          -0.10536051565782628,
          0,
          0.09531017980432495,
          0.1823215567939546,
          0.26236426446749106,
          0.33647223662121284,
          0.4054651081081644
         ],
         "y": [
          -0.0792817311930895,
          -0.06009443260534974,
          -0.044289345235319175,
          -0.0287301769194428,
          -0.013409392010105558,
          0,
          0.004631969430738186,
          0.004631969430738186,
          0.004631969430738186,
          0.004631969430738186,
          0.004631969430738186
         ]
        },
        {
         "line": {
          "color": "rgba(219, 64, 82, 0.8999999999999999)",
          "dash": "solid",
          "shape": "linear",
          "width": 1.3
         },
         "mode": "lines",
         "name": "Carrots",
         "text": "",
         "type": "scatter",
         "x": [
          -0.6931471805599453,
          -0.5108256237659907,
          -0.35667494393873245,
          -0.22314355131420968,
          -0.10536051565782628,
          0,
          0.09531017980432495,
          0.1823215567939546,
          0.26236426446749106,
          0.33647223662121284,
          0.4054651081081644
         ],
         "y": [
          -0.19505183289760816,
          -0.11934594504552573,
          -0.0652724200986898,
          -0.02520210436399684,
          -9.465959632929007e-05,
          0,
          0,
          0,
          0,
          0,
          0
         ]
        },
        {
         "line": {
          "color": "rgba(0, 128, 128, 0.8999999999999999)",
          "dash": "solid",
          "shape": "linear",
          "width": 1.3
         },
         "mode": "lines",
         "name": "Frozen Mixed Vegetables",
         "text": "",
         "type": "scatter",
         "x": [
          -0.6931471805599453,
          -0.5108256237659907,
          -0.35667494393873245,
          -0.22314355131420968,
          -0.10536051565782628,
          0,
          0.09531017980432495,
          0.1823215567939546,
          0.26236426446749106,
          0.33647223662121284,
          0.4054651081081644
         ],
         "y": [
          0,
          0,
          0,
          0,
          0,
          0,
          0,
          0,
          0,
          0,
          0
         ]
        },
        {
         "line": {
          "color": "rgba(255, 255, 51, 0.8999999999999999)",
          "dash": "solid",
          "shape": "linear",
          "width": 1.3
         },
         "mode": "lines",
         "name": "Apples ",
         "text": "",
         "type": "scatter",
         "x": [
          -0.6931471805599453,
          -0.5108256237659907,
          -0.35667494393873245,
          -0.22314355131420968,
          -0.10536051565782628,
          0,
          0.09531017980432495,
          0.1823215567939546,
          0.26236426446749106,
          0.33647223662121284,
          0.4054651081081644
         ],
         "y": [
          -0.04868229035239141,
          -0.03875438775049973,
          -0.02892408027747048,
          -0.01918946780133066,
          -0.009548705147572634,
          0,
          0.009341569182259101,
          0.01830051539871796,
          0.02699534409337945,
          0.02818680963344159,
          0.029113936221116996
         ]
        },
        {
         "line": {
          "color": "rgba(128, 128, 0, 0.8999999999999999)",
          "dash": "solid",
          "shape": "linear",
          "width": 1.3
         },
         "mode": "lines",
         "name": "Bananas",
         "text": "",
         "type": "scatter",
         "x": [
          -0.6931471805599453,
          -0.5108256237659907,
          -0.35667494393873245,
          -0.22314355131420968,
          -0.10536051565782628,
          0,
          0.09531017980432495,
          0.1823215567939546,
          0.26236426446749106,
          0.33647223662121284,
          0.4054651081081644
         ],
         "y": [
          -0.05936382582571721,
          -0.0424854772651502,
          -0.025887285314206157,
          -0.009560101219107733,
          0,
          0,
          0,
          0,
          0,
          0,
          0
         ]
        },
        {
         "line": {
          "color": "rgba(251, 128, 114, 0.8999999999999999)",
          "dash": "solid",
          "shape": "linear",
          "width": 1.3
         },
         "mode": "lines",
         "name": "Grapes",
         "text": "",
         "type": "scatter",
         "x": [
          -0.6931471805599453,
          -0.5108256237659907,
          -0.35667494393873245,
          -0.22314355131420968,
          -0.10536051565782628,
          0,
          0.09531017980432495,
          0.1823215567939546,
          0.26236426446749106,
          0.33647223662121284,
          0.4054651081081644
         ],
         "y": [
          0,
          0,
          0,
          0,
          0,
          0,
          0,
          0,
          0,
          0,
          0
         ]
        },
        {
         "line": {
          "color": "rgba(251, 128, 114, 0.7999999999999998)",
          "dash": "solid",
          "shape": "linear",
          "width": 1.3
         },
         "mode": "lines",
         "name": "Tomatoes",
         "text": "",
         "type": "scatter",
         "x": [
          -0.6931471805599453,
          -0.5108256237659907,
          -0.35667494393873245,
          -0.22314355131420968,
          -0.10536051565782628,
          0,
          0.09531017980432495,
          0.1823215567939546,
          0.26236426446749106,
          0.33647223662121284,
          0.4054651081081644
         ],
         "y": [
          0,
          0,
          0,
          0,
          0,
          0,
          0,
          0,
          0,
          0,
          0
         ]
        },
        {
         "line": {
          "color": "rgba(128, 177, 211, 0.7999999999999998)",
          "dash": "solid",
          "shape": "linear",
          "width": 1.3
         },
         "mode": "lines",
         "name": "Onions",
         "text": "",
         "type": "scatter",
         "x": [
          -0.6931471805599453,
          -0.5108256237659907,
          -0.35667494393873245,
          -0.22314355131420968,
          -0.10536051565782628,
          0,
          0.09531017980432495,
          0.1823215567939546,
          0.26236426446749106,
          0.33647223662121284,
          0.4054651081081644
         ],
         "y": [
          0,
          0,
          0,
          0,
          0,
          0,
          0,
          0,
          0,
          0,
          0
         ]
        },
        {
         "line": {
          "color": "rgba(255, 153, 51, 0.7999999999999998)",
          "dash": "solid",
          "shape": "linear",
          "width": 1.3
         },
         "mode": "lines",
         "name": "Potatoes",
         "text": "",
         "type": "scatter",
         "x": [
          -0.6931471805599453,
          -0.5108256237659907,
          -0.35667494393873245,
          -0.22314355131420968,
          -0.10536051565782628,
          0,
          0.09531017980432495,
          0.1823215567939546,
          0.26236426446749106,
          0.33647223662121284,
          0.4054651081081644
         ],
         "y": [
          -0.0002528843268750283,
          -0.00020230234520253495,
          -0.00015172292193761384,
          -0.00010114605682136137,
          -5.0571749595135435e-05,
          0,
          5.056919222260858e-05,
          0.00010113582733132575,
          0.00015169990558474772,
          0.0002022614272412095,
          0.0002528203925596729
         ]
        },
        {
         "line": {
          "color": "rgba(55, 128, 191, 0.7999999999999998)",
          "dash": "solid",
          "shape": "linear",
          "width": 1.3
         },
         "mode": "lines",
         "name": "Peanut Butter ",
         "text": "",
         "type": "scatter",
         "x": [
          -0.6931471805599453,
          -0.5108256237659907,
          -0.35667494393873245,
          -0.22314355131420968,
          -0.10536051565782628,
          0,
          0.09531017980432495,
          0.1823215567939546,
          0.26236426446749106,
          0.33647223662121284,
          0.4054651081081644
         ],
         "y": [
          -0.004806815222722901,
          -0.0024923099551921782,
          -0.00052441935334809,
          0,
          0,
          0,
          0,
          0,
          0,
          0,
          0
         ]
        },
        {
         "line": {
          "color": "rgba(50, 171, 96, 0.7999999999999998)",
          "dash": "solid",
          "shape": "linear",
          "width": 1.3
         },
         "mode": "lines",
         "name": "Canned Luncheon Meat",
         "text": "",
         "type": "scatter",
         "x": [
          -0.6931471805599453,
          -0.5108256237659907,
          -0.35667494393873245,
          -0.22314355131420968,
          -0.10536051565782628,
          0,
          0.09531017980432495,
          0.1823215567939546,
          0.26236426446749106,
          0.33647223662121284,
          0.4054651081081644
         ],
         "y": [
          0,
          0,
          0,
          0,
          0,
          0,
          0,
          0,
          0,
          0,
          0
         ]
        },
        {
         "line": {
          "color": "rgba(128, 0, 128, 0.7999999999999998)",
          "dash": "solid",
          "shape": "linear",
          "width": 1.3
         },
         "mode": "lines",
         "name": "Canned Pink Salmon",
         "text": "",
         "type": "scatter",
         "x": [
          -0.6931471805599453,
          -0.5108256237659907,
          -0.35667494393873245,
          -0.22314355131420968,
          -0.10536051565782628,
          0,
          0.09531017980432495,
          0.1823215567939546,
          0.26236426446749106,
          0.33647223662121284,
          0.4054651081081644
         ],
         "y": [
          0,
          0,
          0,
          0,
          0,
          0,
          0,
          0,
          0,
          0,
          0
         ]
        },
        {
         "line": {
          "color": "rgba(219, 64, 82, 0.7999999999999998)",
          "dash": "solid",
          "shape": "linear",
          "width": 1.3
         },
         "mode": "lines",
         "name": "Ground Beef",
         "text": "",
         "type": "scatter",
         "x": [
          -0.6931471805599453,
          -0.5108256237659907,
          -0.35667494393873245,
          -0.22314355131420968,
          -0.10536051565782628,
          0,
          0.09531017980432495,
          0.1823215567939546,
          0.26236426446749106,
          0.33647223662121284,
          0.4054651081081644
         ],
         "y": [
          0,
          0,
          0,
          0,
          0,
          0,
          0,
          0,
          0,
          0,
          0
         ]
        },
        {
         "line": {
          "color": "rgba(0, 128, 128, 0.7999999999999998)",
          "dash": "solid",
          "shape": "linear",
          "width": 1.3
         },
         "mode": "lines",
         "name": "Pork Chops",
         "text": "",
         "type": "scatter",
         "x": [
          -0.6931471805599453,
          -0.5108256237659907,
          -0.35667494393873245,
          -0.22314355131420968,
          -0.10536051565782628,
          0,
          0.09531017980432495,
          0.1823215567939546,
          0.26236426446749106,
          0.33647223662121284,
          0.4054651081081644
         ],
         "y": [
          0,
          0,
          0,
          0,
          0,
          0,
          0,
          0,
          0,
          0,
          0
         ]
        },
        {
         "line": {
          "color": "rgba(255, 255, 51, 0.7999999999999998)",
          "dash": "solid",
          "shape": "linear",
          "width": 1.3
         },
         "mode": "lines",
         "name": "Chicken Legs or Drumsticks",
         "text": "",
         "type": "scatter",
         "x": [
          -0.6931471805599453,
          -0.5108256237659907,
          -0.35667494393873245,
          -0.22314355131420968,
          -0.10536051565782628,
          0,
          0.09531017980432495,
          0.1823215567939546,
          0.26236426446749106,
          0.33647223662121284,
          0.4054651081081644
         ],
         "y": [
          0,
          0,
          0,
          0,
          0,
          0,
          0,
          0,
          0,
          0,
          0
         ]
        },
        {
         "line": {
          "color": "rgba(128, 128, 0, 0.7999999999999998)",
          "dash": "solid",
          "shape": "linear",
          "width": 1.3
         },
         "mode": "lines",
         "name": "Bacon",
         "text": "",
         "type": "scatter",
         "x": [
          -0.6931471805599453,
          -0.5108256237659907,
          -0.35667494393873245,
          -0.22314355131420968,
          -0.10536051565782628,
          0,
          0.09531017980432495,
          0.1823215567939546,
          0.26236426446749106,
          0.33647223662121284,
          0.4054651081081644
         ],
         "y": [
          0,
          0,
          0,
          0,
          0,
          0,
          0,
          0,
          0,
          0,
          0
         ]
        },
        {
         "line": {
          "color": "rgba(128, 128, 0, 0.7)",
          "dash": "solid",
          "shape": "linear",
          "width": 1.3
         },
         "mode": "lines",
         "name": "Wieners",
         "text": "",
         "type": "scatter",
         "x": [
          -0.6931471805599453,
          -0.5108256237659907,
          -0.35667494393873245,
          -0.22314355131420968,
          -0.10536051565782628,
          0,
          0.09531017980432495,
          0.1823215567939546,
          0.26236426446749106,
          0.33647223662121284,
          0.4054651081081644
         ],
         "y": [
          0,
          0,
          0,
          0,
          0,
          0,
          0,
          0,
          0,
          0,
          0
         ]
        },
        {
         "line": {
          "color": "rgba(251, 128, 114, 0.7)",
          "dash": "solid",
          "shape": "linear",
          "width": 1.3
         },
         "mode": "lines",
         "name": "Bologna",
         "text": "",
         "type": "scatter",
         "x": [
          -0.6931471805599453,
          -0.5108256237659907,
          -0.35667494393873245,
          -0.22314355131420968,
          -0.10536051565782628,
          0,
          0.09531017980432495,
          0.1823215567939546,
          0.26236426446749106,
          0.33647223662121284,
          0.4054651081081644
         ],
         "y": [
          0,
          0,
          0,
          0,
          0,
          0,
          0,
          0,
          0,
          0,
          0
         ]
        },
        {
         "line": {
          "color": "rgba(128, 177, 211, 0.7)",
          "dash": "solid",
          "shape": "linear",
          "width": 1.3
         },
         "mode": "lines",
         "name": "Frozen Pre-Cooked Dinners",
         "text": "",
         "type": "scatter",
         "x": [
          -0.6931471805599453,
          -0.5108256237659907,
          -0.35667494393873245,
          -0.22314355131420968,
          -0.10536051565782628,
          0,
          0.09531017980432495,
          0.1823215567939546,
          0.26236426446749106,
          0.33647223662121284,
          0.4054651081081644
         ],
         "y": [
          0,
          0,
          0,
          0,
          0,
          0,
          0,
          0,
          0,
          0,
          0
         ]
        },
        {
         "line": {
          "color": "rgba(255, 153, 51, 0.7)",
          "dash": "solid",
          "shape": "linear",
          "width": 1.3
         },
         "mode": "lines",
         "name": "Frozen Pizza",
         "text": "",
         "type": "scatter",
         "x": [
          -0.6931471805599453,
          -0.5108256237659907,
          -0.35667494393873245,
          -0.22314355131420968,
          -0.10536051565782628,
          0,
          0.09531017980432495,
          0.1823215567939546,
          0.26236426446749106,
          0.33647223662121284,
          0.4054651081081644
         ],
         "y": [
          0,
          0,
          0,
          0,
          0,
          0,
          0,
          0,
          0,
          0,
          0
         ]
        },
        {
         "line": {
          "color": "rgba(55, 128, 191, 0.7)",
          "dash": "solid",
          "shape": "linear",
          "width": 1.3
         },
         "mode": "lines",
         "name": "Frozen French Fries",
         "text": "",
         "type": "scatter",
         "x": [
          -0.6931471805599453,
          -0.5108256237659907,
          -0.35667494393873245,
          -0.22314355131420968,
          -0.10536051565782628,
          0,
          0.09531017980432495,
          0.1823215567939546,
          0.26236426446749106,
          0.33647223662121284,
          0.4054651081081644
         ],
         "y": [
          -0.22504303847071072,
          -0.17446086103881786,
          -0.1263145244307364,
          -0.08194273679103589,
          -0.03982665088556961,
          0,
          0.036330246278079105,
          0.0636136236651824,
          0.08714206616998323,
          0.11012962289014017,
          0.132600604412042
         ]
        },
        {
         "line": {
          "color": "rgba(50, 171, 96, 0.7)",
          "dash": "solid",
          "shape": "linear",
          "width": 1.3
         },
         "mode": "lines",
         "name": "Pilot Biscuits ",
         "text": "",
         "type": "scatter",
         "x": [
          -0.6931471805599453,
          -0.5108256237659907,
          -0.35667494393873245,
          -0.22314355131420968,
          -0.10536051565782628,
          0,
          0.09531017980432495,
          0.1823215567939546,
          0.26236426446749106,
          0.33647223662121284,
          0.4054651081081644
         ],
         "y": [
          0,
          0,
          0,
          0,
          0,
          0,
          0,
          0,
          0,
          0,
          0
         ]
        },
        {
         "line": {
          "color": "rgba(128, 0, 128, 0.7)",
          "dash": "solid",
          "shape": "linear",
          "width": 1.3
         },
         "mode": "lines",
         "name": "Chocolate Bars ",
         "text": "",
         "type": "scatter",
         "x": [
          -0.6931471805599453,
          -0.5108256237659907,
          -0.35667494393873245,
          -0.22314355131420968,
          -0.10536051565782628,
          0,
          0.09531017980432495,
          0.1823215567939546,
          0.26236426446749106,
          0.33647223662121284,
          0.4054651081081644
         ],
         "y": [
          -0.20228699903821823,
          -0.15733602208821615,
          -0.11431901331379965,
          -0.07307640068031951,
          -0.03396927369514701,
          0,
          0.028599921416584337,
          0.054813923806673714,
          0.08035826929634991,
          0.10526632116729134,
          0.12956900987114509
         ]
        },
        {
         "line": {
          "color": "rgba(219, 64, 82, 0.7)",
          "dash": "solid",
          "shape": "linear",
          "width": 1.3
         },
         "mode": "lines",
         "name": "Potato Chips ",
         "text": "",
         "type": "scatter",
         "x": [
          -0.6931471805599453,
          -0.5108256237659907,
          -0.35667494393873245,
          -0.22314355131420968,
          -0.10536051565782628,
          0,
          0.09531017980432495,
          0.1823215567939546,
          0.26236426446749106,
          0.33647223662121284,
          0.4054651081081644
         ],
         "y": [
          0,
          0,
          0,
          0,
          0,
          0,
          0,
          0,
          0,
          0,
          0
         ]
        },
        {
         "line": {
          "color": "rgba(0, 128, 128, 0.7)",
          "dash": "solid",
          "shape": "linear",
          "width": 1.3
         },
         "mode": "lines",
         "name": "Milk 2%",
         "text": "",
         "type": "scatter",
         "x": [
          -0.6931471805599453,
          -0.5108256237659907,
          -0.35667494393873245,
          -0.22314355131420968,
          -0.10536051565782628,
          0,
          0.09531017980432495,
          0.1823215567939546,
          0.26236426446749106,
          0.33647223662121284,
          0.4054651081081644
         ],
         "y": [
          0,
          0,
          0,
          0,
          0,
          0,
          0,
          0,
          0,
          0,
          0
         ]
        },
        {
         "line": {
          "color": "rgba(255, 255, 51, 0.7)",
          "dash": "solid",
          "shape": "linear",
          "width": 1.3
         },
         "mode": "lines",
         "name": "UHT Milk ",
         "text": "",
         "type": "scatter",
         "x": [
          -0.6931471805599453,
          -0.5108256237659907,
          -0.35667494393873245,
          -0.22314355131420968,
          -0.10536051565782628,
          0,
          0.09531017980432495,
          0.1823215567939546,
          0.26236426446749106,
          0.33647223662121284,
          0.4054651081081644
         ],
         "y": [
          0,
          0,
          0,
          0,
          0,
          0,
          0,
          0,
          0,
          0,
          0
         ]
        },
        {
         "line": {
          "color": "rgba(255, 255, 51, 0.5999999999999999)",
          "dash": "solid",
          "shape": "linear",
          "width": 1.3
         },
         "mode": "lines",
         "name": "Apple Juice",
         "text": "",
         "type": "scatter",
         "x": [
          -0.6931471805599453,
          -0.5108256237659907,
          -0.35667494393873245,
          -0.22314355131420968,
          -0.10536051565782628,
          0,
          0.09531017980432495,
          0.1823215567939546,
          0.26236426446749106,
          0.33647223662121284,
          0.4054651081081644
         ],
         "y": [
          0,
          0,
          0,
          0,
          0,
          0,
          0,
          0,
          0,
          0,
          0
         ]
        },
        {
         "line": {
          "color": "rgba(128, 128, 0, 0.5999999999999999)",
          "dash": "solid",
          "shape": "linear",
          "width": 1.3
         },
         "mode": "lines",
         "name": "Orange Juice",
         "text": "",
         "type": "scatter",
         "x": [
          -0.6931471805599453,
          -0.5108256237659907,
          -0.35667494393873245,
          -0.22314355131420968,
          -0.10536051565782628,
          0,
          0.09531017980432495,
          0.1823215567939546,
          0.26236426446749106,
          0.33647223662121284,
          0.4054651081081644
         ],
         "y": [
          -0.02048058890371216,
          0,
          0,
          0,
          0,
          0,
          0,
          0,
          0,
          0,
          0
         ]
        },
        {
         "line": {
          "color": "rgba(251, 128, 114, 0.5999999999999999)",
          "dash": "solid",
          "shape": "linear",
          "width": 1.3
         },
         "mode": "lines",
         "name": "Tomato Juice",
         "text": "",
         "type": "scatter",
         "x": [
          -0.6931471805599453,
          -0.5108256237659907,
          -0.35667494393873245,
          -0.22314355131420968,
          -0.10536051565782628,
          0,
          0.09531017980432495,
          0.1823215567939546,
          0.26236426446749106,
          0.33647223662121284,
          0.4054651081081644
         ],
         "y": [
          0,
          0,
          0,
          0,
          0,
          0,
          0,
          0,
          0,
          0,
          0
         ]
        },
        {
         "line": {
          "color": "rgba(128, 177, 211, 0.5999999999999999)",
          "dash": "solid",
          "shape": "linear",
          "width": 1.3
         },
         "mode": "lines",
         "name": "Vegetable Juice",
         "text": "",
         "type": "scatter",
         "x": [
          -0.6931471805599453,
          -0.5108256237659907,
          -0.35667494393873245,
          -0.22314355131420968,
          -0.10536051565782628,
          0,
          0.09531017980432495,
          0.1823215567939546,
          0.26236426446749106,
          0.33647223662121284,
          0.4054651081081644
         ],
         "y": [
          0,
          0,
          0,
          0,
          0,
          0,
          0,
          0,
          0,
          0,
          0
         ]
        },
        {
         "line": {
          "color": "rgba(255, 153, 51, 0.5999999999999999)",
          "dash": "solid",
          "shape": "linear",
          "width": 1.3
         },
         "mode": "lines",
         "name": "Soft Drinks",
         "text": "",
         "type": "scatter",
         "x": [
          -0.6931471805599453,
          -0.5108256237659907,
          -0.35667494393873245,
          -0.22314355131420968,
          -0.10536051565782628,
          0,
          0.09531017980432495,
          0.1823215567939546,
          0.26236426446749106,
          0.33647223662121284,
          0.4054651081081644
         ],
         "y": [
          0,
          0,
          0,
          0,
          0,
          0,
          0,
          0,
          0,
          0,
          0
         ]
        }
       ],
       "layout": {
        "autosize": true,
        "legend": {
         "bgcolor": "#F5F6F9",
         "font": {
          "color": "#4D5663"
         }
        },
        "paper_bgcolor": "#F5F6F9",
        "plot_bgcolor": "#F5F6F9",
        "template": {
         "data": {
          "bar": [
           {
            "error_x": {
             "color": "#2a3f5f"
            },
            "error_y": {
             "color": "#2a3f5f"
            },
            "marker": {
             "line": {
              "color": "#E5ECF6",
              "width": 0.5
             },
             "pattern": {
              "fillmode": "overlay",
              "size": 10,
              "solidity": 0.2
             }
            },
            "type": "bar"
           }
          ],
          "barpolar": [
           {
            "marker": {
             "line": {
              "color": "#E5ECF6",
              "width": 0.5
             },
             "pattern": {
              "fillmode": "overlay",
              "size": 10,
              "solidity": 0.2
             }
            },
            "type": "barpolar"
           }
          ],
          "carpet": [
           {
            "aaxis": {
             "endlinecolor": "#2a3f5f",
             "gridcolor": "white",
             "linecolor": "white",
             "minorgridcolor": "white",
             "startlinecolor": "#2a3f5f"
            },
            "baxis": {
             "endlinecolor": "#2a3f5f",
             "gridcolor": "white",
             "linecolor": "white",
             "minorgridcolor": "white",
             "startlinecolor": "#2a3f5f"
            },
            "type": "carpet"
           }
          ],
          "choropleth": [
           {
            "colorbar": {
             "outlinewidth": 0,
             "ticks": ""
            },
            "type": "choropleth"
           }
          ],
          "contour": [
           {
            "colorbar": {
             "outlinewidth": 0,
             "ticks": ""
            },
            "colorscale": [
             [
              0,
              "#0d0887"
             ],
             [
              0.1111111111111111,
              "#46039f"
             ],
             [
              0.2222222222222222,
              "#7201a8"
             ],
             [
              0.3333333333333333,
              "#9c179e"
             ],
             [
              0.4444444444444444,
              "#bd3786"
             ],
             [
              0.5555555555555556,
              "#d8576b"
             ],
             [
              0.6666666666666666,
              "#ed7953"
             ],
             [
              0.7777777777777778,
              "#fb9f3a"
             ],
             [
              0.8888888888888888,
              "#fdca26"
             ],
             [
              1,
              "#f0f921"
             ]
            ],
            "type": "contour"
           }
          ],
          "contourcarpet": [
           {
            "colorbar": {
             "outlinewidth": 0,
             "ticks": ""
            },
            "type": "contourcarpet"
           }
          ],
          "heatmap": [
           {
            "colorbar": {
             "outlinewidth": 0,
             "ticks": ""
            },
            "colorscale": [
             [
              0,
              "#0d0887"
             ],
             [
              0.1111111111111111,
              "#46039f"
             ],
             [
              0.2222222222222222,
              "#7201a8"
             ],
             [
              0.3333333333333333,
              "#9c179e"
             ],
             [
              0.4444444444444444,
              "#bd3786"
             ],
             [
              0.5555555555555556,
              "#d8576b"
             ],
             [
              0.6666666666666666,
              "#ed7953"
             ],
             [
              0.7777777777777778,
              "#fb9f3a"
             ],
             [
              0.8888888888888888,
              "#fdca26"
             ],
             [
              1,
              "#f0f921"
             ]
            ],
            "type": "heatmap"
           }
          ],
          "heatmapgl": [
           {
            "colorbar": {
             "outlinewidth": 0,
             "ticks": ""
            },
            "colorscale": [
             [
              0,
              "#0d0887"
             ],
             [
              0.1111111111111111,
              "#46039f"
             ],
             [
              0.2222222222222222,
              "#7201a8"
             ],
             [
              0.3333333333333333,
              "#9c179e"
             ],
             [
              0.4444444444444444,
              "#bd3786"
             ],
             [
              0.5555555555555556,
              "#d8576b"
             ],
             [
              0.6666666666666666,
              "#ed7953"
             ],
             [
              0.7777777777777778,
              "#fb9f3a"
             ],
             [
              0.8888888888888888,
              "#fdca26"
             ],
             [
              1,
              "#f0f921"
             ]
            ],
            "type": "heatmapgl"
           }
          ],
          "histogram": [
           {
            "marker": {
             "pattern": {
              "fillmode": "overlay",
              "size": 10,
              "solidity": 0.2
             }
            },
            "type": "histogram"
           }
          ],
          "histogram2d": [
           {
            "colorbar": {
             "outlinewidth": 0,
             "ticks": ""
            },
            "colorscale": [
             [
              0,
              "#0d0887"
             ],
             [
              0.1111111111111111,
              "#46039f"
             ],
             [
              0.2222222222222222,
              "#7201a8"
             ],
             [
              0.3333333333333333,
              "#9c179e"
             ],
             [
              0.4444444444444444,
              "#bd3786"
             ],
             [
              0.5555555555555556,
              "#d8576b"
             ],
             [
              0.6666666666666666,
              "#ed7953"
             ],
             [
              0.7777777777777778,
              "#fb9f3a"
             ],
             [
              0.8888888888888888,
              "#fdca26"
             ],
             [
              1,
              "#f0f921"
             ]
            ],
            "type": "histogram2d"
           }
          ],
          "histogram2dcontour": [
           {
            "colorbar": {
             "outlinewidth": 0,
             "ticks": ""
            },
            "colorscale": [
             [
              0,
              "#0d0887"
             ],
             [
              0.1111111111111111,
              "#46039f"
             ],
             [
              0.2222222222222222,
              "#7201a8"
             ],
             [
              0.3333333333333333,
              "#9c179e"
             ],
             [
              0.4444444444444444,
              "#bd3786"
             ],
             [
              0.5555555555555556,
              "#d8576b"
             ],
             [
              0.6666666666666666,
              "#ed7953"
             ],
             [
              0.7777777777777778,
              "#fb9f3a"
             ],
             [
              0.8888888888888888,
              "#fdca26"
             ],
             [
              1,
              "#f0f921"
             ]
            ],
            "type": "histogram2dcontour"
           }
          ],
          "mesh3d": [
           {
            "colorbar": {
             "outlinewidth": 0,
             "ticks": ""
            },
            "type": "mesh3d"
           }
          ],
          "parcoords": [
           {
            "line": {
             "colorbar": {
              "outlinewidth": 0,
              "ticks": ""
             }
            },
            "type": "parcoords"
           }
          ],
          "pie": [
           {
            "automargin": true,
            "type": "pie"
           }
          ],
          "scatter": [
           {
            "fillpattern": {
             "fillmode": "overlay",
             "size": 10,
             "solidity": 0.2
            },
            "type": "scatter"
           }
          ],
          "scatter3d": [
           {
            "line": {
             "colorbar": {
              "outlinewidth": 0,
              "ticks": ""
             }
            },
            "marker": {
             "colorbar": {
              "outlinewidth": 0,
              "ticks": ""
             }
            },
            "type": "scatter3d"
           }
          ],
          "scattercarpet": [
           {
            "marker": {
             "colorbar": {
              "outlinewidth": 0,
              "ticks": ""
             }
            },
            "type": "scattercarpet"
           }
          ],
          "scattergeo": [
           {
            "marker": {
             "colorbar": {
              "outlinewidth": 0,
              "ticks": ""
             }
            },
            "type": "scattergeo"
           }
          ],
          "scattergl": [
           {
            "marker": {
             "colorbar": {
              "outlinewidth": 0,
              "ticks": ""
             }
            },
            "type": "scattergl"
           }
          ],
          "scattermapbox": [
           {
            "marker": {
             "colorbar": {
              "outlinewidth": 0,
              "ticks": ""
             }
            },
            "type": "scattermapbox"
           }
          ],
          "scatterpolar": [
           {
            "marker": {
             "colorbar": {
              "outlinewidth": 0,
              "ticks": ""
             }
            },
            "type": "scatterpolar"
           }
          ],
          "scatterpolargl": [
           {
            "marker": {
             "colorbar": {
              "outlinewidth": 0,
              "ticks": ""
             }
            },
            "type": "scatterpolargl"
           }
          ],
          "scatterternary": [
           {
            "marker": {
             "colorbar": {
              "outlinewidth": 0,
              "ticks": ""
             }
            },
            "type": "scatterternary"
           }
          ],
          "surface": [
           {
            "colorbar": {
             "outlinewidth": 0,
             "ticks": ""
            },
            "colorscale": [
             [
              0,
              "#0d0887"
             ],
             [
              0.1111111111111111,
              "#46039f"
             ],
             [
              0.2222222222222222,
              "#7201a8"
             ],
             [
              0.3333333333333333,
              "#9c179e"
             ],
             [
              0.4444444444444444,
              "#bd3786"
             ],
             [
              0.5555555555555556,
              "#d8576b"
             ],
             [
              0.6666666666666666,
              "#ed7953"
             ],
             [
              0.7777777777777778,
              "#fb9f3a"
             ],
             [
              0.8888888888888888,
              "#fdca26"
             ],
             [
              1,
              "#f0f921"
             ]
            ],
            "type": "surface"
           }
          ],
          "table": [
           {
            "cells": {
             "fill": {
              "color": "#EBF0F8"
             },
             "line": {
              "color": "white"
             }
            },
            "header": {
             "fill": {
              "color": "#C8D4E3"
             },
             "line": {
              "color": "white"
             }
            },
            "type": "table"
           }
          ]
         },
         "layout": {
          "annotationdefaults": {
           "arrowcolor": "#2a3f5f",
           "arrowhead": 0,
           "arrowwidth": 1
          },
          "autotypenumbers": "strict",
          "coloraxis": {
           "colorbar": {
            "outlinewidth": 0,
            "ticks": ""
           }
          },
          "colorscale": {
           "diverging": [
            [
             0,
             "#8e0152"
            ],
            [
             0.1,
             "#c51b7d"
            ],
            [
             0.2,
             "#de77ae"
            ],
            [
             0.3,
             "#f1b6da"
            ],
            [
             0.4,
             "#fde0ef"
            ],
            [
             0.5,
             "#f7f7f7"
            ],
            [
             0.6,
             "#e6f5d0"
            ],
            [
             0.7,
             "#b8e186"
            ],
            [
             0.8,
             "#7fbc41"
            ],
            [
             0.9,
             "#4d9221"
            ],
            [
             1,
             "#276419"
            ]
           ],
           "sequential": [
            [
             0,
             "#0d0887"
            ],
            [
             0.1111111111111111,
             "#46039f"
            ],
            [
             0.2222222222222222,
             "#7201a8"
            ],
            [
             0.3333333333333333,
             "#9c179e"
            ],
            [
             0.4444444444444444,
             "#bd3786"
            ],
            [
             0.5555555555555556,
             "#d8576b"
            ],
            [
             0.6666666666666666,
             "#ed7953"
            ],
            [
             0.7777777777777778,
             "#fb9f3a"
            ],
            [
             0.8888888888888888,
             "#fdca26"
            ],
            [
             1,
             "#f0f921"
            ]
           ],
           "sequentialminus": [
            [
             0,
             "#0d0887"
            ],
            [
             0.1111111111111111,
             "#46039f"
            ],
            [
             0.2222222222222222,
             "#7201a8"
            ],
            [
             0.3333333333333333,
             "#9c179e"
            ],
            [
             0.4444444444444444,
             "#bd3786"
            ],
            [
             0.5555555555555556,
             "#d8576b"
            ],
            [
             0.6666666666666666,
             "#ed7953"
            ],
            [
             0.7777777777777778,
             "#fb9f3a"
            ],
            [
             0.8888888888888888,
             "#fdca26"
            ],
            [
             1,
             "#f0f921"
            ]
           ]
          },
          "colorway": [
           "#636efa",
           "#EF553B",
           "#00cc96",
           "#ab63fa",
           "#FFA15A",
           "#19d3f3",
           "#FF6692",
           "#B6E880",
           "#FF97FF",
           "#FECB52"
          ],
          "font": {
           "color": "#2a3f5f"
          },
          "geo": {
           "bgcolor": "white",
           "lakecolor": "white",
           "landcolor": "#E5ECF6",
           "showlakes": true,
           "showland": true,
           "subunitcolor": "white"
          },
          "hoverlabel": {
           "align": "left"
          },
          "hovermode": "closest",
          "mapbox": {
           "style": "light"
          },
          "paper_bgcolor": "white",
          "plot_bgcolor": "#E5ECF6",
          "polar": {
           "angularaxis": {
            "gridcolor": "white",
            "linecolor": "white",
            "ticks": ""
           },
           "bgcolor": "#E5ECF6",
           "radialaxis": {
            "gridcolor": "white",
            "linecolor": "white",
            "ticks": ""
           }
          },
          "scene": {
           "xaxis": {
            "backgroundcolor": "#E5ECF6",
            "gridcolor": "white",
            "gridwidth": 2,
            "linecolor": "white",
            "showbackground": true,
            "ticks": "",
            "zerolinecolor": "white"
           },
           "yaxis": {
            "backgroundcolor": "#E5ECF6",
            "gridcolor": "white",
            "gridwidth": 2,
            "linecolor": "white",
            "showbackground": true,
            "ticks": "",
            "zerolinecolor": "white"
           },
           "zaxis": {
            "backgroundcolor": "#E5ECF6",
            "gridcolor": "white",
            "gridwidth": 2,
            "linecolor": "white",
            "showbackground": true,
            "ticks": "",
            "zerolinecolor": "white"
           }
          },
          "shapedefaults": {
           "line": {
            "color": "#2a3f5f"
           }
          },
          "ternary": {
           "aaxis": {
            "gridcolor": "white",
            "linecolor": "white",
            "ticks": ""
           },
           "baxis": {
            "gridcolor": "white",
            "linecolor": "white",
            "ticks": ""
           },
           "bgcolor": "#E5ECF6",
           "caxis": {
            "gridcolor": "white",
            "linecolor": "white",
            "ticks": ""
           }
          },
          "title": {
           "x": 0.05
          },
          "xaxis": {
           "automargin": true,
           "gridcolor": "white",
           "linecolor": "white",
           "ticks": "",
           "title": {
            "standoff": 15
           },
           "zerolinecolor": "white",
           "zerolinewidth": 2
          },
          "yaxis": {
           "automargin": true,
           "gridcolor": "white",
           "linecolor": "white",
           "ticks": "",
           "title": {
            "standoff": 15
           },
           "zerolinecolor": "white",
           "zerolinewidth": 2
          }
         }
        },
        "title": {
         "font": {
          "color": "#4D5663"
         }
        },
        "xaxis": {
         "autorange": true,
         "gridcolor": "#E1E5ED",
         "range": [
          -0.6931471805599453,
          0.4054651081081644
         ],
         "showgrid": true,
         "tickfont": {
          "color": "#4D5663"
         },
         "title": {
          "font": {
           "color": "#4D5663"
          },
          "text": "change in log price"
         },
         "type": "linear",
         "zerolinecolor": "#E1E5ED"
        },
        "yaxis": {
         "autorange": true,
         "gridcolor": "#E1E5ED",
         "range": [
          -0.24491212974197477,
          0.15246969568330604
         ],
         "showgrid": true,
         "tickfont": {
          "color": "#4D5663"
         },
         "title": {
          "font": {
           "color": "#4D5663"
          },
          "text": "change in log cost"
         },
         "type": "linear",
         "zerolinecolor": "#E1E5ED"
        }
       }
      },
      "image/png": "[encoded data removed]",
      "text/html": [
       "<div>                            <div id=\"bd8df8f2-ead7-4d99-8208-fc6a070418d6\" class=\"plotly-graph-div\" style=\"height:525px; width:100%;\"></div>            <script type=\"text/javascript\">                require([\"plotly\"], function(Plotly) {                    window.PLOTLYENV=window.PLOTLYENV || {};\n",
       "                    window.PLOTLYENV.BASE_URL='https://plot.ly';                                    if (document.getElementById(\"bd8df8f2-ead7-4d99-8208-fc6a070418d6\")) {                    Plotly.newPlot(                        \"bd8df8f2-ead7-4d99-8208-fc6a070418d6\",                        [{\"line\":{\"color\":\"rgba(255, 153, 51, 1.0)\",\"dash\":\"solid\",\"shape\":\"linear\",\"width\":1.3},\"mode\":\"lines\",\"name\":\"Butter\",\"text\":\"\",\"x\":[-0.6931471805599453,-0.5108256237659907,-0.35667494393873245,-0.22314355131420968,-0.10536051565782628,0.0,0.09531017980432495,0.1823215567939546,0.26236426446749106,0.33647223662121284,0.4054651081081644],\"y\":[0.0,0.0,0.0,0.0,0.0,0.0,0.0,0.0,0.0,0.0,0.0],\"type\":\"scatter\"},{\"line\":{\"color\":\"rgba(55, 128, 191, 1.0)\",\"dash\":\"solid\",\"shape\":\"linear\",\"width\":1.3},\"mode\":\"lines\",\"name\":\"Margarine\",\"text\":\"\",\"x\":[-0.6931471805599453,-0.5108256237659907,-0.35667494393873245,-0.22314355131420968,-0.10536051565782628,0.0,0.09531017980432495,0.1823215567939546,0.26236426446749106,0.33647223662121284,0.4054651081081644],\"y\":[0.0,0.0,0.0,0.0,0.0,0.0,0.0,0.0,0.0,0.0,0.0],\"type\":\"scatter\"},{\"line\":{\"color\":\"rgba(50, 171, 96, 1.0)\",\"dash\":\"solid\",\"shape\":\"linear\",\"width\":1.3},\"mode\":\"lines\",\"name\":\"Yogurt \",\"text\":\"\",\"x\":[-0.6931471805599453,-0.5108256237659907,-0.35667494393873245,-0.22314355131420968,-0.10536051565782628,0.0,0.09531017980432495,0.1823215567939546,0.26236426446749106,0.33647223662121284,0.4054651081081644],\"y\":[0.0,0.0,0.0,0.0,0.0,0.0,0.0,0.0,0.0,0.0,0.0],\"type\":\"scatter\"},{\"line\":{\"color\":\"rgba(128, 0, 128, 1.0)\",\"dash\":\"solid\",\"shape\":\"linear\",\"width\":1.3},\"mode\":\"lines\",\"name\":\"Cheddar Cheese \",\"text\":\"\",\"x\":[-0.6931471805599453,-0.5108256237659907,-0.35667494393873245,-0.22314355131420968,-0.10536051565782628,0.0,0.09531017980432495,0.1823215567939546,0.26236426446749106,0.33647223662121284,0.4054651081081644],\"y\":[0.0,0.0,0.0,0.0,0.0,0.0,0.0,0.0,0.0,0.0,0.0],\"type\":\"scatter\"},{\"line\":{\"color\":\"rgba(219, 64, 82, 1.0)\",\"dash\":\"solid\",\"shape\":\"linear\",\"width\":1.3},\"mode\":\"lines\",\"name\":\"Processed Sliced Cheese \",\"text\":\"\",\"x\":[-0.6931471805599453,-0.5108256237659907,-0.35667494393873245,-0.22314355131420968,-0.10536051565782628,0.0,0.09531017980432495,0.1823215567939546,0.26236426446749106,0.33647223662121284,0.4054651081081644],\"y\":[0.0,0.0,0.0,0.0,0.0,0.0,0.0,0.0,0.0,0.0,0.0],\"type\":\"scatter\"},{\"line\":{\"color\":\"rgba(0, 128, 128, 1.0)\",\"dash\":\"solid\",\"shape\":\"linear\",\"width\":1.3},\"mode\":\"lines\",\"name\":\"Skim Milk Powder \",\"text\":\"\",\"x\":[-0.6931471805599453,-0.5108256237659907,-0.35667494393873245,-0.22314355131420968,-0.10536051565782628,0.0,0.09531017980432495,0.1823215567939546,0.26236426446749106,0.33647223662121284,0.4054651081081644],\"y\":[-0.08404826407718417,-0.061983697776625074,-0.04039548493774399,-0.02263950323303667,-0.010830220950262827,0.0,0.010702189885137972,0.020995686601363816,0.029230282238476447,0.036624920598536524,0.04396527941420105],\"type\":\"scatter\"},{\"line\":{\"color\":\"rgba(255, 255, 51, 1.0)\",\"dash\":\"solid\",\"shape\":\"linear\",\"width\":1.3},\"mode\":\"lines\",\"name\":\"Soda Crackers\",\"text\":\"\",\"x\":[-0.6931471805599453,-0.5108256237659907,-0.35667494393873245,-0.22314355131420968,-0.10536051565782628,0.0,0.09531017980432495,0.1823215567939546,0.26236426446749106,0.33647223662121284,0.4054651081081644],\"y\":[0.0,0.0,0.0,0.0,0.0,0.0,0.0,0.0,0.0,0.0,0.0],\"type\":\"scatter\"},{\"line\":{\"color\":\"rgba(128, 128, 0, 1.0)\",\"dash\":\"solid\",\"shape\":\"linear\",\"width\":1.3},\"mode\":\"lines\",\"name\":\"Spaghetti Noodles\",\"text\":\"\",\"x\":[-0.6931471805599453,-0.5108256237659907,-0.35667494393873245,-0.22314355131420968,-0.10536051565782628,0.0,0.09531017980432495,0.1823215567939546,0.26236426446749106,0.33647223662121284,0.4054651081081644],\"y\":[0.0,0.0,0.0,0.0,0.0,0.0,0.0,0.0,0.0,0.0,0.0],\"type\":\"scatter\"},{\"line\":{\"color\":\"rgba(251, 128, 114, 1.0)\",\"dash\":\"solid\",\"shape\":\"linear\",\"width\":1.3},\"mode\":\"lines\",\"name\":\"Macaroni and Cheese Dinner \",\"text\":\"\",\"x\":[-0.6931471805599453,-0.5108256237659907,-0.35667494393873245,-0.22314355131420968,-0.10536051565782628,0.0,0.09531017980432495,0.1823215567939546,0.26236426446749106,0.33647223662121284,0.4054651081081644],\"y\":[0.0,0.0,0.0,0.0,0.0,0.0,0.0,0.0,0.0,0.0,0.0],\"type\":\"scatter\"},{\"line\":{\"color\":\"rgba(128, 177, 211, 1.0)\",\"dash\":\"solid\",\"shape\":\"linear\",\"width\":1.3},\"mode\":\"lines\",\"name\":\"Corn Flakes\",\"text\":\"\",\"x\":[-0.6931471805599453,-0.5108256237659907,-0.35667494393873245,-0.22314355131420968,-0.10536051565782628,0.0,0.09531017980432495,0.1823215567939546,0.26236426446749106,0.33647223662121284,0.4054651081081644],\"y\":[-0.012490975805001938,-0.009919328245805019,-0.007354277097758128,-0.0047957886071403975,-0.0023303116036407015,0.0,0.0023248938740228517,0.004644395151312005,0.006958528790268822,0.009267319576423245,0.011570792124026634],\"type\":\"scatter\"},{\"line\":{\"color\":\"rgba(128, 177, 211, 0.8999999999999999)\",\"dash\":\"solid\",\"shape\":\"linear\",\"width\":1.3},\"mode\":\"lines\",\"name\":\"Quick Oatmeal\",\"text\":\"\",\"x\":[-0.6931471805599453,-0.5108256237659907,-0.35667494393873245,-0.22314355131420968,-0.10536051565782628,0.0,0.09531017980432495,0.1823215567939546,0.26236426446749106,0.33647223662121284,0.4054651081081644],\"y\":[0.0,0.0,0.0,0.0,0.0,0.0,0.0,0.0,0.0,0.0,0.0],\"type\":\"scatter\"},{\"line\":{\"color\":\"rgba(255, 153, 51, 0.8999999999999999)\",\"dash\":\"solid\",\"shape\":\"linear\",\"width\":1.3},\"mode\":\"lines\",\"name\":\"Flour\",\"text\":\"\",\"x\":[-0.6931471805599453,-0.5108256237659907,-0.35667494393873245,-0.22314355131420968,-0.10536051565782628,0.0,0.09531017980432495,0.1823215567939546,0.26236426446749106,0.33647223662121284,0.4054651081081644],\"y\":[0.0,0.0,0.0,0.0,0.0,0.0,0.0,0.0,0.0,0.0,0.0],\"type\":\"scatter\"},{\"line\":{\"color\":\"rgba(55, 128, 191, 0.8999999999999999)\",\"dash\":\"solid\",\"shape\":\"linear\",\"width\":1.3},\"mode\":\"lines\",\"name\":\"White Bread \",\"text\":\"\",\"x\":[-0.6931471805599453,-0.5108256237659907,-0.35667494393873245,-0.22314355131420968,-0.10536051565782628,0.0,0.09531017980432495,0.1823215567939546,0.26236426446749106,0.33647223662121284,0.4054651081081644],\"y\":[0.0,0.0,0.0,0.0,0.0,0.0,0.0,0.0,0.0,0.0,0.0],\"type\":\"scatter\"},{\"line\":{\"color\":\"rgba(50, 171, 96, 0.8999999999999999)\",\"dash\":\"solid\",\"shape\":\"linear\",\"width\":1.3},\"mode\":\"lines\",\"name\":\"Whole Wheat Bread\",\"text\":\"\",\"x\":[-0.6931471805599453,-0.5108256237659907,-0.35667494393873245,-0.22314355131420968,-0.10536051565782628,0.0,0.09531017980432495,0.1823215567939546,0.26236426446749106,0.33647223662121284,0.4054651081081644],\"y\":[0.0,0.0,0.0,0.0,0.0,0.0,0.0,0.0,0.0,0.0,0.0],\"type\":\"scatter\"},{\"line\":{\"color\":\"rgba(128, 0, 128, 0.8999999999999999)\",\"dash\":\"solid\",\"shape\":\"linear\",\"width\":1.3},\"mode\":\"lines\",\"name\":\"Frozen Corn\",\"text\":\"\",\"x\":[-0.6931471805599453,-0.5108256237659907,-0.35667494393873245,-0.22314355131420968,-0.10536051565782628,0.0,0.09531017980432495,0.1823215567939546,0.26236426446749106,0.33647223662121284,0.4054651081081644],\"y\":[-0.0792817311930895,-0.06009443260534974,-0.044289345235319175,-0.0287301769194428,-0.013409392010105558,0.0,0.004631969430738186,0.004631969430738186,0.004631969430738186,0.004631969430738186,0.004631969430738186],\"type\":\"scatter\"},{\"line\":{\"color\":\"rgba(219, 64, 82, 0.8999999999999999)\",\"dash\":\"solid\",\"shape\":\"linear\",\"width\":1.3},\"mode\":\"lines\",\"name\":\"Carrots\",\"text\":\"\",\"x\":[-0.6931471805599453,-0.5108256237659907,-0.35667494393873245,-0.22314355131420968,-0.10536051565782628,0.0,0.09531017980432495,0.1823215567939546,0.26236426446749106,0.33647223662121284,0.4054651081081644],\"y\":[-0.19505183289760816,-0.11934594504552573,-0.0652724200986898,-0.02520210436399684,-9.465959632929007e-05,0.0,0.0,0.0,0.0,0.0,0.0],\"type\":\"scatter\"},{\"line\":{\"color\":\"rgba(0, 128, 128, 0.8999999999999999)\",\"dash\":\"solid\",\"shape\":\"linear\",\"width\":1.3},\"mode\":\"lines\",\"name\":\"Frozen Mixed Vegetables\",\"text\":\"\",\"x\":[-0.6931471805599453,-0.5108256237659907,-0.35667494393873245,-0.22314355131420968,-0.10536051565782628,0.0,0.09531017980432495,0.1823215567939546,0.26236426446749106,0.33647223662121284,0.4054651081081644],\"y\":[0.0,0.0,0.0,0.0,0.0,0.0,0.0,0.0,0.0,0.0,0.0],\"type\":\"scatter\"},{\"line\":{\"color\":\"rgba(255, 255, 51, 0.8999999999999999)\",\"dash\":\"solid\",\"shape\":\"linear\",\"width\":1.3},\"mode\":\"lines\",\"name\":\"Apples \",\"text\":\"\",\"x\":[-0.6931471805599453,-0.5108256237659907,-0.35667494393873245,-0.22314355131420968,-0.10536051565782628,0.0,0.09531017980432495,0.1823215567939546,0.26236426446749106,0.33647223662121284,0.4054651081081644],\"y\":[-0.04868229035239141,-0.03875438775049973,-0.02892408027747048,-0.01918946780133066,-0.009548705147572634,0.0,0.009341569182259101,0.01830051539871796,0.02699534409337945,0.02818680963344159,0.029113936221116996],\"type\":\"scatter\"},{\"line\":{\"color\":\"rgba(128, 128, 0, 0.8999999999999999)\",\"dash\":\"solid\",\"shape\":\"linear\",\"width\":1.3},\"mode\":\"lines\",\"name\":\"Bananas\",\"text\":\"\",\"x\":[-0.6931471805599453,-0.5108256237659907,-0.35667494393873245,-0.22314355131420968,-0.10536051565782628,0.0,0.09531017980432495,0.1823215567939546,0.26236426446749106,0.33647223662121284,0.4054651081081644],\"y\":[-0.05936382582571721,-0.0424854772651502,-0.025887285314206157,-0.009560101219107733,0.0,0.0,0.0,0.0,0.0,0.0,0.0],\"type\":\"scatter\"},{\"line\":{\"color\":\"rgba(251, 128, 114, 0.8999999999999999)\",\"dash\":\"solid\",\"shape\":\"linear\",\"width\":1.3},\"mode\":\"lines\",\"name\":\"Grapes\",\"text\":\"\",\"x\":[-0.6931471805599453,-0.5108256237659907,-0.35667494393873245,-0.22314355131420968,-0.10536051565782628,0.0,0.09531017980432495,0.1823215567939546,0.26236426446749106,0.33647223662121284,0.4054651081081644],\"y\":[0.0,0.0,0.0,0.0,0.0,0.0,0.0,0.0,0.0,0.0,0.0],\"type\":\"scatter\"},{\"line\":{\"color\":\"rgba(251, 128, 114, 0.7999999999999998)\",\"dash\":\"solid\",\"shape\":\"linear\",\"width\":1.3},\"mode\":\"lines\",\"name\":\"Tomatoes\",\"text\":\"\",\"x\":[-0.6931471805599453,-0.5108256237659907,-0.35667494393873245,-0.22314355131420968,-0.10536051565782628,0.0,0.09531017980432495,0.1823215567939546,0.26236426446749106,0.33647223662121284,0.4054651081081644],\"y\":[0.0,0.0,0.0,0.0,0.0,0.0,0.0,0.0,0.0,0.0,0.0],\"type\":\"scatter\"},{\"line\":{\"color\":\"rgba(128, 177, 211, 0.7999999999999998)\",\"dash\":\"solid\",\"shape\":\"linear\",\"width\":1.3},\"mode\":\"lines\",\"name\":\"Onions\",\"text\":\"\",\"x\":[-0.6931471805599453,-0.5108256237659907,-0.35667494393873245,-0.22314355131420968,-0.10536051565782628,0.0,0.09531017980432495,0.1823215567939546,0.26236426446749106,0.33647223662121284,0.4054651081081644],\"y\":[0.0,0.0,0.0,0.0,0.0,0.0,0.0,0.0,0.0,0.0,0.0],\"type\":\"scatter\"},{\"line\":{\"color\":\"rgba(255, 153, 51, 0.7999999999999998)\",\"dash\":\"solid\",\"shape\":\"linear\",\"width\":1.3},\"mode\":\"lines\",\"name\":\"Potatoes\",\"text\":\"\",\"x\":[-0.6931471805599453,-0.5108256237659907,-0.35667494393873245,-0.22314355131420968,-0.10536051565782628,0.0,0.09531017980432495,0.1823215567939546,0.26236426446749106,0.33647223662121284,0.4054651081081644],\"y\":[-0.0002528843268750283,-0.00020230234520253495,-0.00015172292193761384,-0.00010114605682136137,-5.0571749595135435e-05,0.0,5.056919222260858e-05,0.00010113582733132575,0.00015169990558474772,0.0002022614272412095,0.0002528203925596729],\"type\":\"scatter\"},{\"line\":{\"color\":\"rgba(55, 128, 191, 0.7999999999999998)\",\"dash\":\"solid\",\"shape\":\"linear\",\"width\":1.3},\"mode\":\"lines\",\"name\":\"Peanut Butter \",\"text\":\"\",\"x\":[-0.6931471805599453,-0.5108256237659907,-0.35667494393873245,-0.22314355131420968,-0.10536051565782628,0.0,0.09531017980432495,0.1823215567939546,0.26236426446749106,0.33647223662121284,0.4054651081081644],\"y\":[-0.004806815222722901,-0.0024923099551921782,-0.00052441935334809,0.0,0.0,0.0,0.0,0.0,0.0,0.0,0.0],\"type\":\"scatter\"},{\"line\":{\"color\":\"rgba(50, 171, 96, 0.7999999999999998)\",\"dash\":\"solid\",\"shape\":\"linear\",\"width\":1.3},\"mode\":\"lines\",\"name\":\"Canned Luncheon Meat\",\"text\":\"\",\"x\":[-0.6931471805599453,-0.5108256237659907,-0.35667494393873245,-0.22314355131420968,-0.10536051565782628,0.0,0.09531017980432495,0.1823215567939546,0.26236426446749106,0.33647223662121284,0.4054651081081644],\"y\":[0.0,0.0,0.0,0.0,0.0,0.0,0.0,0.0,0.0,0.0,0.0],\"type\":\"scatter\"},{\"line\":{\"color\":\"rgba(128, 0, 128, 0.7999999999999998)\",\"dash\":\"solid\",\"shape\":\"linear\",\"width\":1.3},\"mode\":\"lines\",\"name\":\"Canned Pink Salmon\",\"text\":\"\",\"x\":[-0.6931471805599453,-0.5108256237659907,-0.35667494393873245,-0.22314355131420968,-0.10536051565782628,0.0,0.09531017980432495,0.1823215567939546,0.26236426446749106,0.33647223662121284,0.4054651081081644],\"y\":[0.0,0.0,0.0,0.0,0.0,0.0,0.0,0.0,0.0,0.0,0.0],\"type\":\"scatter\"},{\"line\":{\"color\":\"rgba(219, 64, 82, 0.7999999999999998)\",\"dash\":\"solid\",\"shape\":\"linear\",\"width\":1.3},\"mode\":\"lines\",\"name\":\"Ground Beef\",\"text\":\"\",\"x\":[-0.6931471805599453,-0.5108256237659907,-0.35667494393873245,-0.22314355131420968,-0.10536051565782628,0.0,0.09531017980432495,0.1823215567939546,0.26236426446749106,0.33647223662121284,0.4054651081081644],\"y\":[0.0,0.0,0.0,0.0,0.0,0.0,0.0,0.0,0.0,0.0,0.0],\"type\":\"scatter\"},{\"line\":{\"color\":\"rgba(0, 128, 128, 0.7999999999999998)\",\"dash\":\"solid\",\"shape\":\"linear\",\"width\":1.3},\"mode\":\"lines\",\"name\":\"Pork Chops\",\"text\":\"\",\"x\":[-0.6931471805599453,-0.5108256237659907,-0.35667494393873245,-0.22314355131420968,-0.10536051565782628,0.0,0.09531017980432495,0.1823215567939546,0.26236426446749106,0.33647223662121284,0.4054651081081644],\"y\":[0.0,0.0,0.0,0.0,0.0,0.0,0.0,0.0,0.0,0.0,0.0],\"type\":\"scatter\"},{\"line\":{\"color\":\"rgba(255, 255, 51, 0.7999999999999998)\",\"dash\":\"solid\",\"shape\":\"linear\",\"width\":1.3},\"mode\":\"lines\",\"name\":\"Chicken Legs or Drumsticks\",\"text\":\"\",\"x\":[-0.6931471805599453,-0.5108256237659907,-0.35667494393873245,-0.22314355131420968,-0.10536051565782628,0.0,0.09531017980432495,0.1823215567939546,0.26236426446749106,0.33647223662121284,0.4054651081081644],\"y\":[0.0,0.0,0.0,0.0,0.0,0.0,0.0,0.0,0.0,0.0,0.0],\"type\":\"scatter\"},{\"line\":{\"color\":\"rgba(128, 128, 0, 0.7999999999999998)\",\"dash\":\"solid\",\"shape\":\"linear\",\"width\":1.3},\"mode\":\"lines\",\"name\":\"Bacon\",\"text\":\"\",\"x\":[-0.6931471805599453,-0.5108256237659907,-0.35667494393873245,-0.22314355131420968,-0.10536051565782628,0.0,0.09531017980432495,0.1823215567939546,0.26236426446749106,0.33647223662121284,0.4054651081081644],\"y\":[0.0,0.0,0.0,0.0,0.0,0.0,0.0,0.0,0.0,0.0,0.0],\"type\":\"scatter\"},{\"line\":{\"color\":\"rgba(128, 128, 0, 0.7)\",\"dash\":\"solid\",\"shape\":\"linear\",\"width\":1.3},\"mode\":\"lines\",\"name\":\"Wieners\",\"text\":\"\",\"x\":[-0.6931471805599453,-0.5108256237659907,-0.35667494393873245,-0.22314355131420968,-0.10536051565782628,0.0,0.09531017980432495,0.1823215567939546,0.26236426446749106,0.33647223662121284,0.4054651081081644],\"y\":[0.0,0.0,0.0,0.0,0.0,0.0,0.0,0.0,0.0,0.0,0.0],\"type\":\"scatter\"},{\"line\":{\"color\":\"rgba(251, 128, 114, 0.7)\",\"dash\":\"solid\",\"shape\":\"linear\",\"width\":1.3},\"mode\":\"lines\",\"name\":\"Bologna\",\"text\":\"\",\"x\":[-0.6931471805599453,-0.5108256237659907,-0.35667494393873245,-0.22314355131420968,-0.10536051565782628,0.0,0.09531017980432495,0.1823215567939546,0.26236426446749106,0.33647223662121284,0.4054651081081644],\"y\":[0.0,0.0,0.0,0.0,0.0,0.0,0.0,0.0,0.0,0.0,0.0],\"type\":\"scatter\"},{\"line\":{\"color\":\"rgba(128, 177, 211, 0.7)\",\"dash\":\"solid\",\"shape\":\"linear\",\"width\":1.3},\"mode\":\"lines\",\"name\":\"Frozen Pre-Cooked Dinners\",\"text\":\"\",\"x\":[-0.6931471805599453,-0.5108256237659907,-0.35667494393873245,-0.22314355131420968,-0.10536051565782628,0.0,0.09531017980432495,0.1823215567939546,0.26236426446749106,0.33647223662121284,0.4054651081081644],\"y\":[0.0,0.0,0.0,0.0,0.0,0.0,0.0,0.0,0.0,0.0,0.0],\"type\":\"scatter\"},{\"line\":{\"color\":\"rgba(255, 153, 51, 0.7)\",\"dash\":\"solid\",\"shape\":\"linear\",\"width\":1.3},\"mode\":\"lines\",\"name\":\"Frozen Pizza\",\"text\":\"\",\"x\":[-0.6931471805599453,-0.5108256237659907,-0.35667494393873245,-0.22314355131420968,-0.10536051565782628,0.0,0.09531017980432495,0.1823215567939546,0.26236426446749106,0.33647223662121284,0.4054651081081644],\"y\":[0.0,0.0,0.0,0.0,0.0,0.0,0.0,0.0,0.0,0.0,0.0],\"type\":\"scatter\"},{\"line\":{\"color\":\"rgba(55, 128, 191, 0.7)\",\"dash\":\"solid\",\"shape\":\"linear\",\"width\":1.3},\"mode\":\"lines\",\"name\":\"Frozen French Fries\",\"text\":\"\",\"x\":[-0.6931471805599453,-0.5108256237659907,-0.35667494393873245,-0.22314355131420968,-0.10536051565782628,0.0,0.09531017980432495,0.1823215567939546,0.26236426446749106,0.33647223662121284,0.4054651081081644],\"y\":[-0.22504303847071072,-0.17446086103881786,-0.1263145244307364,-0.08194273679103589,-0.03982665088556961,0.0,0.036330246278079105,0.0636136236651824,0.08714206616998323,0.11012962289014017,0.132600604412042],\"type\":\"scatter\"},{\"line\":{\"color\":\"rgba(50, 171, 96, 0.7)\",\"dash\":\"solid\",\"shape\":\"linear\",\"width\":1.3},\"mode\":\"lines\",\"name\":\"Pilot Biscuits \",\"text\":\"\",\"x\":[-0.6931471805599453,-0.5108256237659907,-0.35667494393873245,-0.22314355131420968,-0.10536051565782628,0.0,0.09531017980432495,0.1823215567939546,0.26236426446749106,0.33647223662121284,0.4054651081081644],\"y\":[0.0,0.0,0.0,0.0,0.0,0.0,0.0,0.0,0.0,0.0,0.0],\"type\":\"scatter\"},{\"line\":{\"color\":\"rgba(128, 0, 128, 0.7)\",\"dash\":\"solid\",\"shape\":\"linear\",\"width\":1.3},\"mode\":\"lines\",\"name\":\"Chocolate Bars \",\"text\":\"\",\"x\":[-0.6931471805599453,-0.5108256237659907,-0.35667494393873245,-0.22314355131420968,-0.10536051565782628,0.0,0.09531017980432495,0.1823215567939546,0.26236426446749106,0.33647223662121284,0.4054651081081644],\"y\":[-0.20228699903821823,-0.15733602208821615,-0.11431901331379965,-0.07307640068031951,-0.03396927369514701,0.0,0.028599921416584337,0.054813923806673714,0.08035826929634991,0.10526632116729134,0.12956900987114509],\"type\":\"scatter\"},{\"line\":{\"color\":\"rgba(219, 64, 82, 0.7)\",\"dash\":\"solid\",\"shape\":\"linear\",\"width\":1.3},\"mode\":\"lines\",\"name\":\"Potato Chips \",\"text\":\"\",\"x\":[-0.6931471805599453,-0.5108256237659907,-0.35667494393873245,-0.22314355131420968,-0.10536051565782628,0.0,0.09531017980432495,0.1823215567939546,0.26236426446749106,0.33647223662121284,0.4054651081081644],\"y\":[0.0,0.0,0.0,0.0,0.0,0.0,0.0,0.0,0.0,0.0,0.0],\"type\":\"scatter\"},{\"line\":{\"color\":\"rgba(0, 128, 128, 0.7)\",\"dash\":\"solid\",\"shape\":\"linear\",\"width\":1.3},\"mode\":\"lines\",\"name\":\"Milk 2%\",\"text\":\"\",\"x\":[-0.6931471805599453,-0.5108256237659907,-0.35667494393873245,-0.22314355131420968,-0.10536051565782628,0.0,0.09531017980432495,0.1823215567939546,0.26236426446749106,0.33647223662121284,0.4054651081081644],\"y\":[0.0,0.0,0.0,0.0,0.0,0.0,0.0,0.0,0.0,0.0,0.0],\"type\":\"scatter\"},{\"line\":{\"color\":\"rgba(255, 255, 51, 0.7)\",\"dash\":\"solid\",\"shape\":\"linear\",\"width\":1.3},\"mode\":\"lines\",\"name\":\"UHT Milk \",\"text\":\"\",\"x\":[-0.6931471805599453,-0.5108256237659907,-0.35667494393873245,-0.22314355131420968,-0.10536051565782628,0.0,0.09531017980432495,0.1823215567939546,0.26236426446749106,0.33647223662121284,0.4054651081081644],\"y\":[0.0,0.0,0.0,0.0,0.0,0.0,0.0,0.0,0.0,0.0,0.0],\"type\":\"scatter\"},{\"line\":{\"color\":\"rgba(255, 255, 51, 0.5999999999999999)\",\"dash\":\"solid\",\"shape\":\"linear\",\"width\":1.3},\"mode\":\"lines\",\"name\":\"Apple Juice\",\"text\":\"\",\"x\":[-0.6931471805599453,-0.5108256237659907,-0.35667494393873245,-0.22314355131420968,-0.10536051565782628,0.0,0.09531017980432495,0.1823215567939546,0.26236426446749106,0.33647223662121284,0.4054651081081644],\"y\":[0.0,0.0,0.0,0.0,0.0,0.0,0.0,0.0,0.0,0.0,0.0],\"type\":\"scatter\"},{\"line\":{\"color\":\"rgba(128, 128, 0, 0.5999999999999999)\",\"dash\":\"solid\",\"shape\":\"linear\",\"width\":1.3},\"mode\":\"lines\",\"name\":\"Orange Juice\",\"text\":\"\",\"x\":[-0.6931471805599453,-0.5108256237659907,-0.35667494393873245,-0.22314355131420968,-0.10536051565782628,0.0,0.09531017980432495,0.1823215567939546,0.26236426446749106,0.33647223662121284,0.4054651081081644],\"y\":[-0.02048058890371216,0.0,0.0,0.0,0.0,0.0,0.0,0.0,0.0,0.0,0.0],\"type\":\"scatter\"},{\"line\":{\"color\":\"rgba(251, 128, 114, 0.5999999999999999)\",\"dash\":\"solid\",\"shape\":\"linear\",\"width\":1.3},\"mode\":\"lines\",\"name\":\"Tomato Juice\",\"text\":\"\",\"x\":[-0.6931471805599453,-0.5108256237659907,-0.35667494393873245,-0.22314355131420968,-0.10536051565782628,0.0,0.09531017980432495,0.1823215567939546,0.26236426446749106,0.33647223662121284,0.4054651081081644],\"y\":[0.0,0.0,0.0,0.0,0.0,0.0,0.0,0.0,0.0,0.0,0.0],\"type\":\"scatter\"},{\"line\":{\"color\":\"rgba(128, 177, 211, 0.5999999999999999)\",\"dash\":\"solid\",\"shape\":\"linear\",\"width\":1.3},\"mode\":\"lines\",\"name\":\"Vegetable Juice\",\"text\":\"\",\"x\":[-0.6931471805599453,-0.5108256237659907,-0.35667494393873245,-0.22314355131420968,-0.10536051565782628,0.0,0.09531017980432495,0.1823215567939546,0.26236426446749106,0.33647223662121284,0.4054651081081644],\"y\":[0.0,0.0,0.0,0.0,0.0,0.0,0.0,0.0,0.0,0.0,0.0],\"type\":\"scatter\"},{\"line\":{\"color\":\"rgba(255, 153, 51, 0.5999999999999999)\",\"dash\":\"solid\",\"shape\":\"linear\",\"width\":1.3},\"mode\":\"lines\",\"name\":\"Soft Drinks\",\"text\":\"\",\"x\":[-0.6931471805599453,-0.5108256237659907,-0.35667494393873245,-0.22314355131420968,-0.10536051565782628,0.0,0.09531017980432495,0.1823215567939546,0.26236426446749106,0.33647223662121284,0.4054651081081644],\"y\":[0.0,0.0,0.0,0.0,0.0,0.0,0.0,0.0,0.0,0.0,0.0],\"type\":\"scatter\"}],                        {\"legend\":{\"bgcolor\":\"#F5F6F9\",\"font\":{\"color\":\"#4D5663\"}},\"paper_bgcolor\":\"#F5F6F9\",\"plot_bgcolor\":\"#F5F6F9\",\"template\":{\"data\":{\"barpolar\":[{\"marker\":{\"line\":{\"color\":\"#E5ECF6\",\"width\":0.5},\"pattern\":{\"fillmode\":\"overlay\",\"size\":10,\"solidity\":0.2}},\"type\":\"barpolar\"}],\"bar\":[{\"error_x\":{\"color\":\"#2a3f5f\"},\"error_y\":{\"color\":\"#2a3f5f\"},\"marker\":{\"line\":{\"color\":\"#E5ECF6\",\"width\":0.5},\"pattern\":{\"fillmode\":\"overlay\",\"size\":10,\"solidity\":0.2}},\"type\":\"bar\"}],\"carpet\":[{\"aaxis\":{\"endlinecolor\":\"#2a3f5f\",\"gridcolor\":\"white\",\"linecolor\":\"white\",\"minorgridcolor\":\"white\",\"startlinecolor\":\"#2a3f5f\"},\"baxis\":{\"endlinecolor\":\"#2a3f5f\",\"gridcolor\":\"white\",\"linecolor\":\"white\",\"minorgridcolor\":\"white\",\"startlinecolor\":\"#2a3f5f\"},\"type\":\"carpet\"}],\"choropleth\":[{\"colorbar\":{\"outlinewidth\":0,\"ticks\":\"\"},\"type\":\"choropleth\"}],\"contourcarpet\":[{\"colorbar\":{\"outlinewidth\":0,\"ticks\":\"\"},\"type\":\"contourcarpet\"}],\"contour\":[{\"colorbar\":{\"outlinewidth\":0,\"ticks\":\"\"},\"colorscale\":[[0.0,\"#0d0887\"],[0.1111111111111111,\"#46039f\"],[0.2222222222222222,\"#7201a8\"],[0.3333333333333333,\"#9c179e\"],[0.4444444444444444,\"#bd3786\"],[0.5555555555555556,\"#d8576b\"],[0.6666666666666666,\"#ed7953\"],[0.7777777777777778,\"#fb9f3a\"],[0.8888888888888888,\"#fdca26\"],[1.0,\"#f0f921\"]],\"type\":\"contour\"}],\"heatmapgl\":[{\"colorbar\":{\"outlinewidth\":0,\"ticks\":\"\"},\"colorscale\":[[0.0,\"#0d0887\"],[0.1111111111111111,\"#46039f\"],[0.2222222222222222,\"#7201a8\"],[0.3333333333333333,\"#9c179e\"],[0.4444444444444444,\"#bd3786\"],[0.5555555555555556,\"#d8576b\"],[0.6666666666666666,\"#ed7953\"],[0.7777777777777778,\"#fb9f3a\"],[0.8888888888888888,\"#fdca26\"],[1.0,\"#f0f921\"]],\"type\":\"heatmapgl\"}],\"heatmap\":[{\"colorbar\":{\"outlinewidth\":0,\"ticks\":\"\"},\"colorscale\":[[0.0,\"#0d0887\"],[0.1111111111111111,\"#46039f\"],[0.2222222222222222,\"#7201a8\"],[0.3333333333333333,\"#9c179e\"],[0.4444444444444444,\"#bd3786\"],[0.5555555555555556,\"#d8576b\"],[0.6666666666666666,\"#ed7953\"],[0.7777777777777778,\"#fb9f3a\"],[0.8888888888888888,\"#fdca26\"],[1.0,\"#f0f921\"]],\"type\":\"heatmap\"}],\"histogram2dcontour\":[{\"colorbar\":{\"outlinewidth\":0,\"ticks\":\"\"},\"colorscale\":[[0.0,\"#0d0887\"],[0.1111111111111111,\"#46039f\"],[0.2222222222222222,\"#7201a8\"],[0.3333333333333333,\"#9c179e\"],[0.4444444444444444,\"#bd3786\"],[0.5555555555555556,\"#d8576b\"],[0.6666666666666666,\"#ed7953\"],[0.7777777777777778,\"#fb9f3a\"],[0.8888888888888888,\"#fdca26\"],[1.0,\"#f0f921\"]],\"type\":\"histogram2dcontour\"}],\"histogram2d\":[{\"colorbar\":{\"outlinewidth\":0,\"ticks\":\"\"},\"colorscale\":[[0.0,\"#0d0887\"],[0.1111111111111111,\"#46039f\"],[0.2222222222222222,\"#7201a8\"],[0.3333333333333333,\"#9c179e\"],[0.4444444444444444,\"#bd3786\"],[0.5555555555555556,\"#d8576b\"],[0.6666666666666666,\"#ed7953\"],[0.7777777777777778,\"#fb9f3a\"],[0.8888888888888888,\"#fdca26\"],[1.0,\"#f0f921\"]],\"type\":\"histogram2d\"}],\"histogram\":[{\"marker\":{\"pattern\":{\"fillmode\":\"overlay\",\"size\":10,\"solidity\":0.2}},\"type\":\"histogram\"}],\"mesh3d\":[{\"colorbar\":{\"outlinewidth\":0,\"ticks\":\"\"},\"type\":\"mesh3d\"}],\"parcoords\":[{\"line\":{\"colorbar\":{\"outlinewidth\":0,\"ticks\":\"\"}},\"type\":\"parcoords\"}],\"pie\":[{\"automargin\":true,\"type\":\"pie\"}],\"scatter3d\":[{\"line\":{\"colorbar\":{\"outlinewidth\":0,\"ticks\":\"\"}},\"marker\":{\"colorbar\":{\"outlinewidth\":0,\"ticks\":\"\"}},\"type\":\"scatter3d\"}],\"scattercarpet\":[{\"marker\":{\"colorbar\":{\"outlinewidth\":0,\"ticks\":\"\"}},\"type\":\"scattercarpet\"}],\"scattergeo\":[{\"marker\":{\"colorbar\":{\"outlinewidth\":0,\"ticks\":\"\"}},\"type\":\"scattergeo\"}],\"scattergl\":[{\"marker\":{\"colorbar\":{\"outlinewidth\":0,\"ticks\":\"\"}},\"type\":\"scattergl\"}],\"scattermapbox\":[{\"marker\":{\"colorbar\":{\"outlinewidth\":0,\"ticks\":\"\"}},\"type\":\"scattermapbox\"}],\"scatterpolargl\":[{\"marker\":{\"colorbar\":{\"outlinewidth\":0,\"ticks\":\"\"}},\"type\":\"scatterpolargl\"}],\"scatterpolar\":[{\"marker\":{\"colorbar\":{\"outlinewidth\":0,\"ticks\":\"\"}},\"type\":\"scatterpolar\"}],\"scatter\":[{\"fillpattern\":{\"fillmode\":\"overlay\",\"size\":10,\"solidity\":0.2},\"type\":\"scatter\"}],\"scatterternary\":[{\"marker\":{\"colorbar\":{\"outlinewidth\":0,\"ticks\":\"\"}},\"type\":\"scatterternary\"}],\"surface\":[{\"colorbar\":{\"outlinewidth\":0,\"ticks\":\"\"},\"colorscale\":[[0.0,\"#0d0887\"],[0.1111111111111111,\"#46039f\"],[0.2222222222222222,\"#7201a8\"],[0.3333333333333333,\"#9c179e\"],[0.4444444444444444,\"#bd3786\"],[0.5555555555555556,\"#d8576b\"],[0.6666666666666666,\"#ed7953\"],[0.7777777777777778,\"#fb9f3a\"],[0.8888888888888888,\"#fdca26\"],[1.0,\"#f0f921\"]],\"type\":\"surface\"}],\"table\":[{\"cells\":{\"fill\":{\"color\":\"#EBF0F8\"},\"line\":{\"color\":\"white\"}},\"header\":{\"fill\":{\"color\":\"#C8D4E3\"},\"line\":{\"color\":\"white\"}},\"type\":\"table\"}]},\"layout\":{\"annotationdefaults\":{\"arrowcolor\":\"#2a3f5f\",\"arrowhead\":0,\"arrowwidth\":1},\"autotypenumbers\":\"strict\",\"coloraxis\":{\"colorbar\":{\"outlinewidth\":0,\"ticks\":\"\"}},\"colorscale\":{\"diverging\":[[0,\"#8e0152\"],[0.1,\"#c51b7d\"],[0.2,\"#de77ae\"],[0.3,\"#f1b6da\"],[0.4,\"#fde0ef\"],[0.5,\"#f7f7f7\"],[0.6,\"#e6f5d0\"],[0.7,\"#b8e186\"],[0.8,\"#7fbc41\"],[0.9,\"#4d9221\"],[1,\"#276419\"]],\"sequential\":[[0.0,\"#0d0887\"],[0.1111111111111111,\"#46039f\"],[0.2222222222222222,\"#7201a8\"],[0.3333333333333333,\"#9c179e\"],[0.4444444444444444,\"#bd3786\"],[0.5555555555555556,\"#d8576b\"],[0.6666666666666666,\"#ed7953\"],[0.7777777777777778,\"#fb9f3a\"],[0.8888888888888888,\"#fdca26\"],[1.0,\"#f0f921\"]],\"sequentialminus\":[[0.0,\"#0d0887\"],[0.1111111111111111,\"#46039f\"],[0.2222222222222222,\"#7201a8\"],[0.3333333333333333,\"#9c179e\"],[0.4444444444444444,\"#bd3786\"],[0.5555555555555556,\"#d8576b\"],[0.6666666666666666,\"#ed7953\"],[0.7777777777777778,\"#fb9f3a\"],[0.8888888888888888,\"#fdca26\"],[1.0,\"#f0f921\"]]},\"colorway\":[\"#636efa\",\"#EF553B\",\"#00cc96\",\"#ab63fa\",\"#FFA15A\",\"#19d3f3\",\"#FF6692\",\"#B6E880\",\"#FF97FF\",\"#FECB52\"],\"font\":{\"color\":\"#2a3f5f\"},\"geo\":{\"bgcolor\":\"white\",\"lakecolor\":\"white\",\"landcolor\":\"#E5ECF6\",\"showlakes\":true,\"showland\":true,\"subunitcolor\":\"white\"},\"hoverlabel\":{\"align\":\"left\"},\"hovermode\":\"closest\",\"mapbox\":{\"style\":\"light\"},\"paper_bgcolor\":\"white\",\"plot_bgcolor\":\"#E5ECF6\",\"polar\":{\"angularaxis\":{\"gridcolor\":\"white\",\"linecolor\":\"white\",\"ticks\":\"\"},\"bgcolor\":\"#E5ECF6\",\"radialaxis\":{\"gridcolor\":\"white\",\"linecolor\":\"white\",\"ticks\":\"\"}},\"scene\":{\"xaxis\":{\"backgroundcolor\":\"#E5ECF6\",\"gridcolor\":\"white\",\"gridwidth\":2,\"linecolor\":\"white\",\"showbackground\":true,\"ticks\":\"\",\"zerolinecolor\":\"white\"},\"yaxis\":{\"backgroundcolor\":\"#E5ECF6\",\"gridcolor\":\"white\",\"gridwidth\":2,\"linecolor\":\"white\",\"showbackground\":true,\"ticks\":\"\",\"zerolinecolor\":\"white\"},\"zaxis\":{\"backgroundcolor\":\"#E5ECF6\",\"gridcolor\":\"white\",\"gridwidth\":2,\"linecolor\":\"white\",\"showbackground\":true,\"ticks\":\"\",\"zerolinecolor\":\"white\"}},\"shapedefaults\":{\"line\":{\"color\":\"#2a3f5f\"}},\"ternary\":{\"aaxis\":{\"gridcolor\":\"white\",\"linecolor\":\"white\",\"ticks\":\"\"},\"baxis\":{\"gridcolor\":\"white\",\"linecolor\":\"white\",\"ticks\":\"\"},\"bgcolor\":\"#E5ECF6\",\"caxis\":{\"gridcolor\":\"white\",\"linecolor\":\"white\",\"ticks\":\"\"}},\"title\":{\"x\":0.05},\"xaxis\":{\"automargin\":true,\"gridcolor\":\"white\",\"linecolor\":\"white\",\"ticks\":\"\",\"title\":{\"standoff\":15},\"zerolinecolor\":\"white\",\"zerolinewidth\":2},\"yaxis\":{\"automargin\":true,\"gridcolor\":\"white\",\"linecolor\":\"white\",\"ticks\":\"\",\"title\":{\"standoff\":15},\"zerolinecolor\":\"white\",\"zerolinewidth\":2}}},\"title\":{\"font\":{\"color\":\"#4D5663\"}},\"xaxis\":{\"gridcolor\":\"#E1E5ED\",\"showgrid\":true,\"tickfont\":{\"color\":\"#4D5663\"},\"title\":{\"font\":{\"color\":\"#4D5663\"},\"text\":\"change in log price\"},\"zerolinecolor\":\"#E1E5ED\"},\"yaxis\":{\"gridcolor\":\"#E1E5ED\",\"showgrid\":true,\"tickfont\":{\"color\":\"#4D5663\"},\"title\":{\"font\":{\"color\":\"#4D5663\"},\"text\":\"change in log cost\"},\"zerolinecolor\":\"#E1E5ED\"}},                        {\"showLink\": true, \"linkText\": \"Export to plot.ly\", \"plotlyServerURL\": \"https://plot.ly\", \"responsive\": true}                    ).then(function(){\n",
       "                            \n",
       "var gd = document.getElementById('bd8df8f2-ead7-4d99-8208-fc6a070418d6');\n",
       "var x = new MutationObserver(function (mutations, observer) {{\n",
       "        var display = window.getComputedStyle(gd).display;\n",
       "        if (!display || display === 'none') {{\n",
       "            console.log([gd, 'removed!']);\n",
       "            Plotly.purge(gd);\n",
       "            observer.disconnect();\n",
       "        }}\n",
       "}});\n",
       "\n",
       "// Listen for the removal of the full notebook cells\n",
       "var notebookContainer = gd.closest('#notebook-container');\n",
       "if (notebookContainer) {{\n",
       "    x.observe(notebookContainer, {childList: true});\n",
       "}}\n",
       "\n",
       "// Listen for the clearing of the current output cell\n",
       "var outputEl = gd.closest('.output');\n",
       "if (outputEl) {{\n",
       "    x.observe(outputEl, {childList: true});\n",
       "}}\n",
       "\n",
       "                        })                };                });            </script>        </div>"
      ]
     },
     "metadata": {},
     "output_type": "display_data"
    }
   ],
   "source": [
    "import cufflinks as cf\n",
    "cf.go_offline()\n",
    "\n",
    "scale = [.5,.6,.7,.8,.9,1.,1.1,1.2,1.3,1.4,1.5]\n",
    "\n",
    "cost0 = solve_subsistence_problem(FoodNutrients,Prices,diet_min[group],diet_max[group],tol=tol).fun\n",
    "\n",
    "Price_response={}\n",
    "for s in scale:\n",
    "    cost = {}\n",
    "    for i,p in enumerate(Prices):\n",
    "        my_p = Prices.copy()\n",
    "        my_p.iloc[i] = p*s\n",
    "        result = solve_subsistence_problem(FoodNutrients,my_p,diet_min[group],diet_max[group],tol=tol)\n",
    "        cost[Prices.index[i]] = np.log(result.fun/cost0)\n",
    "    Price_response[np.log(s)] = cost\n",
    "\n",
    "Price_response = pd.DataFrame(Price_response).T\n",
    "Price_response.iplot(xTitle='change in log price',yTitle='change in log cost')"
   ]
  },
  {
   "cell_type": "markdown",
   "metadata": {},
   "source": [
    "## Effects of Price Changes on Subsistence Diet Composition\n",
    "\n"
   ]
  },
  {
   "cell_type": "markdown",
   "metadata": {},
   "source": [
    "The code below creates a graph which changes prices just for *one* food,\n",
    "  and traces out the effects of this change on all the foods consumed.\n",
    "\n"
   ]
  },
  {
   "cell_type": "code",
   "execution_count": 16,
   "metadata": {},
   "outputs": [
    {
     "data": {
      "text/html": [
       "        <script type=\"text/javascript\">\n",
       "        window.PlotlyConfig = {MathJaxConfig: 'local'};\n",
       "        if (window.MathJax && window.MathJax.Hub && window.MathJax.Hub.Config) {window.MathJax.Hub.Config({SVG: {font: \"STIX-Web\"}});}\n",
       "        if (typeof require !== 'undefined') {\n",
       "        require.undef(\"plotly\");\n",
       "        requirejs.config({\n",
       "            paths: {\n",
       "                'plotly': ['https://cdn.plot.ly/plotly-2.29.1.min']\n",
       "            }\n",
       "        });\n",
       "        require(['plotly'], function(Plotly) {\n",
       "            window._Plotly = Plotly;\n",
       "        });\n",
       "        }\n",
       "        </script>\n",
       "        "
      ]
     },
     "metadata": {},
     "output_type": "display_data"
    },
    {
     "name": "stderr",
     "output_type": "stream",
     "text": [
      "/srv/conda/lib/python3.9/site-packages/pandas/core/dtypes/cast.py:1990: UnitStrippedWarning:\n",
      "\n",
      "The unit of the quantity is stripped when downcasting to ndarray.\n",
      "\n"
     ]
    },
    {
     "data": {
      "application/vnd.plotly.v1+json": {
       "config": {
        "linkText": "Export to plot.ly",
        "plotlyServerURL": "https://plot.ly",
        "showLink": true
       },
       "data": [
        {
         "line": {
          "color": "rgba(255, 153, 51, 1.0)",
          "dash": "solid",
          "shape": "linear",
          "width": 1.3
         },
         "mode": "lines",
         "name": "Skim Milk Powder ",
         "text": "",
         "type": "scatter",
         "x": [
          0.34500000000000003,
          0.5175000000000001,
          0.6210000000000001,
          0.6900000000000001,
          0.7590000000000001,
          0.8280000000000001,
          0.8970000000000001,
          0.966,
          1.0350000000000001,
          1.3800000000000001,
          2.7600000000000002
         ],
         "y": [
          0,
          0.6086753917136947,
          0.5958476449575543,
          0.5721593678091405,
          0.5721593678091405,
          0.5721593678091405,
          0.5721593678091405,
          0.5721593678091405,
          0.5721593678091405,
          0.5721593678091405,
          0.5721593678091405
         ]
        },
        {
         "line": {
          "color": "rgba(55, 128, 191, 1.0)",
          "dash": "solid",
          "shape": "linear",
          "width": 1.3
         },
         "mode": "lines",
         "name": "Corn Flakes",
         "text": "",
         "type": "scatter",
         "x": [
          0.34500000000000003,
          0.5175000000000001,
          0.6210000000000001,
          0.6900000000000001,
          0.7590000000000001,
          0.8280000000000001,
          0.8970000000000001,
          0.966,
          1.0350000000000001,
          1.3800000000000001,
          2.7600000000000002
         ],
         "y": [
          0.23971665470631265,
          0.19809955482297198,
          0.19169255531828377,
          0.21981898363126345,
          0.21981898363126345,
          0.21981898363126345,
          0.21981898363126345,
          0.21981898363126345,
          0.21981898363126345,
          0.21981898363126345,
          0.21981898363126345
         ]
        },
        {
         "line": {
          "color": "rgba(50, 171, 96, 1.0)",
          "dash": "solid",
          "shape": "linear",
          "width": 1.3
         },
         "mode": "lines",
         "name": "Frozen Corn",
         "text": "",
         "type": "scatter",
         "x": [
          0.34500000000000003,
          0.5175000000000001,
          0.6210000000000001,
          0.6900000000000001,
          0.7590000000000001,
          0.8280000000000001,
          0.8970000000000001,
          0.966,
          1.0350000000000001,
          1.3800000000000001,
          2.7600000000000002
         ],
         "y": [
          0,
          0,
          0,
          0.8248955768039821,
          0.8248955768039821,
          0.8248955768039821,
          0.8248955768039821,
          0.8248955768039821,
          0.8248955768039821,
          0.8248955768039821,
          0.8248955768039821
         ]
        },
        {
         "line": {
          "color": "rgba(128, 0, 128, 1.0)",
          "dash": "solid",
          "shape": "linear",
          "width": 1.3
         },
         "mode": "lines",
         "name": "Carrots",
         "text": "",
         "type": "scatter",
         "x": [
          0.34500000000000003,
          0.5175000000000001,
          0.6210000000000001,
          0.6900000000000001,
          0.7590000000000001,
          0.8280000000000001,
          0.8970000000000001,
          0.966,
          1.0350000000000001,
          1.3800000000000001,
          2.7600000000000002
         ],
         "y": [
          12.557835645871425,
          6.462883252888923,
          0.7993886386316887,
          0,
          0,
          0,
          0,
          0,
          0,
          0,
          0
         ]
        },
        {
         "line": {
          "color": "rgba(219, 64, 82, 1.0)",
          "dash": "solid",
          "shape": "linear",
          "width": 1.3
         },
         "mode": "lines",
         "name": "Apples ",
         "text": "",
         "type": "scatter",
         "x": [
          0.34500000000000003,
          0.5175000000000001,
          0.6210000000000001,
          0.6900000000000001,
          0.7590000000000001,
          0.8280000000000001,
          0.8970000000000001,
          0.966,
          1.0350000000000001,
          1.3800000000000001,
          2.7600000000000002
         ],
         "y": [
          0,
          0,
          1.0937691177134556,
          1.106477364701292,
          1.106477364701292,
          1.106477364701292,
          1.106477364701292,
          1.106477364701292,
          1.106477364701292,
          1.106477364701292,
          1.106477364701292
         ]
        },
        {
         "line": {
          "color": "rgba(0, 128, 128, 1.0)",
          "dash": "solid",
          "shape": "linear",
          "width": 1.3
         },
         "mode": "lines",
         "name": "Potatoes",
         "text": "",
         "type": "scatter",
         "x": [
          0.34500000000000003,
          0.5175000000000001,
          0.6210000000000001,
          0.6900000000000001,
          0.7590000000000001,
          0.8280000000000001,
          0.8970000000000001,
          0.966,
          1.0350000000000001,
          1.3800000000000001,
          2.7600000000000002
         ],
         "y": [
          0,
          0.21644531357784458,
          0.0856670872974673,
          0.013365731441007634,
          0.013365731441007634,
          0.013365731441007634,
          0.013365731441007634,
          0.013365731441007634,
          0.013365731441007634,
          0.013365731441007634,
          0.013365731441007634
         ]
        },
        {
         "line": {
          "color": "rgba(255, 255, 51, 1.0)",
          "dash": "solid",
          "shape": "linear",
          "width": 1.3
         },
         "mode": "lines",
         "name": "Frozen French Fries",
         "text": "",
         "type": "scatter",
         "x": [
          0.34500000000000003,
          0.5175000000000001,
          0.6210000000000001,
          0.6900000000000001,
          0.7590000000000001,
          0.8280000000000001,
          0.8970000000000001,
          0.966,
          1.0350000000000001,
          1.3800000000000001,
          2.7600000000000002
         ],
         "y": [
          0.9757801309715827,
          2.432048102430106,
          4.702402798514899,
          5.1674576281063835,
          5.1674576281063835,
          5.1674576281063835,
          5.1674576281063835,
          5.1674576281063835,
          5.1674576281063835,
          5.1674576281063835,
          5.1674576281063835
         ]
        },
        {
         "line": {
          "color": "rgba(128, 128, 0, 1.0)",
          "dash": "solid",
          "shape": "linear",
          "width": 1.3
         },
         "mode": "lines",
         "name": "Chocolate Bars ",
         "text": "",
         "type": "scatter",
         "x": [
          0.34500000000000003,
          0.5175000000000001,
          0.6210000000000001,
          0.6900000000000001,
          0.7590000000000001,
          0.8280000000000001,
          0.8970000000000001,
          0.966,
          1.0350000000000001,
          1.3800000000000001,
          2.7600000000000002
         ],
         "y": [
          0.5961242313232583,
          0.7618562206123813,
          0.8344938498753709,
          0.7421119016449675,
          0.7421119016449675,
          0.7421119016449675,
          0.7421119016449675,
          0.7421119016449675,
          0.7421119016449675,
          0.7421119016449675,
          0.7421119016449675
         ]
        },
        {
         "line": {
          "color": "rgba(251, 128, 114, 1.0)",
          "dash": "solid",
          "shape": "linear",
          "width": 1.3
         },
         "mode": "lines",
         "name": "Milk 2%",
         "text": "",
         "type": "scatter",
         "x": [
          0.34500000000000003,
          0.5175000000000001,
          0.6210000000000001,
          0.6900000000000001,
          0.7590000000000001,
          0.8280000000000001,
          0.8970000000000001,
          0.966,
          1.0350000000000001,
          1.3800000000000001,
          2.7600000000000002
         ],
         "y": [
          6.474447066894411,
          0,
          0,
          0,
          0,
          0,
          0,
          0,
          0,
          0,
          0
         ]
        }
       ],
       "layout": {
        "autosize": true,
        "legend": {
         "bgcolor": "#F5F6F9",
         "font": {
          "color": "#4D5663"
         }
        },
        "paper_bgcolor": "#F5F6F9",
        "plot_bgcolor": "#F5F6F9",
        "template": {
         "data": {
          "bar": [
           {
            "error_x": {
             "color": "#2a3f5f"
            },
            "error_y": {
             "color": "#2a3f5f"
            },
            "marker": {
             "line": {
              "color": "#E5ECF6",
              "width": 0.5
             },
             "pattern": {
              "fillmode": "overlay",
              "size": 10,
              "solidity": 0.2
             }
            },
            "type": "bar"
           }
          ],
          "barpolar": [
           {
            "marker": {
             "line": {
              "color": "#E5ECF6",
              "width": 0.5
             },
             "pattern": {
              "fillmode": "overlay",
              "size": 10,
              "solidity": 0.2
             }
            },
            "type": "barpolar"
           }
          ],
          "carpet": [
           {
            "aaxis": {
             "endlinecolor": "#2a3f5f",
             "gridcolor": "white",
             "linecolor": "white",
             "minorgridcolor": "white",
             "startlinecolor": "#2a3f5f"
            },
            "baxis": {
             "endlinecolor": "#2a3f5f",
             "gridcolor": "white",
             "linecolor": "white",
             "minorgridcolor": "white",
             "startlinecolor": "#2a3f5f"
            },
            "type": "carpet"
           }
          ],
          "choropleth": [
           {
            "colorbar": {
             "outlinewidth": 0,
             "ticks": ""
            },
            "type": "choropleth"
           }
          ],
          "contour": [
           {
            "colorbar": {
             "outlinewidth": 0,
             "ticks": ""
            },
            "colorscale": [
             [
              0,
              "#0d0887"
             ],
             [
              0.1111111111111111,
              "#46039f"
             ],
             [
              0.2222222222222222,
              "#7201a8"
             ],
             [
              0.3333333333333333,
              "#9c179e"
             ],
             [
              0.4444444444444444,
              "#bd3786"
             ],
             [
              0.5555555555555556,
              "#d8576b"
             ],
             [
              0.6666666666666666,
              "#ed7953"
             ],
             [
              0.7777777777777778,
              "#fb9f3a"
             ],
             [
              0.8888888888888888,
              "#fdca26"
             ],
             [
              1,
              "#f0f921"
             ]
            ],
            "type": "contour"
           }
          ],
          "contourcarpet": [
           {
            "colorbar": {
             "outlinewidth": 0,
             "ticks": ""
            },
            "type": "contourcarpet"
           }
          ],
          "heatmap": [
           {
            "colorbar": {
             "outlinewidth": 0,
             "ticks": ""
            },
            "colorscale": [
             [
              0,
              "#0d0887"
             ],
             [
              0.1111111111111111,
              "#46039f"
             ],
             [
              0.2222222222222222,
              "#7201a8"
             ],
             [
              0.3333333333333333,
              "#9c179e"
             ],
             [
              0.4444444444444444,
              "#bd3786"
             ],
             [
              0.5555555555555556,
              "#d8576b"
             ],
             [
              0.6666666666666666,
              "#ed7953"
             ],
             [
              0.7777777777777778,
              "#fb9f3a"
             ],
             [
              0.8888888888888888,
              "#fdca26"
             ],
             [
              1,
              "#f0f921"
             ]
            ],
            "type": "heatmap"
           }
          ],
          "heatmapgl": [
           {
            "colorbar": {
             "outlinewidth": 0,
             "ticks": ""
            },
            "colorscale": [
             [
              0,
              "#0d0887"
             ],
             [
              0.1111111111111111,
              "#46039f"
             ],
             [
              0.2222222222222222,
              "#7201a8"
             ],
             [
              0.3333333333333333,
              "#9c179e"
             ],
             [
              0.4444444444444444,
              "#bd3786"
             ],
             [
              0.5555555555555556,
              "#d8576b"
             ],
             [
              0.6666666666666666,
              "#ed7953"
             ],
             [
              0.7777777777777778,
              "#fb9f3a"
             ],
             [
              0.8888888888888888,
              "#fdca26"
             ],
             [
              1,
              "#f0f921"
             ]
            ],
            "type": "heatmapgl"
           }
          ],
          "histogram": [
           {
            "marker": {
             "pattern": {
              "fillmode": "overlay",
              "size": 10,
              "solidity": 0.2
             }
            },
            "type": "histogram"
           }
          ],
          "histogram2d": [
           {
            "colorbar": {
             "outlinewidth": 0,
             "ticks": ""
            },
            "colorscale": [
             [
              0,
              "#0d0887"
             ],
             [
              0.1111111111111111,
              "#46039f"
             ],
             [
              0.2222222222222222,
              "#7201a8"
             ],
             [
              0.3333333333333333,
              "#9c179e"
             ],
             [
              0.4444444444444444,
              "#bd3786"
             ],
             [
              0.5555555555555556,
              "#d8576b"
             ],
             [
              0.6666666666666666,
              "#ed7953"
             ],
             [
              0.7777777777777778,
              "#fb9f3a"
             ],
             [
              0.8888888888888888,
              "#fdca26"
             ],
             [
              1,
              "#f0f921"
             ]
            ],
            "type": "histogram2d"
           }
          ],
          "histogram2dcontour": [
           {
            "colorbar": {
             "outlinewidth": 0,
             "ticks": ""
            },
            "colorscale": [
             [
              0,
              "#0d0887"
             ],
             [
              0.1111111111111111,
              "#46039f"
             ],
             [
              0.2222222222222222,
              "#7201a8"
             ],
             [
              0.3333333333333333,
              "#9c179e"
             ],
             [
              0.4444444444444444,
              "#bd3786"
             ],
             [
              0.5555555555555556,
              "#d8576b"
             ],
             [
              0.6666666666666666,
              "#ed7953"
             ],
             [
              0.7777777777777778,
              "#fb9f3a"
             ],
             [
              0.8888888888888888,
              "#fdca26"
             ],
             [
              1,
              "#f0f921"
             ]
            ],
            "type": "histogram2dcontour"
           }
          ],
          "mesh3d": [
           {
            "colorbar": {
             "outlinewidth": 0,
             "ticks": ""
            },
            "type": "mesh3d"
           }
          ],
          "parcoords": [
           {
            "line": {
             "colorbar": {
              "outlinewidth": 0,
              "ticks": ""
             }
            },
            "type": "parcoords"
           }
          ],
          "pie": [
           {
            "automargin": true,
            "type": "pie"
           }
          ],
          "scatter": [
           {
            "fillpattern": {
             "fillmode": "overlay",
             "size": 10,
             "solidity": 0.2
            },
            "type": "scatter"
           }
          ],
          "scatter3d": [
           {
            "line": {
             "colorbar": {
              "outlinewidth": 0,
              "ticks": ""
             }
            },
            "marker": {
             "colorbar": {
              "outlinewidth": 0,
              "ticks": ""
             }
            },
            "type": "scatter3d"
           }
          ],
          "scattercarpet": [
           {
            "marker": {
             "colorbar": {
              "outlinewidth": 0,
              "ticks": ""
             }
            },
            "type": "scattercarpet"
           }
          ],
          "scattergeo": [
           {
            "marker": {
             "colorbar": {
              "outlinewidth": 0,
              "ticks": ""
             }
            },
            "type": "scattergeo"
           }
          ],
          "scattergl": [
           {
            "marker": {
             "colorbar": {
              "outlinewidth": 0,
              "ticks": ""
             }
            },
            "type": "scattergl"
           }
          ],
          "scattermapbox": [
           {
            "marker": {
             "colorbar": {
              "outlinewidth": 0,
              "ticks": ""
             }
            },
            "type": "scattermapbox"
           }
          ],
          "scatterpolar": [
           {
            "marker": {
             "colorbar": {
              "outlinewidth": 0,
              "ticks": ""
             }
            },
            "type": "scatterpolar"
           }
          ],
          "scatterpolargl": [
           {
            "marker": {
             "colorbar": {
              "outlinewidth": 0,
              "ticks": ""
             }
            },
            "type": "scatterpolargl"
           }
          ],
          "scatterternary": [
           {
            "marker": {
             "colorbar": {
              "outlinewidth": 0,
              "ticks": ""
             }
            },
            "type": "scatterternary"
           }
          ],
          "surface": [
           {
            "colorbar": {
             "outlinewidth": 0,
             "ticks": ""
            },
            "colorscale": [
             [
              0,
              "#0d0887"
             ],
             [
              0.1111111111111111,
              "#46039f"
             ],
             [
              0.2222222222222222,
              "#7201a8"
             ],
             [
              0.3333333333333333,
              "#9c179e"
             ],
             [
              0.4444444444444444,
              "#bd3786"
             ],
             [
              0.5555555555555556,
              "#d8576b"
             ],
             [
              0.6666666666666666,
              "#ed7953"
             ],
             [
              0.7777777777777778,
              "#fb9f3a"
             ],
             [
              0.8888888888888888,
              "#fdca26"
             ],
             [
              1,
              "#f0f921"
             ]
            ],
            "type": "surface"
           }
          ],
          "table": [
           {
            "cells": {
             "fill": {
              "color": "#EBF0F8"
             },
             "line": {
              "color": "white"
             }
            },
            "header": {
             "fill": {
              "color": "#C8D4E3"
             },
             "line": {
              "color": "white"
             }
            },
            "type": "table"
           }
          ]
         },
         "layout": {
          "annotationdefaults": {
           "arrowcolor": "#2a3f5f",
           "arrowhead": 0,
           "arrowwidth": 1
          },
          "autotypenumbers": "strict",
          "coloraxis": {
           "colorbar": {
            "outlinewidth": 0,
            "ticks": ""
           }
          },
          "colorscale": {
           "diverging": [
            [
             0,
             "#8e0152"
            ],
            [
             0.1,
             "#c51b7d"
            ],
            [
             0.2,
             "#de77ae"
            ],
            [
             0.3,
             "#f1b6da"
            ],
            [
             0.4,
             "#fde0ef"
            ],
            [
             0.5,
             "#f7f7f7"
            ],
            [
             0.6,
             "#e6f5d0"
            ],
            [
             0.7,
             "#b8e186"
            ],
            [
             0.8,
             "#7fbc41"
            ],
            [
             0.9,
             "#4d9221"
            ],
            [
             1,
             "#276419"
            ]
           ],
           "sequential": [
            [
             0,
             "#0d0887"
            ],
            [
             0.1111111111111111,
             "#46039f"
            ],
            [
             0.2222222222222222,
             "#7201a8"
            ],
            [
             0.3333333333333333,
             "#9c179e"
            ],
            [
             0.4444444444444444,
             "#bd3786"
            ],
            [
             0.5555555555555556,
             "#d8576b"
            ],
            [
             0.6666666666666666,
             "#ed7953"
            ],
            [
             0.7777777777777778,
             "#fb9f3a"
            ],
            [
             0.8888888888888888,
             "#fdca26"
            ],
            [
             1,
             "#f0f921"
            ]
           ],
           "sequentialminus": [
            [
             0,
             "#0d0887"
            ],
            [
             0.1111111111111111,
             "#46039f"
            ],
            [
             0.2222222222222222,
             "#7201a8"
            ],
            [
             0.3333333333333333,
             "#9c179e"
            ],
            [
             0.4444444444444444,
             "#bd3786"
            ],
            [
             0.5555555555555556,
             "#d8576b"
            ],
            [
             0.6666666666666666,
             "#ed7953"
            ],
            [
             0.7777777777777778,
             "#fb9f3a"
            ],
            [
             0.8888888888888888,
             "#fdca26"
            ],
            [
             1,
             "#f0f921"
            ]
           ]
          },
          "colorway": [
           "#636efa",
           "#EF553B",
           "#00cc96",
           "#ab63fa",
           "#FFA15A",
           "#19d3f3",
           "#FF6692",
           "#B6E880",
           "#FF97FF",
           "#FECB52"
          ],
          "font": {
           "color": "#2a3f5f"
          },
          "geo": {
           "bgcolor": "white",
           "lakecolor": "white",
           "landcolor": "#E5ECF6",
           "showlakes": true,
           "showland": true,
           "subunitcolor": "white"
          },
          "hoverlabel": {
           "align": "left"
          },
          "hovermode": "closest",
          "mapbox": {
           "style": "light"
          },
          "paper_bgcolor": "white",
          "plot_bgcolor": "#E5ECF6",
          "polar": {
           "angularaxis": {
            "gridcolor": "white",
            "linecolor": "white",
            "ticks": ""
           },
           "bgcolor": "#E5ECF6",
           "radialaxis": {
            "gridcolor": "white",
            "linecolor": "white",
            "ticks": ""
           }
          },
          "scene": {
           "xaxis": {
            "backgroundcolor": "#E5ECF6",
            "gridcolor": "white",
            "gridwidth": 2,
            "linecolor": "white",
            "showbackground": true,
            "ticks": "",
            "zerolinecolor": "white"
           },
           "yaxis": {
            "backgroundcolor": "#E5ECF6",
            "gridcolor": "white",
            "gridwidth": 2,
            "linecolor": "white",
            "showbackground": true,
            "ticks": "",
            "zerolinecolor": "white"
           },
           "zaxis": {
            "backgroundcolor": "#E5ECF6",
            "gridcolor": "white",
            "gridwidth": 2,
            "linecolor": "white",
            "showbackground": true,
            "ticks": "",
            "zerolinecolor": "white"
           }
          },
          "shapedefaults": {
           "line": {
            "color": "#2a3f5f"
           }
          },
          "ternary": {
           "aaxis": {
            "gridcolor": "white",
            "linecolor": "white",
            "ticks": ""
           },
           "baxis": {
            "gridcolor": "white",
            "linecolor": "white",
            "ticks": ""
           },
           "bgcolor": "#E5ECF6",
           "caxis": {
            "gridcolor": "white",
            "linecolor": "white",
            "ticks": ""
           }
          },
          "title": {
           "x": 0.05
          },
          "xaxis": {
           "automargin": true,
           "gridcolor": "white",
           "linecolor": "white",
           "ticks": "",
           "title": {
            "standoff": 15
           },
           "zerolinecolor": "white",
           "zerolinewidth": 2
          },
          "yaxis": {
           "automargin": true,
           "gridcolor": "white",
           "linecolor": "white",
           "ticks": "",
           "title": {
            "standoff": 15
           },
           "zerolinecolor": "white",
           "zerolinewidth": 2
          }
         }
        },
        "title": {
         "font": {
          "color": "#4D5663"
         }
        },
        "xaxis": {
         "autorange": true,
         "gridcolor": "#E1E5ED",
         "range": [
          0.34500000000000003,
          2.7600000000000002
         ],
         "showgrid": true,
         "tickfont": {
          "color": "#4D5663"
         },
         "title": {
          "font": {
           "color": "#4D5663"
          },
          "text": "Carrots Price"
         },
         "type": "linear",
         "zerolinecolor": "#E1E5ED"
        },
        "yaxis": {
         "autorange": true,
         "gridcolor": "#E1E5ED",
         "range": [
          -0.6976575358817458,
          13.25549318175317
         ],
         "showgrid": true,
         "tickfont": {
          "color": "#4D5663"
         },
         "title": {
          "font": {
           "color": "#4D5663"
          },
          "text": "Hectograms"
         },
         "type": "linear",
         "zerolinecolor": "#E1E5ED"
        }
       }
      },
      "image/png": "[encoded data removed]",
      "text/html": [
       "<div>                            <div id=\"fb259e84-e65a-4f1f-8029-79ad9847e950\" class=\"plotly-graph-div\" style=\"height:525px; width:100%;\"></div>            <script type=\"text/javascript\">                require([\"plotly\"], function(Plotly) {                    window.PLOTLYENV=window.PLOTLYENV || {};\n",
       "                    window.PLOTLYENV.BASE_URL='https://plot.ly';                                    if (document.getElementById(\"fb259e84-e65a-4f1f-8029-79ad9847e950\")) {                    Plotly.newPlot(                        \"fb259e84-e65a-4f1f-8029-79ad9847e950\",                        [{\"line\":{\"color\":\"rgba(255, 153, 51, 1.0)\",\"dash\":\"solid\",\"shape\":\"linear\",\"width\":1.3},\"mode\":\"lines\",\"name\":\"Skim Milk Powder \",\"text\":\"\",\"x\":[0.34500000000000003,0.5175000000000001,0.6210000000000001,0.6900000000000001,0.7590000000000001,0.8280000000000001,0.8970000000000001,0.966,1.0350000000000001,1.3800000000000001,2.7600000000000002],\"y\":[0.0,0.6086753917136947,0.5958476449575543,0.5721593678091405,0.5721593678091405,0.5721593678091405,0.5721593678091405,0.5721593678091405,0.5721593678091405,0.5721593678091405,0.5721593678091405],\"type\":\"scatter\"},{\"line\":{\"color\":\"rgba(55, 128, 191, 1.0)\",\"dash\":\"solid\",\"shape\":\"linear\",\"width\":1.3},\"mode\":\"lines\",\"name\":\"Corn Flakes\",\"text\":\"\",\"x\":[0.34500000000000003,0.5175000000000001,0.6210000000000001,0.6900000000000001,0.7590000000000001,0.8280000000000001,0.8970000000000001,0.966,1.0350000000000001,1.3800000000000001,2.7600000000000002],\"y\":[0.23971665470631265,0.19809955482297198,0.19169255531828377,0.21981898363126345,0.21981898363126345,0.21981898363126345,0.21981898363126345,0.21981898363126345,0.21981898363126345,0.21981898363126345,0.21981898363126345],\"type\":\"scatter\"},{\"line\":{\"color\":\"rgba(50, 171, 96, 1.0)\",\"dash\":\"solid\",\"shape\":\"linear\",\"width\":1.3},\"mode\":\"lines\",\"name\":\"Frozen Corn\",\"text\":\"\",\"x\":[0.34500000000000003,0.5175000000000001,0.6210000000000001,0.6900000000000001,0.7590000000000001,0.8280000000000001,0.8970000000000001,0.966,1.0350000000000001,1.3800000000000001,2.7600000000000002],\"y\":[0.0,0.0,0.0,0.8248955768039821,0.8248955768039821,0.8248955768039821,0.8248955768039821,0.8248955768039821,0.8248955768039821,0.8248955768039821,0.8248955768039821],\"type\":\"scatter\"},{\"line\":{\"color\":\"rgba(128, 0, 128, 1.0)\",\"dash\":\"solid\",\"shape\":\"linear\",\"width\":1.3},\"mode\":\"lines\",\"name\":\"Carrots\",\"text\":\"\",\"x\":[0.34500000000000003,0.5175000000000001,0.6210000000000001,0.6900000000000001,0.7590000000000001,0.8280000000000001,0.8970000000000001,0.966,1.0350000000000001,1.3800000000000001,2.7600000000000002],\"y\":[12.557835645871425,6.462883252888923,0.7993886386316887,0.0,0.0,0.0,0.0,0.0,0.0,0.0,0.0],\"type\":\"scatter\"},{\"line\":{\"color\":\"rgba(219, 64, 82, 1.0)\",\"dash\":\"solid\",\"shape\":\"linear\",\"width\":1.3},\"mode\":\"lines\",\"name\":\"Apples \",\"text\":\"\",\"x\":[0.34500000000000003,0.5175000000000001,0.6210000000000001,0.6900000000000001,0.7590000000000001,0.8280000000000001,0.8970000000000001,0.966,1.0350000000000001,1.3800000000000001,2.7600000000000002],\"y\":[0.0,0.0,1.0937691177134556,1.106477364701292,1.106477364701292,1.106477364701292,1.106477364701292,1.106477364701292,1.106477364701292,1.106477364701292,1.106477364701292],\"type\":\"scatter\"},{\"line\":{\"color\":\"rgba(0, 128, 128, 1.0)\",\"dash\":\"solid\",\"shape\":\"linear\",\"width\":1.3},\"mode\":\"lines\",\"name\":\"Potatoes\",\"text\":\"\",\"x\":[0.34500000000000003,0.5175000000000001,0.6210000000000001,0.6900000000000001,0.7590000000000001,0.8280000000000001,0.8970000000000001,0.966,1.0350000000000001,1.3800000000000001,2.7600000000000002],\"y\":[0.0,0.21644531357784458,0.0856670872974673,0.013365731441007634,0.013365731441007634,0.013365731441007634,0.013365731441007634,0.013365731441007634,0.013365731441007634,0.013365731441007634,0.013365731441007634],\"type\":\"scatter\"},{\"line\":{\"color\":\"rgba(255, 255, 51, 1.0)\",\"dash\":\"solid\",\"shape\":\"linear\",\"width\":1.3},\"mode\":\"lines\",\"name\":\"Frozen French Fries\",\"text\":\"\",\"x\":[0.34500000000000003,0.5175000000000001,0.6210000000000001,0.6900000000000001,0.7590000000000001,0.8280000000000001,0.8970000000000001,0.966,1.0350000000000001,1.3800000000000001,2.7600000000000002],\"y\":[0.9757801309715827,2.432048102430106,4.702402798514899,5.1674576281063835,5.1674576281063835,5.1674576281063835,5.1674576281063835,5.1674576281063835,5.1674576281063835,5.1674576281063835,5.1674576281063835],\"type\":\"scatter\"},{\"line\":{\"color\":\"rgba(128, 128, 0, 1.0)\",\"dash\":\"solid\",\"shape\":\"linear\",\"width\":1.3},\"mode\":\"lines\",\"name\":\"Chocolate Bars \",\"text\":\"\",\"x\":[0.34500000000000003,0.5175000000000001,0.6210000000000001,0.6900000000000001,0.7590000000000001,0.8280000000000001,0.8970000000000001,0.966,1.0350000000000001,1.3800000000000001,2.7600000000000002],\"y\":[0.5961242313232583,0.7618562206123813,0.8344938498753709,0.7421119016449675,0.7421119016449675,0.7421119016449675,0.7421119016449675,0.7421119016449675,0.7421119016449675,0.7421119016449675,0.7421119016449675],\"type\":\"scatter\"},{\"line\":{\"color\":\"rgba(251, 128, 114, 1.0)\",\"dash\":\"solid\",\"shape\":\"linear\",\"width\":1.3},\"mode\":\"lines\",\"name\":\"Milk 2%\",\"text\":\"\",\"x\":[0.34500000000000003,0.5175000000000001,0.6210000000000001,0.6900000000000001,0.7590000000000001,0.8280000000000001,0.8970000000000001,0.966,1.0350000000000001,1.3800000000000001,2.7600000000000002],\"y\":[6.474447066894411,0.0,0.0,0.0,0.0,0.0,0.0,0.0,0.0,0.0,0.0],\"type\":\"scatter\"}],                        {\"legend\":{\"bgcolor\":\"#F5F6F9\",\"font\":{\"color\":\"#4D5663\"}},\"paper_bgcolor\":\"#F5F6F9\",\"plot_bgcolor\":\"#F5F6F9\",\"template\":{\"data\":{\"barpolar\":[{\"marker\":{\"line\":{\"color\":\"#E5ECF6\",\"width\":0.5},\"pattern\":{\"fillmode\":\"overlay\",\"size\":10,\"solidity\":0.2}},\"type\":\"barpolar\"}],\"bar\":[{\"error_x\":{\"color\":\"#2a3f5f\"},\"error_y\":{\"color\":\"#2a3f5f\"},\"marker\":{\"line\":{\"color\":\"#E5ECF6\",\"width\":0.5},\"pattern\":{\"fillmode\":\"overlay\",\"size\":10,\"solidity\":0.2}},\"type\":\"bar\"}],\"carpet\":[{\"aaxis\":{\"endlinecolor\":\"#2a3f5f\",\"gridcolor\":\"white\",\"linecolor\":\"white\",\"minorgridcolor\":\"white\",\"startlinecolor\":\"#2a3f5f\"},\"baxis\":{\"endlinecolor\":\"#2a3f5f\",\"gridcolor\":\"white\",\"linecolor\":\"white\",\"minorgridcolor\":\"white\",\"startlinecolor\":\"#2a3f5f\"},\"type\":\"carpet\"}],\"choropleth\":[{\"colorbar\":{\"outlinewidth\":0,\"ticks\":\"\"},\"type\":\"choropleth\"}],\"contourcarpet\":[{\"colorbar\":{\"outlinewidth\":0,\"ticks\":\"\"},\"type\":\"contourcarpet\"}],\"contour\":[{\"colorbar\":{\"outlinewidth\":0,\"ticks\":\"\"},\"colorscale\":[[0.0,\"#0d0887\"],[0.1111111111111111,\"#46039f\"],[0.2222222222222222,\"#7201a8\"],[0.3333333333333333,\"#9c179e\"],[0.4444444444444444,\"#bd3786\"],[0.5555555555555556,\"#d8576b\"],[0.6666666666666666,\"#ed7953\"],[0.7777777777777778,\"#fb9f3a\"],[0.8888888888888888,\"#fdca26\"],[1.0,\"#f0f921\"]],\"type\":\"contour\"}],\"heatmapgl\":[{\"colorbar\":{\"outlinewidth\":0,\"ticks\":\"\"},\"colorscale\":[[0.0,\"#0d0887\"],[0.1111111111111111,\"#46039f\"],[0.2222222222222222,\"#7201a8\"],[0.3333333333333333,\"#9c179e\"],[0.4444444444444444,\"#bd3786\"],[0.5555555555555556,\"#d8576b\"],[0.6666666666666666,\"#ed7953\"],[0.7777777777777778,\"#fb9f3a\"],[0.8888888888888888,\"#fdca26\"],[1.0,\"#f0f921\"]],\"type\":\"heatmapgl\"}],\"heatmap\":[{\"colorbar\":{\"outlinewidth\":0,\"ticks\":\"\"},\"colorscale\":[[0.0,\"#0d0887\"],[0.1111111111111111,\"#46039f\"],[0.2222222222222222,\"#7201a8\"],[0.3333333333333333,\"#9c179e\"],[0.4444444444444444,\"#bd3786\"],[0.5555555555555556,\"#d8576b\"],[0.6666666666666666,\"#ed7953\"],[0.7777777777777778,\"#fb9f3a\"],[0.8888888888888888,\"#fdca26\"],[1.0,\"#f0f921\"]],\"type\":\"heatmap\"}],\"histogram2dcontour\":[{\"colorbar\":{\"outlinewidth\":0,\"ticks\":\"\"},\"colorscale\":[[0.0,\"#0d0887\"],[0.1111111111111111,\"#46039f\"],[0.2222222222222222,\"#7201a8\"],[0.3333333333333333,\"#9c179e\"],[0.4444444444444444,\"#bd3786\"],[0.5555555555555556,\"#d8576b\"],[0.6666666666666666,\"#ed7953\"],[0.7777777777777778,\"#fb9f3a\"],[0.8888888888888888,\"#fdca26\"],[1.0,\"#f0f921\"]],\"type\":\"histogram2dcontour\"}],\"histogram2d\":[{\"colorbar\":{\"outlinewidth\":0,\"ticks\":\"\"},\"colorscale\":[[0.0,\"#0d0887\"],[0.1111111111111111,\"#46039f\"],[0.2222222222222222,\"#7201a8\"],[0.3333333333333333,\"#9c179e\"],[0.4444444444444444,\"#bd3786\"],[0.5555555555555556,\"#d8576b\"],[0.6666666666666666,\"#ed7953\"],[0.7777777777777778,\"#fb9f3a\"],[0.8888888888888888,\"#fdca26\"],[1.0,\"#f0f921\"]],\"type\":\"histogram2d\"}],\"histogram\":[{\"marker\":{\"pattern\":{\"fillmode\":\"overlay\",\"size\":10,\"solidity\":0.2}},\"type\":\"histogram\"}],\"mesh3d\":[{\"colorbar\":{\"outlinewidth\":0,\"ticks\":\"\"},\"type\":\"mesh3d\"}],\"parcoords\":[{\"line\":{\"colorbar\":{\"outlinewidth\":0,\"ticks\":\"\"}},\"type\":\"parcoords\"}],\"pie\":[{\"automargin\":true,\"type\":\"pie\"}],\"scatter3d\":[{\"line\":{\"colorbar\":{\"outlinewidth\":0,\"ticks\":\"\"}},\"marker\":{\"colorbar\":{\"outlinewidth\":0,\"ticks\":\"\"}},\"type\":\"scatter3d\"}],\"scattercarpet\":[{\"marker\":{\"colorbar\":{\"outlinewidth\":0,\"ticks\":\"\"}},\"type\":\"scattercarpet\"}],\"scattergeo\":[{\"marker\":{\"colorbar\":{\"outlinewidth\":0,\"ticks\":\"\"}},\"type\":\"scattergeo\"}],\"scattergl\":[{\"marker\":{\"colorbar\":{\"outlinewidth\":0,\"ticks\":\"\"}},\"type\":\"scattergl\"}],\"scattermapbox\":[{\"marker\":{\"colorbar\":{\"outlinewidth\":0,\"ticks\":\"\"}},\"type\":\"scattermapbox\"}],\"scatterpolargl\":[{\"marker\":{\"colorbar\":{\"outlinewidth\":0,\"ticks\":\"\"}},\"type\":\"scatterpolargl\"}],\"scatterpolar\":[{\"marker\":{\"colorbar\":{\"outlinewidth\":0,\"ticks\":\"\"}},\"type\":\"scatterpolar\"}],\"scatter\":[{\"fillpattern\":{\"fillmode\":\"overlay\",\"size\":10,\"solidity\":0.2},\"type\":\"scatter\"}],\"scatterternary\":[{\"marker\":{\"colorbar\":{\"outlinewidth\":0,\"ticks\":\"\"}},\"type\":\"scatterternary\"}],\"surface\":[{\"colorbar\":{\"outlinewidth\":0,\"ticks\":\"\"},\"colorscale\":[[0.0,\"#0d0887\"],[0.1111111111111111,\"#46039f\"],[0.2222222222222222,\"#7201a8\"],[0.3333333333333333,\"#9c179e\"],[0.4444444444444444,\"#bd3786\"],[0.5555555555555556,\"#d8576b\"],[0.6666666666666666,\"#ed7953\"],[0.7777777777777778,\"#fb9f3a\"],[0.8888888888888888,\"#fdca26\"],[1.0,\"#f0f921\"]],\"type\":\"surface\"}],\"table\":[{\"cells\":{\"fill\":{\"color\":\"#EBF0F8\"},\"line\":{\"color\":\"white\"}},\"header\":{\"fill\":{\"color\":\"#C8D4E3\"},\"line\":{\"color\":\"white\"}},\"type\":\"table\"}]},\"layout\":{\"annotationdefaults\":{\"arrowcolor\":\"#2a3f5f\",\"arrowhead\":0,\"arrowwidth\":1},\"autotypenumbers\":\"strict\",\"coloraxis\":{\"colorbar\":{\"outlinewidth\":0,\"ticks\":\"\"}},\"colorscale\":{\"diverging\":[[0,\"#8e0152\"],[0.1,\"#c51b7d\"],[0.2,\"#de77ae\"],[0.3,\"#f1b6da\"],[0.4,\"#fde0ef\"],[0.5,\"#f7f7f7\"],[0.6,\"#e6f5d0\"],[0.7,\"#b8e186\"],[0.8,\"#7fbc41\"],[0.9,\"#4d9221\"],[1,\"#276419\"]],\"sequential\":[[0.0,\"#0d0887\"],[0.1111111111111111,\"#46039f\"],[0.2222222222222222,\"#7201a8\"],[0.3333333333333333,\"#9c179e\"],[0.4444444444444444,\"#bd3786\"],[0.5555555555555556,\"#d8576b\"],[0.6666666666666666,\"#ed7953\"],[0.7777777777777778,\"#fb9f3a\"],[0.8888888888888888,\"#fdca26\"],[1.0,\"#f0f921\"]],\"sequentialminus\":[[0.0,\"#0d0887\"],[0.1111111111111111,\"#46039f\"],[0.2222222222222222,\"#7201a8\"],[0.3333333333333333,\"#9c179e\"],[0.4444444444444444,\"#bd3786\"],[0.5555555555555556,\"#d8576b\"],[0.6666666666666666,\"#ed7953\"],[0.7777777777777778,\"#fb9f3a\"],[0.8888888888888888,\"#fdca26\"],[1.0,\"#f0f921\"]]},\"colorway\":[\"#636efa\",\"#EF553B\",\"#00cc96\",\"#ab63fa\",\"#FFA15A\",\"#19d3f3\",\"#FF6692\",\"#B6E880\",\"#FF97FF\",\"#FECB52\"],\"font\":{\"color\":\"#2a3f5f\"},\"geo\":{\"bgcolor\":\"white\",\"lakecolor\":\"white\",\"landcolor\":\"#E5ECF6\",\"showlakes\":true,\"showland\":true,\"subunitcolor\":\"white\"},\"hoverlabel\":{\"align\":\"left\"},\"hovermode\":\"closest\",\"mapbox\":{\"style\":\"light\"},\"paper_bgcolor\":\"white\",\"plot_bgcolor\":\"#E5ECF6\",\"polar\":{\"angularaxis\":{\"gridcolor\":\"white\",\"linecolor\":\"white\",\"ticks\":\"\"},\"bgcolor\":\"#E5ECF6\",\"radialaxis\":{\"gridcolor\":\"white\",\"linecolor\":\"white\",\"ticks\":\"\"}},\"scene\":{\"xaxis\":{\"backgroundcolor\":\"#E5ECF6\",\"gridcolor\":\"white\",\"gridwidth\":2,\"linecolor\":\"white\",\"showbackground\":true,\"ticks\":\"\",\"zerolinecolor\":\"white\"},\"yaxis\":{\"backgroundcolor\":\"#E5ECF6\",\"gridcolor\":\"white\",\"gridwidth\":2,\"linecolor\":\"white\",\"showbackground\":true,\"ticks\":\"\",\"zerolinecolor\":\"white\"},\"zaxis\":{\"backgroundcolor\":\"#E5ECF6\",\"gridcolor\":\"white\",\"gridwidth\":2,\"linecolor\":\"white\",\"showbackground\":true,\"ticks\":\"\",\"zerolinecolor\":\"white\"}},\"shapedefaults\":{\"line\":{\"color\":\"#2a3f5f\"}},\"ternary\":{\"aaxis\":{\"gridcolor\":\"white\",\"linecolor\":\"white\",\"ticks\":\"\"},\"baxis\":{\"gridcolor\":\"white\",\"linecolor\":\"white\",\"ticks\":\"\"},\"bgcolor\":\"#E5ECF6\",\"caxis\":{\"gridcolor\":\"white\",\"linecolor\":\"white\",\"ticks\":\"\"}},\"title\":{\"x\":0.05},\"xaxis\":{\"automargin\":true,\"gridcolor\":\"white\",\"linecolor\":\"white\",\"ticks\":\"\",\"title\":{\"standoff\":15},\"zerolinecolor\":\"white\",\"zerolinewidth\":2},\"yaxis\":{\"automargin\":true,\"gridcolor\":\"white\",\"linecolor\":\"white\",\"ticks\":\"\",\"title\":{\"standoff\":15},\"zerolinecolor\":\"white\",\"zerolinewidth\":2}}},\"title\":{\"font\":{\"color\":\"#4D5663\"}},\"xaxis\":{\"gridcolor\":\"#E1E5ED\",\"showgrid\":true,\"tickfont\":{\"color\":\"#4D5663\"},\"title\":{\"font\":{\"color\":\"#4D5663\"},\"text\":\"Carrots Price\"},\"zerolinecolor\":\"#E1E5ED\"},\"yaxis\":{\"gridcolor\":\"#E1E5ED\",\"showgrid\":true,\"tickfont\":{\"color\":\"#4D5663\"},\"title\":{\"font\":{\"color\":\"#4D5663\"},\"text\":\"Hectograms\"},\"zerolinecolor\":\"#E1E5ED\"}},                        {\"showLink\": true, \"linkText\": \"Export to plot.ly\", \"plotlyServerURL\": \"https://plot.ly\", \"responsive\": true}                    ).then(function(){\n",
       "                            \n",
       "var gd = document.getElementById('fb259e84-e65a-4f1f-8029-79ad9847e950');\n",
       "var x = new MutationObserver(function (mutations, observer) {{\n",
       "        var display = window.getComputedStyle(gd).display;\n",
       "        if (!display || display === 'none') {{\n",
       "            console.log([gd, 'removed!']);\n",
       "            Plotly.purge(gd);\n",
       "            observer.disconnect();\n",
       "        }}\n",
       "}});\n",
       "\n",
       "// Listen for the removal of the full notebook cells\n",
       "var notebookContainer = gd.closest('#notebook-container');\n",
       "if (notebookContainer) {{\n",
       "    x.observe(notebookContainer, {childList: true});\n",
       "}}\n",
       "\n",
       "// Listen for the clearing of the current output cell\n",
       "var outputEl = gd.closest('.output');\n",
       "if (outputEl) {{\n",
       "    x.observe(outputEl, {childList: true});\n",
       "}}\n",
       "\n",
       "                        })                };                });            </script>        </div>"
      ]
     },
     "metadata": {},
     "output_type": "display_data"
    }
   ],
   "source": [
    "import cufflinks as cf\n",
    "cf.go_offline()\n",
    "\n",
    "ReferenceGood = 'Carrots'\n",
    "\n",
    "scale = [0.5,0.75,0.9,1.,1.1,1.2,1.3,1.4,1.5,2,4]\n",
    "\n",
    "cost0 = solve_subsistence_problem(FoodNutrients,Prices,diet_min[group],diet_max[group],tol=tol).fun\n",
    "\n",
    "my_p = Prices.copy()\n",
    "\n",
    "diet = {}\n",
    "for s in scale:\n",
    "\n",
    "    my_p[ReferenceGood] = Prices[ReferenceGood]*s\n",
    "    result = solve_subsistence_problem(FoodNutrients,my_p,diet_min[group],diet_max[group],tol=tol)\n",
    "    diet[my_p[ReferenceGood]] = result.diet\n",
    "\n",
    "Diet_response = pd.DataFrame(diet).T\n",
    "Diet_response.index.name = '%s Price' % ReferenceGood\n",
    "\n",
    "Diet_response.reset_index(inplace=True)\n",
    "\n",
    "# Get rid of units for index (cufflinks chokes)\n",
    "Diet_response['%s Price' % ReferenceGood] = Diet_response['%s Price' % ReferenceGood].apply(lambda x: x.magnitude)\n",
    "\n",
    "Diet_response = Diet_response.set_index('%s Price' % ReferenceGood)\n",
    "\n",
    "# Just look at goods consumed in quantities greater than error tolerance\n",
    "Diet_response.loc[:,(Diet_response>tol).sum()>0].iplot(xTitle='%s Price' % ReferenceGood,yTitle='Hectograms')"
   ]
  },
  {
   "cell_type": "markdown",
   "metadata": {},
   "source": [
    "as you increase price of carrots, you consume less, and substitute with the other items, like frozen corn"
   ]
  },
  {
   "cell_type": "markdown",
   "metadata": {},
   "source": [
    "## Effects of Price Changes on Subsistence Diet Nutrition\n",
    "\n"
   ]
  },
  {
   "cell_type": "markdown",
   "metadata": {},
   "source": [
    "The code below creates a graph which uses the food price changes\n",
    "  described above, but maps into nutrients.\n",
    "\n"
   ]
  },
  {
   "cell_type": "code",
   "execution_count": 17,
   "metadata": {},
   "outputs": [
    {
     "data": {
      "application/vnd.plotly.v1+json": {
       "config": {
        "linkText": "Export to plot.ly",
        "plotlyServerURL": "https://plot.ly",
        "showLink": true
       },
       "data": [
        {
         "line": {
          "color": "rgba(255, 153, 51, 1.0)",
          "dash": "solid",
          "shape": "linear",
          "width": 1.3
         },
         "mode": "lines",
         "name": "Carbohydrate, by difference",
         "text": "",
         "type": "scatter",
         "x": [
          0.34500000000000003,
          0.5175000000000001,
          0.6210000000000001,
          0.6900000000000001,
          0.7590000000000001,
          0.8280000000000001,
          0.8970000000000001,
          0.966,
          1.0350000000000001,
          1.3800000000000001,
          2.7600000000000002
         ],
         "y": [
          238.3156931396534,
          237.72374757314628,
          332.7960763099197,
          341.9341026603799,
          341.9341026603799,
          341.9341026603799,
          341.9341026603799,
          341.9341026603799,
          341.9341026603799,
          341.9341026603799,
          341.9341026603799
         ]
        },
        {
         "line": {
          "color": "rgba(55, 128, 191, 1.0)",
          "dash": "solid",
          "shape": "linear",
          "width": 1.3
         },
         "mode": "lines",
         "name": "Energy",
         "text": "",
         "type": "scatter",
         "x": [
          0.34500000000000003,
          0.5175000000000001,
          0.6210000000000001,
          0.6900000000000001,
          0.7590000000000001,
          0.8280000000000001,
          0.8970000000000001,
          0.966,
          1.0350000000000001,
          1.3800000000000001,
          2.7600000000000002
         ],
         "y": [
          2093.3540488193194,
          2354.3190770555902,
          3100.0000000000005,
          3100,
          3100,
          3100,
          3100,
          3100,
          3100,
          3100,
          3100
         ]
        },
        {
         "line": {
          "color": "rgba(50, 171, 96, 1.0)",
          "dash": "solid",
          "shape": "linear",
          "width": 1.3
         },
         "mode": "lines",
         "name": "Protein",
         "text": "",
         "type": "scatter",
         "x": [
          0.34500000000000003,
          0.5175000000000001,
          0.6210000000000001,
          0.6900000000000001,
          0.7590000000000001,
          0.8280000000000001,
          0.8970000000000001,
          0.966,
          1.0350000000000001,
          1.3800000000000001,
          2.7600000000000002
         ],
         "y": [
          45.99999999999999,
          46,
          46,
          46,
          46,
          46,
          46,
          46,
          46,
          46,
          46
         ]
        },
        {
         "line": {
          "color": "rgba(128, 0, 128, 1.0)",
          "dash": "solid",
          "shape": "linear",
          "width": 1.3
         },
         "mode": "lines",
         "name": "Total lipid (fat)",
         "text": "",
         "type": "scatter",
         "x": [
          0.34500000000000003,
          0.5175000000000001,
          0.6210000000000001,
          0.6900000000000001,
          0.7590000000000001,
          0.8280000000000001,
          0.8970000000000001,
          0.966,
          1.0350000000000001,
          1.3800000000000001,
          2.7600000000000002
         ],
         "y": [
          32.35215454293994,
          38.61276690118135,
          69.24949271694439,
          78.12222647123585,
          78.12222647123585,
          78.12222647123585,
          78.12222647123585,
          78.12222647123585,
          78.12222647123585,
          78.12222647123585,
          78.12222647123585
         ]
        }
       ],
       "layout": {
        "autosize": true,
        "legend": {
         "bgcolor": "#F5F6F9",
         "font": {
          "color": "#4D5663"
         }
        },
        "paper_bgcolor": "#F5F6F9",
        "plot_bgcolor": "#F5F6F9",
        "template": {
         "data": {
          "bar": [
           {
            "error_x": {
             "color": "#2a3f5f"
            },
            "error_y": {
             "color": "#2a3f5f"
            },
            "marker": {
             "line": {
              "color": "#E5ECF6",
              "width": 0.5
             },
             "pattern": {
              "fillmode": "overlay",
              "size": 10,
              "solidity": 0.2
             }
            },
            "type": "bar"
           }
          ],
          "barpolar": [
           {
            "marker": {
             "line": {
              "color": "#E5ECF6",
              "width": 0.5
             },
             "pattern": {
              "fillmode": "overlay",
              "size": 10,
              "solidity": 0.2
             }
            },
            "type": "barpolar"
           }
          ],
          "carpet": [
           {
            "aaxis": {
             "endlinecolor": "#2a3f5f",
             "gridcolor": "white",
             "linecolor": "white",
             "minorgridcolor": "white",
             "startlinecolor": "#2a3f5f"
            },
            "baxis": {
             "endlinecolor": "#2a3f5f",
             "gridcolor": "white",
             "linecolor": "white",
             "minorgridcolor": "white",
             "startlinecolor": "#2a3f5f"
            },
            "type": "carpet"
           }
          ],
          "choropleth": [
           {
            "colorbar": {
             "outlinewidth": 0,
             "ticks": ""
            },
            "type": "choropleth"
           }
          ],
          "contour": [
           {
            "colorbar": {
             "outlinewidth": 0,
             "ticks": ""
            },
            "colorscale": [
             [
              0,
              "#0d0887"
             ],
             [
              0.1111111111111111,
              "#46039f"
             ],
             [
              0.2222222222222222,
              "#7201a8"
             ],
             [
              0.3333333333333333,
              "#9c179e"
             ],
             [
              0.4444444444444444,
              "#bd3786"
             ],
             [
              0.5555555555555556,
              "#d8576b"
             ],
             [
              0.6666666666666666,
              "#ed7953"
             ],
             [
              0.7777777777777778,
              "#fb9f3a"
             ],
             [
              0.8888888888888888,
              "#fdca26"
             ],
             [
              1,
              "#f0f921"
             ]
            ],
            "type": "contour"
           }
          ],
          "contourcarpet": [
           {
            "colorbar": {
             "outlinewidth": 0,
             "ticks": ""
            },
            "type": "contourcarpet"
           }
          ],
          "heatmap": [
           {
            "colorbar": {
             "outlinewidth": 0,
             "ticks": ""
            },
            "colorscale": [
             [
              0,
              "#0d0887"
             ],
             [
              0.1111111111111111,
              "#46039f"
             ],
             [
              0.2222222222222222,
              "#7201a8"
             ],
             [
              0.3333333333333333,
              "#9c179e"
             ],
             [
              0.4444444444444444,
              "#bd3786"
             ],
             [
              0.5555555555555556,
              "#d8576b"
             ],
             [
              0.6666666666666666,
              "#ed7953"
             ],
             [
              0.7777777777777778,
              "#fb9f3a"
             ],
             [
              0.8888888888888888,
              "#fdca26"
             ],
             [
              1,
              "#f0f921"
             ]
            ],
            "type": "heatmap"
           }
          ],
          "heatmapgl": [
           {
            "colorbar": {
             "outlinewidth": 0,
             "ticks": ""
            },
            "colorscale": [
             [
              0,
              "#0d0887"
             ],
             [
              0.1111111111111111,
              "#46039f"
             ],
             [
              0.2222222222222222,
              "#7201a8"
             ],
             [
              0.3333333333333333,
              "#9c179e"
             ],
             [
              0.4444444444444444,
              "#bd3786"
             ],
             [
              0.5555555555555556,
              "#d8576b"
             ],
             [
              0.6666666666666666,
              "#ed7953"
             ],
             [
              0.7777777777777778,
              "#fb9f3a"
             ],
             [
              0.8888888888888888,
              "#fdca26"
             ],
             [
              1,
              "#f0f921"
             ]
            ],
            "type": "heatmapgl"
           }
          ],
          "histogram": [
           {
            "marker": {
             "pattern": {
              "fillmode": "overlay",
              "size": 10,
              "solidity": 0.2
             }
            },
            "type": "histogram"
           }
          ],
          "histogram2d": [
           {
            "colorbar": {
             "outlinewidth": 0,
             "ticks": ""
            },
            "colorscale": [
             [
              0,
              "#0d0887"
             ],
             [
              0.1111111111111111,
              "#46039f"
             ],
             [
              0.2222222222222222,
              "#7201a8"
             ],
             [
              0.3333333333333333,
              "#9c179e"
             ],
             [
              0.4444444444444444,
              "#bd3786"
             ],
             [
              0.5555555555555556,
              "#d8576b"
             ],
             [
              0.6666666666666666,
              "#ed7953"
             ],
             [
              0.7777777777777778,
              "#fb9f3a"
             ],
             [
              0.8888888888888888,
              "#fdca26"
             ],
             [
              1,
              "#f0f921"
             ]
            ],
            "type": "histogram2d"
           }
          ],
          "histogram2dcontour": [
           {
            "colorbar": {
             "outlinewidth": 0,
             "ticks": ""
            },
            "colorscale": [
             [
              0,
              "#0d0887"
             ],
             [
              0.1111111111111111,
              "#46039f"
             ],
             [
              0.2222222222222222,
              "#7201a8"
             ],
             [
              0.3333333333333333,
              "#9c179e"
             ],
             [
              0.4444444444444444,
              "#bd3786"
             ],
             [
              0.5555555555555556,
              "#d8576b"
             ],
             [
              0.6666666666666666,
              "#ed7953"
             ],
             [
              0.7777777777777778,
              "#fb9f3a"
             ],
             [
              0.8888888888888888,
              "#fdca26"
             ],
             [
              1,
              "#f0f921"
             ]
            ],
            "type": "histogram2dcontour"
           }
          ],
          "mesh3d": [
           {
            "colorbar": {
             "outlinewidth": 0,
             "ticks": ""
            },
            "type": "mesh3d"
           }
          ],
          "parcoords": [
           {
            "line": {
             "colorbar": {
              "outlinewidth": 0,
              "ticks": ""
             }
            },
            "type": "parcoords"
           }
          ],
          "pie": [
           {
            "automargin": true,
            "type": "pie"
           }
          ],
          "scatter": [
           {
            "fillpattern": {
             "fillmode": "overlay",
             "size": 10,
             "solidity": 0.2
            },
            "type": "scatter"
           }
          ],
          "scatter3d": [
           {
            "line": {
             "colorbar": {
              "outlinewidth": 0,
              "ticks": ""
             }
            },
            "marker": {
             "colorbar": {
              "outlinewidth": 0,
              "ticks": ""
             }
            },
            "type": "scatter3d"
           }
          ],
          "scattercarpet": [
           {
            "marker": {
             "colorbar": {
              "outlinewidth": 0,
              "ticks": ""
             }
            },
            "type": "scattercarpet"
           }
          ],
          "scattergeo": [
           {
            "marker": {
             "colorbar": {
              "outlinewidth": 0,
              "ticks": ""
             }
            },
            "type": "scattergeo"
           }
          ],
          "scattergl": [
           {
            "marker": {
             "colorbar": {
              "outlinewidth": 0,
              "ticks": ""
             }
            },
            "type": "scattergl"
           }
          ],
          "scattermapbox": [
           {
            "marker": {
             "colorbar": {
              "outlinewidth": 0,
              "ticks": ""
             }
            },
            "type": "scattermapbox"
           }
          ],
          "scatterpolar": [
           {
            "marker": {
             "colorbar": {
              "outlinewidth": 0,
              "ticks": ""
             }
            },
            "type": "scatterpolar"
           }
          ],
          "scatterpolargl": [
           {
            "marker": {
             "colorbar": {
              "outlinewidth": 0,
              "ticks": ""
             }
            },
            "type": "scatterpolargl"
           }
          ],
          "scatterternary": [
           {
            "marker": {
             "colorbar": {
              "outlinewidth": 0,
              "ticks": ""
             }
            },
            "type": "scatterternary"
           }
          ],
          "surface": [
           {
            "colorbar": {
             "outlinewidth": 0,
             "ticks": ""
            },
            "colorscale": [
             [
              0,
              "#0d0887"
             ],
             [
              0.1111111111111111,
              "#46039f"
             ],
             [
              0.2222222222222222,
              "#7201a8"
             ],
             [
              0.3333333333333333,
              "#9c179e"
             ],
             [
              0.4444444444444444,
              "#bd3786"
             ],
             [
              0.5555555555555556,
              "#d8576b"
             ],
             [
              0.6666666666666666,
              "#ed7953"
             ],
             [
              0.7777777777777778,
              "#fb9f3a"
             ],
             [
              0.8888888888888888,
              "#fdca26"
             ],
             [
              1,
              "#f0f921"
             ]
            ],
            "type": "surface"
           }
          ],
          "table": [
           {
            "cells": {
             "fill": {
              "color": "#EBF0F8"
             },
             "line": {
              "color": "white"
             }
            },
            "header": {
             "fill": {
              "color": "#C8D4E3"
             },
             "line": {
              "color": "white"
             }
            },
            "type": "table"
           }
          ]
         },
         "layout": {
          "annotationdefaults": {
           "arrowcolor": "#2a3f5f",
           "arrowhead": 0,
           "arrowwidth": 1
          },
          "autotypenumbers": "strict",
          "coloraxis": {
           "colorbar": {
            "outlinewidth": 0,
            "ticks": ""
           }
          },
          "colorscale": {
           "diverging": [
            [
             0,
             "#8e0152"
            ],
            [
             0.1,
             "#c51b7d"
            ],
            [
             0.2,
             "#de77ae"
            ],
            [
             0.3,
             "#f1b6da"
            ],
            [
             0.4,
             "#fde0ef"
            ],
            [
             0.5,
             "#f7f7f7"
            ],
            [
             0.6,
             "#e6f5d0"
            ],
            [
             0.7,
             "#b8e186"
            ],
            [
             0.8,
             "#7fbc41"
            ],
            [
             0.9,
             "#4d9221"
            ],
            [
             1,
             "#276419"
            ]
           ],
           "sequential": [
            [
             0,
             "#0d0887"
            ],
            [
             0.1111111111111111,
             "#46039f"
            ],
            [
             0.2222222222222222,
             "#7201a8"
            ],
            [
             0.3333333333333333,
             "#9c179e"
            ],
            [
             0.4444444444444444,
             "#bd3786"
            ],
            [
             0.5555555555555556,
             "#d8576b"
            ],
            [
             0.6666666666666666,
             "#ed7953"
            ],
            [
             0.7777777777777778,
             "#fb9f3a"
            ],
            [
             0.8888888888888888,
             "#fdca26"
            ],
            [
             1,
             "#f0f921"
            ]
           ],
           "sequentialminus": [
            [
             0,
             "#0d0887"
            ],
            [
             0.1111111111111111,
             "#46039f"
            ],
            [
             0.2222222222222222,
             "#7201a8"
            ],
            [
             0.3333333333333333,
             "#9c179e"
            ],
            [
             0.4444444444444444,
             "#bd3786"
            ],
            [
             0.5555555555555556,
             "#d8576b"
            ],
            [
             0.6666666666666666,
             "#ed7953"
            ],
            [
             0.7777777777777778,
             "#fb9f3a"
            ],
            [
             0.8888888888888888,
             "#fdca26"
            ],
            [
             1,
             "#f0f921"
            ]
           ]
          },
          "colorway": [
           "#636efa",
           "#EF553B",
           "#00cc96",
           "#ab63fa",
           "#FFA15A",
           "#19d3f3",
           "#FF6692",
           "#B6E880",
           "#FF97FF",
           "#FECB52"
          ],
          "font": {
           "color": "#2a3f5f"
          },
          "geo": {
           "bgcolor": "white",
           "lakecolor": "white",
           "landcolor": "#E5ECF6",
           "showlakes": true,
           "showland": true,
           "subunitcolor": "white"
          },
          "hoverlabel": {
           "align": "left"
          },
          "hovermode": "closest",
          "mapbox": {
           "style": "light"
          },
          "paper_bgcolor": "white",
          "plot_bgcolor": "#E5ECF6",
          "polar": {
           "angularaxis": {
            "gridcolor": "white",
            "linecolor": "white",
            "ticks": ""
           },
           "bgcolor": "#E5ECF6",
           "radialaxis": {
            "gridcolor": "white",
            "linecolor": "white",
            "ticks": ""
           }
          },
          "scene": {
           "xaxis": {
            "backgroundcolor": "#E5ECF6",
            "gridcolor": "white",
            "gridwidth": 2,
            "linecolor": "white",
            "showbackground": true,
            "ticks": "",
            "zerolinecolor": "white"
           },
           "yaxis": {
            "backgroundcolor": "#E5ECF6",
            "gridcolor": "white",
            "gridwidth": 2,
            "linecolor": "white",
            "showbackground": true,
            "ticks": "",
            "zerolinecolor": "white"
           },
           "zaxis": {
            "backgroundcolor": "#E5ECF6",
            "gridcolor": "white",
            "gridwidth": 2,
            "linecolor": "white",
            "showbackground": true,
            "ticks": "",
            "zerolinecolor": "white"
           }
          },
          "shapedefaults": {
           "line": {
            "color": "#2a3f5f"
           }
          },
          "ternary": {
           "aaxis": {
            "gridcolor": "white",
            "linecolor": "white",
            "ticks": ""
           },
           "baxis": {
            "gridcolor": "white",
            "linecolor": "white",
            "ticks": ""
           },
           "bgcolor": "#E5ECF6",
           "caxis": {
            "gridcolor": "white",
            "linecolor": "white",
            "ticks": ""
           }
          },
          "title": {
           "x": 0.05
          },
          "xaxis": {
           "automargin": true,
           "gridcolor": "white",
           "linecolor": "white",
           "ticks": "",
           "title": {
            "standoff": 15
           },
           "zerolinecolor": "white",
           "zerolinewidth": 2
          },
          "yaxis": {
           "automargin": true,
           "gridcolor": "white",
           "linecolor": "white",
           "ticks": "",
           "title": {
            "standoff": 15
           },
           "zerolinecolor": "white",
           "zerolinewidth": 2
          }
         }
        },
        "title": {
         "font": {
          "color": "#4D5663"
         }
        },
        "xaxis": {
         "autorange": true,
         "gridcolor": "#E1E5ED",
         "range": [
          0.34500000000000003,
          2.7600000000000002
         ],
         "showgrid": true,
         "tickfont": {
          "color": "#4D5663"
         },
         "title": {
          "font": {
           "color": "#4D5663"
          },
          "text": "Carrots Price"
         },
         "type": "linear",
         "zerolinecolor": "#E1E5ED"
        },
        "yaxis": {
         "autorange": true,
         "gridcolor": "#E1E5ED",
         "range": [
          -138.07272576023007,
          3270.4248803031705
         ],
         "showgrid": true,
         "tickfont": {
          "color": "#4D5663"
         },
         "title": {
          "font": {
           "color": "#4D5663"
          },
          "text": "Nutrients"
         },
         "type": "linear",
         "zerolinecolor": "#E1E5ED"
        }
       }
      },
      "image/png": "[encoded data removed]",
      "text/html": [
       "<div>                            <div id=\"f734465f-cbf4-49d2-ad5f-2e57c1063188\" class=\"plotly-graph-div\" style=\"height:525px; width:100%;\"></div>            <script type=\"text/javascript\">                require([\"plotly\"], function(Plotly) {                    window.PLOTLYENV=window.PLOTLYENV || {};\n",
       "                    window.PLOTLYENV.BASE_URL='https://plot.ly';                                    if (document.getElementById(\"f734465f-cbf4-49d2-ad5f-2e57c1063188\")) {                    Plotly.newPlot(                        \"f734465f-cbf4-49d2-ad5f-2e57c1063188\",                        [{\"line\":{\"color\":\"rgba(255, 153, 51, 1.0)\",\"dash\":\"solid\",\"shape\":\"linear\",\"width\":1.3},\"mode\":\"lines\",\"name\":\"Carbohydrate, by difference\",\"text\":\"\",\"x\":[0.34500000000000003,0.5175000000000001,0.6210000000000001,0.6900000000000001,0.7590000000000001,0.8280000000000001,0.8970000000000001,0.966,1.0350000000000001,1.3800000000000001,2.7600000000000002],\"y\":[238.3156931396534,237.72374757314628,332.7960763099197,341.9341026603799,341.9341026603799,341.9341026603799,341.9341026603799,341.9341026603799,341.9341026603799,341.9341026603799,341.9341026603799],\"type\":\"scatter\"},{\"line\":{\"color\":\"rgba(55, 128, 191, 1.0)\",\"dash\":\"solid\",\"shape\":\"linear\",\"width\":1.3},\"mode\":\"lines\",\"name\":\"Energy\",\"text\":\"\",\"x\":[0.34500000000000003,0.5175000000000001,0.6210000000000001,0.6900000000000001,0.7590000000000001,0.8280000000000001,0.8970000000000001,0.966,1.0350000000000001,1.3800000000000001,2.7600000000000002],\"y\":[2093.3540488193194,2354.3190770555902,3100.0000000000005,3100.0,3100.0,3100.0,3100.0,3100.0,3100.0,3100.0,3100.0],\"type\":\"scatter\"},{\"line\":{\"color\":\"rgba(50, 171, 96, 1.0)\",\"dash\":\"solid\",\"shape\":\"linear\",\"width\":1.3},\"mode\":\"lines\",\"name\":\"Protein\",\"text\":\"\",\"x\":[0.34500000000000003,0.5175000000000001,0.6210000000000001,0.6900000000000001,0.7590000000000001,0.8280000000000001,0.8970000000000001,0.966,1.0350000000000001,1.3800000000000001,2.7600000000000002],\"y\":[45.99999999999999,46.0,46.0,46.0,46.0,46.0,46.0,46.0,46.0,46.0,46.0],\"type\":\"scatter\"},{\"line\":{\"color\":\"rgba(128, 0, 128, 1.0)\",\"dash\":\"solid\",\"shape\":\"linear\",\"width\":1.3},\"mode\":\"lines\",\"name\":\"Total lipid (fat)\",\"text\":\"\",\"x\":[0.34500000000000003,0.5175000000000001,0.6210000000000001,0.6900000000000001,0.7590000000000001,0.8280000000000001,0.8970000000000001,0.966,1.0350000000000001,1.3800000000000001,2.7600000000000002],\"y\":[32.35215454293994,38.61276690118135,69.24949271694439,78.12222647123585,78.12222647123585,78.12222647123585,78.12222647123585,78.12222647123585,78.12222647123585,78.12222647123585,78.12222647123585],\"type\":\"scatter\"}],                        {\"legend\":{\"bgcolor\":\"#F5F6F9\",\"font\":{\"color\":\"#4D5663\"}},\"paper_bgcolor\":\"#F5F6F9\",\"plot_bgcolor\":\"#F5F6F9\",\"template\":{\"data\":{\"barpolar\":[{\"marker\":{\"line\":{\"color\":\"#E5ECF6\",\"width\":0.5},\"pattern\":{\"fillmode\":\"overlay\",\"size\":10,\"solidity\":0.2}},\"type\":\"barpolar\"}],\"bar\":[{\"error_x\":{\"color\":\"#2a3f5f\"},\"error_y\":{\"color\":\"#2a3f5f\"},\"marker\":{\"line\":{\"color\":\"#E5ECF6\",\"width\":0.5},\"pattern\":{\"fillmode\":\"overlay\",\"size\":10,\"solidity\":0.2}},\"type\":\"bar\"}],\"carpet\":[{\"aaxis\":{\"endlinecolor\":\"#2a3f5f\",\"gridcolor\":\"white\",\"linecolor\":\"white\",\"minorgridcolor\":\"white\",\"startlinecolor\":\"#2a3f5f\"},\"baxis\":{\"endlinecolor\":\"#2a3f5f\",\"gridcolor\":\"white\",\"linecolor\":\"white\",\"minorgridcolor\":\"white\",\"startlinecolor\":\"#2a3f5f\"},\"type\":\"carpet\"}],\"choropleth\":[{\"colorbar\":{\"outlinewidth\":0,\"ticks\":\"\"},\"type\":\"choropleth\"}],\"contourcarpet\":[{\"colorbar\":{\"outlinewidth\":0,\"ticks\":\"\"},\"type\":\"contourcarpet\"}],\"contour\":[{\"colorbar\":{\"outlinewidth\":0,\"ticks\":\"\"},\"colorscale\":[[0.0,\"#0d0887\"],[0.1111111111111111,\"#46039f\"],[0.2222222222222222,\"#7201a8\"],[0.3333333333333333,\"#9c179e\"],[0.4444444444444444,\"#bd3786\"],[0.5555555555555556,\"#d8576b\"],[0.6666666666666666,\"#ed7953\"],[0.7777777777777778,\"#fb9f3a\"],[0.8888888888888888,\"#fdca26\"],[1.0,\"#f0f921\"]],\"type\":\"contour\"}],\"heatmapgl\":[{\"colorbar\":{\"outlinewidth\":0,\"ticks\":\"\"},\"colorscale\":[[0.0,\"#0d0887\"],[0.1111111111111111,\"#46039f\"],[0.2222222222222222,\"#7201a8\"],[0.3333333333333333,\"#9c179e\"],[0.4444444444444444,\"#bd3786\"],[0.5555555555555556,\"#d8576b\"],[0.6666666666666666,\"#ed7953\"],[0.7777777777777778,\"#fb9f3a\"],[0.8888888888888888,\"#fdca26\"],[1.0,\"#f0f921\"]],\"type\":\"heatmapgl\"}],\"heatmap\":[{\"colorbar\":{\"outlinewidth\":0,\"ticks\":\"\"},\"colorscale\":[[0.0,\"#0d0887\"],[0.1111111111111111,\"#46039f\"],[0.2222222222222222,\"#7201a8\"],[0.3333333333333333,\"#9c179e\"],[0.4444444444444444,\"#bd3786\"],[0.5555555555555556,\"#d8576b\"],[0.6666666666666666,\"#ed7953\"],[0.7777777777777778,\"#fb9f3a\"],[0.8888888888888888,\"#fdca26\"],[1.0,\"#f0f921\"]],\"type\":\"heatmap\"}],\"histogram2dcontour\":[{\"colorbar\":{\"outlinewidth\":0,\"ticks\":\"\"},\"colorscale\":[[0.0,\"#0d0887\"],[0.1111111111111111,\"#46039f\"],[0.2222222222222222,\"#7201a8\"],[0.3333333333333333,\"#9c179e\"],[0.4444444444444444,\"#bd3786\"],[0.5555555555555556,\"#d8576b\"],[0.6666666666666666,\"#ed7953\"],[0.7777777777777778,\"#fb9f3a\"],[0.8888888888888888,\"#fdca26\"],[1.0,\"#f0f921\"]],\"type\":\"histogram2dcontour\"}],\"histogram2d\":[{\"colorbar\":{\"outlinewidth\":0,\"ticks\":\"\"},\"colorscale\":[[0.0,\"#0d0887\"],[0.1111111111111111,\"#46039f\"],[0.2222222222222222,\"#7201a8\"],[0.3333333333333333,\"#9c179e\"],[0.4444444444444444,\"#bd3786\"],[0.5555555555555556,\"#d8576b\"],[0.6666666666666666,\"#ed7953\"],[0.7777777777777778,\"#fb9f3a\"],[0.8888888888888888,\"#fdca26\"],[1.0,\"#f0f921\"]],\"type\":\"histogram2d\"}],\"histogram\":[{\"marker\":{\"pattern\":{\"fillmode\":\"overlay\",\"size\":10,\"solidity\":0.2}},\"type\":\"histogram\"}],\"mesh3d\":[{\"colorbar\":{\"outlinewidth\":0,\"ticks\":\"\"},\"type\":\"mesh3d\"}],\"parcoords\":[{\"line\":{\"colorbar\":{\"outlinewidth\":0,\"ticks\":\"\"}},\"type\":\"parcoords\"}],\"pie\":[{\"automargin\":true,\"type\":\"pie\"}],\"scatter3d\":[{\"line\":{\"colorbar\":{\"outlinewidth\":0,\"ticks\":\"\"}},\"marker\":{\"colorbar\":{\"outlinewidth\":0,\"ticks\":\"\"}},\"type\":\"scatter3d\"}],\"scattercarpet\":[{\"marker\":{\"colorbar\":{\"outlinewidth\":0,\"ticks\":\"\"}},\"type\":\"scattercarpet\"}],\"scattergeo\":[{\"marker\":{\"colorbar\":{\"outlinewidth\":0,\"ticks\":\"\"}},\"type\":\"scattergeo\"}],\"scattergl\":[{\"marker\":{\"colorbar\":{\"outlinewidth\":0,\"ticks\":\"\"}},\"type\":\"scattergl\"}],\"scattermapbox\":[{\"marker\":{\"colorbar\":{\"outlinewidth\":0,\"ticks\":\"\"}},\"type\":\"scattermapbox\"}],\"scatterpolargl\":[{\"marker\":{\"colorbar\":{\"outlinewidth\":0,\"ticks\":\"\"}},\"type\":\"scatterpolargl\"}],\"scatterpolar\":[{\"marker\":{\"colorbar\":{\"outlinewidth\":0,\"ticks\":\"\"}},\"type\":\"scatterpolar\"}],\"scatter\":[{\"fillpattern\":{\"fillmode\":\"overlay\",\"size\":10,\"solidity\":0.2},\"type\":\"scatter\"}],\"scatterternary\":[{\"marker\":{\"colorbar\":{\"outlinewidth\":0,\"ticks\":\"\"}},\"type\":\"scatterternary\"}],\"surface\":[{\"colorbar\":{\"outlinewidth\":0,\"ticks\":\"\"},\"colorscale\":[[0.0,\"#0d0887\"],[0.1111111111111111,\"#46039f\"],[0.2222222222222222,\"#7201a8\"],[0.3333333333333333,\"#9c179e\"],[0.4444444444444444,\"#bd3786\"],[0.5555555555555556,\"#d8576b\"],[0.6666666666666666,\"#ed7953\"],[0.7777777777777778,\"#fb9f3a\"],[0.8888888888888888,\"#fdca26\"],[1.0,\"#f0f921\"]],\"type\":\"surface\"}],\"table\":[{\"cells\":{\"fill\":{\"color\":\"#EBF0F8\"},\"line\":{\"color\":\"white\"}},\"header\":{\"fill\":{\"color\":\"#C8D4E3\"},\"line\":{\"color\":\"white\"}},\"type\":\"table\"}]},\"layout\":{\"annotationdefaults\":{\"arrowcolor\":\"#2a3f5f\",\"arrowhead\":0,\"arrowwidth\":1},\"autotypenumbers\":\"strict\",\"coloraxis\":{\"colorbar\":{\"outlinewidth\":0,\"ticks\":\"\"}},\"colorscale\":{\"diverging\":[[0,\"#8e0152\"],[0.1,\"#c51b7d\"],[0.2,\"#de77ae\"],[0.3,\"#f1b6da\"],[0.4,\"#fde0ef\"],[0.5,\"#f7f7f7\"],[0.6,\"#e6f5d0\"],[0.7,\"#b8e186\"],[0.8,\"#7fbc41\"],[0.9,\"#4d9221\"],[1,\"#276419\"]],\"sequential\":[[0.0,\"#0d0887\"],[0.1111111111111111,\"#46039f\"],[0.2222222222222222,\"#7201a8\"],[0.3333333333333333,\"#9c179e\"],[0.4444444444444444,\"#bd3786\"],[0.5555555555555556,\"#d8576b\"],[0.6666666666666666,\"#ed7953\"],[0.7777777777777778,\"#fb9f3a\"],[0.8888888888888888,\"#fdca26\"],[1.0,\"#f0f921\"]],\"sequentialminus\":[[0.0,\"#0d0887\"],[0.1111111111111111,\"#46039f\"],[0.2222222222222222,\"#7201a8\"],[0.3333333333333333,\"#9c179e\"],[0.4444444444444444,\"#bd3786\"],[0.5555555555555556,\"#d8576b\"],[0.6666666666666666,\"#ed7953\"],[0.7777777777777778,\"#fb9f3a\"],[0.8888888888888888,\"#fdca26\"],[1.0,\"#f0f921\"]]},\"colorway\":[\"#636efa\",\"#EF553B\",\"#00cc96\",\"#ab63fa\",\"#FFA15A\",\"#19d3f3\",\"#FF6692\",\"#B6E880\",\"#FF97FF\",\"#FECB52\"],\"font\":{\"color\":\"#2a3f5f\"},\"geo\":{\"bgcolor\":\"white\",\"lakecolor\":\"white\",\"landcolor\":\"#E5ECF6\",\"showlakes\":true,\"showland\":true,\"subunitcolor\":\"white\"},\"hoverlabel\":{\"align\":\"left\"},\"hovermode\":\"closest\",\"mapbox\":{\"style\":\"light\"},\"paper_bgcolor\":\"white\",\"plot_bgcolor\":\"#E5ECF6\",\"polar\":{\"angularaxis\":{\"gridcolor\":\"white\",\"linecolor\":\"white\",\"ticks\":\"\"},\"bgcolor\":\"#E5ECF6\",\"radialaxis\":{\"gridcolor\":\"white\",\"linecolor\":\"white\",\"ticks\":\"\"}},\"scene\":{\"xaxis\":{\"backgroundcolor\":\"#E5ECF6\",\"gridcolor\":\"white\",\"gridwidth\":2,\"linecolor\":\"white\",\"showbackground\":true,\"ticks\":\"\",\"zerolinecolor\":\"white\"},\"yaxis\":{\"backgroundcolor\":\"#E5ECF6\",\"gridcolor\":\"white\",\"gridwidth\":2,\"linecolor\":\"white\",\"showbackground\":true,\"ticks\":\"\",\"zerolinecolor\":\"white\"},\"zaxis\":{\"backgroundcolor\":\"#E5ECF6\",\"gridcolor\":\"white\",\"gridwidth\":2,\"linecolor\":\"white\",\"showbackground\":true,\"ticks\":\"\",\"zerolinecolor\":\"white\"}},\"shapedefaults\":{\"line\":{\"color\":\"#2a3f5f\"}},\"ternary\":{\"aaxis\":{\"gridcolor\":\"white\",\"linecolor\":\"white\",\"ticks\":\"\"},\"baxis\":{\"gridcolor\":\"white\",\"linecolor\":\"white\",\"ticks\":\"\"},\"bgcolor\":\"#E5ECF6\",\"caxis\":{\"gridcolor\":\"white\",\"linecolor\":\"white\",\"ticks\":\"\"}},\"title\":{\"x\":0.05},\"xaxis\":{\"automargin\":true,\"gridcolor\":\"white\",\"linecolor\":\"white\",\"ticks\":\"\",\"title\":{\"standoff\":15},\"zerolinecolor\":\"white\",\"zerolinewidth\":2},\"yaxis\":{\"automargin\":true,\"gridcolor\":\"white\",\"linecolor\":\"white\",\"ticks\":\"\",\"title\":{\"standoff\":15},\"zerolinecolor\":\"white\",\"zerolinewidth\":2}}},\"title\":{\"font\":{\"color\":\"#4D5663\"}},\"xaxis\":{\"gridcolor\":\"#E1E5ED\",\"showgrid\":true,\"tickfont\":{\"color\":\"#4D5663\"},\"title\":{\"font\":{\"color\":\"#4D5663\"},\"text\":\"Carrots Price\"},\"zerolinecolor\":\"#E1E5ED\"},\"yaxis\":{\"gridcolor\":\"#E1E5ED\",\"showgrid\":true,\"tickfont\":{\"color\":\"#4D5663\"},\"title\":{\"font\":{\"color\":\"#4D5663\"},\"text\":\"Nutrients\"},\"zerolinecolor\":\"#E1E5ED\"}},                        {\"showLink\": true, \"linkText\": \"Export to plot.ly\", \"plotlyServerURL\": \"https://plot.ly\", \"responsive\": true}                    ).then(function(){\n",
       "                            \n",
       "var gd = document.getElementById('f734465f-cbf4-49d2-ad5f-2e57c1063188');\n",
       "var x = new MutationObserver(function (mutations, observer) {{\n",
       "        var display = window.getComputedStyle(gd).display;\n",
       "        if (!display || display === 'none') {{\n",
       "            console.log([gd, 'removed!']);\n",
       "            Plotly.purge(gd);\n",
       "            observer.disconnect();\n",
       "        }}\n",
       "}});\n",
       "\n",
       "// Listen for the removal of the full notebook cells\n",
       "var notebookContainer = gd.closest('#notebook-container');\n",
       "if (notebookContainer) {{\n",
       "    x.observe(notebookContainer, {childList: true});\n",
       "}}\n",
       "\n",
       "// Listen for the clearing of the current output cell\n",
       "var outputEl = gd.closest('.output');\n",
       "if (outputEl) {{\n",
       "    x.observe(outputEl, {childList: true});\n",
       "}}\n",
       "\n",
       "                        })                };                });            </script>        </div>"
      ]
     },
     "metadata": {},
     "output_type": "display_data"
    }
   ],
   "source": [
    "# Matrix product maps quantities of food into quantities of nutrients\n",
    "NutrientResponse = Diet_response@FoodNutrients.T\n",
    "\n",
    "# Drop columns of missing nutrients\n",
    "NutrientResponse = NutrientResponse.loc[:,NutrientResponse.count()>0]\n",
    "NutrientResponse.iplot(xTitle='%s Price' % ReferenceGood,yTitle='Nutrients')"
   ]
  },
  {
   "cell_type": "markdown",
   "metadata": {},
   "source": [
    "as carrots prices  increase, you sub it with other stiff but the other stuff has different nutrietnets like energy = french fries"
   ]
  },
  {
   "cell_type": "markdown",
   "metadata": {},
   "source": [
    "## Adding Constraint on Total Weight\n",
    "\n"
   ]
  },
  {
   "cell_type": "markdown",
   "metadata": {},
   "source": [
    "At least at some prices the minimum cost subistence diet involves\n",
    "eating unreasonable amounts of food (e.g., 10 kilograms of cabbage per\n",
    "day).  We can easily add an additional constraint of the form\n",
    "$$\n",
    "     \\sum x_i \\leq \\text{max weight}\n",
    "$$\n",
    "to our linear programming problem since it&rsquo;s just another linear\n",
    "inequality, and this may give us more realistic results.\n",
    "\n"
   ]
  },
  {
   "cell_type": "markdown",
   "metadata": {},
   "source": [
    "### Price Changes and Subsistence Diet Composition with Weight Constraint\n",
    "\n"
   ]
  },
  {
   "cell_type": "markdown",
   "metadata": {},
   "source": [
    "Re-do our analysis of changing prices, but with a constraint that\n",
    "  total weight of diet must be less that 12 hectograms (1.2 kg).\n",
    "\n"
   ]
  },
  {
   "cell_type": "code",
   "execution_count": 18,
   "metadata": {},
   "outputs": [
    {
     "data": {
      "text/html": [
       "        <script type=\"text/javascript\">\n",
       "        window.PlotlyConfig = {MathJaxConfig: 'local'};\n",
       "        if (window.MathJax && window.MathJax.Hub && window.MathJax.Hub.Config) {window.MathJax.Hub.Config({SVG: {font: \"STIX-Web\"}});}\n",
       "        if (typeof require !== 'undefined') {\n",
       "        require.undef(\"plotly\");\n",
       "        requirejs.config({\n",
       "            paths: {\n",
       "                'plotly': ['https://cdn.plot.ly/plotly-2.29.1.min']\n",
       "            }\n",
       "        });\n",
       "        require(['plotly'], function(Plotly) {\n",
       "            window._Plotly = Plotly;\n",
       "        });\n",
       "        }\n",
       "        </script>\n",
       "        "
      ]
     },
     "metadata": {},
     "output_type": "display_data"
    },
    {
     "data": {
      "application/vnd.plotly.v1+json": {
       "config": {
        "linkText": "Export to plot.ly",
        "plotlyServerURL": "https://plot.ly",
        "showLink": true
       },
       "data": [
        {
         "line": {
          "color": "rgba(255, 153, 51, 1.0)",
          "dash": "solid",
          "shape": "linear",
          "width": 1.3
         },
         "mode": "lines",
         "name": "Skim Milk Powder ",
         "text": "",
         "type": "scatter",
         "x": [
          0.34500000000000003,
          0.5175000000000001,
          0.6210000000000001,
          0.6900000000000001,
          0.7590000000000001,
          0.8280000000000001,
          0.8970000000000001,
          0.966,
          1.0350000000000001,
          1.3800000000000001,
          2.7600000000000002
         ],
         "y": [
          0.22021206548763708,
          0.6086753917136947,
          0.5958476449575543,
          0.5721593678091398,
          0.5721593678091398,
          0.5721593678091398,
          0.5721593678091398,
          0.5721593678091398,
          0.5721593678091398,
          0.5721593678091398,
          0.5721593678091398
         ]
        },
        {
         "line": {
          "color": "rgba(55, 128, 191, 1.0)",
          "dash": "solid",
          "shape": "linear",
          "width": 1.3
         },
         "mode": "lines",
         "name": "Corn Flakes",
         "text": "",
         "type": "scatter",
         "x": [
          0.34500000000000003,
          0.5175000000000001,
          0.6210000000000001,
          0.6900000000000001,
          0.7590000000000001,
          0.8280000000000001,
          0.8970000000000001,
          0.966,
          1.0350000000000001,
          1.3800000000000001,
          2.7600000000000002
         ],
         "y": [
          0.15796158953545358,
          0.19809955482297198,
          0.19169255531828344,
          0.2198189836312631,
          0.2198189836312631,
          0.2198189836312631,
          0.2198189836312631,
          0.2198189836312631,
          0.2198189836312631,
          0.2198189836312631,
          0.2198189836312631
         ]
        },
        {
         "line": {
          "color": "rgba(50, 171, 96, 1.0)",
          "dash": "solid",
          "shape": "linear",
          "width": 1.3
         },
         "mode": "lines",
         "name": "Frozen Corn",
         "text": "",
         "type": "scatter",
         "x": [
          0.34500000000000003,
          0.5175000000000001,
          0.6210000000000001,
          0.6900000000000001,
          0.7590000000000001,
          0.8280000000000001,
          0.8970000000000001,
          0.966,
          1.0350000000000001,
          1.3800000000000001,
          2.7600000000000002
         ],
         "y": [
          0,
          0,
          0,
          0.824895576803993,
          0.824895576803993,
          0.824895576803993,
          0.824895576803993,
          0.824895576803993,
          0.824895576803993,
          0.824895576803993,
          0.824895576803993
         ]
        },
        {
         "line": {
          "color": "rgba(128, 0, 128, 1.0)",
          "dash": "solid",
          "shape": "linear",
          "width": 1.3
         },
         "mode": "lines",
         "name": "Carrots",
         "text": "",
         "type": "scatter",
         "x": [
          0.34500000000000003,
          0.5175000000000001,
          0.6210000000000001,
          0.6900000000000001,
          0.7590000000000001,
          0.8280000000000001,
          0.8970000000000001,
          0.966,
          1.0350000000000001,
          1.3800000000000001,
          2.7600000000000002
         ],
         "y": [
          8.033669410238653,
          6.462883252888923,
          0.7993886386316853,
          0,
          0,
          0,
          0,
          0,
          0,
          0,
          0
         ]
        },
        {
         "line": {
          "color": "rgba(219, 64, 82, 1.0)",
          "dash": "solid",
          "shape": "linear",
          "width": 1.3
         },
         "mode": "lines",
         "name": "Apples ",
         "text": "",
         "type": "scatter",
         "x": [
          0.34500000000000003,
          0.5175000000000001,
          0.6210000000000001,
          0.6900000000000001,
          0.7590000000000001,
          0.8280000000000001,
          0.8970000000000001,
          0.966,
          1.0350000000000001,
          1.3800000000000001,
          2.7600000000000002
         ],
         "y": [
          0,
          0,
          1.0937691177134552,
          1.1064773647012922,
          1.1064773647012922,
          1.1064773647012922,
          1.1064773647012922,
          1.1064773647012922,
          1.1064773647012922,
          1.1064773647012922,
          1.1064773647012922
         ]
        },
        {
         "line": {
          "color": "rgba(0, 128, 128, 1.0)",
          "dash": "solid",
          "shape": "linear",
          "width": 1.3
         },
         "mode": "lines",
         "name": "Potatoes",
         "text": "",
         "type": "scatter",
         "x": [
          0.34500000000000003,
          0.5175000000000001,
          0.6210000000000001,
          0.6900000000000001,
          0.7590000000000001,
          0.8280000000000001,
          0.8970000000000001,
          0.966,
          1.0350000000000001,
          1.3800000000000001,
          2.7600000000000002
         ],
         "y": [
          0.19962076826362382,
          0.21644531357784458,
          0.08566708729746735,
          0.013365731441007687,
          0.013365731441007687,
          0.013365731441007687,
          0.013365731441007687,
          0.013365731441007687,
          0.013365731441007687,
          0.013365731441007687,
          0.013365731441007687
         ]
        },
        {
         "line": {
          "color": "rgba(255, 255, 51, 1.0)",
          "dash": "solid",
          "shape": "linear",
          "width": 1.3
         },
         "mode": "lines",
         "name": "Peanut Butter ",
         "text": "",
         "type": "scatter",
         "x": [
          0.34500000000000003,
          0.5175000000000001,
          0.6210000000000001,
          0.6900000000000001,
          0.7590000000000001,
          0.8280000000000001,
          0.8970000000000001,
          0.966,
          1.0350000000000001,
          1.3800000000000001,
          2.7600000000000002
         ],
         "y": [
          0.6126523497937163,
          0,
          0,
          0,
          0,
          0,
          0,
          0,
          0,
          0,
          0
         ]
        },
        {
         "line": {
          "color": "rgba(128, 128, 0, 1.0)",
          "dash": "solid",
          "shape": "linear",
          "width": 1.3
         },
         "mode": "lines",
         "name": "Frozen French Fries",
         "text": "",
         "type": "scatter",
         "x": [
          0.34500000000000003,
          0.5175000000000001,
          0.6210000000000001,
          0.6900000000000001,
          0.7590000000000001,
          0.8280000000000001,
          0.8970000000000001,
          0.966,
          1.0350000000000001,
          1.3800000000000001,
          2.7600000000000002
         ],
         "y": [
          2.0567399091138556,
          2.432048102430106,
          4.702402798514901,
          5.167457628106381,
          5.167457628106381,
          5.167457628106381,
          5.167457628106381,
          5.167457628106381,
          5.167457628106381,
          5.167457628106381,
          5.167457628106381
         ]
        },
        {
         "line": {
          "color": "rgba(251, 128, 114, 1.0)",
          "dash": "solid",
          "shape": "linear",
          "width": 1.3
         },
         "mode": "lines",
         "name": "Chocolate Bars ",
         "text": "",
         "type": "scatter",
         "x": [
          0.34500000000000003,
          0.5175000000000001,
          0.6210000000000001,
          0.6900000000000001,
          0.7590000000000001,
          0.8280000000000001,
          0.8970000000000001,
          0.966,
          1.0350000000000001,
          1.3800000000000001,
          2.7600000000000002
         ],
         "y": [
          0.7191439075670618,
          0.7618562206123813,
          0.8344938498753706,
          0.7421119016449675,
          0.7421119016449675,
          0.7421119016449675,
          0.7421119016449675,
          0.7421119016449675,
          0.7421119016449675,
          0.7421119016449675,
          0.7421119016449675
         ]
        }
       ],
       "layout": {
        "autosize": true,
        "legend": {
         "bgcolor": "#F5F6F9",
         "font": {
          "color": "#4D5663"
         }
        },
        "paper_bgcolor": "#F5F6F9",
        "plot_bgcolor": "#F5F6F9",
        "template": {
         "data": {
          "bar": [
           {
            "error_x": {
             "color": "#2a3f5f"
            },
            "error_y": {
             "color": "#2a3f5f"
            },
            "marker": {
             "line": {
              "color": "#E5ECF6",
              "width": 0.5
             },
             "pattern": {
              "fillmode": "overlay",
              "size": 10,
              "solidity": 0.2
             }
            },
            "type": "bar"
           }
          ],
          "barpolar": [
           {
            "marker": {
             "line": {
              "color": "#E5ECF6",
              "width": 0.5
             },
             "pattern": {
              "fillmode": "overlay",
              "size": 10,
              "solidity": 0.2
             }
            },
            "type": "barpolar"
           }
          ],
          "carpet": [
           {
            "aaxis": {
             "endlinecolor": "#2a3f5f",
             "gridcolor": "white",
             "linecolor": "white",
             "minorgridcolor": "white",
             "startlinecolor": "#2a3f5f"
            },
            "baxis": {
             "endlinecolor": "#2a3f5f",
             "gridcolor": "white",
             "linecolor": "white",
             "minorgridcolor": "white",
             "startlinecolor": "#2a3f5f"
            },
            "type": "carpet"
           }
          ],
          "choropleth": [
           {
            "colorbar": {
             "outlinewidth": 0,
             "ticks": ""
            },
            "type": "choropleth"
           }
          ],
          "contour": [
           {
            "colorbar": {
             "outlinewidth": 0,
             "ticks": ""
            },
            "colorscale": [
             [
              0,
              "#0d0887"
             ],
             [
              0.1111111111111111,
              "#46039f"
             ],
             [
              0.2222222222222222,
              "#7201a8"
             ],
             [
              0.3333333333333333,
              "#9c179e"
             ],
             [
              0.4444444444444444,
              "#bd3786"
             ],
             [
              0.5555555555555556,
              "#d8576b"
             ],
             [
              0.6666666666666666,
              "#ed7953"
             ],
             [
              0.7777777777777778,
              "#fb9f3a"
             ],
             [
              0.8888888888888888,
              "#fdca26"
             ],
             [
              1,
              "#f0f921"
             ]
            ],
            "type": "contour"
           }
          ],
          "contourcarpet": [
           {
            "colorbar": {
             "outlinewidth": 0,
             "ticks": ""
            },
            "type": "contourcarpet"
           }
          ],
          "heatmap": [
           {
            "colorbar": {
             "outlinewidth": 0,
             "ticks": ""
            },
            "colorscale": [
             [
              0,
              "#0d0887"
             ],
             [
              0.1111111111111111,
              "#46039f"
             ],
             [
              0.2222222222222222,
              "#7201a8"
             ],
             [
              0.3333333333333333,
              "#9c179e"
             ],
             [
              0.4444444444444444,
              "#bd3786"
             ],
             [
              0.5555555555555556,
              "#d8576b"
             ],
             [
              0.6666666666666666,
              "#ed7953"
             ],
             [
              0.7777777777777778,
              "#fb9f3a"
             ],
             [
              0.8888888888888888,
              "#fdca26"
             ],
             [
              1,
              "#f0f921"
             ]
            ],
            "type": "heatmap"
           }
          ],
          "heatmapgl": [
           {
            "colorbar": {
             "outlinewidth": 0,
             "ticks": ""
            },
            "colorscale": [
             [
              0,
              "#0d0887"
             ],
             [
              0.1111111111111111,
              "#46039f"
             ],
             [
              0.2222222222222222,
              "#7201a8"
             ],
             [
              0.3333333333333333,
              "#9c179e"
             ],
             [
              0.4444444444444444,
              "#bd3786"
             ],
             [
              0.5555555555555556,
              "#d8576b"
             ],
             [
              0.6666666666666666,
              "#ed7953"
             ],
             [
              0.7777777777777778,
              "#fb9f3a"
             ],
             [
              0.8888888888888888,
              "#fdca26"
             ],
             [
              1,
              "#f0f921"
             ]
            ],
            "type": "heatmapgl"
           }
          ],
          "histogram": [
           {
            "marker": {
             "pattern": {
              "fillmode": "overlay",
              "size": 10,
              "solidity": 0.2
             }
            },
            "type": "histogram"
           }
          ],
          "histogram2d": [
           {
            "colorbar": {
             "outlinewidth": 0,
             "ticks": ""
            },
            "colorscale": [
             [
              0,
              "#0d0887"
             ],
             [
              0.1111111111111111,
              "#46039f"
             ],
             [
              0.2222222222222222,
              "#7201a8"
             ],
             [
              0.3333333333333333,
              "#9c179e"
             ],
             [
              0.4444444444444444,
              "#bd3786"
             ],
             [
              0.5555555555555556,
              "#d8576b"
             ],
             [
              0.6666666666666666,
              "#ed7953"
             ],
             [
              0.7777777777777778,
              "#fb9f3a"
             ],
             [
              0.8888888888888888,
              "#fdca26"
             ],
             [
              1,
              "#f0f921"
             ]
            ],
            "type": "histogram2d"
           }
          ],
          "histogram2dcontour": [
           {
            "colorbar": {
             "outlinewidth": 0,
             "ticks": ""
            },
            "colorscale": [
             [
              0,
              "#0d0887"
             ],
             [
              0.1111111111111111,
              "#46039f"
             ],
             [
              0.2222222222222222,
              "#7201a8"
             ],
             [
              0.3333333333333333,
              "#9c179e"
             ],
             [
              0.4444444444444444,
              "#bd3786"
             ],
             [
              0.5555555555555556,
              "#d8576b"
             ],
             [
              0.6666666666666666,
              "#ed7953"
             ],
             [
              0.7777777777777778,
              "#fb9f3a"
             ],
             [
              0.8888888888888888,
              "#fdca26"
             ],
             [
              1,
              "#f0f921"
             ]
            ],
            "type": "histogram2dcontour"
           }
          ],
          "mesh3d": [
           {
            "colorbar": {
             "outlinewidth": 0,
             "ticks": ""
            },
            "type": "mesh3d"
           }
          ],
          "parcoords": [
           {
            "line": {
             "colorbar": {
              "outlinewidth": 0,
              "ticks": ""
             }
            },
            "type": "parcoords"
           }
          ],
          "pie": [
           {
            "automargin": true,
            "type": "pie"
           }
          ],
          "scatter": [
           {
            "fillpattern": {
             "fillmode": "overlay",
             "size": 10,
             "solidity": 0.2
            },
            "type": "scatter"
           }
          ],
          "scatter3d": [
           {
            "line": {
             "colorbar": {
              "outlinewidth": 0,
              "ticks": ""
             }
            },
            "marker": {
             "colorbar": {
              "outlinewidth": 0,
              "ticks": ""
             }
            },
            "type": "scatter3d"
           }
          ],
          "scattercarpet": [
           {
            "marker": {
             "colorbar": {
              "outlinewidth": 0,
              "ticks": ""
             }
            },
            "type": "scattercarpet"
           }
          ],
          "scattergeo": [
           {
            "marker": {
             "colorbar": {
              "outlinewidth": 0,
              "ticks": ""
             }
            },
            "type": "scattergeo"
           }
          ],
          "scattergl": [
           {
            "marker": {
             "colorbar": {
              "outlinewidth": 0,
              "ticks": ""
             }
            },
            "type": "scattergl"
           }
          ],
          "scattermapbox": [
           {
            "marker": {
             "colorbar": {
              "outlinewidth": 0,
              "ticks": ""
             }
            },
            "type": "scattermapbox"
           }
          ],
          "scatterpolar": [
           {
            "marker": {
             "colorbar": {
              "outlinewidth": 0,
              "ticks": ""
             }
            },
            "type": "scatterpolar"
           }
          ],
          "scatterpolargl": [
           {
            "marker": {
             "colorbar": {
              "outlinewidth": 0,
              "ticks": ""
             }
            },
            "type": "scatterpolargl"
           }
          ],
          "scatterternary": [
           {
            "marker": {
             "colorbar": {
              "outlinewidth": 0,
              "ticks": ""
             }
            },
            "type": "scatterternary"
           }
          ],
          "surface": [
           {
            "colorbar": {
             "outlinewidth": 0,
             "ticks": ""
            },
            "colorscale": [
             [
              0,
              "#0d0887"
             ],
             [
              0.1111111111111111,
              "#46039f"
             ],
             [
              0.2222222222222222,
              "#7201a8"
             ],
             [
              0.3333333333333333,
              "#9c179e"
             ],
             [
              0.4444444444444444,
              "#bd3786"
             ],
             [
              0.5555555555555556,
              "#d8576b"
             ],
             [
              0.6666666666666666,
              "#ed7953"
             ],
             [
              0.7777777777777778,
              "#fb9f3a"
             ],
             [
              0.8888888888888888,
              "#fdca26"
             ],
             [
              1,
              "#f0f921"
             ]
            ],
            "type": "surface"
           }
          ],
          "table": [
           {
            "cells": {
             "fill": {
              "color": "#EBF0F8"
             },
             "line": {
              "color": "white"
             }
            },
            "header": {
             "fill": {
              "color": "#C8D4E3"
             },
             "line": {
              "color": "white"
             }
            },
            "type": "table"
           }
          ]
         },
         "layout": {
          "annotationdefaults": {
           "arrowcolor": "#2a3f5f",
           "arrowhead": 0,
           "arrowwidth": 1
          },
          "autotypenumbers": "strict",
          "coloraxis": {
           "colorbar": {
            "outlinewidth": 0,
            "ticks": ""
           }
          },
          "colorscale": {
           "diverging": [
            [
             0,
             "#8e0152"
            ],
            [
             0.1,
             "#c51b7d"
            ],
            [
             0.2,
             "#de77ae"
            ],
            [
             0.3,
             "#f1b6da"
            ],
            [
             0.4,
             "#fde0ef"
            ],
            [
             0.5,
             "#f7f7f7"
            ],
            [
             0.6,
             "#e6f5d0"
            ],
            [
             0.7,
             "#b8e186"
            ],
            [
             0.8,
             "#7fbc41"
            ],
            [
             0.9,
             "#4d9221"
            ],
            [
             1,
             "#276419"
            ]
           ],
           "sequential": [
            [
             0,
             "#0d0887"
            ],
            [
             0.1111111111111111,
             "#46039f"
            ],
            [
             0.2222222222222222,
             "#7201a8"
            ],
            [
             0.3333333333333333,
             "#9c179e"
            ],
            [
             0.4444444444444444,
             "#bd3786"
            ],
            [
             0.5555555555555556,
             "#d8576b"
            ],
            [
             0.6666666666666666,
             "#ed7953"
            ],
            [
             0.7777777777777778,
             "#fb9f3a"
            ],
            [
             0.8888888888888888,
             "#fdca26"
            ],
            [
             1,
             "#f0f921"
            ]
           ],
           "sequentialminus": [
            [
             0,
             "#0d0887"
            ],
            [
             0.1111111111111111,
             "#46039f"
            ],
            [
             0.2222222222222222,
             "#7201a8"
            ],
            [
             0.3333333333333333,
             "#9c179e"
            ],
            [
             0.4444444444444444,
             "#bd3786"
            ],
            [
             0.5555555555555556,
             "#d8576b"
            ],
            [
             0.6666666666666666,
             "#ed7953"
            ],
            [
             0.7777777777777778,
             "#fb9f3a"
            ],
            [
             0.8888888888888888,
             "#fdca26"
            ],
            [
             1,
             "#f0f921"
            ]
           ]
          },
          "colorway": [
           "#636efa",
           "#EF553B",
           "#00cc96",
           "#ab63fa",
           "#FFA15A",
           "#19d3f3",
           "#FF6692",
           "#B6E880",
           "#FF97FF",
           "#FECB52"
          ],
          "font": {
           "color": "#2a3f5f"
          },
          "geo": {
           "bgcolor": "white",
           "lakecolor": "white",
           "landcolor": "#E5ECF6",
           "showlakes": true,
           "showland": true,
           "subunitcolor": "white"
          },
          "hoverlabel": {
           "align": "left"
          },
          "hovermode": "closest",
          "mapbox": {
           "style": "light"
          },
          "paper_bgcolor": "white",
          "plot_bgcolor": "#E5ECF6",
          "polar": {
           "angularaxis": {
            "gridcolor": "white",
            "linecolor": "white",
            "ticks": ""
           },
           "bgcolor": "#E5ECF6",
           "radialaxis": {
            "gridcolor": "white",
            "linecolor": "white",
            "ticks": ""
           }
          },
          "scene": {
           "xaxis": {
            "backgroundcolor": "#E5ECF6",
            "gridcolor": "white",
            "gridwidth": 2,
            "linecolor": "white",
            "showbackground": true,
            "ticks": "",
            "zerolinecolor": "white"
           },
           "yaxis": {
            "backgroundcolor": "#E5ECF6",
            "gridcolor": "white",
            "gridwidth": 2,
            "linecolor": "white",
            "showbackground": true,
            "ticks": "",
            "zerolinecolor": "white"
           },
           "zaxis": {
            "backgroundcolor": "#E5ECF6",
            "gridcolor": "white",
            "gridwidth": 2,
            "linecolor": "white",
            "showbackground": true,
            "ticks": "",
            "zerolinecolor": "white"
           }
          },
          "shapedefaults": {
           "line": {
            "color": "#2a3f5f"
           }
          },
          "ternary": {
           "aaxis": {
            "gridcolor": "white",
            "linecolor": "white",
            "ticks": ""
           },
           "baxis": {
            "gridcolor": "white",
            "linecolor": "white",
            "ticks": ""
           },
           "bgcolor": "#E5ECF6",
           "caxis": {
            "gridcolor": "white",
            "linecolor": "white",
            "ticks": ""
           }
          },
          "title": {
           "x": 0.05
          },
          "xaxis": {
           "automargin": true,
           "gridcolor": "white",
           "linecolor": "white",
           "ticks": "",
           "title": {
            "standoff": 15
           },
           "zerolinecolor": "white",
           "zerolinewidth": 2
          },
          "yaxis": {
           "automargin": true,
           "gridcolor": "white",
           "linecolor": "white",
           "ticks": "",
           "title": {
            "standoff": 15
           },
           "zerolinecolor": "white",
           "zerolinewidth": 2
          }
         }
        },
        "title": {
         "font": {
          "color": "#4D5663"
         }
        },
        "xaxis": {
         "autorange": true,
         "gridcolor": "#E1E5ED",
         "range": [
          0.34500000000000003,
          2.7600000000000002
         ],
         "showgrid": true,
         "tickfont": {
          "color": "#4D5663"
         },
         "title": {
          "font": {
           "color": "#4D5663"
          },
          "text": "Carrots Price"
         },
         "type": "linear",
         "zerolinecolor": "#E1E5ED"
        },
        "yaxis": {
         "autorange": true,
         "gridcolor": "#E1E5ED",
         "range": [
          -0.44631496723548075,
          8.479984377474134
         ],
         "showgrid": true,
         "tickfont": {
          "color": "#4D5663"
         },
         "title": {
          "font": {
           "color": "#4D5663"
          },
          "text": "Hectograms"
         },
         "type": "linear",
         "zerolinecolor": "#E1E5ED"
        }
       }
      },
      "image/png": "[encoded data removed]",
      "text/html": [
       "<div>                            <div id=\"9b60af26-2d98-46f1-9662-dc185c050d1f\" class=\"plotly-graph-div\" style=\"height:525px; width:100%;\"></div>            <script type=\"text/javascript\">                require([\"plotly\"], function(Plotly) {                    window.PLOTLYENV=window.PLOTLYENV || {};\n",
       "                    window.PLOTLYENV.BASE_URL='https://plot.ly';                                    if (document.getElementById(\"9b60af26-2d98-46f1-9662-dc185c050d1f\")) {                    Plotly.newPlot(                        \"9b60af26-2d98-46f1-9662-dc185c050d1f\",                        [{\"line\":{\"color\":\"rgba(255, 153, 51, 1.0)\",\"dash\":\"solid\",\"shape\":\"linear\",\"width\":1.3},\"mode\":\"lines\",\"name\":\"Skim Milk Powder \",\"text\":\"\",\"x\":[0.34500000000000003,0.5175000000000001,0.6210000000000001,0.6900000000000001,0.7590000000000001,0.8280000000000001,0.8970000000000001,0.966,1.0350000000000001,1.3800000000000001,2.7600000000000002],\"y\":[0.22021206548763708,0.6086753917136947,0.5958476449575543,0.5721593678091398,0.5721593678091398,0.5721593678091398,0.5721593678091398,0.5721593678091398,0.5721593678091398,0.5721593678091398,0.5721593678091398],\"type\":\"scatter\"},{\"line\":{\"color\":\"rgba(55, 128, 191, 1.0)\",\"dash\":\"solid\",\"shape\":\"linear\",\"width\":1.3},\"mode\":\"lines\",\"name\":\"Corn Flakes\",\"text\":\"\",\"x\":[0.34500000000000003,0.5175000000000001,0.6210000000000001,0.6900000000000001,0.7590000000000001,0.8280000000000001,0.8970000000000001,0.966,1.0350000000000001,1.3800000000000001,2.7600000000000002],\"y\":[0.15796158953545358,0.19809955482297198,0.19169255531828344,0.2198189836312631,0.2198189836312631,0.2198189836312631,0.2198189836312631,0.2198189836312631,0.2198189836312631,0.2198189836312631,0.2198189836312631],\"type\":\"scatter\"},{\"line\":{\"color\":\"rgba(50, 171, 96, 1.0)\",\"dash\":\"solid\",\"shape\":\"linear\",\"width\":1.3},\"mode\":\"lines\",\"name\":\"Frozen Corn\",\"text\":\"\",\"x\":[0.34500000000000003,0.5175000000000001,0.6210000000000001,0.6900000000000001,0.7590000000000001,0.8280000000000001,0.8970000000000001,0.966,1.0350000000000001,1.3800000000000001,2.7600000000000002],\"y\":[0.0,0.0,0.0,0.824895576803993,0.824895576803993,0.824895576803993,0.824895576803993,0.824895576803993,0.824895576803993,0.824895576803993,0.824895576803993],\"type\":\"scatter\"},{\"line\":{\"color\":\"rgba(128, 0, 128, 1.0)\",\"dash\":\"solid\",\"shape\":\"linear\",\"width\":1.3},\"mode\":\"lines\",\"name\":\"Carrots\",\"text\":\"\",\"x\":[0.34500000000000003,0.5175000000000001,0.6210000000000001,0.6900000000000001,0.7590000000000001,0.8280000000000001,0.8970000000000001,0.966,1.0350000000000001,1.3800000000000001,2.7600000000000002],\"y\":[8.033669410238653,6.462883252888923,0.7993886386316853,0.0,0.0,0.0,0.0,0.0,0.0,0.0,0.0],\"type\":\"scatter\"},{\"line\":{\"color\":\"rgba(219, 64, 82, 1.0)\",\"dash\":\"solid\",\"shape\":\"linear\",\"width\":1.3},\"mode\":\"lines\",\"name\":\"Apples \",\"text\":\"\",\"x\":[0.34500000000000003,0.5175000000000001,0.6210000000000001,0.6900000000000001,0.7590000000000001,0.8280000000000001,0.8970000000000001,0.966,1.0350000000000001,1.3800000000000001,2.7600000000000002],\"y\":[0.0,0.0,1.0937691177134552,1.1064773647012922,1.1064773647012922,1.1064773647012922,1.1064773647012922,1.1064773647012922,1.1064773647012922,1.1064773647012922,1.1064773647012922],\"type\":\"scatter\"},{\"line\":{\"color\":\"rgba(0, 128, 128, 1.0)\",\"dash\":\"solid\",\"shape\":\"linear\",\"width\":1.3},\"mode\":\"lines\",\"name\":\"Potatoes\",\"text\":\"\",\"x\":[0.34500000000000003,0.5175000000000001,0.6210000000000001,0.6900000000000001,0.7590000000000001,0.8280000000000001,0.8970000000000001,0.966,1.0350000000000001,1.3800000000000001,2.7600000000000002],\"y\":[0.19962076826362382,0.21644531357784458,0.08566708729746735,0.013365731441007687,0.013365731441007687,0.013365731441007687,0.013365731441007687,0.013365731441007687,0.013365731441007687,0.013365731441007687,0.013365731441007687],\"type\":\"scatter\"},{\"line\":{\"color\":\"rgba(255, 255, 51, 1.0)\",\"dash\":\"solid\",\"shape\":\"linear\",\"width\":1.3},\"mode\":\"lines\",\"name\":\"Peanut Butter \",\"text\":\"\",\"x\":[0.34500000000000003,0.5175000000000001,0.6210000000000001,0.6900000000000001,0.7590000000000001,0.8280000000000001,0.8970000000000001,0.966,1.0350000000000001,1.3800000000000001,2.7600000000000002],\"y\":[0.6126523497937163,0.0,0.0,0.0,0.0,0.0,0.0,0.0,0.0,0.0,0.0],\"type\":\"scatter\"},{\"line\":{\"color\":\"rgba(128, 128, 0, 1.0)\",\"dash\":\"solid\",\"shape\":\"linear\",\"width\":1.3},\"mode\":\"lines\",\"name\":\"Frozen French Fries\",\"text\":\"\",\"x\":[0.34500000000000003,0.5175000000000001,0.6210000000000001,0.6900000000000001,0.7590000000000001,0.8280000000000001,0.8970000000000001,0.966,1.0350000000000001,1.3800000000000001,2.7600000000000002],\"y\":[2.0567399091138556,2.432048102430106,4.702402798514901,5.167457628106381,5.167457628106381,5.167457628106381,5.167457628106381,5.167457628106381,5.167457628106381,5.167457628106381,5.167457628106381],\"type\":\"scatter\"},{\"line\":{\"color\":\"rgba(251, 128, 114, 1.0)\",\"dash\":\"solid\",\"shape\":\"linear\",\"width\":1.3},\"mode\":\"lines\",\"name\":\"Chocolate Bars \",\"text\":\"\",\"x\":[0.34500000000000003,0.5175000000000001,0.6210000000000001,0.6900000000000001,0.7590000000000001,0.8280000000000001,0.8970000000000001,0.966,1.0350000000000001,1.3800000000000001,2.7600000000000002],\"y\":[0.7191439075670618,0.7618562206123813,0.8344938498753706,0.7421119016449675,0.7421119016449675,0.7421119016449675,0.7421119016449675,0.7421119016449675,0.7421119016449675,0.7421119016449675,0.7421119016449675],\"type\":\"scatter\"}],                        {\"legend\":{\"bgcolor\":\"#F5F6F9\",\"font\":{\"color\":\"#4D5663\"}},\"paper_bgcolor\":\"#F5F6F9\",\"plot_bgcolor\":\"#F5F6F9\",\"template\":{\"data\":{\"barpolar\":[{\"marker\":{\"line\":{\"color\":\"#E5ECF6\",\"width\":0.5},\"pattern\":{\"fillmode\":\"overlay\",\"size\":10,\"solidity\":0.2}},\"type\":\"barpolar\"}],\"bar\":[{\"error_x\":{\"color\":\"#2a3f5f\"},\"error_y\":{\"color\":\"#2a3f5f\"},\"marker\":{\"line\":{\"color\":\"#E5ECF6\",\"width\":0.5},\"pattern\":{\"fillmode\":\"overlay\",\"size\":10,\"solidity\":0.2}},\"type\":\"bar\"}],\"carpet\":[{\"aaxis\":{\"endlinecolor\":\"#2a3f5f\",\"gridcolor\":\"white\",\"linecolor\":\"white\",\"minorgridcolor\":\"white\",\"startlinecolor\":\"#2a3f5f\"},\"baxis\":{\"endlinecolor\":\"#2a3f5f\",\"gridcolor\":\"white\",\"linecolor\":\"white\",\"minorgridcolor\":\"white\",\"startlinecolor\":\"#2a3f5f\"},\"type\":\"carpet\"}],\"choropleth\":[{\"colorbar\":{\"outlinewidth\":0,\"ticks\":\"\"},\"type\":\"choropleth\"}],\"contourcarpet\":[{\"colorbar\":{\"outlinewidth\":0,\"ticks\":\"\"},\"type\":\"contourcarpet\"}],\"contour\":[{\"colorbar\":{\"outlinewidth\":0,\"ticks\":\"\"},\"colorscale\":[[0.0,\"#0d0887\"],[0.1111111111111111,\"#46039f\"],[0.2222222222222222,\"#7201a8\"],[0.3333333333333333,\"#9c179e\"],[0.4444444444444444,\"#bd3786\"],[0.5555555555555556,\"#d8576b\"],[0.6666666666666666,\"#ed7953\"],[0.7777777777777778,\"#fb9f3a\"],[0.8888888888888888,\"#fdca26\"],[1.0,\"#f0f921\"]],\"type\":\"contour\"}],\"heatmapgl\":[{\"colorbar\":{\"outlinewidth\":0,\"ticks\":\"\"},\"colorscale\":[[0.0,\"#0d0887\"],[0.1111111111111111,\"#46039f\"],[0.2222222222222222,\"#7201a8\"],[0.3333333333333333,\"#9c179e\"],[0.4444444444444444,\"#bd3786\"],[0.5555555555555556,\"#d8576b\"],[0.6666666666666666,\"#ed7953\"],[0.7777777777777778,\"#fb9f3a\"],[0.8888888888888888,\"#fdca26\"],[1.0,\"#f0f921\"]],\"type\":\"heatmapgl\"}],\"heatmap\":[{\"colorbar\":{\"outlinewidth\":0,\"ticks\":\"\"},\"colorscale\":[[0.0,\"#0d0887\"],[0.1111111111111111,\"#46039f\"],[0.2222222222222222,\"#7201a8\"],[0.3333333333333333,\"#9c179e\"],[0.4444444444444444,\"#bd3786\"],[0.5555555555555556,\"#d8576b\"],[0.6666666666666666,\"#ed7953\"],[0.7777777777777778,\"#fb9f3a\"],[0.8888888888888888,\"#fdca26\"],[1.0,\"#f0f921\"]],\"type\":\"heatmap\"}],\"histogram2dcontour\":[{\"colorbar\":{\"outlinewidth\":0,\"ticks\":\"\"},\"colorscale\":[[0.0,\"#0d0887\"],[0.1111111111111111,\"#46039f\"],[0.2222222222222222,\"#7201a8\"],[0.3333333333333333,\"#9c179e\"],[0.4444444444444444,\"#bd3786\"],[0.5555555555555556,\"#d8576b\"],[0.6666666666666666,\"#ed7953\"],[0.7777777777777778,\"#fb9f3a\"],[0.8888888888888888,\"#fdca26\"],[1.0,\"#f0f921\"]],\"type\":\"histogram2dcontour\"}],\"histogram2d\":[{\"colorbar\":{\"outlinewidth\":0,\"ticks\":\"\"},\"colorscale\":[[0.0,\"#0d0887\"],[0.1111111111111111,\"#46039f\"],[0.2222222222222222,\"#7201a8\"],[0.3333333333333333,\"#9c179e\"],[0.4444444444444444,\"#bd3786\"],[0.5555555555555556,\"#d8576b\"],[0.6666666666666666,\"#ed7953\"],[0.7777777777777778,\"#fb9f3a\"],[0.8888888888888888,\"#fdca26\"],[1.0,\"#f0f921\"]],\"type\":\"histogram2d\"}],\"histogram\":[{\"marker\":{\"pattern\":{\"fillmode\":\"overlay\",\"size\":10,\"solidity\":0.2}},\"type\":\"histogram\"}],\"mesh3d\":[{\"colorbar\":{\"outlinewidth\":0,\"ticks\":\"\"},\"type\":\"mesh3d\"}],\"parcoords\":[{\"line\":{\"colorbar\":{\"outlinewidth\":0,\"ticks\":\"\"}},\"type\":\"parcoords\"}],\"pie\":[{\"automargin\":true,\"type\":\"pie\"}],\"scatter3d\":[{\"line\":{\"colorbar\":{\"outlinewidth\":0,\"ticks\":\"\"}},\"marker\":{\"colorbar\":{\"outlinewidth\":0,\"ticks\":\"\"}},\"type\":\"scatter3d\"}],\"scattercarpet\":[{\"marker\":{\"colorbar\":{\"outlinewidth\":0,\"ticks\":\"\"}},\"type\":\"scattercarpet\"}],\"scattergeo\":[{\"marker\":{\"colorbar\":{\"outlinewidth\":0,\"ticks\":\"\"}},\"type\":\"scattergeo\"}],\"scattergl\":[{\"marker\":{\"colorbar\":{\"outlinewidth\":0,\"ticks\":\"\"}},\"type\":\"scattergl\"}],\"scattermapbox\":[{\"marker\":{\"colorbar\":{\"outlinewidth\":0,\"ticks\":\"\"}},\"type\":\"scattermapbox\"}],\"scatterpolargl\":[{\"marker\":{\"colorbar\":{\"outlinewidth\":0,\"ticks\":\"\"}},\"type\":\"scatterpolargl\"}],\"scatterpolar\":[{\"marker\":{\"colorbar\":{\"outlinewidth\":0,\"ticks\":\"\"}},\"type\":\"scatterpolar\"}],\"scatter\":[{\"fillpattern\":{\"fillmode\":\"overlay\",\"size\":10,\"solidity\":0.2},\"type\":\"scatter\"}],\"scatterternary\":[{\"marker\":{\"colorbar\":{\"outlinewidth\":0,\"ticks\":\"\"}},\"type\":\"scatterternary\"}],\"surface\":[{\"colorbar\":{\"outlinewidth\":0,\"ticks\":\"\"},\"colorscale\":[[0.0,\"#0d0887\"],[0.1111111111111111,\"#46039f\"],[0.2222222222222222,\"#7201a8\"],[0.3333333333333333,\"#9c179e\"],[0.4444444444444444,\"#bd3786\"],[0.5555555555555556,\"#d8576b\"],[0.6666666666666666,\"#ed7953\"],[0.7777777777777778,\"#fb9f3a\"],[0.8888888888888888,\"#fdca26\"],[1.0,\"#f0f921\"]],\"type\":\"surface\"}],\"table\":[{\"cells\":{\"fill\":{\"color\":\"#EBF0F8\"},\"line\":{\"color\":\"white\"}},\"header\":{\"fill\":{\"color\":\"#C8D4E3\"},\"line\":{\"color\":\"white\"}},\"type\":\"table\"}]},\"layout\":{\"annotationdefaults\":{\"arrowcolor\":\"#2a3f5f\",\"arrowhead\":0,\"arrowwidth\":1},\"autotypenumbers\":\"strict\",\"coloraxis\":{\"colorbar\":{\"outlinewidth\":0,\"ticks\":\"\"}},\"colorscale\":{\"diverging\":[[0,\"#8e0152\"],[0.1,\"#c51b7d\"],[0.2,\"#de77ae\"],[0.3,\"#f1b6da\"],[0.4,\"#fde0ef\"],[0.5,\"#f7f7f7\"],[0.6,\"#e6f5d0\"],[0.7,\"#b8e186\"],[0.8,\"#7fbc41\"],[0.9,\"#4d9221\"],[1,\"#276419\"]],\"sequential\":[[0.0,\"#0d0887\"],[0.1111111111111111,\"#46039f\"],[0.2222222222222222,\"#7201a8\"],[0.3333333333333333,\"#9c179e\"],[0.4444444444444444,\"#bd3786\"],[0.5555555555555556,\"#d8576b\"],[0.6666666666666666,\"#ed7953\"],[0.7777777777777778,\"#fb9f3a\"],[0.8888888888888888,\"#fdca26\"],[1.0,\"#f0f921\"]],\"sequentialminus\":[[0.0,\"#0d0887\"],[0.1111111111111111,\"#46039f\"],[0.2222222222222222,\"#7201a8\"],[0.3333333333333333,\"#9c179e\"],[0.4444444444444444,\"#bd3786\"],[0.5555555555555556,\"#d8576b\"],[0.6666666666666666,\"#ed7953\"],[0.7777777777777778,\"#fb9f3a\"],[0.8888888888888888,\"#fdca26\"],[1.0,\"#f0f921\"]]},\"colorway\":[\"#636efa\",\"#EF553B\",\"#00cc96\",\"#ab63fa\",\"#FFA15A\",\"#19d3f3\",\"#FF6692\",\"#B6E880\",\"#FF97FF\",\"#FECB52\"],\"font\":{\"color\":\"#2a3f5f\"},\"geo\":{\"bgcolor\":\"white\",\"lakecolor\":\"white\",\"landcolor\":\"#E5ECF6\",\"showlakes\":true,\"showland\":true,\"subunitcolor\":\"white\"},\"hoverlabel\":{\"align\":\"left\"},\"hovermode\":\"closest\",\"mapbox\":{\"style\":\"light\"},\"paper_bgcolor\":\"white\",\"plot_bgcolor\":\"#E5ECF6\",\"polar\":{\"angularaxis\":{\"gridcolor\":\"white\",\"linecolor\":\"white\",\"ticks\":\"\"},\"bgcolor\":\"#E5ECF6\",\"radialaxis\":{\"gridcolor\":\"white\",\"linecolor\":\"white\",\"ticks\":\"\"}},\"scene\":{\"xaxis\":{\"backgroundcolor\":\"#E5ECF6\",\"gridcolor\":\"white\",\"gridwidth\":2,\"linecolor\":\"white\",\"showbackground\":true,\"ticks\":\"\",\"zerolinecolor\":\"white\"},\"yaxis\":{\"backgroundcolor\":\"#E5ECF6\",\"gridcolor\":\"white\",\"gridwidth\":2,\"linecolor\":\"white\",\"showbackground\":true,\"ticks\":\"\",\"zerolinecolor\":\"white\"},\"zaxis\":{\"backgroundcolor\":\"#E5ECF6\",\"gridcolor\":\"white\",\"gridwidth\":2,\"linecolor\":\"white\",\"showbackground\":true,\"ticks\":\"\",\"zerolinecolor\":\"white\"}},\"shapedefaults\":{\"line\":{\"color\":\"#2a3f5f\"}},\"ternary\":{\"aaxis\":{\"gridcolor\":\"white\",\"linecolor\":\"white\",\"ticks\":\"\"},\"baxis\":{\"gridcolor\":\"white\",\"linecolor\":\"white\",\"ticks\":\"\"},\"bgcolor\":\"#E5ECF6\",\"caxis\":{\"gridcolor\":\"white\",\"linecolor\":\"white\",\"ticks\":\"\"}},\"title\":{\"x\":0.05},\"xaxis\":{\"automargin\":true,\"gridcolor\":\"white\",\"linecolor\":\"white\",\"ticks\":\"\",\"title\":{\"standoff\":15},\"zerolinecolor\":\"white\",\"zerolinewidth\":2},\"yaxis\":{\"automargin\":true,\"gridcolor\":\"white\",\"linecolor\":\"white\",\"ticks\":\"\",\"title\":{\"standoff\":15},\"zerolinecolor\":\"white\",\"zerolinewidth\":2}}},\"title\":{\"font\":{\"color\":\"#4D5663\"}},\"xaxis\":{\"gridcolor\":\"#E1E5ED\",\"showgrid\":true,\"tickfont\":{\"color\":\"#4D5663\"},\"title\":{\"font\":{\"color\":\"#4D5663\"},\"text\":\"Carrots Price\"},\"zerolinecolor\":\"#E1E5ED\"},\"yaxis\":{\"gridcolor\":\"#E1E5ED\",\"showgrid\":true,\"tickfont\":{\"color\":\"#4D5663\"},\"title\":{\"font\":{\"color\":\"#4D5663\"},\"text\":\"Hectograms\"},\"zerolinecolor\":\"#E1E5ED\"}},                        {\"showLink\": true, \"linkText\": \"Export to plot.ly\", \"plotlyServerURL\": \"https://plot.ly\", \"responsive\": true}                    ).then(function(){\n",
       "                            \n",
       "var gd = document.getElementById('9b60af26-2d98-46f1-9662-dc185c050d1f');\n",
       "var x = new MutationObserver(function (mutations, observer) {{\n",
       "        var display = window.getComputedStyle(gd).display;\n",
       "        if (!display || display === 'none') {{\n",
       "            console.log([gd, 'removed!']);\n",
       "            Plotly.purge(gd);\n",
       "            observer.disconnect();\n",
       "        }}\n",
       "}});\n",
       "\n",
       "// Listen for the removal of the full notebook cells\n",
       "var notebookContainer = gd.closest('#notebook-container');\n",
       "if (notebookContainer) {{\n",
       "    x.observe(notebookContainer, {childList: true});\n",
       "}}\n",
       "\n",
       "// Listen for the clearing of the current output cell\n",
       "var outputEl = gd.closest('.output');\n",
       "if (outputEl) {{\n",
       "    x.observe(outputEl, {childList: true});\n",
       "}}\n",
       "\n",
       "                        })                };                });            </script>        </div>"
      ]
     },
     "metadata": {},
     "output_type": "display_data"
    }
   ],
   "source": [
    "import cufflinks as cf\n",
    "cf.go_offline()\n",
    "\n",
    "ReferenceGood = 'Carrots'\n",
    "\n",
    "scale = [0.5,0.75,0.9,1.,1.1,1.2,1.3,1.4,1.5,2,4]\n",
    "\n",
    "cost0 = solve_subsistence_problem(FoodNutrients,Prices,\n",
    "                                  diet_min[group],diet_max[group],max_weight=12,tol=tol).fun\n",
    "\n",
    "my_p = Prices.copy()\n",
    "\n",
    "diet = {}\n",
    "for s in scale:\n",
    "\n",
    "    my_p[ReferenceGood] = Prices[ReferenceGood]*s\n",
    "    result = solve_subsistence_problem(FoodNutrients,my_p,\n",
    "                                       diet_min[group],diet_max[group],max_weight=12,tol=tol)\n",
    "    diet[my_p[ReferenceGood]] = result.diet\n",
    "\n",
    "Diet_response = pd.DataFrame(diet).T\n",
    "Diet_response.index.name = '%s Price' % ReferenceGood\n",
    "\n",
    "Diet_response.reset_index(inplace=True)\n",
    "\n",
    "# Get rid of units for index (cufflinks chokes)\n",
    "Diet_response['%s Price' % ReferenceGood] = Diet_response['%s Price' % ReferenceGood].apply(lambda x: x.magnitude)\n",
    "\n",
    "Diet_response = Diet_response.set_index('%s Price' % ReferenceGood)\n",
    "\n",
    "# Just look at goods consumed in quantities greater than error tolerance\n",
    "Diet_response.loc[:,(Diet_response>tol).sum()>0].iplot(xTitle='%s Price' % ReferenceGood,yTitle='Hectograms')"
   ]
  },
  {
   "cell_type": "code",
   "execution_count": null,
   "metadata": {},
   "outputs": [],
   "source": []
  }
 ],
 "metadata": {
  "kernelspec": {
   "display_name": "Python 3 (ipykernel)",
   "language": "python",
   "name": "python3"
  },
  "language_info": {
   "codemirror_mode": {
    "name": "ipython",
    "version": 3
   },
   "file_extension": ".py",
   "mimetype": "text/x-python",
   "name": "python",
   "nbconvert_exporter": "python",
   "pygments_lexer": "ipython3",
   "version": "3.9.15"
  },
  "org": null
 },
 "nbformat": 4,
 "nbformat_minor": 4
}
