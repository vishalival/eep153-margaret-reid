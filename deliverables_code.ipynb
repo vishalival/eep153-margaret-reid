{
 "cells": [
  {
   "cell_type": "markdown",
   "metadata": {},
   "source": [
    "# EEP 153: Project 2\n",
    "## Team Margaret Reid: A Study of Inuit Diet and Minimum Cost Information\n",
    "\n",
    "This Python notebook walks through all of our deliverables, so you can run it and check out how everything works in addition to verify we have met all of our deliverables. ***Click*** on the Table of Contents to be directed to any deliverable you want to see."
   ]
  },
  {
   "cell_type": "markdown",
   "metadata": {},
   "source": [
    "## Table of Contents and Deliverables\n",
    "1. [<span style=\"color:red;\">[Deliverable 1[A]]</span> - Description of Population of Interest, Introduction](#deliverable-1a-description-of-population-of-interest-introduction)\n",
    "2. [<span style=\"color:red;\">[Deliverable 2[A]]</span> - Dietary Reference Intakes](#dietary-reference-intakes)\n",
    "3. [<span style=\"color:red;\">[Deliverable 3[A]]</span> - Data on Prices for Different Foods](#data-prices-foods)\n",
    "4. [<span style=\"color:red;\">[Deliverable 4[A]]</span> - Nutritional Content for Different Foods](#nutrition-content-foods)\n",
    "5. [<span style=\"color:red;\">[Deliverable 5[A]]</span> - Solution](#solution)\n",
    "6. [<span style=\"color:red;\">[Deliverable 6[C]]</span> - Sensitivity of Solution](#solution-sensitivity)\n",
    "7. [<span style=\"color:red;\">[Deliverable 7[B]]</span> - Total Cost for Population of Interest](#total-cost)"
   ]
  },
  {
   "cell_type": "markdown",
   "metadata": {},
   "source": [
    "## *Deliverable 1[A]* Description of Population of Interest, Introduction <a name=\"deliverable-1a-description-of-population-of-interest-introduction\"></a>"
   ]
  },
  {
   "cell_type": "code",
   "execution_count": 4,
   "metadata": {},
   "outputs": [],
   "source": [
    "# All the imports for this notebook.\n",
    "\n",
    "from dietary_reference_intakes import inuit_dietary_recommendations"
   ]
  },
  {
   "cell_type": "markdown",
   "metadata": {},
   "source": [
    "## *Deliverable 2[A]* Dietary Reference Intakes <a name=\"dietary-reference-intakes\"></a>\n",
    "\n",
    "This is our implementation of the Dietary Reference Intakes deliverable, where we return a Pandas series of the recommended nutrition values for those of the Inuit background. We reference the information from the <a href=\"https://pub.norden.org/nord2023-003/introduction.html\" style=\"color:blue;\">Nordic Nutrition Webpage</a>, providing thorough information on the topic and necessary nutritional values of those from different ages/sexes from the Inuit heritage. \n",
    "\n",
    "The raw source code for our function can be found at <a href=\"https://github.com/vishalival/eep153-margaret-reid/blob/main/dietary_reference_intakes.py\" style=\"color:blue;\">this Python file</a>.\n",
    "\n",
    "<span style=\"color:purple;\"><b>Function Name:</b></span> `inuit_dietary_recommendations`<br>\n",
    "<span style=\"color:purple;\"><b>Returns:</b></span> The Inuit dietary recommendations for a given sex & age.<br>\n",
    "<span style=\"color:purple;\"><b>Arguments:</b></span><br>\n",
    "<ul>\n",
    "    <li><span style=\"color:magenta;\">sex (string)</span> - Accepts \"female\", \"f\", \"F\", \"Female\", \"male\", \"m\", \"M\", \"Male\".</li>\n",
    "    <li><span style=\"color:magenta;\">age (int or float)</span> - Age value. Interpretation depends on age_unit_type.</li>\n",
    "    <li><span style=\"color:magenta;\">age_unit_type (string)</span> - Specifies the unit of age, either \"year\" or \"month\". Defaults to \"year\".</li>\n",
    "</ul>\n",
    "\n",
    "<span style=\"color:purple;\"><b>Returns:</b></span><br>\n",
    "<ul>\n",
    "    <li><span style=\"color:magenta;\">recommendations_series (Pandas.Series)</span> - Specifying specific dietary requirements.</li>\n",
    "</ul>\n"
   ]
  },
  {
   "cell_type": "code",
   "execution_count": 5,
   "metadata": {},
   "outputs": [
    {
     "data": {
      "text/plain": [
       "Sodium, g            1.70\n",
       "AR g/kg              0.75\n",
       "Vita-min A RE2     450.00\n",
       "Vita-min D µg3      10.00\n",
       "Thia-min mg/MJ       0.10\n",
       "Riobo-flavin mg      1.00\n",
       "Niacin NE/MJ4        1.60\n",
       "Vita-min B6 mg       1.00\n",
       "Folate µg          200.00\n",
       "Vita-min C mg       55.00\n",
       "Name: 3, dtype: float64"
      ]
     },
     "execution_count": 5,
     "metadata": {},
     "output_type": "execute_result"
    }
   ],
   "source": [
    "# Sample Usage\n",
    "\n",
    "inuit_dietary_recommendations(\"Female\", 7)"
   ]
  },
  {
   "cell_type": "markdown",
   "metadata": {},
   "source": [
    "Looking at the outcome above, you can clearly see each of the nutrition values for a specific age and sex."
   ]
  },
  {
   "cell_type": "markdown",
   "metadata": {},
   "source": [
    "## *Deliverable 3[A]* Data on Prices for Different Foods <a name=\"data-prices-foods\"></a>\n",
    "\n",
    "The Spreadsheet for this information can be found at the [following link](https://docs.google.com/spreadsheets/d/1jIjL0Pp4UtbiCsN952j8x1a-oP-LAuQ-/edit#gid=191050954)."
   ]
  },
  {
   "cell_type": "markdown",
   "metadata": {},
   "source": [
    "## *Deliverable 4[A]* Nutritional Content for Different Foods <a name=\"nutrition-content-foods\"></a>"
   ]
  },
  {
   "cell_type": "markdown",
   "metadata": {},
   "source": [
    "## *Deliverable 5[A]* Solution <a name=\"solution\"></a>"
   ]
  },
  {
   "cell_type": "markdown",
   "metadata": {},
   "source": [
    "## *Deliverable 6[C]* Sensitivity of Solution <a name=\"solution-sensitivity\"></a>"
   ]
  },
  {
   "cell_type": "markdown",
   "metadata": {},
   "source": [
    "## *Deliverable 7[B]* Total Cost for Population of Interest <a name=\"total-cost\"></a>"
   ]
  }
 ],
 "metadata": {
  "kernelspec": {
   "display_name": "base",
   "language": "python",
   "name": "python3"
  },
  "language_info": {
   "codemirror_mode": {
    "name": "ipython",
    "version": 3
   },
   "file_extension": ".py",
   "mimetype": "text/x-python",
   "name": "python",
   "nbconvert_exporter": "python",
   "pygments_lexer": "ipython3",
   "version": "3.10.8"
  }
 },
 "nbformat": 4,
 "nbformat_minor": 2
}
