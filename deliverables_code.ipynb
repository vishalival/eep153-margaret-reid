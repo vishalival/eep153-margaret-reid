{
 "cells": [
  {
   "cell_type": "markdown",
   "metadata": {},
   "source": [
    "# EEP 153: Project 2\n",
    "## Team Margaret Reid: A Study of Inuit Diet and Minimum Cost Information\n",
    "\n",
    "This Python notebook walks through all of our deliverables, so you can run it and check out how everything works in addition to verify we have met all of our deliverables. ***Click*** on the Table of Contents to be directed to any deliverable you want to see."
   ]
  },
  {
   "cell_type": "markdown",
   "metadata": {},
   "source": [
    "## Table of Contents and Deliverables\n",
    "1. <a href=\"#deliverable-1a-description-of-population-of-interest-introduction\"><span style=\"color:red;\">[Deliverable 1[A]]</span> - Description of Population of Interest, Introduction</a>\n",
    "2. <a href=\"#dietary-reference-intakes\"><span style=\"color:red;\">[Deliverable 2[A]]</span> - Dietary Reference Intakes</a>\n",
    "3. <a href=\"#data-prices-foods\"><span style=\"color:red;\">[Deliverable 3[A]]</span> - Data on Prices for Different Foods</a>\n",
    "4. <a href=\"#nutrition-content-foods\"><span style=\"color:red;\">[Deliverable 4[A]]</span> - Nutritional Content for Different Foods</a>\n",
    "5. <a href=\"#solution\"><span style=\"color:red;\">[Deliverable 5[A]]</span> - Solution</a>\n",
    "6. <a href=\"#solution-sensitivity\"><span style=\"color:red;\">[Deliverable 6[C]]</span> - Sensitivity of Solution</a>\n",
    "7. <a href=\"#total-cost\"><span style=\"color:red;\">[Deliverable 7[B]]</span> - Total Cost for Population of Interest</a>"
   ]
  },
  {
   "cell_type": "markdown",
   "metadata": {},
   "source": [
    "## *Deliverable 1[A]* Description of Population of Interest, Introduction <a name=\"deliverable-1a-description-of-population-of-interest-introduction\"></a>"
   Description of Population of Interest

Population: Inuit peoples living in Nunavut
Inuit is a broad term to refer to the indigenous people of the Arctic (Canada.gov). While Inuit live in many places, including Alaska, Canada, and Greenland, we are focusing on the Inuit people in Nunavut, due to the region’s overwhelming population of Inuit people. Nunavut is part of the Inuit Nunangut, a region self-governed by Inuit (The Canadian Encyclopedia). Nunavut means “Our Land” in the Inuit language, Inuktut, and is the northernmost territory of Canada (Canadian Geographic).  According to the 2021 Nunavut census, 30,865 out of 36,600 people living in Nunavut are Inuit (Statistics Canada).

Inuit were hunter-gatherers throughout history with food consumption patterns corresponding to the season. During these times, traditional foods contributed to the social, cultural and economic parts of the Inuit lifestyle. The traditional diet was mainly protein based, such as fish, caribou, and marine mammals, which were of great importance to the native people for health and culture.  However, the indigenous people have been making the transition from traditional foods to manufactured and imported items such as sweetened beverages and chips (Sharma). 

Description: Food Security, Health, and Diet of Inuit in Nunavut
The minimum cost diet is a pertinent issue for Inuit people in Nunavut. The population struggles with high rates of food insecurity compared to other Canadian regions, health concerns such as diabetes, and also consumes a mix of unique traditional indigenous foods alongside store-bought foods.
While the numbers vary slightly, in Canada, roughly 8.8 percent of households are food insecure (Statistics Canada), but these rates are much higher in Nunavut, where roughly 50 percent of households are food insecure (Household Food Insecurity in Canada). The rates of food insecurity in Nunavut are at crisis levels according to the recent Canadian Community Health Survey. A driver of food insecurity in Nunavut is high costs for store bought foods and difficulty accessing fishing and hunting in the region (Lambden et al. 2006). Food security programs in the area have failed, evident in how insecurity increased by 13.2 percentage points since the Canadian government’s Nutrition North Canada program launched in 2011 (Fafard St.-Germain 2019).
There is a concern that the quick change in diet may negatively affect the Inuit people's health and nutrition, increasing the risk of diabetes, cancer, and cardiovascular disease. Twenty-eight percent of people in Nunavut, an Inuit self-governing region in northern Canada, are obese, while twenty percent are overweight. Approximately 60% of adult Nunavut residents stated they did not engage in any physical activity (Sharma). Inuit towns in the Canadian Arctic are remote, and they rely mostly on hunting, fishing, and one or two grocery stores for their nourishment. Because they control food prices and availability, grocery shops are consequently a crucial focal point for nutritional interventions. Programs offered by grocery stores may influence consumers' decisions about the foods they buy for their homes at the moment of sale. (Sharma) 
The average Inuit in Nunavut consumes a mix of store bought foods with traditional foods, which includes caribou, beluga, arctic char, muktuk, hare, and wild berries (Table). According to the 2007-2008 Inuit Health Survey in Nunavut, 81 percent of households preferred eating more country foods (traditional hunted and gathered food), and also 76.1 percent viewed country food as cheaper than store-bought food. However, there are barriers to getting food from both sources.


Scope of Diet Problem: Traditional and Non-Traditional Diet Mix
	The goal of our diet problem was to understand the value of traditional foods in the Inuit diet. Identifying the value of traditional foods is a challenge, as these foods are not sold at Western grocery stores. Thus, we had to piece together the consumption and value of traditional foods through key reference papers. 
	Hopping et. al 2010’s paper, “Dietary adequacy of Inuit in the Canadian Arctic” sampled an Inuit community in Nunavut, and found that overall, traditional foods contribute substantially to protein and iron intake, while store-bought foods mainly comprise their carbohydrate, sugar, and fat intake. This paper is important because it gave the percent contribution of both traditional and non-traditional foods to the diets of Inuits in Nunavut. 
	Hopping et. al’s responses were largely women: (75 participants, 7 men and 68 women; average age 42 (SD 19) and 44 (SD 16) for men and women respectively). Due to the sample within Hopping et al. 2010, being largely middle-aged women, we decided to provide as accurate an estimate as possible for our diet problem by focusing on satisfying the minimum cost diet for 31-50 year old females in Nunavut, with the dietary recommendations from the Nordic Nutrition Recommendations, which was cited by Ostrager 2015, which described the dietary structure of Inuit communities (Ostrager 2015).




Works Cited
Canada, Government of Canada; Crown-Indigenous Relations and Northern Affairs. 2009. “Inuit.” Administrative page; fact sheet; resource list. February 13, 2009. https://www.rcaanc-cirnac.gc.ca/eng/1100100014187/1534785248701.
Government of Canada, Statistics Canada. 2020. “Household Food Insecurity, 2017/2018.” June 24, 2020. https://www150.statcan.gc.ca/n1/pub/82-625-x/2020001/article/00001-eng.htm.
———. 2023. “Profile Table: Nunavut [Territory], Indigenous Population Profile, 2021 Census of Population.” June 21, 2023. https://www12.statcan.gc.ca/census-recensement/2021/dp-pd/ipp-ppa/details/page.cfm?Lang=E&SearchText=Nunavut&DGUID=2021A000262&GENDER=1&AGE=1&HP=0&HH=0.
Hopping, B. N., E. Mead, E. Erber, C. Sheehy, C. Roache, and S. Sharma. 2010. “Dietary Adequacy of Inuit in the Canadian Arctic.” Journal of Human Nutrition and Dietetics 23 (s1): 27–34. https://doi.org/10.1111/j.1365-277X.2010.01099.x.
“Household Food Insecurity in Canada, 2022.” n.d. PROOF (blog). Accessed February 27, 2024. https://proof.utoronto.ca/resource/household-food-insecurity-in-canada-2022/.
“Indigenous Territory.” n.d. Accessed February 27, 2024. https://www.thecanadianencyclopedia.ca/en/article/indigenous-territory.
Lambden, Jill, Olivier Receveur, Joan Marshall, and Harriet Kuhnlein. 2006. “Traditional and Market Food Access in Arctic Canada Is Affected by Economic Factors.” International Journal of Circumpolar Health 65 (4): 331–40. https://doi.org/10.3402/ijch.v65i4.18117.
“NORDIC NUTRITION RECOMMENDATIONS 2023 / INTEGRATING ENVIRONMENTAL ASPECTS.” n.d. Accessed February 27, 2024. https://pub.norden.org/nord2023-003/contents.html.
“Nunavut.” n.d. Accessed February 27, 2024. https://indigenouspeoplesatlasofcanada.ca/article/nunavut/.
St-Germain, Andrée-Anne Fafard, Tracey Galloway, and Valerie Tarasuk. 2019. “Food Insecurity in Nunavut Following the Introduction of Nutrition North Canada.” CMAJ 191 (20): E552–58. https://doi.org/10.1503/cmaj.181617.
Sharma, Sangita & Cao, Xia & Roache, Cindy & Buchan, Annie & Reid, Rhonda & Gittelsohn, Joel. (2009). Assessing Dietary Intake in a Population Undergoing a Rapid Transition in Diet and Lifestyle: The Arctic Inuit in Nunavut, Canada.. The British Journal of Nutrition. 103. 749-59. 10.1017/S0007114509992224. 
“Vol IV: Dietary Structure and Relative Health in Inuit Communities.” 2020. The McGill Journal of Global Health. August 25, 2020. https://mghjournal.com/2020/08/25/dietary-structure-and-relative-health-in-inuit-communities/.
]
  },
  {
   "cell_type": "code",
   "execution_count": 4,
   "metadata": {},
   "outputs": [],
   "source": [
    "# All the imports for this notebook.\n",
    "\n",
    "from dietary_reference_intakes import inuit_dietary_recommendations"
   ]
  },
  {
   "cell_type": "markdown",
   "metadata": {},
   "source": [
    "## *Deliverable 2[A]* Dietary Reference Intakes <a name=\"dietary-reference-intakes\"></a>\n",
    "\n",
    "This is our implementation of the Dietary Reference Intakes deliverable, where we return a Pandas series of the recommended nutrition values for those of the Inuit background. We reference the information from the <a href=\"https://pub.norden.org/nord2023-003/introduction.html\" style=\"color:blue;\">Nordic Nutrition Webpage</a>, providing thorough information on the topic and necessary nutritional values of those from different ages/sexes from the Inuit heritage. \n",
    "\n",
    "The raw source code for our function can be found at <a href=\"https://github.com/vishalival/eep153-margaret-reid/blob/main/dietary_reference_intakes.py\" style=\"color:blue;\">this Python file</a>.\n",
    "\n",
    "<span style=\"color:purple;\"><b>Function Name:</b></span> `inuit_dietary_recommendations`<br>\n",
    "<span style=\"color:purple;\"><b>Returns:</b></span> The Inuit dietary recommendations for a given sex & age.<br>\n",
    "<span style=\"color:purple;\"><b>Arguments:</b></span><br>\n",
    "<ul>\n",
    "    <li><span style=\"color:magenta;\">sex (string)</span> - Accepts \"female\", \"f\", \"F\", \"Female\", \"male\", \"m\", \"M\", \"Male\".</li>\n",
    "    <li><span style=\"color:magenta;\">age (int or float)</span> - Age value. Interpretation depends on age_unit_type.</li>\n",
    "    <li><span style=\"color:magenta;\">age_unit_type (string)</span> - Specifies the unit of age, either \"year\" or \"month\". Defaults to \"year\".</li>\n",
    "</ul>\n",
    "\n",
    "<span style=\"color:purple;\"><b>Returns:</b></span><br>\n",
    "<ul>\n",
    "    <li><span style=\"color:magenta;\">recommendations_series (Pandas.Series)</span> - Specifying specific dietary requirements.</li>\n",
    "</ul>\n"
   ]
  },
  {
   "cell_type": "code",
   "execution_count": 5,
   "metadata": {},
   "outputs": [
    {
     "data": {
      "text/plain": [
       "Sodium, g            1.70\n",
       "AR g/kg              0.75\n",
       "Vita-min A RE2     450.00\n",
       "Vita-min D µg3      10.00\n",
       "Thia-min mg/MJ       0.10\n",
       "Riobo-flavin mg      1.00\n",
       "Niacin NE/MJ4        1.60\n",
       "Vita-min B6 mg       1.00\n",
       "Folate µg          200.00\n",
       "Vita-min C mg       55.00\n",
       "Name: 3, dtype: float64"
      ]
     },
     "execution_count": 5,
     "metadata": {},
     "output_type": "execute_result"
    }
   ],
   "source": [
    "# Sample Usage\n",
    "\n",
    "inuit_dietary_recommendations(\"Female\", 7)"
   ]
  },
  {
   "cell_type": "markdown",
   "metadata": {},
   "source": [
    "Looking at the outcome above, you can clearly see each of the nutrition values for a specific age and sex."
   ]
  },
  {
   "cell_type": "markdown",
   "metadata": {},
   "source": [
    "## *Deliverable 3[A]* Data on Prices for Different Foods <a name=\"data-prices-foods\"></a>\n",
    "\n",
    "The Spreadsheet for this information can be found at the [following link](https://docs.google.com/spreadsheets/d/1jIjL0Pp4UtbiCsN952j8x1a-oP-LAuQ-/edit#gid=191050954)."
   ]
  },
  {
   "cell_type": "markdown",
   "metadata": {},
   "source": [
    "## *Deliverable 4[A]* Nutritional Content for Different Foods <a name=\"nutrition-content-foods\"></a>"
   ]
  },
  {
   "cell_type": "markdown",
   "metadata": {},
   "source": [
    "## *Deliverable 5[A]* Solution <a name=\"solution\"></a>"
   ]
  },
  {
   "cell_type": "markdown",
   "metadata": {},
   "source": [
    "## *Deliverable 6[C]* Sensitivity of Solution <a name=\"solution-sensitivity\"></a>"
   ]
  },
  {
   "cell_type": "markdown",
   "metadata": {},
   "source": [
    "## *Deliverable 7[B]* Total Cost for Population of Interest <a name=\"total-cost\"></a>"
   ]
  }
 ],
 "metadata": {
  "kernelspec": {
   "display_name": "base",
   "language": "python",
   "name": "python3"
  },
  "language_info": {
   "codemirror_mode": {
    "name": "ipython",
    "version": 3
   },
   "file_extension": ".py",
   "mimetype": "text/x-python",
   "name": "python",
   "nbconvert_exporter": "python",
   "pygments_lexer": "ipython3",
   "version": "3.10.8"
  }
 },
 "nbformat": 4,
 "nbformat_minor": 2
}
